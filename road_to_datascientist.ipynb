{
 "cells": [
  {
   "cell_type": "markdown",
   "metadata": {},
   "source": [
    "# Packages"
   ]
  },
  {
   "cell_type": "code",
   "execution_count": 2,
   "metadata": {},
   "outputs": [],
   "source": [
    "import pandas as pd\n",
    "import matplotlib.pyplot as plt\n",
    "from matplotlib_venn import venn2\n",
    "import numpy as np\n",
    "import statistics\n",
    "from statsmodels import robust\n",
    "import scipy.stats\n",
    "import seaborn as sns\n",
    "sns.set(style='whitegrid')\n",
    "from fractions import Fraction"
   ]
  },
  {
   "cell_type": "markdown",
   "metadata": {},
   "source": [
    "# Functions"
   ]
  },
  {
   "cell_type": "code",
   "execution_count": 3,
   "metadata": {},
   "outputs": [],
   "source": [
    "# Formula to calculate which percentile the number belongs to\n",
    "\n",
    "def number_belongs_to_percentile(number,data):\n",
    "  # Sort the list\n",
    "  data.sort()\n",
    "\n",
    "  # Find the position of 14 in the sorted list\n",
    "  position = data.index(number) + 1\n",
    "\n",
    "  # Find the number of items in the list\n",
    "  n = len(data)\n",
    "\n",
    "  # Use the formula to find the percentile rank\n",
    "  percentile = (position / (n + 1)) * 100\n",
    "\n",
    "  # Print the result\n",
    "  print(f\"The percentile of 14 in the list is {percentile:.2f}%\")"
   ]
  },
  {
   "cell_type": "code",
   "execution_count": 4,
   "metadata": {},
   "outputs": [],
   "source": [
    "def comparacion(x, y):\n",
    "  if x + y == 15:\n",
    "    print(\"Son iguales\")\n",
    "  else: \n",
    "    print(\"Son diferentes\")"
   ]
  },
  {
   "cell_type": "code",
   "execution_count": 5,
   "metadata": {},
   "outputs": [],
   "source": [
    "# Regla de tres\n",
    "\n",
    "def Regla_de_tres(valor1, valor2, valor3):\n",
    "  unknown = (valor3 * valor2)/valor1\n",
    "  return(unknown)"
   ]
  },
  {
   "cell_type": "code",
   "execution_count": 6,
   "metadata": {},
   "outputs": [],
   "source": [
    "### Función para identificar números primos\n",
    "\n",
    "def es_primo(numero):\n",
    "  if numero <= 1:\n",
    "    return False\n",
    "  for i in range(2, int(numero**0.5) + 1):\n",
    "    if numero % i == 0:\n",
    "      return False\n",
    "  return True"
   ]
  },
  {
   "cell_type": "code",
   "execution_count": 7,
   "metadata": {},
   "outputs": [],
   "source": [
    "def factorizar_en_primos(numero):\n",
    "    factores_primos = []\n",
    "    divisor = 2\n",
    "\n",
    "    while divisor * divisor <= numero:\n",
    "        if numero % divisor == 0:\n",
    "            factores_primos.append(divisor)\n",
    "            numero //= divisor\n",
    "        else:\n",
    "            divisor += 1\n",
    "\n",
    "    if numero > 1:\n",
    "        factores_primos.append(numero)\n",
    "\n",
    "    return factores_primos\n",
    "\n",
    "def calcular_mcm(numeros):\n",
    "    mcm_factores = {}\n",
    "    \n",
    "    for numero in numeros:\n",
    "        factores = factorizar_en_primos(numero)\n",
    "        for factor, multiplicity in zip(set(factores), [factores.count(factor) for factor in set(factores)]):\n",
    "            if factor not in mcm_factores or mcm_factores[factor] < multiplicity:\n",
    "                mcm_factores[factor] = multiplicity\n",
    "    \n",
    "    mcm = 1\n",
    "    for factor, multiplicity in mcm_factores.items():\n",
    "        mcm *= factor**multiplicity\n",
    "    \n",
    "    return mcm"
   ]
  },
  {
   "cell_type": "code",
   "execution_count": 8,
   "metadata": {},
   "outputs": [],
   "source": [
    "def factorizar_en_primos(numero):\n",
    "  factores_primos = []\n",
    "  divisor = 2\n",
    "  \n",
    "  while divisor * divisor <= numero:\n",
    "    if numero % divisor == 0:\n",
    "      factores_primos.append(divisor)\n",
    "      numero //= divisor\n",
    "    else:\n",
    "      divisor += 1\n",
    "  \n",
    "  if numero > 1:\n",
    "    factores_primos.append(numero)\n",
    "  return factores_primos"
   ]
  },
  {
   "cell_type": "code",
   "execution_count": 9,
   "metadata": {},
   "outputs": [],
   "source": [
    "def calcular_mcd(a, b):\n",
    "    while b:\n",
    "        a, b = b, a % b\n",
    "    return abs(a)\n",
    "\n",
    "def mcd_lista(numeros):\n",
    "    mcd = numeros[0]\n",
    "    for numero in numeros[1:]:\n",
    "        mcd = calcular_mcd(mcd, numero)\n",
    "    return mcd"
   ]
  },
  {
   "cell_type": "code",
   "execution_count": 10,
   "metadata": {},
   "outputs": [],
   "source": [
    "# Encontrar los factores comunes de un número\n",
    "def Common_Factors_Two_Numbers(numero1, numero2):\n",
    "  factores = []\n",
    "  for i in range(1, numero1 // 2+1):\n",
    "    if numero1 % i == 0:\n",
    "      factores.append(i)\n",
    "\n",
    "  factores.append(numero1)\n",
    "  print(f\"Los factores de {numero1} son: {factores}\")\n",
    "  \n",
    "  factores = []\n",
    "  for i in range(1, numero2 // 2+1):\n",
    "    if numero2 % i == 0:\n",
    "      factores.append(i)\n",
    "\n",
    "  factores.append(numero2)\n",
    "  print(f\"Los factores de {numero2} son: {factores}\")"
   ]
  },
  {
   "cell_type": "code",
   "execution_count": 11,
   "metadata": {},
   "outputs": [],
   "source": [
    "def encontrar_divisores(numero):\n",
    "    divisores = set()\n",
    "    for i in range(1, numero + 1):\n",
    "        if numero % i == 0:\n",
    "            divisores.add(i)\n",
    "    return divisores\n",
    "\n",
    "def divisores_comunes(numeros):\n",
    "    if len(numeros) < 2:\n",
    "        return set()\n",
    "\n",
    "    divisores_comunes = encontrar_divisores(numeros[0])\n",
    "    for numero in numeros[1:]:\n",
    "        divisores_comunes = divisores_comunes.intersection(encontrar_divisores(numero))\n",
    "\n",
    "    return divisores_comunes"
   ]
  },
  {
   "cell_type": "code",
   "execution_count": 12,
   "metadata": {},
   "outputs": [],
   "source": [
    "# Check the outliers according to the rule of 1.5 for the interquartile range\n",
    "def outliers_rule(value,q1, q3):\n",
    "  iqr = q3 - q1\n",
    "  if value < (q1 - (1.5 * iqr)):\n",
    "    print(\"The level of the outliers in the limit below should be:\", q1 - (1.5 * iqr))\n",
    "    print(\"It is an outlier\")\n",
    "  elif value > (q3 + (1.5 * iqr)):\n",
    "    print(\"The level of the outliers in the limit above should be:\", q3 + (1.5 * iqr))\n",
    "    print(\"It is an outlier\")\n",
    "  else:\n",
    "    print(\"The limit below is:\", q1 - (1.5 * iqr), \"AND\", \"The limit above is:\",  q3 + (1.5 * iqr))\n",
    "    print(\"It is NOT an outlier\")"
   ]
  },
  {
   "cell_type": "code",
   "execution_count": 13,
   "metadata": {},
   "outputs": [],
   "source": [
    "def dma_mean(data):\n",
    "  # Get the mean of the data\n",
    "  average = np.mean(data)\n",
    "  # Get the absolute differences between each value and the average\n",
    "  differences = np.abs(data-average)\n",
    "  # Find the average of the aboslute differences\n",
    "  dma_mean = np.mean(differences)\n",
    "  return dma_mean "
   ]
  },
  {
   "cell_type": "code",
   "execution_count": 14,
   "metadata": {},
   "outputs": [],
   "source": [
    "def inverse_normal_calculation(probability):\n",
    "  z = scipy.stats.norm.ppf(probability)\n",
    "  print(\"The value of Z is:\", round(z, 4))"
   ]
  },
  {
   "cell_type": "code",
   "execution_count": 15,
   "metadata": {},
   "outputs": [],
   "source": [
    "def inverse_normal_calculation_of_x(z_values):\n",
    " x = (standard_deviation * z_values) + average\n",
    " print(\"The value of x is:\",x)"
   ]
  },
  {
   "cell_type": "code",
   "execution_count": 16,
   "metadata": {},
   "outputs": [],
   "source": [
    "# Estimar ecuaciones de rectas de mejor ajuste, y utilizarlas para hacer predicciones\n",
    "def estimar_recta(x1, y1, x2, y2):\n",
    "  y_calculada = y2 - y1\n",
    "  x_calculada = x2 - x1\n",
    "  division_x_y = y_calculada / x_calculada\n",
    "  print(division_x_y )"
   ]
  },
  {
   "cell_type": "code",
   "execution_count": 17,
   "metadata": {},
   "outputs": [],
   "source": [
    "# Predicción de la variable con base en la ecuación de mínimos cuadrados\n",
    "def prediction_mco(x_value, constant, beta):\n",
    "  y_calculated = constant + beta * x_value\n",
    "  print(y_calculated)   "
   ]
  },
  {
   "cell_type": "code",
   "execution_count": 18,
   "metadata": {},
   "outputs": [],
   "source": [
    "def ordenada_al_origen(x_punto, y_punto, pendiente):\n",
    "\n",
    "  # Calcula la ordenada al origen\n",
    "  ordenada_al_origen = y_punto - (pendiente * x_punto)\n",
    "\n",
    "  print(\"Ordenada al origen:\", ordenada_al_origen)"
   ]
  },
  {
   "cell_type": "code",
   "execution_count": 19,
   "metadata": {},
   "outputs": [],
   "source": [
    "def formula_pendiente(r, desv_est_y, desv_est_x):\n",
    "  pendiente = r * (desv_est_y / desv_est_x)\n",
    "  return round(pendiente, 3)"
   ]
  },
  {
   "cell_type": "code",
   "execution_count": 20,
   "metadata": {},
   "outputs": [],
   "source": [
    "def formula_ordenada_al_origen(y_barra, pendiente, x_barra):\n",
    "  ordenada_al_origen = y_barra - pendiente * x_barra\n",
    "  return round(ordenada_al_origen,3)"
   ]
  },
  {
   "cell_type": "markdown",
   "metadata": {},
   "source": [
    "# Artimética"
   ]
  },
  {
   "cell_type": "markdown",
   "metadata": {},
   "source": [
    "## Contar números pequeños"
   ]
  },
  {
   "cell_type": "code",
   "execution_count": 2,
   "metadata": {},
   "outputs": [],
   "source": [
    "numbers = [1,2,3,4,5,6,7,8,9,10]\n",
    "frutas = [\"guayaba\", \"pera\", \"sandía\", \"naranja\"]\n",
    "nombres = [\"Juan\", \"Piotr\", \"Luis\", \"Javier\"]"
   ]
  },
  {
   "cell_type": "code",
   "execution_count": 3,
   "metadata": {},
   "outputs": [
    {
     "name": "stdout",
     "output_type": "stream",
     "text": [
      "1, 2, 3, 4, 5, 6, 7, 8, 9, 10, "
     ]
    }
   ],
   "source": [
    "for n in numbers:\n",
    "  print(n, end= \", \")"
   ]
  },
  {
   "cell_type": "code",
   "execution_count": 4,
   "metadata": {},
   "outputs": [
    {
     "name": "stdout",
     "output_type": "stream",
     "text": [
      "guayaba, pera, sandía, naranja, "
     ]
    }
   ],
   "source": [
    "for i in frutas:\n",
    "  print(i, end=\", \")"
   ]
  },
  {
   "cell_type": "code",
   "execution_count": 5,
   "metadata": {},
   "outputs": [
    {
     "name": "stdout",
     "output_type": "stream",
     "text": [
      "Juan, Piotr, Luis, Javier, "
     ]
    }
   ],
   "source": [
    "for i in nombres:\n",
    "  print(i, end=\", \")"
   ]
  },
  {
   "cell_type": "code",
   "execution_count": 6,
   "metadata": {},
   "outputs": [
    {
     "name": "stdout",
     "output_type": "stream",
     "text": [
      "0, 2, 4, 6, 8, 10, 12, 14, 16, 18, 20, "
     ]
    }
   ],
   "source": [
    "x = 0\n",
    "while x <= 20:\n",
    "  print(x, end = \", \")\n",
    "  x = x + 2"
   ]
  },
  {
   "cell_type": "markdown",
   "metadata": {},
   "source": [
    "## Estrategias para restar números de dos y tres dígitos"
   ]
  },
  {
   "cell_type": "code",
   "execution_count": 7,
   "metadata": {},
   "outputs": [
    {
     "name": "stdout",
     "output_type": "stream",
     "text": [
      "Es igual\n"
     ]
    }
   ],
   "source": [
    "x = 777 - 400 - 3 - 50\n",
    "y = 777 - 400 - 30 - 5\n",
    "z = 777 - 43 - 5\n",
    "\n",
    "if 777 - 435 == y:\n",
    "  print(\"Es igual\")\n",
    "else:\n",
    "  print(\"no es igual\")"
   ]
  },
  {
   "cell_type": "code",
   "execution_count": 8,
   "metadata": {},
   "outputs": [
    {
     "name": "stdout",
     "output_type": "stream",
     "text": [
      "It is equivalent\n"
     ]
    }
   ],
   "source": [
    "x = 400 - 300\n",
    "y = 408 - 300\n",
    "z = 412 -300\n",
    "\n",
    "if 410 - 302 == y:\n",
    "  print(\"It is equivalent\")\n",
    "else:\n",
    "  print(\"It is NOT equivalent\")"
   ]
  },
  {
   "cell_type": "code",
   "execution_count": 9,
   "metadata": {},
   "outputs": [
    {
     "name": "stdout",
     "output_type": "stream",
     "text": [
      "They have the same result\n"
     ]
    }
   ],
   "source": [
    "Orion = 800 - 595\n",
    "Rashawn = (801 - 600) + 6\n",
    "\n",
    "if 801 - 594 == Rashawn:\n",
    "  print(\"They have the same result\")\n",
    "else:\n",
    "  print(\"THEY ARE NOT THE SAME!\")"
   ]
  },
  {
   "cell_type": "code",
   "execution_count": 10,
   "metadata": {},
   "outputs": [
    {
     "name": "stdout",
     "output_type": "stream",
     "text": [
      "The results are the same\n"
     ]
    }
   ],
   "source": [
    "Cowesses = 9 + 100 + 37\n",
    "\n",
    "if 937 - 791 == Cowesses:\n",
    "  print(\"The results are the same\")\n",
    "else:\n",
    "  print(\"THE RESULTS ARE NOT THE SAME\")"
   ]
  },
  {
   "cell_type": "code",
   "execution_count": 11,
   "metadata": {},
   "outputs": [
    {
     "name": "stdout",
     "output_type": "stream",
     "text": [
      "146\n",
      "The real result was: 146\n"
     ]
    }
   ],
   "source": [
    "print(Cowesses)\n",
    "print(\"The real result was:\", 937-791)"
   ]
  },
  {
   "cell_type": "code",
   "execution_count": 12,
   "metadata": {},
   "outputs": [
    {
     "name": "stdout",
     "output_type": "stream",
     "text": [
      "The are the same\n"
     ]
    }
   ],
   "source": [
    "Lei = 3 + 100\n",
    "Shelena = 973 - 870\n",
    "\n",
    "if 971 - 868 == Shelena:\n",
    "  print(\"The are the same\")\n",
    "else:\n",
    "  print(\"THEY ARE NOT THE SAME\")"
   ]
  },
  {
   "cell_type": "code",
   "execution_count": 13,
   "metadata": {},
   "outputs": [
    {
     "name": "stdout",
     "output_type": "stream",
     "text": [
      "They are the same\n"
     ]
    }
   ],
   "source": [
    "Darryl = 589 - 150\n",
    "real_result = 583 - 144\n",
    "\n",
    "if real_result == Darryl:\n",
    "  print(\"They are the same\")\n",
    "else:\n",
    "  print(\"THEY ARE NOT THE SAME\")"
   ]
  },
  {
   "cell_type": "code",
   "execution_count": 14,
   "metadata": {},
   "outputs": [
    {
     "name": "stdout",
     "output_type": "stream",
     "text": [
      "≈\n"
     ]
    }
   ],
   "source": [
    "# To get the approximate symbol\n",
    "print(\"\\u2248\")"
   ]
  },
  {
   "cell_type": "markdown",
   "metadata": {},
   "source": [
    "## U3 L7 Restar con reagrupación dentro de 100"
   ]
  },
  {
   "cell_type": "code",
   "execution_count": 15,
   "metadata": {},
   "outputs": [
    {
     "name": "stdout",
     "output_type": "stream",
     "text": [
      "The results are equivalent\n"
     ]
    }
   ],
   "source": [
    "real_result = 775 - 495\n",
    "a = 775 - 400 - 75 - 20\n",
    "b = 775 - 40 - 90 - 50\n",
    "c = 775 - 4 - 90 - 500\n",
    "\n",
    "if real_result == a:\n",
    "  print(\"The results are equivalent\")\n",
    "else:\n",
    "  print(\"THE RESULTS ARE NOT EQUIVALENT\")"
   ]
  },
  {
   "cell_type": "code",
   "execution_count": 16,
   "metadata": {},
   "outputs": [
    {
     "name": "stdout",
     "output_type": "stream",
     "text": [
      "The results are equivalent\n"
     ]
    }
   ],
   "source": [
    "real_result = 455 - 116\n",
    "Lashay = 455 - 100 - 15 - 1\n",
    "Akamu = 455 - 100 - 10 - 6\n",
    "\n",
    "if real_result == Akamu:\n",
    "  print(\"The results are equivalent\")\n",
    "else:\n",
    "  print(\"THE RESULTS ARE NOT EQUIVALENT\")"
   ]
  },
  {
   "cell_type": "markdown",
   "metadata": {},
   "source": [
    "## U3 L8 Problemas de suma con valor faltante"
   ]
  },
  {
   "cell_type": "code",
   "execution_count": 17,
   "metadata": {},
   "outputs": [],
   "source": [
    "x = 8\n",
    "y = 7\n",
    "\n",
    "resultado = x + y"
   ]
  },
  {
   "cell_type": "code",
   "execution_count": 18,
   "metadata": {},
   "outputs": [
    {
     "name": "stdout",
     "output_type": "stream",
     "text": [
      "El resultado es:  15\n"
     ]
    }
   ],
   "source": [
    "if x + y == resultado:\n",
    "  print(\"El resultado es: \", resultado)\n",
    "else:\n",
    "  print(\"todavía no suma\")"
   ]
  },
  {
   "cell_type": "code",
   "execution_count": 20,
   "metadata": {},
   "outputs": [
    {
     "name": "stdout",
     "output_type": "stream",
     "text": [
      "Son iguales\n"
     ]
    }
   ],
   "source": [
    "comparacion(7,8)"
   ]
  },
  {
   "cell_type": "markdown",
   "metadata": {},
   "source": [
    "## U3 L9 Problemas verbales de sumas y restas"
   ]
  },
  {
   "cell_type": "code",
   "execution_count": 21,
   "metadata": {},
   "outputs": [],
   "source": [
    "homes = 461\n",
    "departments = 352"
   ]
  },
  {
   "cell_type": "code",
   "execution_count": 22,
   "metadata": {},
   "outputs": [
    {
     "name": "stdout",
     "output_type": "stream",
     "text": [
      "The number of homes that are NOT departments is:  109\n"
     ]
    }
   ],
   "source": [
    "print(\"The number of homes that are NOT departments is: \", homes - departments)"
   ]
  },
  {
   "cell_type": "code",
   "execution_count": 23,
   "metadata": {},
   "outputs": [
    {
     "name": "stdout",
     "output_type": "stream",
     "text": [
      "110\n"
     ]
    }
   ],
   "source": [
    "# Hasta ahora, 57 huevos de tortuga marina han roto el cascarón, y 53 huevos están todavía en el nido.\n",
    "# ¿Cuántos huevos estaban allí antes de que alguno hubiera roto el cascarón?\n",
    "\n",
    "total_huevos = 57 + 53\n",
    "print(total_huevos)"
   ]
  },
  {
   "cell_type": "code",
   "execution_count": 24,
   "metadata": {},
   "outputs": [
    {
     "name": "stdout",
     "output_type": "stream",
     "text": [
      "Páginas por leer: 23\n"
     ]
    }
   ],
   "source": [
    "# Ling ha leído 118 páginas de un libro. El libro tiene 141 páginas. ¿Cuántas páginas le quedan por leer?\n",
    "\n",
    "print(\"Páginas por leer:\", 141 - 118)"
   ]
  },
  {
   "cell_type": "code",
   "execution_count": 25,
   "metadata": {},
   "outputs": [
    {
     "name": "stdout",
     "output_type": "stream",
     "text": [
      "La segunda cuerda vibró:  587\n"
     ]
    }
   ],
   "source": [
    "# Aria tocó dos cuerdas en su guitarra. La primera cuerda vibró 330 veces y la segunda cuerda vibró 257 veces más que la primera.\n",
    "# ¿Cuántas veces vibró la segunda cuerda?\n",
    "\n",
    "print(\"La segunda cuerda vibró: \", 257 + 330)"
   ]
  },
  {
   "cell_type": "code",
   "execution_count": 26,
   "metadata": {},
   "outputs": [
    {
     "name": "stdout",
     "output_type": "stream",
     "text": [
      "Le quedan:  117\n"
     ]
    }
   ],
   "source": [
    "# Noel tenía 300 tarjetas en un paquete y utilizó 183 tarjetas. ¿Cuántas tarjetas le quedan?\n",
    "print(\"Le quedan: \", 300 - 183)"
   ]
  },
  {
   "cell_type": "code",
   "execution_count": 27,
   "metadata": {},
   "outputs": [
    {
     "name": "stdout",
     "output_type": "stream",
     "text": [
      "Usó 336 cuentas\n"
     ]
    }
   ],
   "source": [
    "# Frida utilizó 168 cuentas para hacer un collar. Luego hizo otro collar con el mismo número de cuentas. ¿Cuántas cuentas usó Frida en total?\n",
    "\n",
    "print(\"Usó\", 168 + 168, \"cuentas\")"
   ]
  },
  {
   "cell_type": "code",
   "execution_count": 28,
   "metadata": {},
   "outputs": [
    {
     "name": "stdout",
     "output_type": "stream",
     "text": [
      "El número de hogares que no son departamentos es:  109\n"
     ]
    }
   ],
   "source": [
    "# Hay 461 hogares en la parte de la ciudad donde vive Samir. Él cuenta que 352 de esos hogares son departamentos. ¿Cuántos de estos hogares no son departamentos?\n",
    "\n",
    "hogares = 461\n",
    "departamentos = 352\n",
    "\n",
    "No_departamentos = hogares - departamentos\n",
    "\n",
    "print(\"El número de hogares que no son departamentos es: \", No_departamentos)"
   ]
  },
  {
   "cell_type": "code",
   "execution_count": 29,
   "metadata": {},
   "outputs": [
    {
     "name": "stdout",
     "output_type": "stream",
     "text": [
      "Son iguales\n"
     ]
    }
   ],
   "source": [
    "real_result = 977 - 149\n",
    "Alexis = 977 - 100 - 47 - 2\n",
    "\n",
    "if real_result == Alexis:\n",
    "  print(\"Son iguales\")\n",
    "else:\n",
    "  print(\"No son iguales\")"
   ]
  },
  {
   "cell_type": "code",
   "execution_count": 31,
   "metadata": {},
   "outputs": [
    {
     "data": {
      "text/plain": [
       "217.17391304347825"
      ]
     },
     "execution_count": 31,
     "metadata": {},
     "output_type": "execute_result"
    }
   ],
   "source": [
    "Regla_de_tres(920, 444, 450)"
   ]
  },
  {
   "cell_type": "code",
   "execution_count": 32,
   "metadata": {},
   "outputs": [],
   "source": [
    "# Ejercicio\n",
    "valor1 = 78 + 34 \n",
    "valor2 = 80"
   ]
  },
  {
   "cell_type": "code",
   "execution_count": 33,
   "metadata": {},
   "outputs": [
    {
     "data": {
      "text/plain": [
       "32"
      ]
     },
     "execution_count": 33,
     "metadata": {},
     "output_type": "execute_result"
    }
   ],
   "source": [
    "# Ejercicio continuación\n",
    "unknown_value = valor1 - valor2\n",
    "unknown_value"
   ]
  },
  {
   "cell_type": "code",
   "execution_count": 34,
   "metadata": {},
   "outputs": [],
   "source": [
    "original_sum = 487+396\n",
    "Ashkii = 500 + 400 - 13\n",
    "Nuka = 487 + 400 - 4"
   ]
  },
  {
   "cell_type": "code",
   "execution_count": 35,
   "metadata": {},
   "outputs": [
    {
     "name": "stdout",
     "output_type": "stream",
     "text": [
      "Esta sí es igual\n"
     ]
    }
   ],
   "source": [
    "if Ashkii == original_sum:\n",
    "  print(\"Son iguales\")\n",
    "elif Nuka == original_sum:\n",
    "  print(\"Esta sí es igual\")\n",
    "else:\n",
    "  print(\"No hay más\") "
   ]
  },
  {
   "cell_type": "code",
   "execution_count": 36,
   "metadata": {},
   "outputs": [
    {
     "name": "stdout",
     "output_type": "stream",
     "text": [
      "5.25\n",
      "8.0\n",
      "6.0\n",
      "0.75\n"
     ]
    }
   ],
   "source": [
    "print(42/8)\n",
    "print(48/6)\n",
    "print(48/8)\n",
    "print(6/8)"
   ]
  },
  {
   "cell_type": "markdown",
   "metadata": {},
   "source": [
    "## U6 L1 Comparar fracciones"
   ]
  },
  {
   "cell_type": "code",
   "execution_count": 37,
   "metadata": {},
   "outputs": [],
   "source": [
    "a = 2/3\n",
    "b = 4/6"
   ]
  },
  {
   "cell_type": "code",
   "execution_count": 38,
   "metadata": {},
   "outputs": [
    {
     "name": "stdout",
     "output_type": "stream",
     "text": [
      "Son iguales\n"
     ]
    }
   ],
   "source": [
    "if a > b:\n",
    "  print(\"Mayor que (>)\")\n",
    "elif a == b:\n",
    "  print(\"Son iguales\")\n",
    "else:\n",
    "  print(\"Menor que (<)\")"
   ]
  },
  {
   "cell_type": "code",
   "execution_count": 39,
   "metadata": {},
   "outputs": [
    {
     "name": "stdout",
     "output_type": "stream",
     "text": [
      "0.6666666666666666\n",
      "0.6666666666666666\n"
     ]
    }
   ],
   "source": [
    "print(2/3)\n",
    "print(4/6)"
   ]
  },
  {
   "cell_type": "markdown",
   "metadata": {},
   "source": [
    "# Pre Álgebra"
   ]
  },
  {
   "cell_type": "code",
   "execution_count": 40,
   "metadata": {},
   "outputs": [],
   "source": [
    "a = 262015\n",
    "evaluador = 4"
   ]
  },
  {
   "cell_type": "code",
   "execution_count": 41,
   "metadata": {},
   "outputs": [
    {
     "name": "stdout",
     "output_type": "stream",
     "text": [
      "262015 No es divisible por el 4\n"
     ]
    }
   ],
   "source": [
    "if a % evaluador == 0:\n",
    "  print(f\"{a} Es divisible por {evaluador}\") \n",
    "else:\n",
    "  print(f\"{a} No es divisible por el {evaluador}\")"
   ]
  },
  {
   "cell_type": "markdown",
   "metadata": {},
   "source": [
    "## L2 U2 Factores y múltiplos"
   ]
  },
  {
   "cell_type": "code",
   "execution_count": 42,
   "metadata": {},
   "outputs": [
    {
     "name": "stdout",
     "output_type": "stream",
     "text": [
      "Los factores de 90 son: [1, 2, 3, 5, 6, 9, 10, 15, 18, 30, 45, 90]\n"
     ]
    }
   ],
   "source": [
    "# Encontrar los factores comunes de un número\n",
    "numero = 90\n",
    "factores = []\n",
    "for i in range(1, numero // 2+1):\n",
    "  if numero % i == 0:\n",
    "    factores.append(i)\n",
    "\n",
    "factores.append(numero)\n",
    "print(f\"Los factores de {numero} son: {factores}\")"
   ]
  },
  {
   "cell_type": "code",
   "execution_count": 43,
   "metadata": {},
   "outputs": [],
   "source": [
    "# Cuáles de los siguientes número es divisible por 154?\n",
    "divisores = [2,8,6,3]\n",
    "numero = 63\n",
    "resultados = {}"
   ]
  },
  {
   "cell_type": "code",
   "execution_count": 44,
   "metadata": {},
   "outputs": [
    {
     "name": "stdout",
     "output_type": "stream",
     "text": [
      "Resultados de divisibilidad para el número: 63\n",
      "2 no es divisible por el número 63\n",
      "8 no es divisible por el número 63\n",
      "6 no es divisible por el número 63\n",
      "3 es divisible por el número 63\n"
     ]
    }
   ],
   "source": [
    "# Iterating and evaluating on each element of divisores and storing the results as FALSE or TRUE\n",
    "for divisor in divisores:\n",
    "  if numero % divisor == 0:\n",
    "    resultados[divisor] = True\n",
    "  else:\n",
    "    resultados[divisor] = False\n",
    "\n",
    "#  Checking then results of each item. If it is True, it return some sentence if not, return another sentence.\n",
    "print(f\"Resultados de divisibilidad para el número: {numero}\")\n",
    "for divisor, es_divisible in resultados.items():\n",
    "  if es_divisible:\n",
    "    print(f\"{divisor} es divisible por el número {numero}\")\n",
    "  else:\n",
    "    print(f\"{divisor} no es divisible por el número {numero}\")"
   ]
  },
  {
   "cell_type": "code",
   "execution_count": 45,
   "metadata": {},
   "outputs": [
    {
     "name": "stdout",
     "output_type": "stream",
     "text": [
      "313756 NO es divisible entre 9\n"
     ]
    }
   ],
   "source": [
    "# ¿Es 313756 divisible entre 9?\n",
    "numero = 313756\n",
    "evaluador = 9\n",
    "\n",
    "if numero % evaluador == 0:\n",
    "  print(f\"{numero} es divisible entre {evaluador}\")\n",
    "else:\n",
    "  print(f\"{numero} NO es divisible entre {evaluador}\")"
   ]
  },
  {
   "cell_type": "markdown",
   "metadata": {},
   "source": [
    "## U2 L3 Números primos"
   ]
  },
  {
   "cell_type": "markdown",
   "metadata": {},
   "source": [
    "### Identificar número primo"
   ]
  },
  {
   "cell_type": "code",
   "execution_count": 47,
   "metadata": {},
   "outputs": [
    {
     "name": "stdout",
     "output_type": "stream",
     "text": [
      "23 es un numero primo\n"
     ]
    }
   ],
   "source": [
    "numero = 23\n",
    "if es_primo(numero):\n",
    "    print(f\"{numero} es un numero primo\")\n",
    "else:\n",
    "    print(f\"{numero} No es un numero primo\")"
   ]
  },
  {
   "cell_type": "markdown",
   "metadata": {},
   "source": [
    "### Cómo identificar un número compuesto"
   ]
  },
  {
   "cell_type": "code",
   "execution_count": 48,
   "metadata": {},
   "outputs": [
    {
     "name": "stdout",
     "output_type": "stream",
     "text": [
      "57 es un numero compuesto\n"
     ]
    }
   ],
   "source": [
    "numero = 57\n",
    "if not es_primo(numero):\n",
    "    print(f\"{numero} es un numero compuesto\")\n",
    "else:\n",
    "    print(f\"{numero} No es un numero compuesto\")"
   ]
  },
  {
   "cell_type": "markdown",
   "metadata": {},
   "source": [
    "## U2 L4 Factorizar en primos"
   ]
  },
  {
   "cell_type": "code",
   "execution_count": 50,
   "metadata": {},
   "outputs": [
    {
     "name": "stdout",
     "output_type": "stream",
     "text": [
      "Factores primos de 23: [23]\n"
     ]
    }
   ],
   "source": [
    "numero = 23\n",
    "factores_primos = factorizar_en_primos(numero)\n",
    "print(f\"Factores primos de {numero}: {factores_primos}\")"
   ]
  },
  {
   "cell_type": "markdown",
   "metadata": {},
   "source": [
    "### Calcular MCM (Mínimo Común Múltiplo)"
   ]
  },
  {
   "cell_type": "code",
   "execution_count": 52,
   "metadata": {},
   "outputs": [
    {
     "name": "stdout",
     "output_type": "stream",
     "text": [
      "El MCM de [4, 6] es: 12\n"
     ]
    }
   ],
   "source": [
    "# Ejemplo de uso\n",
    "numeros = [4,6]  # Puedes cambiar estos números para calcular el MCM de otros conjuntos\n",
    "mcm = calcular_mcm(numeros)\n",
    "print(f\"El MCM de {numeros} es: {mcm}\")\n"
   ]
  },
  {
   "cell_type": "markdown",
   "metadata": {},
   "source": [
    "### Calcular MCD (Máximo Común Divisor)"
   ]
  },
  {
   "cell_type": "code",
   "execution_count": 54,
   "metadata": {},
   "outputs": [
    {
     "name": "stdout",
     "output_type": "stream",
     "text": [
      "El MCD de [56, 28, 14] es: 14\n"
     ]
    }
   ],
   "source": [
    "# Ejemplo de uso\n",
    "numeros = [56,28,14]  # Puedes cambiar estos números para calcular el MCD de otros conjuntos\n",
    "mcd = mcd_lista(numeros)\n",
    "print(f\"El MCD de {numeros} es: {mcd}\")"
   ]
  },
  {
   "cell_type": "code",
   "execution_count": 56,
   "metadata": {},
   "outputs": [
    {
     "name": "stdout",
     "output_type": "stream",
     "text": [
      "Los factores de 90 son: [1, 2, 3, 5, 6, 9, 10, 15, 18, 30, 45, 90]\n",
      "Los factores de 210 son: [1, 2, 3, 5, 6, 7, 10, 14, 15, 21, 30, 35, 42, 70, 105, 210]\n"
     ]
    }
   ],
   "source": [
    "Common_Factors_Two_Numbers(90,210)"
   ]
  },
  {
   "cell_type": "markdown",
   "metadata": {},
   "source": [
    "### Encontrar divisores comúnes a dos o más números"
   ]
  },
  {
   "cell_type": "code",
   "execution_count": 58,
   "metadata": {},
   "outputs": [
    {
     "name": "stdout",
     "output_type": "stream",
     "text": [
      "Divisores comunes de [210, 90]: {1, 2, 3, 5, 6, 10, 15, 30}\n"
     ]
    }
   ],
   "source": [
    "# Ejemplo de uso\n",
    "numeros = [210, 90]  # Puedes cambiar estos números para encontrar divisores comunes diferentes\n",
    "\n",
    "divisores_comunes_set = divisores_comunes(numeros)\n",
    "print(f\"Divisores comunes de {numeros}: {divisores_comunes_set}\")\n"
   ]
  },
  {
   "cell_type": "code",
   "execution_count": 59,
   "metadata": {},
   "outputs": [
    {
     "data": {
      "text/plain": [
       "35.0"
      ]
     },
     "execution_count": 59,
     "metadata": {},
     "output_type": "execute_result"
    }
   ],
   "source": [
    "105/3"
   ]
  },
  {
   "cell_type": "markdown",
   "metadata": {},
   "source": [
    "# Estadística y Probabilidad"
   ]
  },
  {
   "cell_type": "markdown",
   "metadata": {},
   "source": [
    "### Exercise 1: Materials"
   ]
  },
  {
   "cell_type": "code",
   "execution_count": 60,
   "metadata": {},
   "outputs": [
    {
     "name": "stdout",
     "output_type": "stream",
     "text": [
      "Resultados: {'Papel': 24, 'Vidrio': 6, 'Plástico': 12, 'Aluminio': 18}\n",
      "Total sum: 60\n"
     ]
    }
   ],
   "source": [
    "# Exercise 1: MATERIALS\n",
    "\n",
    "materiales = {'Papel':8,\n",
    "              'Vidrio': 2,\n",
    "              'Plástico': 4,\n",
    "              'Aluminio':6}\n",
    "resultados = {}\n",
    "\n",
    "for material, value in materiales.items():\n",
    "  resultados[material] = value * 3\n",
    "  \n",
    "total_sum = sum(resultados.values())\n",
    "\n",
    "print(\"Resultados:\",resultados)\n",
    "print(\"Total sum:\", total_sum)"
   ]
  },
  {
   "cell_type": "code",
   "execution_count": 61,
   "metadata": {},
   "outputs": [],
   "source": [
    "# Extract the keys and the values\n",
    "materiales_names = list(materiales.keys())\n",
    "materiales_values = list(materiales.values())"
   ]
  },
  {
   "cell_type": "code",
   "execution_count": 62,
   "metadata": {},
   "outputs": [
    {
     "data": {
      "image/png": "[encoded data removed]",
      "text/plain": [
       "<Figure size 432x288 with 1 Axes>"
      ]
     },
     "metadata": {
      "needs_background": "light"
     },
     "output_type": "display_data"
    }
   ],
   "source": [
    "# Create the barplot\n",
    "plt.bar(materiales_names, materiales_values)\n",
    "plt.xlabel('Materials')\n",
    "plt.ylabel('Values')\n",
    "plt.title('Results')\n",
    "plt.show();"
   ]
  },
  {
   "cell_type": "markdown",
   "metadata": {},
   "source": [
    "### Exercise 2: Flowers"
   ]
  },
  {
   "cell_type": "code",
   "execution_count": 63,
   "metadata": {},
   "outputs": [
    {
     "name": "stdout",
     "output_type": "stream",
     "text": [
      "Flowers per month: {'March': 6, 'April': 15, 'May': 21, 'June': 18, 'July': 9}\n",
      "Total sum of flowers: 69\n"
     ]
    }
   ],
   "source": [
    "# EXERCISE 2: FLOWERS\n",
    "flowers = {'March':2,\n",
    "           'April':5,\n",
    "           'May': 7,\n",
    "           'June': 6,\n",
    "           'July': 3}\n",
    "results_flowers = {}\n",
    "\n",
    "for flower,value in flowers.items():\n",
    "  results_flowers[flower] = value * 3\n",
    "  \n",
    "total_sum_flowers = sum(results_flowers.values())\n",
    "\n",
    "print(\"Flowers per month:\", results_flowers)\n",
    "print(\"Total sum of flowers:\", total_sum_flowers)"
   ]
  },
  {
   "cell_type": "code",
   "execution_count": 64,
   "metadata": {},
   "outputs": [
    {
     "name": "stdout",
     "output_type": "stream",
     "text": [
      "Ori got the next result: 6\n"
     ]
    }
   ],
   "source": [
    "sum_march = results_flowers['March']\n",
    "sum_july = results_flowers['July']\n",
    "sum_may = results_flowers['May']\n",
    "\n",
    "print(\"Ori got the next result:\",sum_may-(sum_march + sum_july))"
   ]
  },
  {
   "cell_type": "code",
   "execution_count": 65,
   "metadata": {},
   "outputs": [],
   "source": [
    "# Separate the elements of the dictionnaire\n",
    "flowers_names = list(results_flowers.keys())\n",
    "flowers_values = list(results_flowers.values())"
   ]
  },
  {
   "cell_type": "code",
   "execution_count": 66,
   "metadata": {},
   "outputs": [
    {
     "data": {
      "image/png": "[encoded data removed]",
      "text/plain": [
       "<Figure size 432x288 with 1 Axes>"
      ]
     },
     "metadata": {
      "needs_background": "light"
     },
     "output_type": "display_data"
    }
   ],
   "source": [
    "# Plot of the flowers\n",
    "\n",
    "plt.bar(flowers_names, flowers_values)\n",
    "plt.xlabel(\"Flowers\")\n",
    "plt.ylabel(\"Values\")\n",
    "plt.title(\"Sum of flowers multiplied by 3\")\n",
    "plt.show();"
   ]
  },
  {
   "cell_type": "markdown",
   "metadata": {},
   "source": [
    "### Exercise 3: Apples"
   ]
  },
  {
   "cell_type": "code",
   "execution_count": 67,
   "metadata": {},
   "outputs": [],
   "source": [
    "## Karen recogió manzanas en el huerto de manzanas Carter este fin de semana. Hizo un gráfica para mostrar cuántas manzanas recogió.\n",
    "\n",
    "apples = {\n",
    "  \"pink_lady\": 2.5,\n",
    "  \"Rome\": 1,\n",
    "  \"Fiji\": 6,\n",
    "  \"Gala\": 3.5,\n",
    "  \"Grany Smith\": 1.5\n",
    "}\n",
    "\n",
    "results_apples = {}"
   ]
  },
  {
   "cell_type": "code",
   "execution_count": 68,
   "metadata": {},
   "outputs": [],
   "source": [
    "for apple, values in apples.items():\n",
    "  results_apples[apple] = values * 2"
   ]
  },
  {
   "cell_type": "code",
   "execution_count": 69,
   "metadata": {},
   "outputs": [
    {
     "data": {
      "text/plain": [
       "{'pink_lady': 5.0, 'Rome': 2, 'Fiji': 12, 'Gala': 7.0, 'Grany Smith': 3.0}"
      ]
     },
     "execution_count": 69,
     "metadata": {},
     "output_type": "execute_result"
    }
   ],
   "source": [
    "results_apples"
   ]
  },
  {
   "cell_type": "code",
   "execution_count": 70,
   "metadata": {},
   "outputs": [],
   "source": [
    "# Karen comió 5 manzanas Fiji y dejó 4 manzanas Gala. Después de que Karen comió y dejó esas manzanas, ¿cuáles dos tipos tienen el mismo número de manzanas?\n",
    "Karen_Fiji = results_apples['Fiji'] - 5\n",
    "Karen_Gala = results_apples['Gala'] - 4"
   ]
  },
  {
   "cell_type": "code",
   "execution_count": 71,
   "metadata": {},
   "outputs": [
    {
     "name": "stdout",
     "output_type": "stream",
     "text": [
      "Fiji Apples: 7\n",
      "Gala Apples:  3.0\n"
     ]
    }
   ],
   "source": [
    "print(\"Fiji Apples:\", Karen_Fiji)\n",
    "print(\"Gala Apples: \",Karen_Gala)"
   ]
  },
  {
   "cell_type": "code",
   "execution_count": 72,
   "metadata": {},
   "outputs": [
    {
     "data": {
      "text/plain": [
       "{'pink_lady': 5.0, 'Rome': 2, 'Fiji': 7, 'Gala': 3, 'Grany Smith': 3.0}"
      ]
     },
     "execution_count": 72,
     "metadata": {},
     "output_type": "execute_result"
    }
   ],
   "source": [
    "results_apples['Fiji'] = 7\n",
    "results_apples['Gala'] = 3\n",
    "\n",
    "results_apples"
   ]
  },
  {
   "cell_type": "markdown",
   "metadata": {},
   "source": [
    "### Exercise 4: Squirrels"
   ]
  },
  {
   "cell_type": "code",
   "execution_count": 73,
   "metadata": {},
   "outputs": [],
   "source": [
    "## Nancy puso 80 bellotas en su patio trasero. Luego, hizo una gráfica de cuántas bellotas comieron diferentes tipos de ardillas.\n",
    "\n",
    "squirrels = {\n",
    "  'land_squirrels': 5.5,\n",
    "  'flying_squirrels': 2,\n",
    "  'fox_squirrels': 6,\n",
    "  'grey_squirrels':2.5\n",
    "}\n",
    "\n",
    "results_squirrels = {}"
   ]
  },
  {
   "cell_type": "code",
   "execution_count": 74,
   "metadata": {},
   "outputs": [],
   "source": [
    "for squirrel, values in squirrels.items():\n",
    "  results_squirrels[squirrel] = values * 4"
   ]
  },
  {
   "cell_type": "code",
   "execution_count": 75,
   "metadata": {},
   "outputs": [
    {
     "data": {
      "text/plain": [
       "{'land_squirrels': 22.0,\n",
       " 'flying_squirrels': 8,\n",
       " 'fox_squirrels': 24,\n",
       " 'grey_squirrels': 10.0}"
      ]
     },
     "execution_count": 75,
     "metadata": {},
     "output_type": "execute_result"
    }
   ],
   "source": [
    "results_squirrels"
   ]
  },
  {
   "cell_type": "code",
   "execution_count": 76,
   "metadata": {},
   "outputs": [],
   "source": [
    "squirrels_names = list(results_squirrels.keys())\n",
    "squirrels_values = list(results_squirrels.values())"
   ]
  },
  {
   "cell_type": "code",
   "execution_count": 77,
   "metadata": {},
   "outputs": [
    {
     "data": {
      "image/png": "[encoded data removed]",
      "text/plain": [
       "<Figure size 432x288 with 1 Axes>"
      ]
     },
     "metadata": {
      "needs_background": "light"
     },
     "output_type": "display_data"
    }
   ],
   "source": [
    "plt.bar(squirrels_names, squirrels_values)\n",
    "plt.xlabel(\"Type of squirrel\")\n",
    "plt.ylabel(\"acorns\")\n",
    "plt.show();"
   ]
  },
  {
   "cell_type": "code",
   "execution_count": 78,
   "metadata": {},
   "outputs": [
    {
     "data": {
      "text/plain": [
       "64.0"
      ]
     },
     "execution_count": 78,
     "metadata": {},
     "output_type": "execute_result"
    }
   ],
   "source": [
    "# ¿Cuántas bellotas quedaron después de que comieran las ardillas?\n",
    "\n",
    "sum_acorns_eaten = sum(results_squirrels.values())\n",
    "sum_acorns_eaten"
   ]
  },
  {
   "cell_type": "code",
   "execution_count": 79,
   "metadata": {},
   "outputs": [
    {
     "name": "stdout",
     "output_type": "stream",
     "text": [
      "Number of acorns left by the squirrels: 16.0\n"
     ]
    }
   ],
   "source": [
    "# Result\n",
    "print(\"Number of acorns left by the squirrels:\",80 - sum_acorns_eaten)"
   ]
  },
  {
   "cell_type": "markdown",
   "metadata": {},
   "source": [
    "## Venn Diagram"
   ]
  },
  {
   "cell_type": "code",
   "execution_count": 80,
   "metadata": {},
   "outputs": [
    {
     "data": {
      "image/png": "[encoded data removed]",
      "text/plain": [
       "<Figure size 432x288 with 1 Axes>"
      ]
     },
     "metadata": {},
     "output_type": "display_data"
    }
   ],
   "source": [
    "venn2(subsets = (50,10,7), set_labels = ('GroupA', 'Group B'))\n",
    "plt.show();"
   ]
  },
  {
   "cell_type": "markdown",
   "metadata": {},
   "source": [
    "# Contingency tables"
   ]
  },
  {
   "cell_type": "code",
   "execution_count": 81,
   "metadata": {},
   "outputs": [],
   "source": [
    "# Data\n",
    "\n",
    "men_dogs = 36\n",
    "men_cats = 8 \n",
    "men_no_pref = 2\n",
    "\n",
    "women_dogs = 22\n",
    "women_cats = 26\n",
    "women_no_pref = 6\n",
    "\n",
    "# Create dictionnaire to hold the data\n",
    "data = {\n",
    "  'Gender': ['Men', 'Women', 'Men','Women','Men','Women'],\n",
    "  'Preference': ['Dogs', 'Dogs', 'Cats','Cats','No Preference','No Preference'],\n",
    "  'Count': [men_dogs, women_dogs, men_cats,women_cats, men_no_pref, women_no_pref]\n",
    "}"
   ]
  },
  {
   "cell_type": "code",
   "execution_count": 82,
   "metadata": {},
   "outputs": [],
   "source": [
    "# Create Dataframe from the data\n",
    "df = pd.DataFrame(data)"
   ]
  },
  {
   "cell_type": "code",
   "execution_count": 83,
   "metadata": {},
   "outputs": [
    {
     "name": "stdout",
     "output_type": "stream",
     "text": [
      "Gender         Men  Women\n",
      "Preference               \n",
      "Cats             8     26\n",
      "Dogs            36     22\n",
      "No Preference    2      6\n"
     ]
    }
   ],
   "source": [
    "# Contingency table\n",
    "contingency_table = pd.pivot_table(df, values='Count', index='Preference', columns='Gender', fill_value=0)\n",
    "print(contingency_table)"
   ]
  },
  {
   "cell_type": "code",
   "execution_count": 84,
   "metadata": {},
   "outputs": [
    {
     "data": {
      "text/plain": [
       "46"
      ]
     },
     "execution_count": 84,
     "metadata": {},
     "output_type": "execute_result"
    }
   ],
   "source": [
    "contingency_table['Men'].sum()"
   ]
  },
  {
   "cell_type": "markdown",
   "metadata": {},
   "source": [
    "### Problema 1: Contingency table"
   ]
  },
  {
   "cell_type": "code",
   "execution_count": 85,
   "metadata": {},
   "outputs": [],
   "source": [
    "# Un día, investigadores realizaron una encuesta entre los estudiantes sobre su uso de Facebook. La siguiente tabla de contingencia exhibe los datos de la muestra de estudiantes que respondieron la encuesta. ¿Cuántos estudiantes en la muestra estaban entre los 18 y los 22 años?"
   ]
  },
  {
   "cell_type": "code",
   "execution_count": 86,
   "metadata": {},
   "outputs": [],
   "source": [
    "# Data\n",
    "data = {'Uses Facebook': [78,70], \"Doesn't uses Facebook\": [4,67] }\n",
    "index = ['18 to 22', 'More than 23'] # This is for the rows."
   ]
  },
  {
   "cell_type": "code",
   "execution_count": 87,
   "metadata": {},
   "outputs": [
    {
     "name": "stdout",
     "output_type": "stream",
     "text": [
      "              Uses Facebook  Doesn't uses Facebook\n",
      "18 to 22                 78                      4\n",
      "More than 23             70                     67\n"
     ]
    }
   ],
   "source": [
    "df = pd.DataFrame(data, index=index)\n",
    "print(df)"
   ]
  },
  {
   "cell_type": "code",
   "execution_count": 88,
   "metadata": {},
   "outputs": [
    {
     "data": {
      "text/plain": [
       "18 to 22         82\n",
       "More than 23    137\n",
       "dtype: int64"
      ]
     },
     "execution_count": 88,
     "metadata": {},
     "output_type": "execute_result"
    }
   ],
   "source": [
    "df.sum(axis = 1)"
   ]
  },
  {
   "cell_type": "markdown",
   "metadata": {},
   "source": [
    "### Problema 2: Contingency tables"
   ]
  },
  {
   "cell_type": "code",
   "execution_count": 89,
   "metadata": {},
   "outputs": [],
   "source": [
    "# Un día, investigadores encuestaron a estudiantes y les preguntaron qué superpoder les gustaría tener. La siguiente tabla de contingencia exhibe los datos de la muestra de estudiantes que respondieron la encuesta. ¿Cuántos hombres en la encuesta escogieron \"volar\" como superpoder?"
   ]
  },
  {
   "cell_type": "code",
   "execution_count": 90,
   "metadata": {},
   "outputs": [],
   "source": [
    "data = {'Hombres': [26, 14, 10], 'Mujeres': [12, 32, 8]}\n",
    "index = ['Flying', 'Invisibility', 'Other'] # This is for the rows"
   ]
  },
  {
   "cell_type": "code",
   "execution_count": 91,
   "metadata": {},
   "outputs": [
    {
     "data": {
      "text/html": [
       "<div>\n",
       "<style scoped>\n",
       "    .dataframe tbody tr th:only-of-type {\n",
       "        vertical-align: middle;\n",
       "    }\n",
       "\n",
       "    .dataframe tbody tr th {\n",
       "        vertical-align: top;\n",
       "    }\n",
       "\n",
       "    .dataframe thead th {\n",
       "        text-align: right;\n",
       "    }\n",
       "</style>\n",
       "<table border=\"1\" class=\"dataframe\">\n",
       "  <thead>\n",
       "    <tr style=\"text-align: right;\">\n",
       "      <th></th>\n",
       "      <th>Hombres</th>\n",
       "      <th>Mujeres</th>\n",
       "    </tr>\n",
       "  </thead>\n",
       "  <tbody>\n",
       "    <tr>\n",
       "      <th>Flying</th>\n",
       "      <td>26</td>\n",
       "      <td>12</td>\n",
       "    </tr>\n",
       "    <tr>\n",
       "      <th>Invisibility</th>\n",
       "      <td>14</td>\n",
       "      <td>32</td>\n",
       "    </tr>\n",
       "    <tr>\n",
       "      <th>Other</th>\n",
       "      <td>10</td>\n",
       "      <td>8</td>\n",
       "    </tr>\n",
       "  </tbody>\n",
       "</table>\n",
       "</div>"
      ],
      "text/plain": [
       "              Hombres  Mujeres\n",
       "Flying             26       12\n",
       "Invisibility       14       32\n",
       "Other              10        8"
      ]
     },
     "execution_count": 91,
     "metadata": {},
     "output_type": "execute_result"
    }
   ],
   "source": [
    "df = pd.DataFrame(data, index=index)\n",
    "df"
   ]
  },
  {
   "cell_type": "code",
   "execution_count": 92,
   "metadata": {},
   "outputs": [
    {
     "data": {
      "text/plain": [
       "Flying          38\n",
       "Invisibility    46\n",
       "Other           18\n",
       "dtype: int64"
      ]
     },
     "execution_count": 92,
     "metadata": {},
     "output_type": "execute_result"
    }
   ],
   "source": [
    "df.sum(axis=1)"
   ]
  },
  {
   "cell_type": "markdown",
   "metadata": {},
   "source": [
    "### Problema 3: Contingency table"
   ]
  },
  {
   "cell_type": "code",
   "execution_count": 93,
   "metadata": {},
   "outputs": [],
   "source": [
    "# Investigadores encuestaron a recién graduados de dos universidades diferentes sobre sus ingresos. La siguiente tabla de contingencia exhibe los datos de la muestra de graduados que respondieron la encuesta. ¿Cuántos graduados en la muestra estudiaron en la Universidad A?"
   ]
  },
  {
   "cell_type": "code",
   "execution_count": 94,
   "metadata": {},
   "outputs": [],
   "source": [
    "# Getting the data\n",
    "data = {'University A': [35,90,35], 'University B': [40,63,37]}\n",
    "index = ['Under $$20,000', '$20,000 to $39,000', '$40,000 or more']"
   ]
  },
  {
   "cell_type": "code",
   "execution_count": 95,
   "metadata": {},
   "outputs": [
    {
     "data": {
      "text/html": [
       "<div>\n",
       "<style scoped>\n",
       "    .dataframe tbody tr th:only-of-type {\n",
       "        vertical-align: middle;\n",
       "    }\n",
       "\n",
       "    .dataframe tbody tr th {\n",
       "        vertical-align: top;\n",
       "    }\n",
       "\n",
       "    .dataframe thead th {\n",
       "        text-align: right;\n",
       "    }\n",
       "</style>\n",
       "<table border=\"1\" class=\"dataframe\">\n",
       "  <thead>\n",
       "    <tr style=\"text-align: right;\">\n",
       "      <th></th>\n",
       "      <th>University A</th>\n",
       "      <th>University B</th>\n",
       "    </tr>\n",
       "  </thead>\n",
       "  <tbody>\n",
       "    <tr>\n",
       "      <th>Under $$20,000</th>\n",
       "      <td>35</td>\n",
       "      <td>40</td>\n",
       "    </tr>\n",
       "    <tr>\n",
       "      <th>$20,000 to $39,000</th>\n",
       "      <td>90</td>\n",
       "      <td>63</td>\n",
       "    </tr>\n",
       "    <tr>\n",
       "      <th>$40,000 or more</th>\n",
       "      <td>35</td>\n",
       "      <td>37</td>\n",
       "    </tr>\n",
       "  </tbody>\n",
       "</table>\n",
       "</div>"
      ],
      "text/plain": [
       "                    University A  University B\n",
       "Under $$20,000                35            40\n",
       "$20,000 to $39,000            90            63\n",
       "$40,000 or more               35            37"
      ]
     },
     "execution_count": 95,
     "metadata": {},
     "output_type": "execute_result"
    }
   ],
   "source": [
    "# Transforming into dataframe\n",
    "df = pd.DataFrame(data, index=index)\n",
    "df"
   ]
  },
  {
   "cell_type": "code",
   "execution_count": 96,
   "metadata": {},
   "outputs": [
    {
     "data": {
      "text/plain": [
       "University A    160\n",
       "University B    140\n",
       "dtype: int64"
      ]
     },
     "execution_count": 96,
     "metadata": {},
     "output_type": "execute_result"
    }
   ],
   "source": [
    "df.sum(axis=0)"
   ]
  },
  {
   "cell_type": "markdown",
   "metadata": {},
   "source": [
    "### Challenge problem: Contingency tables"
   ]
  },
  {
   "cell_type": "code",
   "execution_count": 97,
   "metadata": {},
   "outputs": [],
   "source": [
    "# Lena sabe la siguiente información sobre su caja de 18 dulces: \n",
    "# 10 dulces contienen tanto chocolate como caramelo.\n",
    "# 3 dulces no contienen ni chocolate ni caramelo.\n",
    "# 12 dulces en total contienen chocolate.\n",
    "# Ayuda a Lena a organizar los resultados en la siguiente tabla de contingencia de frecuencias."
   ]
  },
  {
   "cell_type": "code",
   "execution_count": 98,
   "metadata": {},
   "outputs": [],
   "source": [
    "data = {'Caramel': [10,3], 'No Caramel': [2,3]}\n",
    "index = ['Chocolate', 'No chocolate']"
   ]
  },
  {
   "cell_type": "code",
   "execution_count": 99,
   "metadata": {},
   "outputs": [
    {
     "data": {
      "text/html": [
       "<div>\n",
       "<style scoped>\n",
       "    .dataframe tbody tr th:only-of-type {\n",
       "        vertical-align: middle;\n",
       "    }\n",
       "\n",
       "    .dataframe tbody tr th {\n",
       "        vertical-align: top;\n",
       "    }\n",
       "\n",
       "    .dataframe thead th {\n",
       "        text-align: right;\n",
       "    }\n",
       "</style>\n",
       "<table border=\"1\" class=\"dataframe\">\n",
       "  <thead>\n",
       "    <tr style=\"text-align: right;\">\n",
       "      <th></th>\n",
       "      <th>Caramel</th>\n",
       "      <th>No Caramel</th>\n",
       "    </tr>\n",
       "  </thead>\n",
       "  <tbody>\n",
       "    <tr>\n",
       "      <th>Chocolate</th>\n",
       "      <td>10</td>\n",
       "      <td>2</td>\n",
       "    </tr>\n",
       "    <tr>\n",
       "      <th>No chocolate</th>\n",
       "      <td>3</td>\n",
       "      <td>3</td>\n",
       "    </tr>\n",
       "  </tbody>\n",
       "</table>\n",
       "</div>"
      ],
      "text/plain": [
       "              Caramel  No Caramel\n",
       "Chocolate          10           2\n",
       "No chocolate        3           3"
      ]
     },
     "execution_count": 99,
     "metadata": {},
     "output_type": "execute_result"
    }
   ],
   "source": [
    "df = pd.DataFrame(data, index=index)\n",
    "df\n"
   ]
  },
  {
   "cell_type": "markdown",
   "metadata": {},
   "source": [
    "# Reading contingengy tables"
   ]
  },
  {
   "cell_type": "markdown",
   "metadata": {},
   "source": [
    "### Problem 1"
   ]
  },
  {
   "cell_type": "code",
   "execution_count": 100,
   "metadata": {},
   "outputs": [],
   "source": [
    "# Estudiantes fueron encuestados sobre su preferencia entre perros y gatos. La siguiente tabla de contingencia exhibe datos de una muestra de estudiantes que respondieron la encuesta. ¿Cuántos estudiantes en la muestra prefieren los perros?"
   ]
  },
  {
   "cell_type": "code",
   "execution_count": 101,
   "metadata": {},
   "outputs": [],
   "source": [
    "data = {'Men': [36,10,2], 'Women':[20,26,6]}\n",
    "index = ['Prefers dogs', 'Prefers cats', 'No preference']"
   ]
  },
  {
   "cell_type": "code",
   "execution_count": 102,
   "metadata": {},
   "outputs": [
    {
     "data": {
      "text/html": [
       "<div>\n",
       "<style scoped>\n",
       "    .dataframe tbody tr th:only-of-type {\n",
       "        vertical-align: middle;\n",
       "    }\n",
       "\n",
       "    .dataframe tbody tr th {\n",
       "        vertical-align: top;\n",
       "    }\n",
       "\n",
       "    .dataframe thead th {\n",
       "        text-align: right;\n",
       "    }\n",
       "</style>\n",
       "<table border=\"1\" class=\"dataframe\">\n",
       "  <thead>\n",
       "    <tr style=\"text-align: right;\">\n",
       "      <th></th>\n",
       "      <th>Men</th>\n",
       "      <th>Women</th>\n",
       "    </tr>\n",
       "  </thead>\n",
       "  <tbody>\n",
       "    <tr>\n",
       "      <th>Prefers dogs</th>\n",
       "      <td>36</td>\n",
       "      <td>20</td>\n",
       "    </tr>\n",
       "    <tr>\n",
       "      <th>Prefers cats</th>\n",
       "      <td>10</td>\n",
       "      <td>26</td>\n",
       "    </tr>\n",
       "    <tr>\n",
       "      <th>No preference</th>\n",
       "      <td>2</td>\n",
       "      <td>6</td>\n",
       "    </tr>\n",
       "  </tbody>\n",
       "</table>\n",
       "</div>"
      ],
      "text/plain": [
       "               Men  Women\n",
       "Prefers dogs    36     20\n",
       "Prefers cats    10     26\n",
       "No preference    2      6"
      ]
     },
     "execution_count": 102,
     "metadata": {},
     "output_type": "execute_result"
    }
   ],
   "source": [
    "df = pd.DataFrame(data, index=index)\n",
    "df"
   ]
  },
  {
   "cell_type": "code",
   "execution_count": 103,
   "metadata": {},
   "outputs": [
    {
     "data": {
      "text/plain": [
       "Prefers dogs     56\n",
       "Prefers cats     36\n",
       "No preference     8\n",
       "dtype: int64"
      ]
     },
     "execution_count": 103,
     "metadata": {},
     "output_type": "execute_result"
    }
   ],
   "source": [
    "df.sum(axis=1)"
   ]
  },
  {
   "cell_type": "markdown",
   "metadata": {},
   "source": [
    "### Problem 2"
   ]
  },
  {
   "cell_type": "code",
   "execution_count": 104,
   "metadata": {},
   "outputs": [],
   "source": [
    "# Un día unos investigadores aplicaron una encuesta a estudiantes de licenciatura sobre su uso de Facebook. La siguiente tabla de contingencia exhibe los datos de la muestra de estudiantes que respondieron la encuesta.\n",
    "# ¿Cuántos estudiantes que respondieron la encuesta tenían entre 18 y  22 años?"
   ]
  },
  {
   "cell_type": "code",
   "execution_count": 105,
   "metadata": {},
   "outputs": [],
   "source": [
    "data = {'Uses Facebook': [78, 70], \"Doesn't use Facebook\": [4,67]}\n",
    "index = ['18 to 22 Years Old', 'More than 23 Years Old']"
   ]
  },
  {
   "cell_type": "code",
   "execution_count": 106,
   "metadata": {},
   "outputs": [
    {
     "data": {
      "text/html": [
       "<div>\n",
       "<style scoped>\n",
       "    .dataframe tbody tr th:only-of-type {\n",
       "        vertical-align: middle;\n",
       "    }\n",
       "\n",
       "    .dataframe tbody tr th {\n",
       "        vertical-align: top;\n",
       "    }\n",
       "\n",
       "    .dataframe thead th {\n",
       "        text-align: right;\n",
       "    }\n",
       "</style>\n",
       "<table border=\"1\" class=\"dataframe\">\n",
       "  <thead>\n",
       "    <tr style=\"text-align: right;\">\n",
       "      <th></th>\n",
       "      <th>Uses Facebook</th>\n",
       "      <th>Doesn't use Facebook</th>\n",
       "    </tr>\n",
       "  </thead>\n",
       "  <tbody>\n",
       "    <tr>\n",
       "      <th>18 to 22 Years Old</th>\n",
       "      <td>78</td>\n",
       "      <td>4</td>\n",
       "    </tr>\n",
       "    <tr>\n",
       "      <th>More than 23 Years Old</th>\n",
       "      <td>70</td>\n",
       "      <td>67</td>\n",
       "    </tr>\n",
       "  </tbody>\n",
       "</table>\n",
       "</div>"
      ],
      "text/plain": [
       "                        Uses Facebook  Doesn't use Facebook\n",
       "18 to 22 Years Old                 78                     4\n",
       "More than 23 Years Old             70                    67"
      ]
     },
     "execution_count": 106,
     "metadata": {},
     "output_type": "execute_result"
    }
   ],
   "source": [
    "df = pd.DataFrame(data, index=index)\n",
    "df"
   ]
  },
  {
   "cell_type": "code",
   "execution_count": 107,
   "metadata": {},
   "outputs": [
    {
     "data": {
      "text/plain": [
       "18 to 22 Years Old         82\n",
       "More than 23 Years Old    137\n",
       "dtype: int64"
      ]
     },
     "execution_count": 107,
     "metadata": {},
     "output_type": "execute_result"
    }
   ],
   "source": [
    "df.sum(axis=1)"
   ]
  },
  {
   "cell_type": "markdown",
   "metadata": {},
   "source": [
    "### Problema 3"
   ]
  },
  {
   "cell_type": "code",
   "execution_count": 108,
   "metadata": {},
   "outputs": [],
   "source": [
    "# Unos investigadores aplicaron una encuesta a algunos estudiantes sobre qué superpoder les gustaría tener. La siguiente tabla de contingencia exhibe los datos de la muestra de estudiantes que respondieron la encuesta. ¿Cuántos estudiantes que respondieron la encuesta eligieron volar como super poder?"
   ]
  },
  {
   "cell_type": "code",
   "execution_count": 109,
   "metadata": {},
   "outputs": [],
   "source": [
    "data = {'Men':[26,14,10], 'Women':[12,32,8]}\n",
    "index = ['Flying', 'Invisibility', 'Other']"
   ]
  },
  {
   "cell_type": "code",
   "execution_count": 110,
   "metadata": {},
   "outputs": [
    {
     "data": {
      "text/html": [
       "<div>\n",
       "<style scoped>\n",
       "    .dataframe tbody tr th:only-of-type {\n",
       "        vertical-align: middle;\n",
       "    }\n",
       "\n",
       "    .dataframe tbody tr th {\n",
       "        vertical-align: top;\n",
       "    }\n",
       "\n",
       "    .dataframe thead th {\n",
       "        text-align: right;\n",
       "    }\n",
       "</style>\n",
       "<table border=\"1\" class=\"dataframe\">\n",
       "  <thead>\n",
       "    <tr style=\"text-align: right;\">\n",
       "      <th></th>\n",
       "      <th>Men</th>\n",
       "      <th>Women</th>\n",
       "    </tr>\n",
       "  </thead>\n",
       "  <tbody>\n",
       "    <tr>\n",
       "      <th>Flying</th>\n",
       "      <td>26</td>\n",
       "      <td>12</td>\n",
       "    </tr>\n",
       "    <tr>\n",
       "      <th>Invisibility</th>\n",
       "      <td>14</td>\n",
       "      <td>32</td>\n",
       "    </tr>\n",
       "    <tr>\n",
       "      <th>Other</th>\n",
       "      <td>10</td>\n",
       "      <td>8</td>\n",
       "    </tr>\n",
       "  </tbody>\n",
       "</table>\n",
       "</div>"
      ],
      "text/plain": [
       "              Men  Women\n",
       "Flying         26     12\n",
       "Invisibility   14     32\n",
       "Other          10      8"
      ]
     },
     "execution_count": 110,
     "metadata": {},
     "output_type": "execute_result"
    }
   ],
   "source": [
    "df = pd.DataFrame(data, index = index)\n",
    "df"
   ]
  },
  {
   "cell_type": "code",
   "execution_count": 111,
   "metadata": {},
   "outputs": [
    {
     "data": {
      "text/plain": [
       "Flying          38\n",
       "Invisibility    46\n",
       "Other           18\n",
       "dtype: int64"
      ]
     },
     "execution_count": 111,
     "metadata": {},
     "output_type": "execute_result"
    }
   ],
   "source": [
    "df.sum(axis=1)"
   ]
  },
  {
   "cell_type": "markdown",
   "metadata": {},
   "source": [
    "### Problem 4"
   ]
  },
  {
   "cell_type": "code",
   "execution_count": 112,
   "metadata": {},
   "outputs": [],
   "source": [
    "# Los equipos de la NFL están divididos en dos conferencias: la AFC y la NFC. Algunos equipos tienen un animal como mascota y otros no. La siguiente tabla de contingencia exhibe estos datos. ¿Cuántos equipos hay en la NFC?"
   ]
  },
  {
   "cell_type": "code",
   "execution_count": 113,
   "metadata": {},
   "outputs": [],
   "source": [
    "data = {'AFC': [7,9], 'NFC': [8,8]}\n",
    "index = ['It is an animal', 'It is not an animal']"
   ]
  },
  {
   "cell_type": "code",
   "execution_count": 114,
   "metadata": {},
   "outputs": [
    {
     "data": {
      "text/html": [
       "<div>\n",
       "<style scoped>\n",
       "    .dataframe tbody tr th:only-of-type {\n",
       "        vertical-align: middle;\n",
       "    }\n",
       "\n",
       "    .dataframe tbody tr th {\n",
       "        vertical-align: top;\n",
       "    }\n",
       "\n",
       "    .dataframe thead th {\n",
       "        text-align: right;\n",
       "    }\n",
       "</style>\n",
       "<table border=\"1\" class=\"dataframe\">\n",
       "  <thead>\n",
       "    <tr style=\"text-align: right;\">\n",
       "      <th></th>\n",
       "      <th>AFC</th>\n",
       "      <th>NFC</th>\n",
       "    </tr>\n",
       "  </thead>\n",
       "  <tbody>\n",
       "    <tr>\n",
       "      <th>It is an animal</th>\n",
       "      <td>7</td>\n",
       "      <td>8</td>\n",
       "    </tr>\n",
       "    <tr>\n",
       "      <th>It is not an animal</th>\n",
       "      <td>9</td>\n",
       "      <td>8</td>\n",
       "    </tr>\n",
       "  </tbody>\n",
       "</table>\n",
       "</div>"
      ],
      "text/plain": [
       "                     AFC  NFC\n",
       "It is an animal        7    8\n",
       "It is not an animal    9    8"
      ]
     },
     "execution_count": 114,
     "metadata": {},
     "output_type": "execute_result"
    }
   ],
   "source": [
    "df = pd.DataFrame(data, index=index)\n",
    "df"
   ]
  },
  {
   "cell_type": "code",
   "execution_count": 115,
   "metadata": {},
   "outputs": [
    {
     "data": {
      "text/plain": [
       "32"
      ]
     },
     "execution_count": 115,
     "metadata": {},
     "output_type": "execute_result"
    }
   ],
   "source": [
    "df['AFC'].sum() + df['NFC'].sum()"
   ]
  },
  {
   "cell_type": "markdown",
   "metadata": {},
   "source": [
    "# Contingency table: Absolute Frequencies"
   ]
  },
  {
   "cell_type": "markdown",
   "metadata": {},
   "source": [
    "### Problem 1"
   ]
  },
  {
   "cell_type": "code",
   "execution_count": 116,
   "metadata": {},
   "outputs": [],
   "source": [
    "# PRO TIP: It is easier if you make a Venn Diagram first."
   ]
  },
  {
   "cell_type": "code",
   "execution_count": 117,
   "metadata": {},
   "outputs": [
    {
     "data": {
      "image/png": "[encoded data removed]",
      "text/plain": [
       "<Figure size 432x288 with 1 Axes>"
      ]
     },
     "metadata": {},
     "output_type": "display_data"
    }
   ],
   "source": [
    "venn2(subsets = (12, 11, 5), set_labels=('Australia', 'USA'))\n",
    "plt.show();"
   ]
  },
  {
   "cell_type": "code",
   "execution_count": 118,
   "metadata": {},
   "outputs": [],
   "source": [
    "# Total = 19\n",
    "# have been in Australia and US: 5\n",
    "# Have not been in the US: 12-5 = 7\n",
    "# Have not been in Australia: 11-5 = 6\n",
    "# Have been in the US but not in Australia: 11-5 = 6\n",
    "# Not in the US nor Australia = 1"
   ]
  },
  {
   "cell_type": "markdown",
   "metadata": {},
   "source": [
    "### Problem 2"
   ]
  },
  {
   "cell_type": "code",
   "execution_count": 119,
   "metadata": {},
   "outputs": [],
   "source": [
    "# Hay 40 miembros en un club de comida. El siguiente diagrama muestra a cuántos miembros les gustan las verduras, la fruta o ninguna de las dos. Completa la siguiente tabla de contingencia de frecuencias."
   ]
  },
  {
   "cell_type": "code",
   "execution_count": 120,
   "metadata": {},
   "outputs": [
    {
     "data": {
      "image/png": "[encoded data removed]",
      "text/plain": [
       "<Figure size 432x288 with 1 Axes>"
      ]
     },
     "metadata": {},
     "output_type": "display_data"
    }
   ],
   "source": [
    "venn2(subsets=(8, 4,23), set_labels=('They like fruits', 'They like vegetables'))\n",
    "plt.show();"
   ]
  },
  {
   "cell_type": "code",
   "execution_count": 121,
   "metadata": {},
   "outputs": [
    {
     "data": {
      "text/plain": [
       "15"
      ]
     },
     "execution_count": 121,
     "metadata": {},
     "output_type": "execute_result"
    }
   ],
   "source": [
    "23-8"
   ]
  },
  {
   "cell_type": "code",
   "execution_count": 122,
   "metadata": {},
   "outputs": [
    {
     "name": "stdout",
     "output_type": "stream",
     "text": [
      "Total is 40\n",
      "They like both: 23\n",
      "They like vegetables but no fruits: 4\n",
      "They don't like vegetables but they like fruits: 8\n",
      "They don't like vegetables nor fruits: 5\n"
     ]
    }
   ],
   "source": [
    "print(\"Total is 40\")\n",
    "print(\"They like both:\", 23)\n",
    "print(\"They like vegetables but no fruits:\", 4)\n",
    "print(\"They don't like vegetables but they like fruits:\", 8)\n",
    "print(\"They don't like vegetables nor fruits:\", 5)\n",
    "\n"
   ]
  },
  {
   "cell_type": "markdown",
   "metadata": {},
   "source": [
    "# Contingency table: Relative Frequencies"
   ]
  },
  {
   "cell_type": "markdown",
   "metadata": {},
   "source": [
    "### Problema 1"
   ]
  },
  {
   "cell_type": "code",
   "execution_count": 123,
   "metadata": {},
   "outputs": [],
   "source": [
    "# La siguiente tabla de contingencia de frecuencia muestra datos del comportamiento de estudiantes y el uso de llamadas positivas a casa como incentivo para buen comportamiento de un grupo de estudiantes en el colegio Lion's Lane. \n",
    "# Completa la siguiente tabla de contingencia de frecuencias relativas por renglón."
   ]
  },
  {
   "cell_type": "code",
   "execution_count": 124,
   "metadata": {},
   "outputs": [],
   "source": [
    "data = {\"Desirable behaviour\": [19/28, 8/14], \"Non desirable behaviour\": [9/28,6/14]}\n",
    "index = [\"Phone call\", \"Without phone call\"]"
   ]
  },
  {
   "cell_type": "code",
   "execution_count": 125,
   "metadata": {},
   "outputs": [
    {
     "data": {
      "text/html": [
       "<div>\n",
       "<style scoped>\n",
       "    .dataframe tbody tr th:only-of-type {\n",
       "        vertical-align: middle;\n",
       "    }\n",
       "\n",
       "    .dataframe tbody tr th {\n",
       "        vertical-align: top;\n",
       "    }\n",
       "\n",
       "    .dataframe thead th {\n",
       "        text-align: right;\n",
       "    }\n",
       "</style>\n",
       "<table border=\"1\" class=\"dataframe\">\n",
       "  <thead>\n",
       "    <tr style=\"text-align: right;\">\n",
       "      <th></th>\n",
       "      <th>Desirable behaviour</th>\n",
       "      <th>Non desirable behaviour</th>\n",
       "    </tr>\n",
       "  </thead>\n",
       "  <tbody>\n",
       "    <tr>\n",
       "      <th>Phone call</th>\n",
       "      <td>0.678571</td>\n",
       "      <td>0.321429</td>\n",
       "    </tr>\n",
       "    <tr>\n",
       "      <th>Without phone call</th>\n",
       "      <td>0.571429</td>\n",
       "      <td>0.428571</td>\n",
       "    </tr>\n",
       "  </tbody>\n",
       "</table>\n",
       "</div>"
      ],
      "text/plain": [
       "                    Desirable behaviour  Non desirable behaviour\n",
       "Phone call                     0.678571                 0.321429\n",
       "Without phone call             0.571429                 0.428571"
      ]
     },
     "execution_count": 125,
     "metadata": {},
     "output_type": "execute_result"
    }
   ],
   "source": [
    "df= pd.DataFrame(data, index=index)\n",
    "df"
   ]
  },
  {
   "cell_type": "code",
   "execution_count": 126,
   "metadata": {},
   "outputs": [
    {
     "data": {
      "text/plain": [
       "Phone call            1.0\n",
       "Without phone call    1.0\n",
       "dtype: float64"
      ]
     },
     "execution_count": 126,
     "metadata": {},
     "output_type": "execute_result"
    }
   ],
   "source": [
    "df.sum(axis=1)"
   ]
  },
  {
   "cell_type": "markdown",
   "metadata": {},
   "source": [
    "### Problema 2"
   ]
  },
  {
   "cell_type": "code",
   "execution_count": 127,
   "metadata": {},
   "outputs": [],
   "source": [
    "# La siguiente tabla de contingencia de frecuencia muestra datos del comportamiento de estudiantes y el uso de llamadas positivas a casa como incentivo para buen comportamiento de un grupo de estudiantes en el colegio Lion's Lane.\n",
    "# Completa la siguiente tabla de contingencia de frecuencias relativas por columna. (De ser necesario, redondea tus respuestas a la centésima más cercana)."
   ]
  },
  {
   "cell_type": "code",
   "execution_count": 128,
   "metadata": {},
   "outputs": [],
   "source": [
    "data = {\"Desirable behaviour\": [19/27,8/27], \"Undesirable behaviour\": [9/15,6/15]}\n",
    "index = [\"Phone call\", \"Without Phone call\"]"
   ]
  },
  {
   "cell_type": "code",
   "execution_count": 129,
   "metadata": {},
   "outputs": [
    {
     "data": {
      "text/html": [
       "<div>\n",
       "<style scoped>\n",
       "    .dataframe tbody tr th:only-of-type {\n",
       "        vertical-align: middle;\n",
       "    }\n",
       "\n",
       "    .dataframe tbody tr th {\n",
       "        vertical-align: top;\n",
       "    }\n",
       "\n",
       "    .dataframe thead th {\n",
       "        text-align: right;\n",
       "    }\n",
       "</style>\n",
       "<table border=\"1\" class=\"dataframe\">\n",
       "  <thead>\n",
       "    <tr style=\"text-align: right;\">\n",
       "      <th></th>\n",
       "      <th>Desirable behaviour</th>\n",
       "      <th>Undesirable behaviour</th>\n",
       "    </tr>\n",
       "  </thead>\n",
       "  <tbody>\n",
       "    <tr>\n",
       "      <th>Phone call</th>\n",
       "      <td>0.703704</td>\n",
       "      <td>0.6</td>\n",
       "    </tr>\n",
       "    <tr>\n",
       "      <th>Without Phone call</th>\n",
       "      <td>0.296296</td>\n",
       "      <td>0.4</td>\n",
       "    </tr>\n",
       "  </tbody>\n",
       "</table>\n",
       "</div>"
      ],
      "text/plain": [
       "                    Desirable behaviour  Undesirable behaviour\n",
       "Phone call                     0.703704                    0.6\n",
       "Without Phone call             0.296296                    0.4"
      ]
     },
     "execution_count": 129,
     "metadata": {},
     "output_type": "execute_result"
    }
   ],
   "source": [
    "df = pd.DataFrame(data, index=index)\n",
    "df"
   ]
  },
  {
   "cell_type": "code",
   "execution_count": 130,
   "metadata": {},
   "outputs": [
    {
     "data": {
      "text/plain": [
       "Desirable behaviour      1.0\n",
       "Undesirable behaviour    1.0\n",
       "dtype: float64"
      ]
     },
     "execution_count": 130,
     "metadata": {},
     "output_type": "execute_result"
    }
   ],
   "source": [
    "df.sum(axis=0)"
   ]
  },
  {
   "cell_type": "markdown",
   "metadata": {},
   "source": [
    "### Problema 3"
   ]
  },
  {
   "cell_type": "code",
   "execution_count": 131,
   "metadata": {},
   "outputs": [],
   "source": [
    "# La siguiente tabla de contingencia muestra datos de los goles de quidditch parados por un portero al usar una poción de suerte o un placebo. Completa la siguiente tabla de contingencia de frecuencias relativas por renglón. (De ser necesario, redondea tus respuestas a la centésima más cercana)."
   ]
  },
  {
   "cell_type": "code",
   "execution_count": 132,
   "metadata": {},
   "outputs": [],
   "source": [
    "data = {\"Placebo\": [30,8], \"Lucky Potion\": [23,5]}\n",
    "index = [\"Stop the goal\", \"Didn't stop the goal\"]"
   ]
  },
  {
   "cell_type": "code",
   "execution_count": 133,
   "metadata": {},
   "outputs": [
    {
     "data": {
      "text/html": [
       "<div>\n",
       "<style scoped>\n",
       "    .dataframe tbody tr th:only-of-type {\n",
       "        vertical-align: middle;\n",
       "    }\n",
       "\n",
       "    .dataframe tbody tr th {\n",
       "        vertical-align: top;\n",
       "    }\n",
       "\n",
       "    .dataframe thead th {\n",
       "        text-align: right;\n",
       "    }\n",
       "</style>\n",
       "<table border=\"1\" class=\"dataframe\">\n",
       "  <thead>\n",
       "    <tr style=\"text-align: right;\">\n",
       "      <th></th>\n",
       "      <th>Placebo</th>\n",
       "      <th>Lucky Potion</th>\n",
       "    </tr>\n",
       "  </thead>\n",
       "  <tbody>\n",
       "    <tr>\n",
       "      <th>Stop the goal</th>\n",
       "      <td>30</td>\n",
       "      <td>23</td>\n",
       "    </tr>\n",
       "    <tr>\n",
       "      <th>Didn't stop the goal</th>\n",
       "      <td>8</td>\n",
       "      <td>5</td>\n",
       "    </tr>\n",
       "  </tbody>\n",
       "</table>\n",
       "</div>"
      ],
      "text/plain": [
       "                      Placebo  Lucky Potion\n",
       "Stop the goal              30            23\n",
       "Didn't stop the goal        8             5"
      ]
     },
     "execution_count": 133,
     "metadata": {},
     "output_type": "execute_result"
    }
   ],
   "source": [
    "df = pd.DataFrame(data, index=index)\n",
    "df"
   ]
  },
  {
   "cell_type": "code",
   "execution_count": 134,
   "metadata": {},
   "outputs": [
    {
     "data": {
      "text/plain": [
       "Stop the goal           53\n",
       "Didn't stop the goal    13\n",
       "dtype: int64"
      ]
     },
     "execution_count": 134,
     "metadata": {},
     "output_type": "execute_result"
    }
   ],
   "source": [
    "df.sum(axis=1)"
   ]
  },
  {
   "cell_type": "markdown",
   "metadata": {},
   "source": [
    "### Problema 4"
   ]
  },
  {
   "cell_type": "code",
   "execution_count": 135,
   "metadata": {},
   "outputs": [],
   "source": [
    "# La siguiente tabla de contingencia de frecuencia muestra los datos sobre el desempeño en un examen de matemáticas y el género de los estudiantes de la clase de la Sra. Matchenbacker. Completa la siguiente tabla de contingencia de frecuencias relativas por columna. (De ser necesario, redondea tus respuestas a la centésima más cercana)."
   ]
  },
  {
   "cell_type": "code",
   "execution_count": 136,
   "metadata": {},
   "outputs": [],
   "source": [
    "data = {\"Passed\": [42,14], \"Failed\": [15,5]}\n",
    "index = [\"Men\", \"Women\"]"
   ]
  },
  {
   "cell_type": "code",
   "execution_count": 137,
   "metadata": {},
   "outputs": [
    {
     "data": {
      "text/html": [
       "<div>\n",
       "<style scoped>\n",
       "    .dataframe tbody tr th:only-of-type {\n",
       "        vertical-align: middle;\n",
       "    }\n",
       "\n",
       "    .dataframe tbody tr th {\n",
       "        vertical-align: top;\n",
       "    }\n",
       "\n",
       "    .dataframe thead th {\n",
       "        text-align: right;\n",
       "    }\n",
       "</style>\n",
       "<table border=\"1\" class=\"dataframe\">\n",
       "  <thead>\n",
       "    <tr style=\"text-align: right;\">\n",
       "      <th></th>\n",
       "      <th>Passed</th>\n",
       "      <th>Failed</th>\n",
       "    </tr>\n",
       "  </thead>\n",
       "  <tbody>\n",
       "    <tr>\n",
       "      <th>Men</th>\n",
       "      <td>42</td>\n",
       "      <td>15</td>\n",
       "    </tr>\n",
       "    <tr>\n",
       "      <th>Women</th>\n",
       "      <td>14</td>\n",
       "      <td>5</td>\n",
       "    </tr>\n",
       "  </tbody>\n",
       "</table>\n",
       "</div>"
      ],
      "text/plain": [
       "       Passed  Failed\n",
       "Men        42      15\n",
       "Women      14       5"
      ]
     },
     "execution_count": 137,
     "metadata": {},
     "output_type": "execute_result"
    }
   ],
   "source": [
    "df = pd.DataFrame(data, index= index)\n",
    "df"
   ]
  },
  {
   "cell_type": "code",
   "execution_count": 138,
   "metadata": {},
   "outputs": [
    {
     "data": {
      "text/plain": [
       "Passed    56\n",
       "Failed    20\n",
       "dtype: int64"
      ]
     },
     "execution_count": 138,
     "metadata": {},
     "output_type": "execute_result"
    }
   ],
   "source": [
    "df.sum(axis=0)"
   ]
  },
  {
   "cell_type": "markdown",
   "metadata": {},
   "source": [
    "### Problema 5"
   ]
  },
  {
   "cell_type": "code",
   "execution_count": 139,
   "metadata": {},
   "outputs": [],
   "source": [
    "# Una universidad encuestó a sus estudiantes sobre sus opiniones acerca de la vivienda en el campus. La siguiente tabla de contingencia presenta datos para la muestra de los 200 estudiantes que respondieron a la encuesta."
   ]
  },
  {
   "cell_type": "code",
   "execution_count": 140,
   "metadata": {},
   "outputs": [],
   "source": [
    "data = {\"Positive opinion\": [40,42], \"Negative opinion\": [36,56], \"Neutral opinion\": [14,12]}\n",
    "index = [\"Men\", \"Women\"]"
   ]
  },
  {
   "cell_type": "code",
   "execution_count": 141,
   "metadata": {},
   "outputs": [
    {
     "data": {
      "text/html": [
       "<div>\n",
       "<style scoped>\n",
       "    .dataframe tbody tr th:only-of-type {\n",
       "        vertical-align: middle;\n",
       "    }\n",
       "\n",
       "    .dataframe tbody tr th {\n",
       "        vertical-align: top;\n",
       "    }\n",
       "\n",
       "    .dataframe thead th {\n",
       "        text-align: right;\n",
       "    }\n",
       "</style>\n",
       "<table border=\"1\" class=\"dataframe\">\n",
       "  <thead>\n",
       "    <tr style=\"text-align: right;\">\n",
       "      <th></th>\n",
       "      <th>Positive opinion</th>\n",
       "      <th>Negative opinion</th>\n",
       "      <th>Neutral opinion</th>\n",
       "    </tr>\n",
       "  </thead>\n",
       "  <tbody>\n",
       "    <tr>\n",
       "      <th>Men</th>\n",
       "      <td>40</td>\n",
       "      <td>36</td>\n",
       "      <td>14</td>\n",
       "    </tr>\n",
       "    <tr>\n",
       "      <th>Women</th>\n",
       "      <td>42</td>\n",
       "      <td>56</td>\n",
       "      <td>12</td>\n",
       "    </tr>\n",
       "  </tbody>\n",
       "</table>\n",
       "</div>"
      ],
      "text/plain": [
       "       Positive opinion  Negative opinion  Neutral opinion\n",
       "Men                  40                36               14\n",
       "Women                42                56               12"
      ]
     },
     "execution_count": 141,
     "metadata": {},
     "output_type": "execute_result"
    }
   ],
   "source": [
    "df = pd.DataFrame(data, index=index)\n",
    "df"
   ]
  },
  {
   "cell_type": "code",
   "execution_count": 142,
   "metadata": {},
   "outputs": [
    {
     "data": {
      "text/html": [
       "<div>\n",
       "<style scoped>\n",
       "    .dataframe tbody tr th:only-of-type {\n",
       "        vertical-align: middle;\n",
       "    }\n",
       "\n",
       "    .dataframe tbody tr th {\n",
       "        vertical-align: top;\n",
       "    }\n",
       "\n",
       "    .dataframe thead th {\n",
       "        text-align: right;\n",
       "    }\n",
       "</style>\n",
       "<table border=\"1\" class=\"dataframe\">\n",
       "  <thead>\n",
       "    <tr style=\"text-align: right;\">\n",
       "      <th></th>\n",
       "      <th>Positive opinion</th>\n",
       "      <th>Negative opinion</th>\n",
       "      <th>Neutral opinion</th>\n",
       "      <th>Total</th>\n",
       "    </tr>\n",
       "  </thead>\n",
       "  <tbody>\n",
       "    <tr>\n",
       "      <th>Men</th>\n",
       "      <td>40</td>\n",
       "      <td>36</td>\n",
       "      <td>14</td>\n",
       "      <td>90</td>\n",
       "    </tr>\n",
       "    <tr>\n",
       "      <th>Women</th>\n",
       "      <td>42</td>\n",
       "      <td>56</td>\n",
       "      <td>12</td>\n",
       "      <td>110</td>\n",
       "    </tr>\n",
       "  </tbody>\n",
       "</table>\n",
       "</div>"
      ],
      "text/plain": [
       "       Positive opinion  Negative opinion  Neutral opinion  Total\n",
       "Men                  40                36               14     90\n",
       "Women                42                56               12    110"
      ]
     },
     "execution_count": 142,
     "metadata": {},
     "output_type": "execute_result"
    }
   ],
   "source": [
    "# Add column with totals\n",
    "df = df.assign(Total = df.sum(axis=1))\n",
    "df"
   ]
  },
  {
   "cell_type": "code",
   "execution_count": 143,
   "metadata": {},
   "outputs": [
    {
     "data": {
      "text/html": [
       "<div>\n",
       "<style scoped>\n",
       "    .dataframe tbody tr th:only-of-type {\n",
       "        vertical-align: middle;\n",
       "    }\n",
       "\n",
       "    .dataframe tbody tr th {\n",
       "        vertical-align: top;\n",
       "    }\n",
       "\n",
       "    .dataframe thead th {\n",
       "        text-align: right;\n",
       "    }\n",
       "</style>\n",
       "<table border=\"1\" class=\"dataframe\">\n",
       "  <thead>\n",
       "    <tr style=\"text-align: right;\">\n",
       "      <th></th>\n",
       "      <th>Positive opinion</th>\n",
       "      <th>Negative opinion</th>\n",
       "      <th>Neutral opinion</th>\n",
       "      <th>Total</th>\n",
       "    </tr>\n",
       "  </thead>\n",
       "  <tbody>\n",
       "    <tr>\n",
       "      <th>Men</th>\n",
       "      <td>40</td>\n",
       "      <td>36</td>\n",
       "      <td>14</td>\n",
       "      <td>90</td>\n",
       "    </tr>\n",
       "    <tr>\n",
       "      <th>Women</th>\n",
       "      <td>42</td>\n",
       "      <td>56</td>\n",
       "      <td>12</td>\n",
       "      <td>110</td>\n",
       "    </tr>\n",
       "    <tr>\n",
       "      <th>Total</th>\n",
       "      <td>82</td>\n",
       "      <td>92</td>\n",
       "      <td>26</td>\n",
       "      <td>200</td>\n",
       "    </tr>\n",
       "  </tbody>\n",
       "</table>\n",
       "</div>"
      ],
      "text/plain": [
       "       Positive opinion  Negative opinion  Neutral opinion  Total\n",
       "Men                  40                36               14     90\n",
       "Women                42                56               12    110\n",
       "Total                82                92               26    200"
      ]
     },
     "execution_count": 143,
     "metadata": {},
     "output_type": "execute_result"
    }
   ],
   "source": [
    "# Add row with totals\n",
    "df.loc['Total'] = df.sum()\n",
    "df"
   ]
  },
  {
   "cell_type": "code",
   "execution_count": 144,
   "metadata": {},
   "outputs": [
    {
     "name": "stdout",
     "output_type": "stream",
     "text": [
      "Bicicleta noveno grado: 0.39215686274509803\n",
      "Bicicleta onceavo grado: 0.19424460431654678\n",
      "Estudiantes de onceavo grado que viajan en auto: 0.7122302158273381\n"
     ]
    }
   ],
   "source": [
    "print(\"Bicicleta noveno grado:\", 20/51)\n",
    "print(\"Bicicleta onceavo grado:\", 27/139)\n",
    "print(\"Estudiantes de onceavo grado que viajan en auto:\", 99/139)"
   ]
  },
  {
   "cell_type": "markdown",
   "metadata": {},
   "source": [
    "### Problema 6"
   ]
  },
  {
   "cell_type": "code",
   "execution_count": 145,
   "metadata": {},
   "outputs": [],
   "source": [
    "# Create the dictionnaire\n",
    "data = {\"Less than $50,000\": [148,38], \"At least $50,000\":[68,94]}\n",
    "index = [\"44 and less\", \"45 and more\"]"
   ]
  },
  {
   "cell_type": "code",
   "execution_count": 146,
   "metadata": {},
   "outputs": [
    {
     "data": {
      "text/html": [
       "<div>\n",
       "<style scoped>\n",
       "    .dataframe tbody tr th:only-of-type {\n",
       "        vertical-align: middle;\n",
       "    }\n",
       "\n",
       "    .dataframe tbody tr th {\n",
       "        vertical-align: top;\n",
       "    }\n",
       "\n",
       "    .dataframe thead th {\n",
       "        text-align: right;\n",
       "    }\n",
       "</style>\n",
       "<table border=\"1\" class=\"dataframe\">\n",
       "  <thead>\n",
       "    <tr style=\"text-align: right;\">\n",
       "      <th></th>\n",
       "      <th>Less than $50,000</th>\n",
       "      <th>At least $50,000</th>\n",
       "    </tr>\n",
       "  </thead>\n",
       "  <tbody>\n",
       "    <tr>\n",
       "      <th>44 and less</th>\n",
       "      <td>148</td>\n",
       "      <td>68</td>\n",
       "    </tr>\n",
       "    <tr>\n",
       "      <th>45 and more</th>\n",
       "      <td>38</td>\n",
       "      <td>94</td>\n",
       "    </tr>\n",
       "  </tbody>\n",
       "</table>\n",
       "</div>"
      ],
      "text/plain": [
       "             Less than $50,000  At least $50,000\n",
       "44 and less                148                68\n",
       "45 and more                 38                94"
      ]
     },
     "execution_count": 146,
     "metadata": {},
     "output_type": "execute_result"
    }
   ],
   "source": [
    "# Create dataframe\n",
    "df = pd.DataFrame(data, index = index)\n",
    "df"
   ]
  },
  {
   "cell_type": "code",
   "execution_count": 147,
   "metadata": {},
   "outputs": [
    {
     "data": {
      "text/html": [
       "<div>\n",
       "<style scoped>\n",
       "    .dataframe tbody tr th:only-of-type {\n",
       "        vertical-align: middle;\n",
       "    }\n",
       "\n",
       "    .dataframe tbody tr th {\n",
       "        vertical-align: top;\n",
       "    }\n",
       "\n",
       "    .dataframe thead th {\n",
       "        text-align: right;\n",
       "    }\n",
       "</style>\n",
       "<table border=\"1\" class=\"dataframe\">\n",
       "  <thead>\n",
       "    <tr style=\"text-align: right;\">\n",
       "      <th></th>\n",
       "      <th>Less than $50,000</th>\n",
       "      <th>At least $50,000</th>\n",
       "      <th>Total</th>\n",
       "    </tr>\n",
       "  </thead>\n",
       "  <tbody>\n",
       "    <tr>\n",
       "      <th>44 and less</th>\n",
       "      <td>148</td>\n",
       "      <td>68</td>\n",
       "      <td>216</td>\n",
       "    </tr>\n",
       "    <tr>\n",
       "      <th>45 and more</th>\n",
       "      <td>38</td>\n",
       "      <td>94</td>\n",
       "      <td>132</td>\n",
       "    </tr>\n",
       "    <tr>\n",
       "      <th>Total</th>\n",
       "      <td>186</td>\n",
       "      <td>162</td>\n",
       "      <td>348</td>\n",
       "    </tr>\n",
       "  </tbody>\n",
       "</table>\n",
       "</div>"
      ],
      "text/plain": [
       "             Less than $50,000  At least $50,000  Total\n",
       "44 and less                148                68    216\n",
       "45 and more                 38                94    132\n",
       "Total                      186               162    348"
      ]
     },
     "execution_count": 147,
     "metadata": {},
     "output_type": "execute_result"
    }
   ],
   "source": [
    "# Add column with totals\n",
    "df = df.assign(Total = df.sum(axis=1))\n",
    "# Add row with totals\n",
    "df.loc[\"Total\"] = df.sum()\n",
    "df"
   ]
  },
  {
   "cell_type": "markdown",
   "metadata": {},
   "source": [
    "### Problema 7"
   ]
  },
  {
   "cell_type": "code",
   "execution_count": 148,
   "metadata": {},
   "outputs": [],
   "source": [
    "# Tate trabaja en un puesto de helados. Cada cliente puede elegir una de dos coberturas: chispas o chispas de chocolate. Él registró el grupo de edad y la cobertura elegida para una muestra de 120 clientes. Aquí están los resultados:"
   ]
  },
  {
   "cell_type": "code",
   "execution_count": 149,
   "metadata": {},
   "outputs": [],
   "source": [
    "data = {\"Chispas\":[27,13], \"Chispas de chocolate\": [38,22], \"Ninguna\": [7, 13]}\n",
    "index = [\"Children\", \"Adults\"]"
   ]
  },
  {
   "cell_type": "code",
   "execution_count": 150,
   "metadata": {},
   "outputs": [
    {
     "data": {
      "text/html": [
       "<div>\n",
       "<style scoped>\n",
       "    .dataframe tbody tr th:only-of-type {\n",
       "        vertical-align: middle;\n",
       "    }\n",
       "\n",
       "    .dataframe tbody tr th {\n",
       "        vertical-align: top;\n",
       "    }\n",
       "\n",
       "    .dataframe thead th {\n",
       "        text-align: right;\n",
       "    }\n",
       "</style>\n",
       "<table border=\"1\" class=\"dataframe\">\n",
       "  <thead>\n",
       "    <tr style=\"text-align: right;\">\n",
       "      <th></th>\n",
       "      <th>Chispas</th>\n",
       "      <th>Chispas de chocolate</th>\n",
       "      <th>Ninguna</th>\n",
       "    </tr>\n",
       "  </thead>\n",
       "  <tbody>\n",
       "    <tr>\n",
       "      <th>Children</th>\n",
       "      <td>27</td>\n",
       "      <td>38</td>\n",
       "      <td>7</td>\n",
       "    </tr>\n",
       "    <tr>\n",
       "      <th>Adults</th>\n",
       "      <td>13</td>\n",
       "      <td>22</td>\n",
       "      <td>13</td>\n",
       "    </tr>\n",
       "  </tbody>\n",
       "</table>\n",
       "</div>"
      ],
      "text/plain": [
       "          Chispas  Chispas de chocolate  Ninguna\n",
       "Children       27                    38        7\n",
       "Adults         13                    22       13"
      ]
     },
     "execution_count": 150,
     "metadata": {},
     "output_type": "execute_result"
    }
   ],
   "source": [
    "df = pd.DataFrame(data, index=index)\n",
    "df"
   ]
  },
  {
   "cell_type": "code",
   "execution_count": 151,
   "metadata": {},
   "outputs": [
    {
     "data": {
      "text/html": [
       "<div>\n",
       "<style scoped>\n",
       "    .dataframe tbody tr th:only-of-type {\n",
       "        vertical-align: middle;\n",
       "    }\n",
       "\n",
       "    .dataframe tbody tr th {\n",
       "        vertical-align: top;\n",
       "    }\n",
       "\n",
       "    .dataframe thead th {\n",
       "        text-align: right;\n",
       "    }\n",
       "</style>\n",
       "<table border=\"1\" class=\"dataframe\">\n",
       "  <thead>\n",
       "    <tr style=\"text-align: right;\">\n",
       "      <th></th>\n",
       "      <th>Chispas</th>\n",
       "      <th>Chispas de chocolate</th>\n",
       "      <th>Ninguna</th>\n",
       "      <th>Total</th>\n",
       "    </tr>\n",
       "  </thead>\n",
       "  <tbody>\n",
       "    <tr>\n",
       "      <th>Children</th>\n",
       "      <td>27</td>\n",
       "      <td>38</td>\n",
       "      <td>7</td>\n",
       "      <td>72</td>\n",
       "    </tr>\n",
       "    <tr>\n",
       "      <th>Adults</th>\n",
       "      <td>13</td>\n",
       "      <td>22</td>\n",
       "      <td>13</td>\n",
       "      <td>48</td>\n",
       "    </tr>\n",
       "    <tr>\n",
       "      <th>Total</th>\n",
       "      <td>40</td>\n",
       "      <td>60</td>\n",
       "      <td>20</td>\n",
       "      <td>120</td>\n",
       "    </tr>\n",
       "  </tbody>\n",
       "</table>\n",
       "</div>"
      ],
      "text/plain": [
       "          Chispas  Chispas de chocolate  Ninguna  Total\n",
       "Children       27                    38        7     72\n",
       "Adults         13                    22       13     48\n",
       "Total          40                    60       20    120"
      ]
     },
     "execution_count": 151,
     "metadata": {},
     "output_type": "execute_result"
    }
   ],
   "source": [
    "# Add column with totals\n",
    "df = df.assign(Total = df.sum(axis=1))\n",
    "# Add row with totals\n",
    "df.loc[\"Total\"] = df.sum()\n",
    "df"
   ]
  },
  {
   "cell_type": "code",
   "execution_count": 152,
   "metadata": {},
   "outputs": [
    {
     "data": {
      "text/plain": [
       "0.2708333333333333"
      ]
     },
     "execution_count": 152,
     "metadata": {},
     "output_type": "execute_result"
    }
   ],
   "source": [
    "# De los adultos en la muestra, ¿qué fracción ordenó chispas?\n",
    "13/48"
   ]
  },
  {
   "cell_type": "markdown",
   "metadata": {},
   "source": [
    "### Problema 8"
   ]
  },
  {
   "cell_type": "code",
   "execution_count": 153,
   "metadata": {},
   "outputs": [
    {
     "data": {
      "image/png": "[encoded data removed]",
      "text/plain": [
       "<Figure size 432x288 with 1 Axes>"
      ]
     },
     "metadata": {},
     "output_type": "display_data"
    }
   ],
   "source": [
    "venn2(subsets=(14, 1,6), set_labels=(\"Practican un deporte\", \"No Practican un deporte\"))\n",
    "plt.show();"
   ]
  },
  {
   "cell_type": "markdown",
   "metadata": {},
   "source": [
    "# Marginal Distribution"
   ]
  },
  {
   "cell_type": "markdown",
   "metadata": {},
   "source": [
    "### Problema 1"
   ]
  },
  {
   "cell_type": "code",
   "execution_count": 154,
   "metadata": {},
   "outputs": [],
   "source": [
    "# Mavis está interesada en si el estatus militar está relacionado con el género en Samoa Americana. Aquí están los datos que recolectó sobre la población de Samoa Americana en 2010:"
   ]
  },
  {
   "cell_type": "code",
   "execution_count": 155,
   "metadata": {},
   "outputs": [
    {
     "name": "stdout",
     "output_type": "stream",
     "text": [
      "En las fuerzas armadas: 0.001567031106468056 \n",
      "Depende de alguien del ejército: 0.030782254723608134 \n",
      "Civil: 0.9676507141699238\n"
     ]
    }
   ],
   "source": [
    "# Encuentra la distribución marginal de la frecuencia relativa del estatus militar en porcentajes. Redondea al uno por ciento más cercano.\n",
    "\n",
    "print(\"En las fuerzas armadas:\", 87/55519, \"\\nDepende de alguien del ejército:\", 1709/55519, \"\\nCivil:\", 53723/55519)"
   ]
  },
  {
   "cell_type": "markdown",
   "metadata": {},
   "source": [
    "### Problema 2"
   ]
  },
  {
   "cell_type": "code",
   "execution_count": 156,
   "metadata": {},
   "outputs": [],
   "source": [
    "# James está interesado en la relación entre las condiciones meteorológicas y si el tren del centro de la ciudad va a tiempo. Durante un año, James registra el clima cada día así como si el tren llega a tiempo o con retraso. Aquí se muestran sus resultados:\n",
    "\n",
    "# Encuentra la distribución marginal de la condición meteorológica en número (no en porcentaje)."
   ]
  },
  {
   "cell_type": "code",
   "execution_count": 157,
   "metadata": {},
   "outputs": [],
   "source": [
    "total_meteor = 365\n",
    "condicion_meteoroligica = {\"soleado\": 170, \"nublado\": 120, \"lluvioso\": 55, \"nevado\": 20}\n",
    "distr_marginal = {}"
   ]
  },
  {
   "cell_type": "code",
   "execution_count": 158,
   "metadata": {},
   "outputs": [
    {
     "data": {
      "text/plain": [
       "{'soleado': 0.4657534246575342,\n",
       " 'nublado': 0.3287671232876712,\n",
       " 'lluvioso': 0.1506849315068493,\n",
       " 'nevado': 0.0547945205479452}"
      ]
     },
     "execution_count": 158,
     "metadata": {},
     "output_type": "execute_result"
    }
   ],
   "source": [
    "for condicion,values in condicion_meteoroligica.items():\n",
    "  distr_marginal[condicion] = values / total_meteor\n",
    "\n",
    "distr_marginal"
   ]
  },
  {
   "cell_type": "markdown",
   "metadata": {},
   "source": [
    "### Problema 3"
   ]
  },
  {
   "cell_type": "code",
   "execution_count": 159,
   "metadata": {},
   "outputs": [],
   "source": [
    "#James está interesado en la relación entre las condiciones meteorológicas y si el tren del centro de la ciudad va a tiempo. Durante un año, James registra el clima cada día así como si el tren llega a tiempo o con retraso. Aquí se muestran sus resultados:"
   ]
  },
  {
   "cell_type": "code",
   "execution_count": 160,
   "metadata": {},
   "outputs": [
    {
     "data": {
      "text/html": [
       "<div>\n",
       "<style scoped>\n",
       "    .dataframe tbody tr th:only-of-type {\n",
       "        vertical-align: middle;\n",
       "    }\n",
       "\n",
       "    .dataframe tbody tr th {\n",
       "        vertical-align: top;\n",
       "    }\n",
       "\n",
       "    .dataframe thead th {\n",
       "        text-align: right;\n",
       "    }\n",
       "</style>\n",
       "<table border=\"1\" class=\"dataframe\">\n",
       "  <thead>\n",
       "    <tr style=\"text-align: right;\">\n",
       "      <th></th>\n",
       "      <th>On time</th>\n",
       "      <th>Delayed</th>\n",
       "      <th>Total</th>\n",
       "    </tr>\n",
       "  </thead>\n",
       "  <tbody>\n",
       "    <tr>\n",
       "      <th>Sunny</th>\n",
       "      <td>167</td>\n",
       "      <td>3</td>\n",
       "      <td>170</td>\n",
       "    </tr>\n",
       "    <tr>\n",
       "      <th>Cloudy</th>\n",
       "      <td>115</td>\n",
       "      <td>5</td>\n",
       "      <td>120</td>\n",
       "    </tr>\n",
       "    <tr>\n",
       "      <th>Rainy</th>\n",
       "      <td>40</td>\n",
       "      <td>15</td>\n",
       "      <td>55</td>\n",
       "    </tr>\n",
       "    <tr>\n",
       "      <th>Snowing</th>\n",
       "      <td>8</td>\n",
       "      <td>12</td>\n",
       "      <td>20</td>\n",
       "    </tr>\n",
       "    <tr>\n",
       "      <th>Total</th>\n",
       "      <td>330</td>\n",
       "      <td>35</td>\n",
       "      <td>365</td>\n",
       "    </tr>\n",
       "  </tbody>\n",
       "</table>\n",
       "</div>"
      ],
      "text/plain": [
       "         On time  Delayed  Total\n",
       "Sunny        167        3    170\n",
       "Cloudy       115        5    120\n",
       "Rainy         40       15     55\n",
       "Snowing        8       12     20\n",
       "Total        330       35    365"
      ]
     },
     "execution_count": 160,
     "metadata": {},
     "output_type": "execute_result"
    }
   ],
   "source": [
    "# Create the dictionnaire\n",
    "data = {\"On time\": [167, 115,40,8], \"Delayed\": [3,5,15,12]}\n",
    "index = [\"Sunny\", \"Cloudy\", \"Rainy\", \"Snowing\"]\n",
    "\n",
    "# Dictionnaire to dataframe\n",
    "df = pd.DataFrame(data, index=index)\n",
    "\n",
    "# Add column and row with totals\n",
    "df = df.assign(Total = df.sum(axis=1))\n",
    "df.loc[\"Total\"] = df.sum()\n",
    "df\n"
   ]
  },
  {
   "cell_type": "code",
   "execution_count": 161,
   "metadata": {},
   "outputs": [
    {
     "name": "stdout",
     "output_type": "stream",
     "text": [
      "Percentage of trains on time: 0.9041095890410958 \n",
      "Percentage of trains delayed: 0.0958904109589041\n"
     ]
    }
   ],
   "source": [
    "# Encuentra la distribución marginal del tipo de llegada en porcentaje. Redondea al porcentaje entero más cercano.\n",
    "on_tiempo = 330\n",
    "delayed = 35\n",
    "\n",
    "print(\"Percentage of trains on time:\", 330/365, \"\\nPercentage of trains delayed:\", 35/365)"
   ]
  },
  {
   "cell_type": "code",
   "execution_count": 162,
   "metadata": {},
   "outputs": [
    {
     "name": "stdout",
     "output_type": "stream",
     "text": [
      "Noreste \n",
      "Democratas: 0.6363636363636364 \n",
      "Republicanos: 0.3181818181818182 \n",
      "Independientes: 0.045454545454545456\n"
     ]
    }
   ],
   "source": [
    "print(\"Noreste\", \"\\nDemocratas:\", 14/22, \"\\nRepublicanos:\",7/22, \"\\nIndependientes:\",1/22)\n"
   ]
  },
  {
   "cell_type": "code",
   "execution_count": 163,
   "metadata": {},
   "outputs": [
    {
     "name": "stdout",
     "output_type": "stream",
     "text": [
      "Menos de 15 minutos: 0.2708978328173375 \n",
      "Entre 15 y 29 minutos: 0.391124871001032 \n",
      "Entre 30 y 44 minutos: 0.20278637770897834 \n",
      "Entre 45 y 59 minutos: 0.07533539731682147 \n",
      "Más de 60 minutos: 0.05933952528379773\n"
     ]
    }
   ],
   "source": [
    "Total_ida = 526+758+393+146+115\n",
    "print(\"Menos de 15 minutos:\",525/Total_ida,\n",
    "      \"\\nEntre 15 y 29 minutos:\",758/Total_ida,\n",
    "      \"\\nEntre 30 y 44 minutos:\", 393/Total_ida,\n",
    "      \"\\nEntre 45 y 59 minutos:\", 146/Total_ida,\n",
    "      \"\\nMás de 60 minutos:\", 115/Total_ida)\n"
   ]
  },
  {
   "cell_type": "code",
   "execution_count": 164,
   "metadata": {},
   "outputs": [
    {
     "data": {
      "text/html": [
       "<div>\n",
       "<style scoped>\n",
       "    .dataframe tbody tr th:only-of-type {\n",
       "        vertical-align: middle;\n",
       "    }\n",
       "\n",
       "    .dataframe tbody tr th {\n",
       "        vertical-align: top;\n",
       "    }\n",
       "\n",
       "    .dataframe thead th {\n",
       "        text-align: right;\n",
       "    }\n",
       "</style>\n",
       "<table border=\"1\" class=\"dataframe\">\n",
       "  <thead>\n",
       "    <tr style=\"text-align: right;\">\n",
       "      <th></th>\n",
       "      <th>Puntajes</th>\n",
       "    </tr>\n",
       "  </thead>\n",
       "  <tbody>\n",
       "    <tr>\n",
       "      <th>Andrea</th>\n",
       "      <td>90</td>\n",
       "    </tr>\n",
       "    <tr>\n",
       "      <th>Tania</th>\n",
       "      <td>95</td>\n",
       "    </tr>\n",
       "    <tr>\n",
       "      <th>Mayra</th>\n",
       "      <td>100</td>\n",
       "    </tr>\n",
       "    <tr>\n",
       "      <th>Melissa</th>\n",
       "      <td>100</td>\n",
       "    </tr>\n",
       "    <tr>\n",
       "      <th>Liz</th>\n",
       "      <td>80</td>\n",
       "    </tr>\n",
       "  </tbody>\n",
       "</table>\n",
       "</div>"
      ],
      "text/plain": [
       "         Puntajes\n",
       "Andrea         90\n",
       "Tania          95\n",
       "Mayra         100\n",
       "Melissa       100\n",
       "Liz            80"
      ]
     },
     "execution_count": 164,
     "metadata": {},
     "output_type": "execute_result"
    }
   ],
   "source": [
    "data = {\"Puntajes\":[90,95,100,100,80]}\n",
    "index = [\"Andrea\", \"Tania\",\"Mayra\",\"Melissa\", \"Liz\"]\n",
    "\n",
    "df = pd.DataFrame(data, index=index)\n",
    "df"
   ]
  },
  {
   "cell_type": "code",
   "execution_count": 165,
   "metadata": {},
   "outputs": [
    {
     "data": {
      "text/html": [
       "<div>\n",
       "<style scoped>\n",
       "    .dataframe tbody tr th:only-of-type {\n",
       "        vertical-align: middle;\n",
       "    }\n",
       "\n",
       "    .dataframe tbody tr th {\n",
       "        vertical-align: top;\n",
       "    }\n",
       "\n",
       "    .dataframe thead th {\n",
       "        text-align: right;\n",
       "    }\n",
       "</style>\n",
       "<table border=\"1\" class=\"dataframe\">\n",
       "  <thead>\n",
       "    <tr style=\"text-align: right;\">\n",
       "      <th></th>\n",
       "      <th>Puntajes</th>\n",
       "    </tr>\n",
       "  </thead>\n",
       "  <tbody>\n",
       "    <tr>\n",
       "      <th>count</th>\n",
       "      <td>5.0000</td>\n",
       "    </tr>\n",
       "    <tr>\n",
       "      <th>mean</th>\n",
       "      <td>93.0000</td>\n",
       "    </tr>\n",
       "    <tr>\n",
       "      <th>std</th>\n",
       "      <td>8.3666</td>\n",
       "    </tr>\n",
       "    <tr>\n",
       "      <th>min</th>\n",
       "      <td>80.0000</td>\n",
       "    </tr>\n",
       "    <tr>\n",
       "      <th>25%</th>\n",
       "      <td>90.0000</td>\n",
       "    </tr>\n",
       "    <tr>\n",
       "      <th>50%</th>\n",
       "      <td>95.0000</td>\n",
       "    </tr>\n",
       "    <tr>\n",
       "      <th>75%</th>\n",
       "      <td>100.0000</td>\n",
       "    </tr>\n",
       "    <tr>\n",
       "      <th>max</th>\n",
       "      <td>100.0000</td>\n",
       "    </tr>\n",
       "  </tbody>\n",
       "</table>\n",
       "</div>"
      ],
      "text/plain": [
       "       Puntajes\n",
       "count    5.0000\n",
       "mean    93.0000\n",
       "std      8.3666\n",
       "min     80.0000\n",
       "25%     90.0000\n",
       "50%     95.0000\n",
       "75%    100.0000\n",
       "max    100.0000"
      ]
     },
     "execution_count": 165,
     "metadata": {},
     "output_type": "execute_result"
    }
   ],
   "source": [
    "df.describe()"
   ]
  },
  {
   "cell_type": "markdown",
   "metadata": {},
   "source": [
    "# Frequency tables"
   ]
  },
  {
   "cell_type": "markdown",
   "metadata": {},
   "source": [
    "### Problema 1"
   ]
  },
  {
   "cell_type": "code",
   "execution_count": 166,
   "metadata": {},
   "outputs": [],
   "source": [
    "# Tank es un vendedor de automóviles de la concesionaria EH. Los siguientes datos muestran cuántos automóviles vendió en cada uno de los últimos nueve meses.\n",
    "\n",
    "data = [29,30,29,29,31,28,28,31,28]\n",
    "\n",
    "# Usa estos datos para hacer una tabla de frecuencias."
   ]
  },
  {
   "cell_type": "code",
   "execution_count": 167,
   "metadata": {},
   "outputs": [],
   "source": [
    "# Create a pandas series\n",
    "data_series = pd.Series(data)"
   ]
  },
  {
   "cell_type": "code",
   "execution_count": 168,
   "metadata": {},
   "outputs": [
    {
     "name": "stdout",
     "output_type": "stream",
     "text": [
      "28    3\n",
      "29    3\n",
      "30    1\n",
      "31    2\n",
      "dtype: int64\n"
     ]
    }
   ],
   "source": [
    "# Use the value_counts() function to create a frequency table\n",
    "frequency_table = data_series.value_counts().sort_index()\n",
    "print(frequency_table)"
   ]
  },
  {
   "cell_type": "markdown",
   "metadata": {},
   "source": [
    "### Problema 2"
   ]
  },
  {
   "cell_type": "code",
   "execution_count": 169,
   "metadata": {},
   "outputs": [],
   "source": [
    "# Los siguientes datos representan cuántos peces pescó Hugo en cada torneo.\n",
    "\n",
    "data = [27,27,28,28,25,26,27]\n",
    "\n",
    "#Usa esta información para hacer una tabla de frecuencias."
   ]
  },
  {
   "cell_type": "code",
   "execution_count": 170,
   "metadata": {},
   "outputs": [],
   "source": [
    "data_series = pd.Series(data)"
   ]
  },
  {
   "cell_type": "code",
   "execution_count": 171,
   "metadata": {},
   "outputs": [
    {
     "data": {
      "text/plain": [
       "25    1\n",
       "26    1\n",
       "27    3\n",
       "28    2\n",
       "dtype: int64"
      ]
     },
     "execution_count": 171,
     "metadata": {},
     "output_type": "execute_result"
    }
   ],
   "source": [
    "frequency_table = data_series.value_counts().sort_index()\n",
    "frequency_table"
   ]
  },
  {
   "cell_type": "markdown",
   "metadata": {},
   "source": [
    "### Problema 3"
   ]
  },
  {
   "cell_type": "code",
   "execution_count": 172,
   "metadata": {},
   "outputs": [],
   "source": [
    "# Los siguientes datos muestran la cantidad de hijos que tiene cada una de las ocho socias del Club de madres.\n",
    "\n",
    "data = [3,5,4,5,5,3,1,2]\n",
    "\n",
    "# Usa esta información para hacer una tabla de frecuencias."
   ]
  },
  {
   "cell_type": "code",
   "execution_count": 173,
   "metadata": {},
   "outputs": [],
   "source": [
    "data_series = pd.Series(data)"
   ]
  },
  {
   "cell_type": "code",
   "execution_count": 174,
   "metadata": {},
   "outputs": [
    {
     "data": {
      "text/plain": [
       "1    1\n",
       "2    1\n",
       "3    2\n",
       "4    1\n",
       "5    3\n",
       "dtype: int64"
      ]
     },
     "execution_count": 174,
     "metadata": {},
     "output_type": "execute_result"
    }
   ],
   "source": [
    "frequency_table = data_series.value_counts().sort_index()\n",
    "frequency_table"
   ]
  },
  {
   "cell_type": "markdown",
   "metadata": {},
   "source": [
    "### Problema 4"
   ]
  },
  {
   "cell_type": "code",
   "execution_count": 175,
   "metadata": {},
   "outputs": [],
   "source": [
    "# Los siguientes datos representan la cantidad de agujeros que hicieron las polillas en cada uno de los vestidos de la abuela Marion.\n",
    "\n",
    "data = [7,8,8,5,7,8]\n",
    "\n",
    "# Usa esta información para hacer una tabla de frecuencias."
   ]
  },
  {
   "cell_type": "code",
   "execution_count": 176,
   "metadata": {},
   "outputs": [],
   "source": [
    "data_series = pd.Series(data)"
   ]
  },
  {
   "cell_type": "code",
   "execution_count": 177,
   "metadata": {},
   "outputs": [
    {
     "data": {
      "text/plain": [
       "5    1\n",
       "7    2\n",
       "8    3\n",
       "dtype: int64"
      ]
     },
     "execution_count": 177,
     "metadata": {},
     "output_type": "execute_result"
    }
   ],
   "source": [
    "frequency_table = data_series.value_counts().sort_index()\n",
    "frequency_table"
   ]
  },
  {
   "cell_type": "markdown",
   "metadata": {},
   "source": [
    "### Problema 5"
   ]
  },
  {
   "cell_type": "code",
   "execution_count": 178,
   "metadata": {},
   "outputs": [],
   "source": [
    "# Los siguientes puntos representa la cantidad de derrotas que han tenido los Iglús de Minnesota cada temporada.\n",
    "\n",
    "data = [10,9,12,10,11,12,11]\n",
    "\n",
    "# Usando esta información, crea una gráfica de puntos donde cada punto represente una temporada."
   ]
  },
  {
   "cell_type": "code",
   "execution_count": 179,
   "metadata": {},
   "outputs": [],
   "source": [
    "data_series = pd.Series(data)"
   ]
  },
  {
   "cell_type": "code",
   "execution_count": 180,
   "metadata": {},
   "outputs": [
    {
     "data": {
      "text/plain": [
       "9     1\n",
       "10    2\n",
       "11    2\n",
       "12    2\n",
       "dtype: int64"
      ]
     },
     "execution_count": 180,
     "metadata": {},
     "output_type": "execute_result"
    }
   ],
   "source": [
    "frequency_table = data_series.value_counts().sort_index()\n",
    "frequency_table"
   ]
  },
  {
   "cell_type": "markdown",
   "metadata": {},
   "source": [
    "### Problema 6"
   ]
  },
  {
   "cell_type": "code",
   "execution_count": 181,
   "metadata": {},
   "outputs": [
    {
     "data": {
      "text/html": [
       "<div>\n",
       "<style scoped>\n",
       "    .dataframe tbody tr th:only-of-type {\n",
       "        vertical-align: middle;\n",
       "    }\n",
       "\n",
       "    .dataframe tbody tr th {\n",
       "        vertical-align: top;\n",
       "    }\n",
       "\n",
       "    .dataframe thead th {\n",
       "        text-align: right;\n",
       "    }\n",
       "</style>\n",
       "<table border=\"1\" class=\"dataframe\">\n",
       "  <thead>\n",
       "    <tr style=\"text-align: right;\">\n",
       "      <th></th>\n",
       "      <th>Number of children</th>\n",
       "      <th>number of years</th>\n",
       "    </tr>\n",
       "  </thead>\n",
       "  <tbody>\n",
       "    <tr>\n",
       "      <th>0</th>\n",
       "      <td>53</td>\n",
       "      <td>1</td>\n",
       "    </tr>\n",
       "    <tr>\n",
       "      <th>1</th>\n",
       "      <td>54</td>\n",
       "      <td>2</td>\n",
       "    </tr>\n",
       "    <tr>\n",
       "      <th>2</th>\n",
       "      <td>55</td>\n",
       "      <td>1</td>\n",
       "    </tr>\n",
       "    <tr>\n",
       "      <th>3</th>\n",
       "      <td>56</td>\n",
       "      <td>2</td>\n",
       "    </tr>\n",
       "  </tbody>\n",
       "</table>\n",
       "</div>"
      ],
      "text/plain": [
       "  Number of children  number of years\n",
       "0                 53                1\n",
       "1                 54                2\n",
       "2                 55                1\n",
       "3                 56                2"
      ]
     },
     "execution_count": 181,
     "metadata": {},
     "output_type": "execute_result"
    }
   ],
   "source": [
    "# Los siguientes datos representan el número de niños que pidieron dulces en la casa de Cam cada año desde que empezó a poner calabazas en su patio.\n",
    "\n",
    "data = {\"Number of children\": [\"53\", \"54\",\"55\",\"56\"], \"number of years\": [1,2,1,2]}\n",
    "df = pd.DataFrame(data)\n",
    "df\n",
    "\n",
    "# Con esta información, crea una gráfica de puntos donde cada punto represente un año."
   ]
  },
  {
   "cell_type": "code",
   "execution_count": 182,
   "metadata": {},
   "outputs": [
    {
     "data": {
      "image/png": "[encoded data removed]",
      "text/plain": [
       "<Figure size 432x288 with 1 Axes>"
      ]
     },
     "metadata": {
      "needs_background": "light"
     },
     "output_type": "display_data"
    }
   ],
   "source": [
    "plt.bar(df[\"Number of children\"], df[\"number of years\"])\n",
    "plt.ylabel(\"Number of Years\")\n",
    "plt.xlabel(\"Number of Children\")\n",
    "plt.show();"
   ]
  },
  {
   "cell_type": "markdown",
   "metadata": {},
   "source": [
    "### Problema 7"
   ]
  },
  {
   "cell_type": "code",
   "execution_count": 183,
   "metadata": {},
   "outputs": [],
   "source": [
    "# Los siguientes puntos representan la cantidad de tarros de miel que el Oso Sandy consumió cada día esta semana.\n",
    "\n",
    "data = [1,4,2,3,0,3,2]\n",
    "\n",
    "# Usando esta información, crea una gráfica de puntos donde cada punto represente un día."
   ]
  },
  {
   "cell_type": "code",
   "execution_count": 184,
   "metadata": {},
   "outputs": [],
   "source": [
    "data_series = pd.Series(data)"
   ]
  },
  {
   "cell_type": "code",
   "execution_count": 185,
   "metadata": {},
   "outputs": [
    {
     "data": {
      "text/plain": [
       "0    1\n",
       "1    1\n",
       "2    2\n",
       "3    2\n",
       "4    1\n",
       "dtype: int64"
      ]
     },
     "execution_count": 185,
     "metadata": {},
     "output_type": "execute_result"
    }
   ],
   "source": [
    "frequency_table = data_series.value_counts().sort_index()\n",
    "frequency_table"
   ]
  },
  {
   "cell_type": "markdown",
   "metadata": {},
   "source": [
    "### Problema 8"
   ]
  },
  {
   "cell_type": "code",
   "execution_count": 186,
   "metadata": {},
   "outputs": [
    {
     "data": {
      "text/html": [
       "<div>\n",
       "<style scoped>\n",
       "    .dataframe tbody tr th:only-of-type {\n",
       "        vertical-align: middle;\n",
       "    }\n",
       "\n",
       "    .dataframe tbody tr th {\n",
       "        vertical-align: top;\n",
       "    }\n",
       "\n",
       "    .dataframe thead th {\n",
       "        text-align: right;\n",
       "    }\n",
       "</style>\n",
       "<table border=\"1\" class=\"dataframe\">\n",
       "  <thead>\n",
       "    <tr style=\"text-align: right;\">\n",
       "      <th></th>\n",
       "      <th>Número de meses de edad</th>\n",
       "      <th>Número de hijos</th>\n",
       "    </tr>\n",
       "  </thead>\n",
       "  <tbody>\n",
       "    <tr>\n",
       "      <th>0</th>\n",
       "      <td>9</td>\n",
       "      <td>2</td>\n",
       "    </tr>\n",
       "    <tr>\n",
       "      <th>1</th>\n",
       "      <td>10</td>\n",
       "      <td>3</td>\n",
       "    </tr>\n",
       "    <tr>\n",
       "      <th>2</th>\n",
       "      <td>11</td>\n",
       "      <td>2</td>\n",
       "    </tr>\n",
       "    <tr>\n",
       "      <th>3</th>\n",
       "      <td>12</td>\n",
       "      <td>2</td>\n",
       "    </tr>\n",
       "  </tbody>\n",
       "</table>\n",
       "</div>"
      ],
      "text/plain": [
       "   Número de meses de edad  Número de hijos\n",
       "0                        9                2\n",
       "1                       10                3\n",
       "2                       11                2\n",
       "3                       12                2"
      ]
     },
     "execution_count": 186,
     "metadata": {},
     "output_type": "execute_result"
    }
   ],
   "source": [
    "# La siguiente tabla de frecuencias muestra a los cuántos meses caminó cada uno de los nueve hijos de Jimmy.\n",
    "\n",
    "data = {\"Número de meses de edad\": [9,10,11,12], \"Número de hijos\": [2,3,2,2]}\n",
    "df = pd.DataFrame(data)\n",
    "df\n",
    "\n",
    "# Con estos datos, crear una gráfica de puntos donde cada punto represente un hijo."
   ]
  },
  {
   "cell_type": "code",
   "execution_count": 187,
   "metadata": {},
   "outputs": [
    {
     "data": {
      "image/png": "[encoded data removed]",
      "text/plain": [
       "<Figure size 432x288 with 1 Axes>"
      ]
     },
     "metadata": {
      "needs_background": "light"
     },
     "output_type": "display_data"
    }
   ],
   "source": [
    "plt.bar(data[\"Número de meses de edad\"], data[\"Número de hijos\"])\n",
    "plt.show();"
   ]
  },
  {
   "cell_type": "markdown",
   "metadata": {},
   "source": [
    "### Problema 9"
   ]
  },
  {
   "cell_type": "code",
   "execution_count": 188,
   "metadata": {},
   "outputs": [
    {
     "data": {
      "text/html": [
       "<div>\n",
       "<style scoped>\n",
       "    .dataframe tbody tr th:only-of-type {\n",
       "        vertical-align: middle;\n",
       "    }\n",
       "\n",
       "    .dataframe tbody tr th {\n",
       "        vertical-align: top;\n",
       "    }\n",
       "\n",
       "    .dataframe thead th {\n",
       "        text-align: right;\n",
       "    }\n",
       "</style>\n",
       "<table border=\"1\" class=\"dataframe\">\n",
       "  <thead>\n",
       "    <tr style=\"text-align: right;\">\n",
       "      <th></th>\n",
       "      <th>Cantidad de peces</th>\n",
       "      <th>Cantidad de miembros de la familia</th>\n",
       "    </tr>\n",
       "  </thead>\n",
       "  <tbody>\n",
       "    <tr>\n",
       "      <th>0</th>\n",
       "      <td>0</td>\n",
       "      <td>0</td>\n",
       "    </tr>\n",
       "    <tr>\n",
       "      <th>1</th>\n",
       "      <td>1</td>\n",
       "      <td>3</td>\n",
       "    </tr>\n",
       "    <tr>\n",
       "      <th>2</th>\n",
       "      <td>2</td>\n",
       "      <td>1</td>\n",
       "    </tr>\n",
       "    <tr>\n",
       "      <th>3</th>\n",
       "      <td>3</td>\n",
       "      <td>0</td>\n",
       "    </tr>\n",
       "    <tr>\n",
       "      <th>4</th>\n",
       "      <td>4</td>\n",
       "      <td>4</td>\n",
       "    </tr>\n",
       "  </tbody>\n",
       "</table>\n",
       "</div>"
      ],
      "text/plain": [
       "   Cantidad de peces  Cantidad de miembros de la familia\n",
       "0                  0                                   0\n",
       "1                  1                                   3\n",
       "2                  2                                   1\n",
       "3                  3                                   0\n",
       "4                  4                                   4"
      ]
     },
     "execution_count": 188,
     "metadata": {},
     "output_type": "execute_result"
    }
   ],
   "source": [
    "# La siguiente gráfica de puntos muestra la cantidad de peces atrapados por cada uno de los miembros de la familia de Igor.\n",
    "\n",
    "data = {\"Cantidad de peces\": [0,1,2,3,4], \"Cantidad de miembros de la familia\": [0,3,1,0,4]}\n",
    "df = pd.DataFrame(data)\n",
    "df\n",
    "\n",
    "# ¿Cuál fue el número máximo de peces que un miembro de la familia atrapó?"
   ]
  },
  {
   "cell_type": "markdown",
   "metadata": {},
   "source": [
    "# Histograms"
   ]
  },
  {
   "cell_type": "markdown",
   "metadata": {},
   "source": [
    "### Problema 1"
   ]
  },
  {
   "cell_type": "code",
   "execution_count": 189,
   "metadata": {},
   "outputs": [],
   "source": [
    "# Los siguientes datos representan las calificaciones del examen final de cada estudiante en el primer periodo de clases de Salma.\n",
    "\n",
    "data = [69,93,72,83,57,84,69,92]\n",
    "\n",
    "# Utiliza esta información para crear un histograma."
   ]
  },
  {
   "cell_type": "code",
   "execution_count": 190,
   "metadata": {},
   "outputs": [
    {
     "data": {
      "text/html": [
       "<div>\n",
       "<style scoped>\n",
       "    .dataframe tbody tr th:only-of-type {\n",
       "        vertical-align: middle;\n",
       "    }\n",
       "\n",
       "    .dataframe tbody tr th {\n",
       "        vertical-align: top;\n",
       "    }\n",
       "\n",
       "    .dataframe thead th {\n",
       "        text-align: right;\n",
       "    }\n",
       "</style>\n",
       "<table border=\"1\" class=\"dataframe\">\n",
       "  <thead>\n",
       "    <tr style=\"text-align: right;\">\n",
       "      <th></th>\n",
       "      <th>0</th>\n",
       "    </tr>\n",
       "  </thead>\n",
       "  <tbody>\n",
       "    <tr>\n",
       "      <th>0</th>\n",
       "      <td>69</td>\n",
       "    </tr>\n",
       "    <tr>\n",
       "      <th>1</th>\n",
       "      <td>93</td>\n",
       "    </tr>\n",
       "    <tr>\n",
       "      <th>2</th>\n",
       "      <td>72</td>\n",
       "    </tr>\n",
       "    <tr>\n",
       "      <th>3</th>\n",
       "      <td>83</td>\n",
       "    </tr>\n",
       "    <tr>\n",
       "      <th>4</th>\n",
       "      <td>57</td>\n",
       "    </tr>\n",
       "    <tr>\n",
       "      <th>5</th>\n",
       "      <td>84</td>\n",
       "    </tr>\n",
       "    <tr>\n",
       "      <th>6</th>\n",
       "      <td>69</td>\n",
       "    </tr>\n",
       "    <tr>\n",
       "      <th>7</th>\n",
       "      <td>92</td>\n",
       "    </tr>\n",
       "  </tbody>\n",
       "</table>\n",
       "</div>"
      ],
      "text/plain": [
       "    0\n",
       "0  69\n",
       "1  93\n",
       "2  72\n",
       "3  83\n",
       "4  57\n",
       "5  84\n",
       "6  69\n",
       "7  92"
      ]
     },
     "execution_count": 190,
     "metadata": {},
     "output_type": "execute_result"
    }
   ],
   "source": [
    "df = pd.DataFrame(data)\n",
    "df"
   ]
  },
  {
   "cell_type": "code",
   "execution_count": 191,
   "metadata": {},
   "outputs": [
    {
     "data": {
      "text/html": [
       "<div>\n",
       "<style scoped>\n",
       "    .dataframe tbody tr th:only-of-type {\n",
       "        vertical-align: middle;\n",
       "    }\n",
       "\n",
       "    .dataframe tbody tr th {\n",
       "        vertical-align: top;\n",
       "    }\n",
       "\n",
       "    .dataframe thead th {\n",
       "        text-align: right;\n",
       "    }\n",
       "</style>\n",
       "<table border=\"1\" class=\"dataframe\">\n",
       "  <thead>\n",
       "    <tr style=\"text-align: right;\">\n",
       "      <th></th>\n",
       "      <th>0</th>\n",
       "    </tr>\n",
       "  </thead>\n",
       "  <tbody>\n",
       "    <tr>\n",
       "      <th>4</th>\n",
       "      <td>57</td>\n",
       "    </tr>\n",
       "    <tr>\n",
       "      <th>0</th>\n",
       "      <td>69</td>\n",
       "    </tr>\n",
       "    <tr>\n",
       "      <th>6</th>\n",
       "      <td>69</td>\n",
       "    </tr>\n",
       "    <tr>\n",
       "      <th>2</th>\n",
       "      <td>72</td>\n",
       "    </tr>\n",
       "    <tr>\n",
       "      <th>3</th>\n",
       "      <td>83</td>\n",
       "    </tr>\n",
       "    <tr>\n",
       "      <th>5</th>\n",
       "      <td>84</td>\n",
       "    </tr>\n",
       "    <tr>\n",
       "      <th>7</th>\n",
       "      <td>92</td>\n",
       "    </tr>\n",
       "    <tr>\n",
       "      <th>1</th>\n",
       "      <td>93</td>\n",
       "    </tr>\n",
       "  </tbody>\n",
       "</table>\n",
       "</div>"
      ],
      "text/plain": [
       "    0\n",
       "4  57\n",
       "0  69\n",
       "6  69\n",
       "2  72\n",
       "3  83\n",
       "5  84\n",
       "7  92\n",
       "1  93"
      ]
     },
     "execution_count": 191,
     "metadata": {},
     "output_type": "execute_result"
    }
   ],
   "source": [
    "df.sort_values(by= 0, ascending=True)"
   ]
  },
  {
   "cell_type": "code",
   "execution_count": 192,
   "metadata": {},
   "outputs": [
    {
     "data": {
      "image/png": "[encoded data removed]",
      "text/plain": [
       "<Figure size 432x288 with 1 Axes>"
      ]
     },
     "metadata": {
      "needs_background": "light"
     },
     "output_type": "display_data"
    }
   ],
   "source": [
    "plt.hist(data, bins=4, edgecolor='black')\n",
    "plt.xlabel(\"Calificación\")\n",
    "plt.ylabel(\"Frequency\")\n",
    "plt.show();"
   ]
  },
  {
   "cell_type": "markdown",
   "metadata": {},
   "source": [
    "### Problema 2"
   ]
  },
  {
   "cell_type": "code",
   "execution_count": 193,
   "metadata": {},
   "outputs": [],
   "source": [
    "# Pasty el pavo real vende plumas extravagantes. A continuación se muestra el número de plumas vendidas cada uno de los últimos ocho meses.\n",
    "\n",
    "data = [19,13,8,4,7,14,7,9]\n",
    "\n",
    "# Crea un histograma con estos datos."
   ]
  },
  {
   "cell_type": "code",
   "execution_count": 194,
   "metadata": {},
   "outputs": [
    {
     "data": {
      "text/html": [
       "<div>\n",
       "<style scoped>\n",
       "    .dataframe tbody tr th:only-of-type {\n",
       "        vertical-align: middle;\n",
       "    }\n",
       "\n",
       "    .dataframe tbody tr th {\n",
       "        vertical-align: top;\n",
       "    }\n",
       "\n",
       "    .dataframe thead th {\n",
       "        text-align: right;\n",
       "    }\n",
       "</style>\n",
       "<table border=\"1\" class=\"dataframe\">\n",
       "  <thead>\n",
       "    <tr style=\"text-align: right;\">\n",
       "      <th></th>\n",
       "      <th>0</th>\n",
       "    </tr>\n",
       "  </thead>\n",
       "  <tbody>\n",
       "    <tr>\n",
       "      <th>3</th>\n",
       "      <td>4</td>\n",
       "    </tr>\n",
       "    <tr>\n",
       "      <th>4</th>\n",
       "      <td>7</td>\n",
       "    </tr>\n",
       "    <tr>\n",
       "      <th>6</th>\n",
       "      <td>7</td>\n",
       "    </tr>\n",
       "    <tr>\n",
       "      <th>2</th>\n",
       "      <td>8</td>\n",
       "    </tr>\n",
       "    <tr>\n",
       "      <th>7</th>\n",
       "      <td>9</td>\n",
       "    </tr>\n",
       "    <tr>\n",
       "      <th>1</th>\n",
       "      <td>13</td>\n",
       "    </tr>\n",
       "    <tr>\n",
       "      <th>5</th>\n",
       "      <td>14</td>\n",
       "    </tr>\n",
       "    <tr>\n",
       "      <th>0</th>\n",
       "      <td>19</td>\n",
       "    </tr>\n",
       "  </tbody>\n",
       "</table>\n",
       "</div>"
      ],
      "text/plain": [
       "    0\n",
       "3   4\n",
       "4   7\n",
       "6   7\n",
       "2   8\n",
       "7   9\n",
       "1  13\n",
       "5  14\n",
       "0  19"
      ]
     },
     "execution_count": 194,
     "metadata": {},
     "output_type": "execute_result"
    }
   ],
   "source": [
    "df = pd.DataFrame(data)\n",
    "df.sort_values(by=0, ascending=True)\n"
   ]
  },
  {
   "cell_type": "code",
   "execution_count": 195,
   "metadata": {},
   "outputs": [
    {
     "data": {
      "image/png": "[encoded data removed]",
      "text/plain": [
       "<Figure size 432x288 with 1 Axes>"
      ]
     },
     "metadata": {
      "needs_background": "light"
     },
     "output_type": "display_data"
    }
   ],
   "source": [
    "plt.hist(data, bins=4, edgecolor= 'black')\n",
    "plt.show();"
   ]
  },
  {
   "cell_type": "markdown",
   "metadata": {},
   "source": [
    "### Problema 3"
   ]
  },
  {
   "cell_type": "code",
   "execution_count": 196,
   "metadata": {},
   "outputs": [],
   "source": [
    "# Los siguientes datos representan el peso total que perdió (en kilogramos) cada miembro del Final Fitness Team de Omar.\n",
    "\n",
    "data = [61,90,31,35,69,37,78]\n",
    "\n",
    "# Utiliza esta información para crear un histograma."
   ]
  },
  {
   "cell_type": "code",
   "execution_count": 197,
   "metadata": {},
   "outputs": [
    {
     "data": {
      "text/html": [
       "<div>\n",
       "<style scoped>\n",
       "    .dataframe tbody tr th:only-of-type {\n",
       "        vertical-align: middle;\n",
       "    }\n",
       "\n",
       "    .dataframe tbody tr th {\n",
       "        vertical-align: top;\n",
       "    }\n",
       "\n",
       "    .dataframe thead th {\n",
       "        text-align: right;\n",
       "    }\n",
       "</style>\n",
       "<table border=\"1\" class=\"dataframe\">\n",
       "  <thead>\n",
       "    <tr style=\"text-align: right;\">\n",
       "      <th></th>\n",
       "      <th>0</th>\n",
       "    </tr>\n",
       "  </thead>\n",
       "  <tbody>\n",
       "    <tr>\n",
       "      <th>2</th>\n",
       "      <td>31</td>\n",
       "    </tr>\n",
       "    <tr>\n",
       "      <th>3</th>\n",
       "      <td>35</td>\n",
       "    </tr>\n",
       "    <tr>\n",
       "      <th>5</th>\n",
       "      <td>37</td>\n",
       "    </tr>\n",
       "    <tr>\n",
       "      <th>0</th>\n",
       "      <td>61</td>\n",
       "    </tr>\n",
       "    <tr>\n",
       "      <th>4</th>\n",
       "      <td>69</td>\n",
       "    </tr>\n",
       "    <tr>\n",
       "      <th>6</th>\n",
       "      <td>78</td>\n",
       "    </tr>\n",
       "    <tr>\n",
       "      <th>1</th>\n",
       "      <td>90</td>\n",
       "    </tr>\n",
       "  </tbody>\n",
       "</table>\n",
       "</div>"
      ],
      "text/plain": [
       "    0\n",
       "2  31\n",
       "3  35\n",
       "5  37\n",
       "0  61\n",
       "4  69\n",
       "6  78\n",
       "1  90"
      ]
     },
     "execution_count": 197,
     "metadata": {},
     "output_type": "execute_result"
    }
   ],
   "source": [
    "df  = pd.DataFrame(data)\n",
    "df.sort_values(by=0, ascending=True)\n"
   ]
  },
  {
   "cell_type": "markdown",
   "metadata": {},
   "source": [
    "### Problema 4"
   ]
  },
  {
   "cell_type": "code",
   "execution_count": 198,
   "metadata": {},
   "outputs": [],
   "source": [
    "# A continuación se muestra cuántos unicornios salvajes viven en cada uno de los seis bosques encantados en la Isla Mística.\n",
    "\n",
    "data = [12,3,7, 9,18,14]\n",
    "\n",
    "#Crea un histograma con estos datos."
   ]
  },
  {
   "cell_type": "code",
   "execution_count": 199,
   "metadata": {},
   "outputs": [
    {
     "data": {
      "text/html": [
       "<div>\n",
       "<style scoped>\n",
       "    .dataframe tbody tr th:only-of-type {\n",
       "        vertical-align: middle;\n",
       "    }\n",
       "\n",
       "    .dataframe tbody tr th {\n",
       "        vertical-align: top;\n",
       "    }\n",
       "\n",
       "    .dataframe thead th {\n",
       "        text-align: right;\n",
       "    }\n",
       "</style>\n",
       "<table border=\"1\" class=\"dataframe\">\n",
       "  <thead>\n",
       "    <tr style=\"text-align: right;\">\n",
       "      <th></th>\n",
       "      <th>0</th>\n",
       "    </tr>\n",
       "  </thead>\n",
       "  <tbody>\n",
       "    <tr>\n",
       "      <th>1</th>\n",
       "      <td>3</td>\n",
       "    </tr>\n",
       "    <tr>\n",
       "      <th>2</th>\n",
       "      <td>7</td>\n",
       "    </tr>\n",
       "    <tr>\n",
       "      <th>3</th>\n",
       "      <td>9</td>\n",
       "    </tr>\n",
       "    <tr>\n",
       "      <th>0</th>\n",
       "      <td>12</td>\n",
       "    </tr>\n",
       "    <tr>\n",
       "      <th>5</th>\n",
       "      <td>14</td>\n",
       "    </tr>\n",
       "    <tr>\n",
       "      <th>4</th>\n",
       "      <td>18</td>\n",
       "    </tr>\n",
       "  </tbody>\n",
       "</table>\n",
       "</div>"
      ],
      "text/plain": [
       "    0\n",
       "1   3\n",
       "2   7\n",
       "3   9\n",
       "0  12\n",
       "5  14\n",
       "4  18"
      ]
     },
     "execution_count": 199,
     "metadata": {},
     "output_type": "execute_result"
    }
   ],
   "source": [
    "df = pd.DataFrame(data)  \n",
    "df.sort_values(by=0, ascending=True)"
   ]
  },
  {
   "cell_type": "markdown",
   "metadata": {},
   "source": [
    "# Diagrama de tallo y hoja"
   ]
  },
  {
   "cell_type": "markdown",
   "metadata": {},
   "source": [
    "## Distribuciones"
   ]
  },
  {
   "cell_type": "code",
   "execution_count": 200,
   "metadata": {},
   "outputs": [],
   "source": [
    "ronda_semifinal = [52,52.7,53.3,53.3,53,53.7,53.5,53.5,53.5]\n",
    "ronda_final = [52.3,52.3,52.8,53.1,53.2,53.3,53.5,53.8]"
   ]
  },
  {
   "cell_type": "code",
   "execution_count": 201,
   "metadata": {},
   "outputs": [
    {
     "data": {
      "image/png": "[encoded data removed]",
      "text/plain": [
       "<Figure size 432x288 with 1 Axes>"
      ]
     },
     "metadata": {
      "needs_background": "light"
     },
     "output_type": "display_data"
    }
   ],
   "source": [
    "plt.hist(ronda_semifinal)\n",
    "plt.title(\"Ronda Semifinal\")\n",
    "plt.show();"
   ]
  },
  {
   "cell_type": "code",
   "execution_count": 202,
   "metadata": {},
   "outputs": [],
   "source": [
    "ronda_semifinal_df = pd.DataFrame(ronda_semifinal)"
   ]
  },
  {
   "cell_type": "code",
   "execution_count": 203,
   "metadata": {},
   "outputs": [
    {
     "data": {
      "text/html": [
       "<div>\n",
       "<style scoped>\n",
       "    .dataframe tbody tr th:only-of-type {\n",
       "        vertical-align: middle;\n",
       "    }\n",
       "\n",
       "    .dataframe tbody tr th {\n",
       "        vertical-align: top;\n",
       "    }\n",
       "\n",
       "    .dataframe thead th {\n",
       "        text-align: right;\n",
       "    }\n",
       "</style>\n",
       "<table border=\"1\" class=\"dataframe\">\n",
       "  <thead>\n",
       "    <tr style=\"text-align: right;\">\n",
       "      <th></th>\n",
       "      <th>0</th>\n",
       "    </tr>\n",
       "  </thead>\n",
       "  <tbody>\n",
       "    <tr>\n",
       "      <th>count</th>\n",
       "      <td>9.000000</td>\n",
       "    </tr>\n",
       "    <tr>\n",
       "      <th>mean</th>\n",
       "      <td>53.166667</td>\n",
       "    </tr>\n",
       "    <tr>\n",
       "      <th>std</th>\n",
       "      <td>0.531507</td>\n",
       "    </tr>\n",
       "    <tr>\n",
       "      <th>min</th>\n",
       "      <td>52.000000</td>\n",
       "    </tr>\n",
       "    <tr>\n",
       "      <th>25%</th>\n",
       "      <td>53.000000</td>\n",
       "    </tr>\n",
       "    <tr>\n",
       "      <th>50%</th>\n",
       "      <td>53.300000</td>\n",
       "    </tr>\n",
       "    <tr>\n",
       "      <th>75%</th>\n",
       "      <td>53.500000</td>\n",
       "    </tr>\n",
       "    <tr>\n",
       "      <th>max</th>\n",
       "      <td>53.700000</td>\n",
       "    </tr>\n",
       "  </tbody>\n",
       "</table>\n",
       "</div>"
      ],
      "text/plain": [
       "               0\n",
       "count   9.000000\n",
       "mean   53.166667\n",
       "std     0.531507\n",
       "min    52.000000\n",
       "25%    53.000000\n",
       "50%    53.300000\n",
       "75%    53.500000\n",
       "max    53.700000"
      ]
     },
     "execution_count": 203,
     "metadata": {},
     "output_type": "execute_result"
    }
   ],
   "source": [
    "ronda_semifinal_df.describe()"
   ]
  },
  {
   "cell_type": "code",
   "execution_count": 204,
   "metadata": {},
   "outputs": [
    {
     "data": {
      "image/png": "[encoded data removed]",
      "text/plain": [
       "<Figure size 432x288 with 1 Axes>"
      ]
     },
     "metadata": {
      "needs_background": "light"
     },
     "output_type": "display_data"
    }
   ],
   "source": [
    "plt.hist(ronda_final)\n",
    "plt.title(\"Ronda final\")\n",
    "plt.show();"
   ]
  },
  {
   "cell_type": "code",
   "execution_count": 205,
   "metadata": {},
   "outputs": [
    {
     "data": {
      "text/html": [
       "<div>\n",
       "<style scoped>\n",
       "    .dataframe tbody tr th:only-of-type {\n",
       "        vertical-align: middle;\n",
       "    }\n",
       "\n",
       "    .dataframe tbody tr th {\n",
       "        vertical-align: top;\n",
       "    }\n",
       "\n",
       "    .dataframe thead th {\n",
       "        text-align: right;\n",
       "    }\n",
       "</style>\n",
       "<table border=\"1\" class=\"dataframe\">\n",
       "  <thead>\n",
       "    <tr style=\"text-align: right;\">\n",
       "      <th></th>\n",
       "      <th>0</th>\n",
       "    </tr>\n",
       "  </thead>\n",
       "  <tbody>\n",
       "    <tr>\n",
       "      <th>0</th>\n",
       "      <td>52.3</td>\n",
       "    </tr>\n",
       "    <tr>\n",
       "      <th>1</th>\n",
       "      <td>52.3</td>\n",
       "    </tr>\n",
       "    <tr>\n",
       "      <th>2</th>\n",
       "      <td>52.8</td>\n",
       "    </tr>\n",
       "    <tr>\n",
       "      <th>3</th>\n",
       "      <td>53.1</td>\n",
       "    </tr>\n",
       "    <tr>\n",
       "      <th>4</th>\n",
       "      <td>53.2</td>\n",
       "    </tr>\n",
       "    <tr>\n",
       "      <th>5</th>\n",
       "      <td>53.3</td>\n",
       "    </tr>\n",
       "    <tr>\n",
       "      <th>6</th>\n",
       "      <td>53.5</td>\n",
       "    </tr>\n",
       "    <tr>\n",
       "      <th>7</th>\n",
       "      <td>53.8</td>\n",
       "    </tr>\n",
       "  </tbody>\n",
       "</table>\n",
       "</div>"
      ],
      "text/plain": [
       "      0\n",
       "0  52.3\n",
       "1  52.3\n",
       "2  52.8\n",
       "3  53.1\n",
       "4  53.2\n",
       "5  53.3\n",
       "6  53.5\n",
       "7  53.8"
      ]
     },
     "execution_count": 205,
     "metadata": {},
     "output_type": "execute_result"
    }
   ],
   "source": [
    "ronda_final_df = pd.DataFrame(ronda_final)\n",
    "ronda_final_df"
   ]
  },
  {
   "cell_type": "code",
   "execution_count": 206,
   "metadata": {},
   "outputs": [
    {
     "data": {
      "text/html": [
       "<div>\n",
       "<style scoped>\n",
       "    .dataframe tbody tr th:only-of-type {\n",
       "        vertical-align: middle;\n",
       "    }\n",
       "\n",
       "    .dataframe tbody tr th {\n",
       "        vertical-align: top;\n",
       "    }\n",
       "\n",
       "    .dataframe thead th {\n",
       "        text-align: right;\n",
       "    }\n",
       "</style>\n",
       "<table border=\"1\" class=\"dataframe\">\n",
       "  <thead>\n",
       "    <tr style=\"text-align: right;\">\n",
       "      <th></th>\n",
       "      <th>0</th>\n",
       "    </tr>\n",
       "  </thead>\n",
       "  <tbody>\n",
       "    <tr>\n",
       "      <th>count</th>\n",
       "      <td>8.000000</td>\n",
       "    </tr>\n",
       "    <tr>\n",
       "      <th>mean</th>\n",
       "      <td>53.037500</td>\n",
       "    </tr>\n",
       "    <tr>\n",
       "      <th>std</th>\n",
       "      <td>0.539676</td>\n",
       "    </tr>\n",
       "    <tr>\n",
       "      <th>min</th>\n",
       "      <td>52.300000</td>\n",
       "    </tr>\n",
       "    <tr>\n",
       "      <th>25%</th>\n",
       "      <td>52.675000</td>\n",
       "    </tr>\n",
       "    <tr>\n",
       "      <th>50%</th>\n",
       "      <td>53.150000</td>\n",
       "    </tr>\n",
       "    <tr>\n",
       "      <th>75%</th>\n",
       "      <td>53.350000</td>\n",
       "    </tr>\n",
       "    <tr>\n",
       "      <th>max</th>\n",
       "      <td>53.800000</td>\n",
       "    </tr>\n",
       "  </tbody>\n",
       "</table>\n",
       "</div>"
      ],
      "text/plain": [
       "               0\n",
       "count   8.000000\n",
       "mean   53.037500\n",
       "std     0.539676\n",
       "min    52.300000\n",
       "25%    52.675000\n",
       "50%    53.150000\n",
       "75%    53.350000\n",
       "max    53.800000"
      ]
     },
     "execution_count": 206,
     "metadata": {},
     "output_type": "execute_result"
    }
   ],
   "source": [
    "ronda_final_df.describe()"
   ]
  },
  {
   "cell_type": "markdown",
   "metadata": {},
   "source": [
    "## Prueba de Unidad 2: Estadística y Probabilidad"
   ]
  },
  {
   "cell_type": "markdown",
   "metadata": {},
   "source": [
    "### Problema 1"
   ]
  },
  {
   "cell_type": "code",
   "execution_count": 207,
   "metadata": {},
   "outputs": [],
   "source": [
    "# La siguiente información muestra la edad que tenía cada uno de los ocho hijos de Brad cuando comenzaron el jardín.\n",
    "\n",
    "  ## Raw data\n",
    "data = [4,4,5,4,5,4,3,4]\n",
    "\n",
    "  ## Raw data to series\n",
    "data_series = pd.Series(data)\n",
    "\n",
    "\n",
    "# Usa esta información para hacer una tabla de frecuencias."
   ]
  },
  {
   "cell_type": "code",
   "execution_count": 208,
   "metadata": {},
   "outputs": [
    {
     "data": {
      "text/plain": [
       "3    1\n",
       "4    5\n",
       "5    2\n",
       "dtype: int64"
      ]
     },
     "execution_count": 208,
     "metadata": {},
     "output_type": "execute_result"
    }
   ],
   "source": [
    "frequency_table = data_series.value_counts().sort_index()\n",
    "frequency_table"
   ]
  },
  {
   "cell_type": "markdown",
   "metadata": {},
   "source": [
    "### Problema 2"
   ]
  },
  {
   "cell_type": "code",
   "execution_count": 209,
   "metadata": {},
   "outputs": [],
   "source": [
    "# Un guardián de zoológico publicó el siguiente diagrama de tallo y hojas que muestra el número de lagartos en cada zoológico principal en el país:\n",
    "\n",
    "data = [0,10,20,26,28,28,28,30,32,36,36,37,38,41,42,46,46,50,60]\n",
    "\n",
    "# ¿Cuál fue el menor número de lagartos en cualquier zoológico?"
   ]
  },
  {
   "cell_type": "code",
   "execution_count": 210,
   "metadata": {},
   "outputs": [
    {
     "data": {
      "text/html": [
       "<div>\n",
       "<style scoped>\n",
       "    .dataframe tbody tr th:only-of-type {\n",
       "        vertical-align: middle;\n",
       "    }\n",
       "\n",
       "    .dataframe tbody tr th {\n",
       "        vertical-align: top;\n",
       "    }\n",
       "\n",
       "    .dataframe thead th {\n",
       "        text-align: right;\n",
       "    }\n",
       "</style>\n",
       "<table border=\"1\" class=\"dataframe\">\n",
       "  <thead>\n",
       "    <tr style=\"text-align: right;\">\n",
       "      <th></th>\n",
       "      <th>Number of aligators</th>\n",
       "    </tr>\n",
       "  </thead>\n",
       "  <tbody>\n",
       "    <tr>\n",
       "      <th>count</th>\n",
       "      <td>19.000000</td>\n",
       "    </tr>\n",
       "    <tr>\n",
       "      <th>mean</th>\n",
       "      <td>33.368421</td>\n",
       "    </tr>\n",
       "    <tr>\n",
       "      <th>std</th>\n",
       "      <td>13.901281</td>\n",
       "    </tr>\n",
       "    <tr>\n",
       "      <th>min</th>\n",
       "      <td>0.000000</td>\n",
       "    </tr>\n",
       "    <tr>\n",
       "      <th>25%</th>\n",
       "      <td>28.000000</td>\n",
       "    </tr>\n",
       "    <tr>\n",
       "      <th>50%</th>\n",
       "      <td>36.000000</td>\n",
       "    </tr>\n",
       "    <tr>\n",
       "      <th>75%</th>\n",
       "      <td>41.500000</td>\n",
       "    </tr>\n",
       "    <tr>\n",
       "      <th>max</th>\n",
       "      <td>60.000000</td>\n",
       "    </tr>\n",
       "  </tbody>\n",
       "</table>\n",
       "</div>"
      ],
      "text/plain": [
       "       Number of aligators\n",
       "count            19.000000\n",
       "mean             33.368421\n",
       "std              13.901281\n",
       "min               0.000000\n",
       "25%              28.000000\n",
       "50%              36.000000\n",
       "75%              41.500000\n",
       "max              60.000000"
      ]
     },
     "execution_count": 210,
     "metadata": {},
     "output_type": "execute_result"
    }
   ],
   "source": [
    "df = pd.DataFrame(data, columns=[\"Number of aligators\"])\n",
    "df.describe()"
   ]
  },
  {
   "cell_type": "code",
   "execution_count": 211,
   "metadata": {},
   "outputs": [],
   "source": [
    "#Answer: 0 aligators"
   ]
  },
  {
   "cell_type": "markdown",
   "metadata": {},
   "source": [
    "### Problema 3"
   ]
  },
  {
   "cell_type": "code",
   "execution_count": 212,
   "metadata": {},
   "outputs": [],
   "source": [
    "# En los Juegos Olímpicos, muchos eventos tienen varias rondas de competencia. Uno de estos eventos son los 100 de dorso masculino.La gráfica de puntos superior muestra los tiempos (en segundos) de los  8 primeros finalistas en la ronda final de los Olímpicos de 2012. La gráfica de puntos inferior muestra los tiempos de los mismos 8 nadadores, pero en la ronda semifinal.\n",
    "\n",
    "ronda_final = [56,56.6,56.6,57,57.1,57.2,57.7,57.9]\n",
    "ronda_semifinal = [56.7,57.2,57.3,57.3,57.4,57.5,57.7,57.8]\n",
    "scale = [56, 56.1, 56.2, 56.3, 56.4, 56.5, 56.6, 56.7, 56.8, 56.9, 57, 57.1, 57.2, 57.3, 57.4, 57.5, 57.6, 57.7, 57.8, 57.9, 58]\n",
    "\n",
    "# ¿Qué información se puede recolectar a partir de estas gráficas de puntos? (Recuerda que los tiempos de nado más bajos son más rápidos)."
   ]
  },
  {
   "cell_type": "code",
   "execution_count": 213,
   "metadata": {},
   "outputs": [
    {
     "data": {
      "text/plain": [
       "array([56. , 56.1, 56.2, 56.3, 56.4, 56.5, 56.6, 56.7, 56.8, 56.9, 57. ,\n",
       "       57.1, 57.2, 57.3, 57.4, 57.5, 57.6, 57.7, 57.8, 57.9, 58. ])"
      ]
     },
     "execution_count": 213,
     "metadata": {},
     "output_type": "execute_result"
    }
   ],
   "source": [
    "np.arange(56, 58.01, 0.1)"
   ]
  },
  {
   "cell_type": "code",
   "execution_count": 214,
   "metadata": {},
   "outputs": [
    {
     "data": {
      "image/png": "[encoded data removed]",
      "text/plain": [
       "<Figure size 720x432 with 1 Axes>"
      ]
     },
     "metadata": {
      "needs_background": "light"
     },
     "output_type": "display_data"
    },
    {
     "data": {
      "image/png": "[encoded data removed]",
      "text/plain": [
       "<Figure size 720x432 with 1 Axes>"
      ]
     },
     "metadata": {
      "needs_background": "light"
     },
     "output_type": "display_data"
    }
   ],
   "source": [
    "# Histograms\n",
    "\n",
    "# Final round\n",
    "plt.figure(figsize=(10,6))\n",
    "plt.hist(ronda_final)\n",
    "plt.title(\"Ronda final\")\n",
    "plt.xticks(scale)\n",
    "plt.show();\n",
    "\n",
    "# semifinal round\n",
    "plt.figure(figsize=(10,6))\n",
    "plt.hist(ronda_semifinal)\n",
    "plt.title(\"Ronda semifinal\")\n",
    "plt.xticks(scale)\n",
    "plt.show();"
   ]
  },
  {
   "cell_type": "code",
   "execution_count": 215,
   "metadata": {},
   "outputs": [],
   "source": [
    "ronda_final_df = pd.DataFrame(ronda_final, columns=[\"Time\"])\n",
    "ronda_semifinal_df = pd.DataFrame(ronda_semifinal, columns=[\"Time\"])"
   ]
  },
  {
   "cell_type": "code",
   "execution_count": 216,
   "metadata": {},
   "outputs": [
    {
     "name": "stdout",
     "output_type": "stream",
     "text": [
      "       Time\n",
      "count   8.0\n",
      "mean   57.0\n",
      "std     0.6\n",
      "min    56.0\n",
      "25%    56.6\n",
      "50%    57.0\n",
      "75%    57.3\n",
      "max    57.9\n"
     ]
    }
   ],
   "source": [
    "print(round(ronda_final_df.describe(),1))"
   ]
  },
  {
   "cell_type": "code",
   "execution_count": 217,
   "metadata": {},
   "outputs": [
    {
     "name": "stdout",
     "output_type": "stream",
     "text": [
      "       Time\n",
      "count   8.0\n",
      "mean   57.4\n",
      "std     0.3\n",
      "min    56.7\n",
      "25%    57.3\n",
      "50%    57.4\n",
      "75%    57.6\n",
      "max    57.8\n"
     ]
    }
   ],
   "source": [
    "print(round(ronda_semifinal_df.describe(),1))"
   ]
  },
  {
   "cell_type": "markdown",
   "metadata": {},
   "source": [
    "### Problema 4"
   ]
  },
  {
   "cell_type": "code",
   "execution_count": 218,
   "metadata": {},
   "outputs": [],
   "source": [
    "# Los siguientes datos representan la duración de cada canción que el gallo Roy canta cada mañana desde que cambió de granero.\n",
    "\n",
    "data = [2.2, 5.1, 5.7, 8.2, 2.2, 7.4, 4.3, 5.6]\n",
    "scale = [0,3,6,9]\n",
    "\n",
    "# Utiliza esta información para crear un histograma."
   ]
  },
  {
   "cell_type": "code",
   "execution_count": 219,
   "metadata": {},
   "outputs": [
    {
     "data": {
      "image/png": "[encoded data removed]",
      "text/plain": [
       "<Figure size 576x432 with 1 Axes>"
      ]
     },
     "metadata": {
      "needs_background": "light"
     },
     "output_type": "display_data"
    }
   ],
   "source": [
    "# Histogram\n",
    "\n",
    "plt.figure(figsize = (8,6))\n",
    "plt.hist(data)\n",
    "plt.xticks(scale)\n",
    "plt.show();"
   ]
  },
  {
   "cell_type": "code",
   "execution_count": 220,
   "metadata": {},
   "outputs": [
    {
     "data": {
      "text/plain": [
       "[2.2, 2.2, 4.3, 5.1, 5.6, 5.7, 7.4, 8.2]"
      ]
     },
     "execution_count": 220,
     "metadata": {},
     "output_type": "execute_result"
    }
   ],
   "source": [
    "data.sort(reverse=False)\n",
    "data"
   ]
  },
  {
   "cell_type": "markdown",
   "metadata": {},
   "source": [
    "### Problema 4"
   ]
  },
  {
   "cell_type": "code",
   "execution_count": 221,
   "metadata": {},
   "outputs": [
    {
     "data": {
      "text/html": [
       "<div>\n",
       "<style scoped>\n",
       "    .dataframe tbody tr th:only-of-type {\n",
       "        vertical-align: middle;\n",
       "    }\n",
       "\n",
       "    .dataframe tbody tr th {\n",
       "        vertical-align: top;\n",
       "    }\n",
       "\n",
       "    .dataframe thead th {\n",
       "        text-align: right;\n",
       "    }\n",
       "</style>\n",
       "<table border=\"1\" class=\"dataframe\">\n",
       "  <thead>\n",
       "    <tr style=\"text-align: right;\">\n",
       "      <th></th>\n",
       "      <th>Essay grade</th>\n",
       "      <th>Number of students</th>\n",
       "    </tr>\n",
       "  </thead>\n",
       "  <tbody>\n",
       "    <tr>\n",
       "      <th>0</th>\n",
       "      <td>1</td>\n",
       "      <td>0</td>\n",
       "    </tr>\n",
       "    <tr>\n",
       "      <th>1</th>\n",
       "      <td>2</td>\n",
       "      <td>1</td>\n",
       "    </tr>\n",
       "    <tr>\n",
       "      <th>2</th>\n",
       "      <td>3</td>\n",
       "      <td>4</td>\n",
       "    </tr>\n",
       "    <tr>\n",
       "      <th>3</th>\n",
       "      <td>4</td>\n",
       "      <td>3</td>\n",
       "    </tr>\n",
       "    <tr>\n",
       "      <th>4</th>\n",
       "      <td>5</td>\n",
       "      <td>2</td>\n",
       "    </tr>\n",
       "    <tr>\n",
       "      <th>5</th>\n",
       "      <td>6</td>\n",
       "      <td>1</td>\n",
       "    </tr>\n",
       "  </tbody>\n",
       "</table>\n",
       "</div>"
      ],
      "text/plain": [
       "   Essay grade  Number of students\n",
       "0            1                   0\n",
       "1            2                   1\n",
       "2            3                   4\n",
       "3            4                   3\n",
       "4            5                   2\n",
       "5            6                   1"
      ]
     },
     "execution_count": 221,
     "metadata": {},
     "output_type": "execute_result"
    }
   ],
   "source": [
    "# La siguiente tabla de frecuencias muestra las calificaciones que obtuvieron los alumnos del Sr. Ji en un ensayo.\n",
    "\n",
    "data = {\"Essay grade\": [1,2,3,4,5,6], \"Number of students\": [0,1,4,3,2,1,]}\n",
    "\n",
    "df = pd.DataFrame(data)\n",
    "df\n",
    "\n",
    "# ¿Cuál fue la calificación más frecuente en el ensayo?"
   ]
  },
  {
   "cell_type": "markdown",
   "metadata": {},
   "source": [
    "### Problema 5"
   ]
  },
  {
   "cell_type": "code",
   "execution_count": 222,
   "metadata": {},
   "outputs": [],
   "source": [
    "# Los siguientes datos representan la cantidad de jugadores del equipo de voleibol de los Osos Rusos que se lastimaron en cada partido del año.\n",
    "\n",
    "data = [1,2,2,1,2,1]\n",
    "\n",
    "# Usa esta información para hacer una tabla de frecuencias."
   ]
  },
  {
   "cell_type": "code",
   "execution_count": 223,
   "metadata": {},
   "outputs": [],
   "source": [
    "data_series = pd.Series(data)"
   ]
  },
  {
   "cell_type": "code",
   "execution_count": 224,
   "metadata": {},
   "outputs": [
    {
     "data": {
      "text/plain": [
       "1    3\n",
       "2    3\n",
       "dtype: int64"
      ]
     },
     "execution_count": 224,
     "metadata": {},
     "output_type": "execute_result"
    }
   ],
   "source": [
    "frequency_table = data_series.value_counts().sort_index()\n",
    "frequency_table"
   ]
  },
  {
   "cell_type": "markdown",
   "metadata": {},
   "source": [
    "### Problema 6"
   ]
  },
  {
   "cell_type": "code",
   "execution_count": 225,
   "metadata": {},
   "outputs": [],
   "source": [
    "# Samantha, Brooklyn y Mary fueron al festival de música Bonnaroo el pasado fin de semana, donde cada una fue a varios conciertos. \n",
    "# Samantha solo fue a conciertos de rock, donde el nivel de sonido estaba distribuido normalmente entre  113 y 117 decibeles. \n",
    "# Brooklyn fue a 4 conciertos con Samantha y también fue a 5 conciertos de música folk, donde el nivel de sonido estaba entre  95 y  97 decibeles. \n",
    "# Mary se enfermó y solo fue a 2 conciertos - uno de rock y uno de música folk.\n"
   ]
  },
  {
   "cell_type": "code",
   "execution_count": 226,
   "metadata": {},
   "outputs": [
    {
     "name": "stdout",
     "output_type": "stream",
     "text": [
      "The mean of samantha is:  115.0\n",
      "The median of samantha is:  115.0\n"
     ]
    }
   ],
   "source": [
    "# La mediana del nivel de sonido de los conciertos a los que fue Samantha fue ______ probablemente que la media del nivel de sonido de los conciertos a los que fue.\n",
    "\n",
    "samantha_conciertos = [113,114,115,116,117]\n",
    "print(\"The mean of samantha is: \",np.mean(samantha_conciertos))\n",
    "print(\"The median of samantha is: \", np.median(samantha_conciertos))"
   ]
  },
  {
   "cell_type": "code",
   "execution_count": 227,
   "metadata": {},
   "outputs": [],
   "source": [
    "# La mediana del nivel de sonido de los conciertos a los que fue Brooklyn fue ______ que la media del nivel de sonido de los conciertos a los que fue.\n",
    "brooklyn_conciertos = [95,96,97]"
   ]
  },
  {
   "cell_type": "code",
   "execution_count": 228,
   "metadata": {},
   "outputs": [
    {
     "data": {
      "text/plain": [
       "[113, 114, 115, 116, 117, 95, 96, 97]"
      ]
     },
     "execution_count": 228,
     "metadata": {},
     "output_type": "execute_result"
    }
   ],
   "source": [
    "sam_and_brook_concerts = samantha_conciertos + brooklyn_conciertos\n",
    "sam_and_brook_concerts"
   ]
  },
  {
   "cell_type": "code",
   "execution_count": 229,
   "metadata": {},
   "outputs": [
    {
     "name": "stdout",
     "output_type": "stream",
     "text": [
      "The mean is:  107.875\n",
      "The median is: 113.5\n"
     ]
    }
   ],
   "source": [
    "print(\"The mean is: \",np.mean(sam_and_brook_concerts))\n",
    "print(\"The median is:\", np.median(sam_and_brook_concerts))\n"
   ]
  },
  {
   "cell_type": "code",
   "execution_count": 230,
   "metadata": {},
   "outputs": [
    {
     "name": "stdout",
     "output_type": "stream",
     "text": [
      "The median sound level of the concerts Mary went to is:  113.5\n",
      "the average sound level of the concerts she attended is:  107.875\n"
     ]
    }
   ],
   "source": [
    "# La mediana del nivel de sonido de los conciertos a los que fue Mary fue ________ que la media del nivel de sonido de los conciertos a los que fue.\n",
    "\n",
    "folk_concert = samantha_conciertos\n",
    "rock_concert = brooklyn_conciertos\n",
    "both_concerts = samantha_conciertos + brooklyn_conciertos\n",
    "\n",
    "print(\"The median sound level of the concerts Mary went to is: \", np.median(both_concerts))\n",
    "print(\"the average sound level of the concerts she attended is: \", np.mean(both_concerts))"
   ]
  },
  {
   "cell_type": "markdown",
   "metadata": {},
   "source": [
    "### Problema 7"
   ]
  },
  {
   "cell_type": "code",
   "execution_count": 231,
   "metadata": {},
   "outputs": [],
   "source": [
    "# Tanya es una vendedora de automóviles. Abajo se muestra el número de automóviles que vendió en cada uno de los últimos seis meses.\n",
    "\n",
    "data = [23,21,21,20,21,20]\n",
    "\n",
    "# Con esta información, crea una gráfica de puntos donde cada punto represente un mes."
   ]
  },
  {
   "cell_type": "code",
   "execution_count": 232,
   "metadata": {},
   "outputs": [],
   "source": [
    "# Data to series\n",
    "data_series = pd.Series(data)"
   ]
  },
  {
   "cell_type": "code",
   "execution_count": 233,
   "metadata": {},
   "outputs": [
    {
     "data": {
      "text/plain": [
       "20    2\n",
       "21    3\n",
       "23    1\n",
       "dtype: int64"
      ]
     },
     "execution_count": 233,
     "metadata": {},
     "output_type": "execute_result"
    }
   ],
   "source": [
    "frequency_tables = data_series.value_counts().sort_index()\n",
    "frequency_tables"
   ]
  },
  {
   "cell_type": "markdown",
   "metadata": {},
   "source": [
    "# Mean, Median, Mode"
   ]
  },
  {
   "cell_type": "code",
   "execution_count": 234,
   "metadata": {},
   "outputs": [
    {
     "name": "stdout",
     "output_type": "stream",
     "text": [
      "Problem 1 mean:  3.6666666666666665\n",
      "Problem 2 median is:  3.0\n",
      "Problem 3 mode is:  ModeResult(mode=array([1]), count=array([2]))\n",
      "The problem 4 mean is:  4.1\n",
      "The problem 5 median is:  8.0\n",
      "The problem 6 mode is:  ModeResult(mode=array([8]), count=array([3]))\n",
      "The problem 7 mean is:  3.4\n"
     ]
    }
   ],
   "source": [
    "# Problem 1\n",
    "print(\"Problem 1 mean: \",np.mean([8,1,2,6,1,4]))\n",
    "\n",
    "# Problem 2\n",
    "## ¿Cuál es la mediana de los siguientes números?\n",
    "print(\"Problem 2 median is: \",np.median([8,1,2,6,1,4]))\n",
    "\n",
    "# Problem 3\n",
    "## ¿Cuál es la moda de los siguientes números?\n",
    "print(\"Problem 3 mode is: \", scipy.stats.mode([8,1,2,6,1,4]))\n",
    "\n",
    "# Problem 4\n",
    "## ¿Cuál es la media aritmética de los siguientes números?\n",
    "print(\"The problem 4 mean is: \", np.mean([1,2,10,6,4,4,6,3,1,4]))\n",
    "\n",
    "# Problem 5\n",
    "## ¿Cuál es la mediana de los siguientes números?\n",
    "print(\"The problem 5 median is: \", np.median([8,10,10,10,6,7,8]))\n",
    "\n",
    "# Problem 6\n",
    "## ¿Cuál es la moda de los siguientes números?\n",
    "print(\"The problem 6 mode is: \", scipy.stats.mode([8,10,8,5,4,7,5,10,8]))\n",
    "\n",
    "# Problem 7\n",
    "## ¿Cuál es la media aritmética de los siguientes números?\n",
    "print(\"The problem 7 mean is: \", np.mean([1,2,4,6,4]))"
   ]
  },
  {
   "cell_type": "markdown",
   "metadata": {},
   "source": [
    "## Mean"
   ]
  },
  {
   "cell_type": "markdown",
   "metadata": {},
   "source": [
    "### Problem 1"
   ]
  },
  {
   "cell_type": "code",
   "execution_count": 235,
   "metadata": {},
   "outputs": [
    {
     "name": "stdout",
     "output_type": "stream",
     "text": [
      "The mean is:  10.8\n"
     ]
    }
   ],
   "source": [
    "# La ardilla Scarlett da clases de baile hula a ardillas jóvenes. 14 ardillas fueron a clase el lunes,  10 el martes,  8 el miércoles, 10 el jueves y 12 el viernes. Encuentra la media de la cantidad de ardillas.\n",
    "\n",
    "data = [14,10,8,10,12]\n",
    "print(\"The mean is: \", np.mean(data))"
   ]
  },
  {
   "cell_type": "markdown",
   "metadata": {},
   "source": [
    "### Problem 2"
   ]
  },
  {
   "cell_type": "code",
   "execution_count": 236,
   "metadata": {},
   "outputs": [
    {
     "name": "stdout",
     "output_type": "stream",
     "text": [
      "The mean is: 37.0\n"
     ]
    }
   ],
   "source": [
    "# Un grupo de niños termino de recolectar dulces por día de brujas. A continuación hay una lista de la cantidad de dulces que recolectó cada niño. Encuentra la media de la cantidad de dulces.\n",
    "\n",
    "data = [47,35,32,41,30]\n",
    "print(\"The mean is:\", np.mean(data))"
   ]
  },
  {
   "cell_type": "markdown",
   "metadata": {},
   "source": [
    "### Problem 3"
   ]
  },
  {
   "cell_type": "code",
   "execution_count": 237,
   "metadata": {},
   "outputs": [
    {
     "data": {
      "text/html": [
       "<div>\n",
       "<style scoped>\n",
       "    .dataframe tbody tr th:only-of-type {\n",
       "        vertical-align: middle;\n",
       "    }\n",
       "\n",
       "    .dataframe tbody tr th {\n",
       "        vertical-align: top;\n",
       "    }\n",
       "\n",
       "    .dataframe thead th {\n",
       "        text-align: right;\n",
       "    }\n",
       "</style>\n",
       "<table border=\"1\" class=\"dataframe\">\n",
       "  <thead>\n",
       "    <tr style=\"text-align: right;\">\n",
       "      <th></th>\n",
       "      <th>Winter</th>\n",
       "      <th>Spring</th>\n",
       "      <th>Summer</th>\n",
       "      <th>Autumn</th>\n",
       "    </tr>\n",
       "  </thead>\n",
       "  <tbody>\n",
       "    <tr>\n",
       "      <th>Quantity of lemons</th>\n",
       "      <td>3</td>\n",
       "      <td>15</td>\n",
       "      <td>21</td>\n",
       "      <td>13</td>\n",
       "    </tr>\n",
       "  </tbody>\n",
       "</table>\n",
       "</div>"
      ],
      "text/plain": [
       "                    Winter  Spring  Summer  Autumn\n",
       "Quantity of lemons       3      15      21      13"
      ]
     },
     "execution_count": 237,
     "metadata": {},
     "output_type": "execute_result"
    }
   ],
   "source": [
    "# La siguiente tabla muestra la cantidad de limones que crecieron en el limonoero de Mary en cada estación del año pasado.\n",
    "\n",
    "data = {\"Winter\":3, \"Spring\": 15, \"Summer\": 21, \"Autumn\": 13 }\n",
    "index = [\"Quantity of lemons\"]\n",
    "df = pd.DataFrame(data, index = index)\n",
    "df\n",
    "\n",
    "# Encuentra la media de la cantidad de limones."
   ]
  },
  {
   "cell_type": "code",
   "execution_count": 238,
   "metadata": {},
   "outputs": [
    {
     "data": {
      "text/plain": [
       "13.0"
      ]
     },
     "execution_count": 238,
     "metadata": {},
     "output_type": "execute_result"
    }
   ],
   "source": [
    "df.iloc[0,:].mean()"
   ]
  },
  {
   "cell_type": "code",
   "execution_count": 239,
   "metadata": {},
   "outputs": [
    {
     "data": {
      "text/plain": [
       "13.0"
      ]
     },
     "execution_count": 239,
     "metadata": {},
     "output_type": "execute_result"
    }
   ],
   "source": [
    "np.mean([3,15,21,13])"
   ]
  },
  {
   "cell_type": "markdown",
   "metadata": {},
   "source": [
    "### Problem 4"
   ]
  },
  {
   "cell_type": "code",
   "execution_count": 240,
   "metadata": {},
   "outputs": [
    {
     "data": {
      "text/html": [
       "<div>\n",
       "<style scoped>\n",
       "    .dataframe tbody tr th:only-of-type {\n",
       "        vertical-align: middle;\n",
       "    }\n",
       "\n",
       "    .dataframe tbody tr th {\n",
       "        vertical-align: top;\n",
       "    }\n",
       "\n",
       "    .dataframe thead th {\n",
       "        text-align: right;\n",
       "    }\n",
       "</style>\n",
       "<table border=\"1\" class=\"dataframe\">\n",
       "  <thead>\n",
       "    <tr style=\"text-align: right;\">\n",
       "      <th></th>\n",
       "      <th>Roommate</th>\n",
       "      <th>Minutes spent on social media</th>\n",
       "    </tr>\n",
       "  </thead>\n",
       "  <tbody>\n",
       "    <tr>\n",
       "      <th>0</th>\n",
       "      <td>Vera</td>\n",
       "      <td>13</td>\n",
       "    </tr>\n",
       "    <tr>\n",
       "      <th>1</th>\n",
       "      <td>Timothy</td>\n",
       "      <td>0</td>\n",
       "    </tr>\n",
       "    <tr>\n",
       "      <th>2</th>\n",
       "      <td>Manueala</td>\n",
       "      <td>14</td>\n",
       "    </tr>\n",
       "    <tr>\n",
       "      <th>3</th>\n",
       "      <td>Khaled</td>\n",
       "      <td>36</td>\n",
       "    </tr>\n",
       "    <tr>\n",
       "      <th>4</th>\n",
       "      <td>Yash</td>\n",
       "      <td>18</td>\n",
       "    </tr>\n",
       "    <tr>\n",
       "      <th>5</th>\n",
       "      <td>Fernanda</td>\n",
       "      <td>12</td>\n",
       "    </tr>\n",
       "  </tbody>\n",
       "</table>\n",
       "</div>"
      ],
      "text/plain": [
       "   Roommate  Minutes spent on social media\n",
       "0      Vera                             13\n",
       "1   Timothy                              0\n",
       "2  Manueala                             14\n",
       "3    Khaled                             36\n",
       "4      Yash                             18\n",
       "5  Fernanda                             12"
      ]
     },
     "execution_count": 240,
     "metadata": {},
     "output_type": "execute_result"
    }
   ],
   "source": [
    "# Guilherme observó la cantidad de minutos que sus compañeros de dormitorio estuvieron en redes sociales mientras estaban en la biblioteca. Recopiló la información en la siguiente tabla.\n",
    "\n",
    "data = {\"Roommate\": [\"Vera\", \"Timothy\", \"Manueala\", \"Khaled\", \"Yash\", \"Fernanda\"],\"Minutes spent on social media\": [13,0,14,36,18,12]}\n",
    "\n",
    "df = pd.DataFrame(data)\n",
    "df"
   ]
  },
  {
   "cell_type": "code",
   "execution_count": 241,
   "metadata": {},
   "outputs": [
    {
     "name": "stderr",
     "output_type": "stream",
     "text": [
      "C:\\Users\\aleg0\\AppData\\Local\\Temp/ipykernel_22568/4218000789.py:1: FutureWarning: Dropping of nuisance columns in DataFrame reductions (with 'numeric_only=None') is deprecated; in a future version this will raise TypeError.  Select only valid columns before calling the reduction.\n",
      "  df.iloc[:,0:5].mean(axis=0)\n"
     ]
    },
    {
     "data": {
      "text/plain": [
       "Minutes spent on social media    15.5\n",
       "dtype: float64"
      ]
     },
     "execution_count": 241,
     "metadata": {},
     "output_type": "execute_result"
    }
   ],
   "source": [
    "df.iloc[:,0:5].mean(axis=0)"
   ]
  },
  {
   "cell_type": "markdown",
   "metadata": {},
   "source": [
    "## Median"
   ]
  },
  {
   "cell_type": "markdown",
   "metadata": {},
   "source": [
    "### Problem 1"
   ]
  },
  {
   "cell_type": "code",
   "execution_count": 242,
   "metadata": {},
   "outputs": [
    {
     "name": "stdout",
     "output_type": "stream",
     "text": [
      "The median of puppies is:  7.0\n"
     ]
    }
   ],
   "source": [
    "# Los siguientes datos representan la cantidad de cachorros en cada camada en el refugio Port's Pup.\n",
    "\n",
    "data = [2,2,6,7,9,11,14]\n",
    "print(\"The median of puppies is: \",np.median(data))\n",
    "\n",
    "# Encuentra la mediana de la cantidad de cachorros."
   ]
  },
  {
   "cell_type": "markdown",
   "metadata": {},
   "source": [
    "### Problem 2"
   ]
  },
  {
   "cell_type": "code",
   "execution_count": 243,
   "metadata": {},
   "outputs": [
    {
     "name": "stdout",
     "output_type": "stream",
     "text": [
      "The median of infredients is:  3.5\n"
     ]
    }
   ],
   "source": [
    "# Los siguientes datos representan la cantidad de ingredientes que cada cliente de una heladería puso en su helado.\n",
    "\n",
    "data = [1,1,2,3,4,7,8,8]\n",
    "print(\"The median of infredients is: \", np.median(data))\n",
    "\n",
    "# Encuentra la mediana de la cantidad de ingredientes."
   ]
  },
  {
   "cell_type": "markdown",
   "metadata": {},
   "source": [
    "### Problem 3"
   ]
  },
  {
   "cell_type": "code",
   "execution_count": 244,
   "metadata": {},
   "outputs": [
    {
     "name": "stdout",
     "output_type": "stream",
     "text": [
      "The median of the:  4.0\n"
     ]
    }
   ],
   "source": [
    "# Los siguientes datos representan la cantidad de días nevados que hubo en cada distrito escolar en el condado de Mill durante el invierno pasado.\n",
    "\n",
    "data = [2,3,3,3,4,5,6,7,8]\n",
    "print(\"The median of the: \", np.median(data))\n",
    "\n",
    "# Encuentra la mediana de la cantidad de días nevados."
   ]
  },
  {
   "cell_type": "markdown",
   "metadata": {},
   "source": [
    "### Problem 4"
   ]
  },
  {
   "cell_type": "code",
   "execution_count": 245,
   "metadata": {},
   "outputs": [
    {
     "name": "stdout",
     "output_type": "stream",
     "text": [
      "The median of the apples is:  35.0\n"
     ]
    }
   ],
   "source": [
    "# Los siguientes datos representan la cantidad de manzanas en cada manzano del patio de Craig.\n",
    "\n",
    "data = [22, 29,34,36,39,41]\n",
    "print(\"The median of the apples is: \", np.median(data))\n",
    "\n",
    "# Encuentra la mediana de la cantidad de manzanas."
   ]
  },
  {
   "cell_type": "markdown",
   "metadata": {},
   "source": [
    "### Problem 5"
   ]
  },
  {
   "cell_type": "code",
   "execution_count": 246,
   "metadata": {},
   "outputs": [
    {
     "name": "stdout",
     "output_type": "stream",
     "text": [
      "The average of the number of times he ordered fast food.  9.2\n"
     ]
    }
   ],
   "source": [
    "# Jose hizo un seguimiento de cuántas veces pidió comida rápida cada mes. Las veces que pidió comida rápida fueron 12 en enero, 10 en febrero,  18 en marzo, 4 en abril y 2 en mayo.\n",
    "\n",
    "data = [12,10,18,4,2]\n",
    "print(\"The average of the number of times he ordered fast food. \",np.mean(data))\n",
    "\n",
    "# Encuentra la media de la cantidad de veces que pidió comida rápida."
   ]
  },
  {
   "cell_type": "markdown",
   "metadata": {},
   "source": [
    "### Problem 6"
   ]
  },
  {
   "cell_type": "code",
   "execution_count": 247,
   "metadata": {},
   "outputs": [
    {
     "name": "stdout",
     "output_type": "stream",
     "text": [
      "The median of the numbers is:  4.0\n"
     ]
    }
   ],
   "source": [
    "# ¿Cuál es la mediana de los siguientes números?\n",
    "\n",
    "data = [1,2,4,6,4]\n",
    "print(\"The median of the numbers is: \",np.median(data))"
   ]
  },
  {
   "cell_type": "markdown",
   "metadata": {},
   "source": [
    "### Problem 7"
   ]
  },
  {
   "cell_type": "code",
   "execution_count": 248,
   "metadata": {},
   "outputs": [
    {
     "name": "stdout",
     "output_type": "stream",
     "text": [
      "The median of the spots on each giraffe is:  203.0\n"
     ]
    }
   ],
   "source": [
    "# Los siguientes datos representan la cantidad de manchas en cada jirafa que vive en las planicies de Crutan.\n",
    "\n",
    "data = [174,185,194,197,203,221,226,231,236]\n",
    "\n",
    "print(\"The median of the spots on each giraffe is: \",np.median(data))\n",
    "\n",
    "# Encuentra la mediana de la cantidad de manchas."
   ]
  },
  {
   "cell_type": "markdown",
   "metadata": {},
   "source": [
    "### Problem 8"
   ]
  },
  {
   "cell_type": "code",
   "execution_count": 249,
   "metadata": {},
   "outputs": [
    {
     "name": "stdout",
     "output_type": "stream",
     "text": [
      "The mode of the data is:  ModeResult(mode=array([4]), count=array([3]))\n"
     ]
    }
   ],
   "source": [
    "# ¿Cuál es la moda de los siguientes números?\n",
    "\n",
    "data = [10,6,4,4,6,4,1]\n",
    "print(\"The mode of the data is: \", scipy.stats.mode(data))"
   ]
  },
  {
   "cell_type": "markdown",
   "metadata": {},
   "source": [
    "### Problem 9"
   ]
  },
  {
   "cell_type": "code",
   "execution_count": 250,
   "metadata": {},
   "outputs": [
    {
     "name": "stdout",
     "output_type": "stream",
     "text": [
      "The median of the data is:  142.0\n"
     ]
    }
   ],
   "source": [
    "# Los siguientes datos representan los ingresos (en miles de dólares) del último año para cada sucursal de la Panadería Patricia.\n",
    "\n",
    "data = [112,121,124,137,147,156,173,189]\n",
    "print(\"The median of the data is: \", np.median(data))\n",
    "\n",
    "# Encuentra la mediana de ingresos."
   ]
  },
  {
   "cell_type": "markdown",
   "metadata": {},
   "source": [
    "## U3 L2 Más sobre la media y la mediana"
   ]
  },
  {
   "cell_type": "markdown",
   "metadata": {},
   "source": [
    "### Problema 1\n"
   ]
  },
  {
   "cell_type": "code",
   "execution_count": 251,
   "metadata": {},
   "outputs": [],
   "source": [
    "# Calcular la media: presentaciones de los datos\n",
    "data = {\"Reynaldo\": 2, \"Marcelle\":4, \"Allie\": 3, \"Fernando\": 5}\n",
    "data_container = {}"
   ]
  },
  {
   "cell_type": "code",
   "execution_count": 252,
   "metadata": {},
   "outputs": [
    {
     "data": {
      "text/plain": [
       "{'Reynaldo': 6, 'Marcelle': 12, 'Allie': 9, 'Fernando': 15}"
      ]
     },
     "execution_count": 252,
     "metadata": {},
     "output_type": "execute_result"
    }
   ],
   "source": [
    "# Multiply each element of the dictionnaire by 3\n",
    "for student, score in data.items():\n",
    "  data_container[student] = score * 3\n",
    "\n",
    "data_container"
   ]
  },
  {
   "cell_type": "code",
   "execution_count": 253,
   "metadata": {},
   "outputs": [
    {
     "name": "stdout",
     "output_type": "stream",
     "text": [
      "The mean of the scoring was:  10.5\n"
     ]
    }
   ],
   "source": [
    "print(\"The mean of the scoring was: \", statistics.mean(data_container.values()))"
   ]
  },
  {
   "cell_type": "markdown",
   "metadata": {},
   "source": [
    "### Problema 2"
   ]
  },
  {
   "cell_type": "code",
   "execution_count": 254,
   "metadata": {},
   "outputs": [],
   "source": [
    "# Encuentra la media de los datos en la siguiente gráfica de puntos.\n",
    "\n",
    "data = [0, 5,7,8,8]"
   ]
  },
  {
   "cell_type": "code",
   "execution_count": 255,
   "metadata": {},
   "outputs": [
    {
     "name": "stdout",
     "output_type": "stream",
     "text": [
      "The mean of the chocolate chips is:  5.6\n"
     ]
    }
   ],
   "source": [
    "print(\"The mean of the chocolate chips is: \", np.mean(data))"
   ]
  },
  {
   "cell_type": "markdown",
   "metadata": {},
   "source": [
    "### Problema 3"
   ]
  },
  {
   "cell_type": "code",
   "execution_count": 256,
   "metadata": {},
   "outputs": [],
   "source": [
    "# Encuentra la media de los datos en la siguiente gráfica de barras.\n",
    "\n",
    "data = {\"Sean\": 18, \"Tanner\": 4, \"Jeremy\": 12, \"Katie\": 8}"
   ]
  },
  {
   "cell_type": "code",
   "execution_count": 257,
   "metadata": {},
   "outputs": [
    {
     "name": "stdout",
     "output_type": "stream",
     "text": [
      "The mean of the data is:  10.5\n"
     ]
    }
   ],
   "source": [
    "print(\"The mean of the data is: \", statistics.mean(data.values()))"
   ]
  },
  {
   "cell_type": "markdown",
   "metadata": {},
   "source": [
    "### Problema 4"
   ]
  },
  {
   "cell_type": "code",
   "execution_count": 258,
   "metadata": {},
   "outputs": [],
   "source": [
    "# Encuentra la media de los datos en la siguiente gráfica de puntos.\n",
    "\n",
    "data = [4,4,7]"
   ]
  },
  {
   "cell_type": "code",
   "execution_count": 259,
   "metadata": {},
   "outputs": [
    {
     "name": "stdout",
     "output_type": "stream",
     "text": [
      "The mean of the data is:  5.0\n"
     ]
    }
   ],
   "source": [
    "print(\"The mean of the data is: \", np.mean(data))"
   ]
  },
  {
   "cell_type": "markdown",
   "metadata": {},
   "source": [
    "### Problema 5"
   ]
  },
  {
   "cell_type": "code",
   "execution_count": 260,
   "metadata": {},
   "outputs": [
    {
     "data": {
      "text/plain": [
       "{'Caroline': 2, 'Samuel': 4, 'Abby': 4, 'Jason': 2}"
      ]
     },
     "execution_count": 260,
     "metadata": {},
     "output_type": "execute_result"
    }
   ],
   "source": [
    "# Encuentra la media de los datos en la siguiente pictografía.\n",
    "\n",
    "data = {\"Caroline\":2, \"Samuel\": 4, \"Abby\": 4, \"Jason\": 2}\n",
    "data"
   ]
  },
  {
   "cell_type": "code",
   "execution_count": 261,
   "metadata": {},
   "outputs": [
    {
     "name": "stdout",
     "output_type": "stream",
     "text": [
      "The mean of the data is:  3\n"
     ]
    }
   ],
   "source": [
    "print(\"The mean of the data is: \", statistics.mean(data.values()))"
   ]
  },
  {
   "cell_type": "markdown",
   "metadata": {},
   "source": [
    "### Problema 6"
   ]
  },
  {
   "cell_type": "code",
   "execution_count": 262,
   "metadata": {},
   "outputs": [
    {
     "data": {
      "text/plain": [
       "[20, 23, 25, 28]"
      ]
     },
     "execution_count": 262,
     "metadata": {},
     "output_type": "execute_result"
    }
   ],
   "source": [
    "# Encuentra la media de los datos en la siguiente gráfica de puntos.\n",
    "\n",
    "data = [20, 23, 25, 28]\n",
    "data"
   ]
  },
  {
   "cell_type": "code",
   "execution_count": 263,
   "metadata": {},
   "outputs": [
    {
     "name": "stdout",
     "output_type": "stream",
     "text": [
      "The mean of the data is:  24.0\n"
     ]
    }
   ],
   "source": [
    "print(\"The mean of the data is: \", np.mean(data))"
   ]
  },
  {
   "cell_type": "markdown",
   "metadata": {},
   "source": [
    "### Problema 7"
   ]
  },
  {
   "cell_type": "code",
   "execution_count": 264,
   "metadata": {},
   "outputs": [],
   "source": [
    "# Encuentra la media de los datos en la siguiente pictografía.\n",
    "\n",
    "data = {\"Luca\": 3, \"Niklas\": 3, \"Finn\": 5, \"Lena\": 3}"
   ]
  },
  {
   "cell_type": "code",
   "execution_count": 265,
   "metadata": {},
   "outputs": [
    {
     "name": "stdout",
     "output_type": "stream",
     "text": [
      "The mean of the data is:  3.5\n"
     ]
    }
   ],
   "source": [
    "print(\"The mean of the data is: \", statistics.mean(data.values()))"
   ]
  },
  {
   "cell_type": "markdown",
   "metadata": {},
   "source": [
    "### Problema 8"
   ]
  },
  {
   "cell_type": "code",
   "execution_count": 266,
   "metadata": {},
   "outputs": [],
   "source": [
    "# Encuentra la media de los datos en la siguiente gráfica de puntos.\n",
    "\n",
    "data = [1,1,3,5,9]"
   ]
  },
  {
   "cell_type": "code",
   "execution_count": 267,
   "metadata": {},
   "outputs": [
    {
     "name": "stdout",
     "output_type": "stream",
     "text": [
      "The mean od the data is:  3.8\n"
     ]
    }
   ],
   "source": [
    "print(\"The mean od the data is: \", np.mean(data))"
   ]
  },
  {
   "cell_type": "markdown",
   "metadata": {},
   "source": [
    "## Calcular la mediana"
   ]
  },
  {
   "cell_type": "markdown",
   "metadata": {},
   "source": [
    "### Problema 1"
   ]
  },
  {
   "cell_type": "code",
   "execution_count": 268,
   "metadata": {},
   "outputs": [],
   "source": [
    "# La siguiente tabla de frecuencia muestra la cantidad de maletas que empacó cada estudiante de intercambio de la Universidad Bridgewater.\n",
    "\n",
    "data = {\"Quantity of luggage\": [1,2,3,4,5], \"Quantity of exchange students\": [1,2,1,0,1]}"
   ]
  },
  {
   "cell_type": "code",
   "execution_count": 269,
   "metadata": {},
   "outputs": [
    {
     "data": {
      "text/html": [
       "<div>\n",
       "<style scoped>\n",
       "    .dataframe tbody tr th:only-of-type {\n",
       "        vertical-align: middle;\n",
       "    }\n",
       "\n",
       "    .dataframe tbody tr th {\n",
       "        vertical-align: top;\n",
       "    }\n",
       "\n",
       "    .dataframe thead th {\n",
       "        text-align: right;\n",
       "    }\n",
       "</style>\n",
       "<table border=\"1\" class=\"dataframe\">\n",
       "  <thead>\n",
       "    <tr style=\"text-align: right;\">\n",
       "      <th></th>\n",
       "      <th>Quantity of luggage</th>\n",
       "      <th>Quantity of exchange students</th>\n",
       "    </tr>\n",
       "  </thead>\n",
       "  <tbody>\n",
       "    <tr>\n",
       "      <th>0</th>\n",
       "      <td>1</td>\n",
       "      <td>1</td>\n",
       "    </tr>\n",
       "    <tr>\n",
       "      <th>1</th>\n",
       "      <td>2</td>\n",
       "      <td>2</td>\n",
       "    </tr>\n",
       "    <tr>\n",
       "      <th>2</th>\n",
       "      <td>3</td>\n",
       "      <td>1</td>\n",
       "    </tr>\n",
       "    <tr>\n",
       "      <th>3</th>\n",
       "      <td>4</td>\n",
       "      <td>0</td>\n",
       "    </tr>\n",
       "    <tr>\n",
       "      <th>4</th>\n",
       "      <td>5</td>\n",
       "      <td>1</td>\n",
       "    </tr>\n",
       "  </tbody>\n",
       "</table>\n",
       "</div>"
      ],
      "text/plain": [
       "   Quantity of luggage  Quantity of exchange students\n",
       "0                    1                              1\n",
       "1                    2                              2\n",
       "2                    3                              1\n",
       "3                    4                              0\n",
       "4                    5                              1"
      ]
     },
     "execution_count": 269,
     "metadata": {},
     "output_type": "execute_result"
    }
   ],
   "source": [
    "# Dictionary to dataframe\n",
    "\n",
    "df = pd.DataFrame(data)\n",
    "df"
   ]
  },
  {
   "cell_type": "code",
   "execution_count": 270,
   "metadata": {},
   "outputs": [
    {
     "name": "stdout",
     "output_type": "stream",
     "text": [
      "The median of the quantity of luggage was: 3.0\n"
     ]
    }
   ],
   "source": [
    "print(\"The median of the quantity of luggage was:\",df[\"Quantity of luggage\"].median())"
   ]
  },
  {
   "cell_type": "markdown",
   "metadata": {},
   "source": [
    "### Problem 2"
   ]
  },
  {
   "cell_type": "code",
   "execution_count": 271,
   "metadata": {},
   "outputs": [],
   "source": [
    "# Sanjay trató de encontrar la mediana a partir de la siguiente gráfica de puntos, que muestra qué tan lejos llegó en sus recientes caminatas. Sin embargo, cometió un error.\n",
    "\n",
    "data = [5,6,6,7,8,8,9,9]\n"
   ]
  },
  {
   "cell_type": "code",
   "execution_count": 272,
   "metadata": {},
   "outputs": [
    {
     "data": {
      "text/html": [
       "<div>\n",
       "<style scoped>\n",
       "    .dataframe tbody tr th:only-of-type {\n",
       "        vertical-align: middle;\n",
       "    }\n",
       "\n",
       "    .dataframe tbody tr th {\n",
       "        vertical-align: top;\n",
       "    }\n",
       "\n",
       "    .dataframe thead th {\n",
       "        text-align: right;\n",
       "    }\n",
       "</style>\n",
       "<table border=\"1\" class=\"dataframe\">\n",
       "  <thead>\n",
       "    <tr style=\"text-align: right;\">\n",
       "      <th></th>\n",
       "      <th>distance</th>\n",
       "    </tr>\n",
       "  </thead>\n",
       "  <tbody>\n",
       "    <tr>\n",
       "      <th>0</th>\n",
       "      <td>5</td>\n",
       "    </tr>\n",
       "    <tr>\n",
       "      <th>1</th>\n",
       "      <td>6</td>\n",
       "    </tr>\n",
       "    <tr>\n",
       "      <th>2</th>\n",
       "      <td>6</td>\n",
       "    </tr>\n",
       "    <tr>\n",
       "      <th>3</th>\n",
       "      <td>7</td>\n",
       "    </tr>\n",
       "    <tr>\n",
       "      <th>4</th>\n",
       "      <td>8</td>\n",
       "    </tr>\n",
       "    <tr>\n",
       "      <th>5</th>\n",
       "      <td>8</td>\n",
       "    </tr>\n",
       "    <tr>\n",
       "      <th>6</th>\n",
       "      <td>9</td>\n",
       "    </tr>\n",
       "    <tr>\n",
       "      <th>7</th>\n",
       "      <td>9</td>\n",
       "    </tr>\n",
       "  </tbody>\n",
       "</table>\n",
       "</div>"
      ],
      "text/plain": [
       "   distance\n",
       "0         5\n",
       "1         6\n",
       "2         6\n",
       "3         7\n",
       "4         8\n",
       "5         8\n",
       "6         9\n",
       "7         9"
      ]
     },
     "execution_count": 272,
     "metadata": {},
     "output_type": "execute_result"
    }
   ],
   "source": [
    "df = pd.DataFrame(data, columns = [\"distance\"])\n",
    "df "
   ]
  },
  {
   "cell_type": "code",
   "execution_count": 273,
   "metadata": {},
   "outputs": [
    {
     "name": "stdout",
     "output_type": "stream",
     "text": [
      "The mean of the data is: 7.25\n",
      "The median of the distance is: 7.5\n"
     ]
    }
   ],
   "source": [
    "print(\"The mean of the data is:\", df[\"distance\"].mean())\n",
    "print(\"The median of the distance is:\", df[\"distance\"].median())"
   ]
  },
  {
   "cell_type": "markdown",
   "metadata": {},
   "source": [
    "### Problem 3"
   ]
  },
  {
   "cell_type": "code",
   "execution_count": 274,
   "metadata": {},
   "outputs": [],
   "source": [
    "# La siguiente gráfica de barras muestra las distancias que corrió la familia de Jay en una carrera.\n",
    "\n",
    "data = {\"Tía\":4, \"Mamá\": 11, \"Jay\": 5, \"Sue\": 8}\n"
   ]
  },
  {
   "cell_type": "code",
   "execution_count": 275,
   "metadata": {},
   "outputs": [
    {
     "name": "stdout",
     "output_type": "stream",
     "text": [
      "The median of the data is: 6.5\n"
     ]
    }
   ],
   "source": [
    "print(\"The median of the data is:\", statistics.median(data.values()))"
   ]
  },
  {
   "cell_type": "markdown",
   "metadata": {},
   "source": [
    "### Problem 4"
   ]
  },
  {
   "cell_type": "code",
   "execution_count": 276,
   "metadata": {},
   "outputs": [],
   "source": [
    "# Allie hizo lagartijas todos los días de esta semana. Hizo 8 lagartijas el lunes, 14 lagartijas el martes, 18 lagartijas el miércoles, 6 lagartijas el jueves y 8 lagartijas el viernes.\n",
    "\n",
    "data = {\"Lunes\":8, \"Martes\":14, \"Miércoles\":18, \"Jueves\": 6, \"Viernes\":8}\n",
    "\n",
    "# Encuentra la mediana de la cantidad de lagartijas."
   ]
  },
  {
   "cell_type": "code",
   "execution_count": 277,
   "metadata": {},
   "outputs": [
    {
     "name": "stdout",
     "output_type": "stream",
     "text": [
      "The median is: 8\n"
     ]
    }
   ],
   "source": [
    "print(\"The median is:\", statistics.median(data.values()))"
   ]
  },
  {
   "cell_type": "markdown",
   "metadata": {},
   "source": [
    "### Problem 5"
   ]
  },
  {
   "cell_type": "code",
   "execution_count": 278,
   "metadata": {},
   "outputs": [
    {
     "name": "stdout",
     "output_type": "stream",
     "text": [
      "The mean is: 6.0\n"
     ]
    }
   ],
   "source": [
    "# Parte 1: encuentra la media\n",
    "# Encuentra la media de {5,7}\n",
    "data = [5,7]\n",
    "print(\"The mean is:\", np.mean(data))"
   ]
  },
  {
   "cell_type": "markdown",
   "metadata": {},
   "source": [
    "### Problem 6"
   ]
  },
  {
   "cell_type": "code",
   "execution_count": 279,
   "metadata": {},
   "outputs": [
    {
     "name": "stdout",
     "output_type": "stream",
     "text": [
      "The median is: 6.0\n"
     ]
    }
   ],
   "source": [
    "#  Encuentra la media de {5,6,7 }\n",
    "\n",
    "data = [5,6,7]\n",
    "print(\"The median is:\", np.median(data))\n"
   ]
  },
  {
   "cell_type": "markdown",
   "metadata": {},
   "source": [
    "### Problem 7"
   ]
  },
  {
   "cell_type": "code",
   "execution_count": 280,
   "metadata": {},
   "outputs": [
    {
     "name": "stdout",
     "output_type": "stream",
     "text": [
      "The median is: 3.0\n",
      "The mean is: 3.0\n"
     ]
    }
   ],
   "source": [
    "# ¡Qué interesante! En los primeros dos problemas, los datos estaban \"equilibrados\" alrededor del número seis. Intenta el problema siguiente sin encontrar el total o dividir. En vez de eso, piensa en cómo los números se encuentran equilibrados alrededor de la media.Encuentra la media de {1,3,5}\n",
    "\n",
    "data = [1,3,5]\n",
    "print(\"The median is:\", np.median(data))\n",
    "print(\"The mean is:\", np.mean(data))"
   ]
  },
  {
   "cell_type": "markdown",
   "metadata": {},
   "source": [
    "### Problem 8"
   ]
  },
  {
   "cell_type": "code",
   "execution_count": 281,
   "metadata": {},
   "outputs": [
    {
     "name": "stdout",
     "output_type": "stream",
     "text": [
      "The mean is: 4.0\n"
     ]
    }
   ],
   "source": [
    "# ¿Puedes ver cómo los datos del conjunto siempre están equilibrados alrededor de la media? ¡Intentemos un problema más! Encuentra la media de {2,3,5,6}\n",
    "\n",
    "data = [2,3,5,6]\n",
    "print(\"The mean is:\", np.mean(data))"
   ]
  },
  {
   "cell_type": "markdown",
   "metadata": {},
   "source": [
    "## Valor faltante para la media "
   ]
  },
  {
   "cell_type": "code",
   "execution_count": 282,
   "metadata": {},
   "outputs": [
    {
     "name": "stdout",
     "output_type": "stream",
     "text": [
      "The missing value in edades is: 3\n"
     ]
    }
   ],
   "source": [
    "edades = [5,2,2,4,8]\n",
    "actual_mean = 4\n",
    "real_number_of_edades = 6\n",
    "sum_edades = sum(edades)\n",
    "\n",
    "print(\"The missing value in edades is:\", (actual_mean * real_number_of_edades) - sum_edades)"
   ]
  },
  {
   "cell_type": "markdown",
   "metadata": {},
   "source": [
    "### Problem 1 "
   ]
  },
  {
   "cell_type": "code",
   "execution_count": 283,
   "metadata": {},
   "outputs": [
    {
     "data": {
      "text/html": [
       "<div>\n",
       "<style scoped>\n",
       "    .dataframe tbody tr th:only-of-type {\n",
       "        vertical-align: middle;\n",
       "    }\n",
       "\n",
       "    .dataframe tbody tr th {\n",
       "        vertical-align: top;\n",
       "    }\n",
       "\n",
       "    .dataframe thead th {\n",
       "        text-align: right;\n",
       "    }\n",
       "</style>\n",
       "<table border=\"1\" class=\"dataframe\">\n",
       "  <thead>\n",
       "    <tr style=\"text-align: right;\">\n",
       "      <th></th>\n",
       "      <th>Martha's Moonwalk</th>\n",
       "      <th>Shirly's Shimmy</th>\n",
       "      <th>Harry's Hoedown</th>\n",
       "    </tr>\n",
       "  </thead>\n",
       "  <tbody>\n",
       "    <tr>\n",
       "      <th>Cantidad de asistentes</th>\n",
       "      <td>48</td>\n",
       "      <td>33</td>\n",
       "      <td>0</td>\n",
       "    </tr>\n",
       "  </tbody>\n",
       "</table>\n",
       "</div>"
      ],
      "text/plain": [
       "                        Martha's Moonwalk  Shirly's Shimmy  Harry's Hoedown\n",
       "Cantidad de asistentes                 48               33                0"
      ]
     },
     "execution_count": 283,
     "metadata": {},
     "output_type": "execute_result"
    }
   ],
   "source": [
    "# La siguiente tabla muestra la cantidad de personas que asistieron a cada uno de los eventos privados de danza organizados por Arreglos Fenel.\n",
    "\n",
    "data = {\"Martha's Moonwalk\": 48, \"Shirly's Shimmy\": 33, \"Harry's Hoedown\": 0}\n",
    "# Actually the 0 is missing\n",
    "\n",
    "index = [\"Cantidad de asistentes\"]\n",
    "\n",
    "df = pd.DataFrame(data, index=index)\n",
    "df\n",
    "\n",
    "# Si la media del conjunto de datos es 41 personas, encuentra la cantidad de personas que asistieron a Harry's Hoedown."
   ]
  },
  {
   "cell_type": "code",
   "execution_count": 284,
   "metadata": {},
   "outputs": [
    {
     "name": "stdout",
     "output_type": "stream",
     "text": [
      "The real number of assistants to Harry's Hoedown was: 42\n"
     ]
    }
   ],
   "source": [
    "actual_mean = 41\n",
    "sum_data = sum(data.values())\n",
    "\n",
    "print(\"The real number of assistants to Harry's Hoedown was:\", (actual_mean * 3 )- sum_data)\n"
   ]
  },
  {
   "cell_type": "markdown",
   "metadata": {},
   "source": [
    "### Problem 2"
   ]
  },
  {
   "cell_type": "code",
   "execution_count": 285,
   "metadata": {},
   "outputs": [
    {
     "data": {
      "text/html": [
       "<div>\n",
       "<style scoped>\n",
       "    .dataframe tbody tr th:only-of-type {\n",
       "        vertical-align: middle;\n",
       "    }\n",
       "\n",
       "    .dataframe tbody tr th {\n",
       "        vertical-align: top;\n",
       "    }\n",
       "\n",
       "    .dataframe thead th {\n",
       "        text-align: right;\n",
       "    }\n",
       "</style>\n",
       "<table border=\"1\" class=\"dataframe\">\n",
       "  <thead>\n",
       "    <tr style=\"text-align: right;\">\n",
       "      <th></th>\n",
       "      <th>Examen final</th>\n",
       "      <th>Calificación en una escala de 100 puntos</th>\n",
       "    </tr>\n",
       "  </thead>\n",
       "  <tbody>\n",
       "    <tr>\n",
       "      <th>0</th>\n",
       "      <td>Astronomía</td>\n",
       "      <td>72</td>\n",
       "    </tr>\n",
       "    <tr>\n",
       "      <th>1</th>\n",
       "      <td>Biología</td>\n",
       "      <td>85</td>\n",
       "    </tr>\n",
       "    <tr>\n",
       "      <th>2</th>\n",
       "      <td>Física</td>\n",
       "      <td>92</td>\n",
       "    </tr>\n",
       "    <tr>\n",
       "      <th>3</th>\n",
       "      <td>Química</td>\n",
       "      <td>0</td>\n",
       "    </tr>\n",
       "  </tbody>\n",
       "</table>\n",
       "</div>"
      ],
      "text/plain": [
       "  Examen final  Calificación en una escala de 100 puntos\n",
       "0   Astronomía                                        72\n",
       "1     Biología                                        85\n",
       "2       Física                                        92\n",
       "3      Química                                         0"
      ]
     },
     "execution_count": 285,
     "metadata": {},
     "output_type": "execute_result"
    }
   ],
   "source": [
    "# La siguiente tabla muestra las calificaciones de cada uno de los exámenes finales de Haruka el semestre pasado.\n",
    "\n",
    "data = {\"Examen final\": [\"Astronomía\", \"Biología\", \"Física\", \"Química\"], \"Calificación en una escala de 100 puntos\": [72, 85,92,0]}\n",
    "df = pd.DataFrame(data)\n",
    "df\n",
    "\n",
    "# Si la media del conjunto de datos es 84 puntos, encuentra la calificación de Haruka en el examen final de química."
   ]
  },
  {
   "cell_type": "code",
   "execution_count": 286,
   "metadata": {},
   "outputs": [
    {
     "name": "stdout",
     "output_type": "stream",
     "text": [
      "The missing value for the mean was:  87\n"
     ]
    }
   ],
   "source": [
    "actual_mean = 84\n",
    "sum_data = sum(data[\"Calificación en una escala de 100 puntos\"])\n",
    "number_of_elements = 4\n",
    "\n",
    "print(\"The missing value for the mean was: \", (actual_mean * number_of_elements)- sum_data)\n"
   ]
  },
  {
   "cell_type": "code",
   "execution_count": 287,
   "metadata": {},
   "outputs": [
    {
     "data": {
      "text/plain": [
       "84.0"
      ]
     },
     "execution_count": 287,
     "metadata": {},
     "output_type": "execute_result"
    }
   ],
   "source": [
    "(72 + 85 + 92 + 87) / 4"
   ]
  },
  {
   "cell_type": "markdown",
   "metadata": {},
   "source": [
    "### Problem 3"
   ]
  },
  {
   "cell_type": "code",
   "execution_count": 288,
   "metadata": {},
   "outputs": [
    {
     "data": {
      "text/html": [
       "<div>\n",
       "<style scoped>\n",
       "    .dataframe tbody tr th:only-of-type {\n",
       "        vertical-align: middle;\n",
       "    }\n",
       "\n",
       "    .dataframe tbody tr th {\n",
       "        vertical-align: top;\n",
       "    }\n",
       "\n",
       "    .dataframe thead th {\n",
       "        text-align: right;\n",
       "    }\n",
       "</style>\n",
       "<table border=\"1\" class=\"dataframe\">\n",
       "  <thead>\n",
       "    <tr style=\"text-align: right;\">\n",
       "      <th></th>\n",
       "      <th>Sucursal</th>\n",
       "      <th>Ingresos (en miles de pesos)</th>\n",
       "    </tr>\n",
       "  </thead>\n",
       "  <tbody>\n",
       "    <tr>\n",
       "      <th>0</th>\n",
       "      <td>Cedarton</td>\n",
       "      <td>121</td>\n",
       "    </tr>\n",
       "    <tr>\n",
       "      <th>1</th>\n",
       "      <td>Rimber</td>\n",
       "      <td>189</td>\n",
       "    </tr>\n",
       "    <tr>\n",
       "      <th>2</th>\n",
       "      <td>Linton</td>\n",
       "      <td>147</td>\n",
       "    </tr>\n",
       "    <tr>\n",
       "      <th>3</th>\n",
       "      <td>Granton</td>\n",
       "      <td>0</td>\n",
       "    </tr>\n",
       "  </tbody>\n",
       "</table>\n",
       "</div>"
      ],
      "text/plain": [
       "   Sucursal  Ingresos (en miles de pesos)\n",
       "0  Cedarton                           121\n",
       "1    Rimber                           189\n",
       "2    Linton                           147\n",
       "3   Granton                             0"
      ]
     },
     "execution_count": 288,
     "metadata": {},
     "output_type": "execute_result"
    }
   ],
   "source": [
    "# La siguiente tabla muestra los ingresos del año pasado de cada sucursal de Herman's Hoagies.\n",
    "\n",
    "data = {\"Sucursal\": [\"Cedarton\", \"Rimber\", \"Linton\", \"Granton\"], \"Ingresos (en miles de pesos)\": [121,189,147,0] }\n",
    "df = pd.DataFrame(data)\n",
    "df\n",
    "\n",
    "# Si la media del conjunto de datos es 158 mil pesos, encuentra los ingresos de la sucursal Granton."
   ]
  },
  {
   "cell_type": "code",
   "execution_count": 289,
   "metadata": {},
   "outputs": [],
   "source": [
    "actual_mean = 158\n",
    "number_of_elements = 4\n",
    "sum_of_elements = sum(data[\"Ingresos (en miles de pesos)\"])"
   ]
  },
  {
   "cell_type": "code",
   "execution_count": 290,
   "metadata": {},
   "outputs": [
    {
     "name": "stdout",
     "output_type": "stream",
     "text": [
      "The missing value was: 175\n"
     ]
    }
   ],
   "source": [
    "print(\"The missing value was:\", (actual_mean * number_of_elements)- sum_of_elements)"
   ]
  },
  {
   "cell_type": "code",
   "execution_count": 291,
   "metadata": {},
   "outputs": [
    {
     "data": {
      "text/plain": [
       "158.0"
      ]
     },
     "execution_count": 291,
     "metadata": {},
     "output_type": "execute_result"
    }
   ],
   "source": [
    "(121 + 189 + 147 + 175) /4"
   ]
  },
  {
   "cell_type": "markdown",
   "metadata": {},
   "source": [
    "### Problem 4"
   ]
  },
  {
   "cell_type": "code",
   "execution_count": 292,
   "metadata": {},
   "outputs": [],
   "source": [
    "# Los siguientes datos representan la cantidad de tacos de pollo en el plato de cada miembro de la familia.\n",
    "\n",
    "data = [1,3,0,6]\n",
    "actual_mean = 3\n",
    "number_of_elements = 5\n",
    "sum_of_elements = sum(data)\n",
    "\n",
    "# Si la media del conjunto de datos es 3 tacos, encuentra la cantidad de tacos de pollo que falta."
   ]
  },
  {
   "cell_type": "code",
   "execution_count": 293,
   "metadata": {},
   "outputs": [
    {
     "name": "stdout",
     "output_type": "stream",
     "text": [
      "The mean of tacos was 5\n"
     ]
    }
   ],
   "source": [
    "print(\"The mean of tacos was\", (actual_mean * number_of_elements) - sum_of_elements)"
   ]
  },
  {
   "cell_type": "markdown",
   "metadata": {},
   "source": [
    "# U3 L3 Rangos intercuartiles"
   ]
  },
  {
   "cell_type": "markdown",
   "metadata": {},
   "source": [
    "### Caso 1"
   ]
  },
  {
   "cell_type": "code",
   "execution_count": 294,
   "metadata": {},
   "outputs": [],
   "source": [
    "data = [7,12,15,10,6,4,14,11,4]\n",
    "#serie = pd.Series(data)\n",
    "#data = [4,4,6,7,10,11,12,14,15]"
   ]
  },
  {
   "cell_type": "code",
   "execution_count": 295,
   "metadata": {},
   "outputs": [
    {
     "name": "stdout",
     "output_type": "stream",
     "text": [
      "Minimum: 4\n",
      "Quartile 1: 6.0\n",
      "Median: 10.0\n",
      "Quartile 3: 12.0\n",
      "Maximum: 15\n"
     ]
    }
   ],
   "source": [
    "minimum = np.min(data)\n",
    "q1 = np.percentile(data, 25)\n",
    "median_of_data = np.median(data)\n",
    "q3 = np.percentile(data, 75)\n",
    "maximum = np.max(data)\n",
    "\n",
    "print(\"Minimum:\", minimum)\n",
    "print(\"Quartile 1:\", q1)\n",
    "print(\"Median:\", median_of_data)\n",
    "print(\"Quartile 3:\", q3)\n",
    "print(\"Maximum:\", maximum)"
   ]
  },
  {
   "cell_type": "code",
   "execution_count": 296,
   "metadata": {},
   "outputs": [
    {
     "name": "stdout",
     "output_type": "stream",
     "text": [
      "The interquartile range is: 6.0\n"
     ]
    }
   ],
   "source": [
    "iqr = q3 - q1\n",
    "print(\"The interquartile range is:\", iqr)"
   ]
  },
  {
   "cell_type": "markdown",
   "metadata": {},
   "source": [
    "### Caso 2"
   ]
  },
  {
   "cell_type": "code",
   "execution_count": 297,
   "metadata": {},
   "outputs": [],
   "source": [
    "data = [7, 9,9,10,10,10,11,12,12,14]"
   ]
  },
  {
   "cell_type": "code",
   "execution_count": 298,
   "metadata": {},
   "outputs": [],
   "source": [
    "data.sort()"
   ]
  },
  {
   "cell_type": "code",
   "execution_count": 299,
   "metadata": {},
   "outputs": [
    {
     "data": {
      "text/plain": [
       "[7, 9, 9, 10, 10, 10, 11, 12, 12, 14]"
      ]
     },
     "execution_count": 299,
     "metadata": {},
     "output_type": "execute_result"
    }
   ],
   "source": [
    "data"
   ]
  },
  {
   "cell_type": "code",
   "execution_count": 300,
   "metadata": {},
   "outputs": [
    {
     "name": "stdout",
     "output_type": "stream",
     "text": [
      "Q1: 9.25\n",
      "Median: 10.0\n",
      "Q3 11.75\n"
     ]
    }
   ],
   "source": [
    "q1 = np.percentile(data,25)\n",
    "median_of_data = np.median(data)\n",
    "q3 = np.percentile(data,75)\n",
    "\n",
    "print(\"Q1:\", q1)\n",
    "print(\"Median:\", median_of_data)\n",
    "print(\"Q3\", q3)"
   ]
  },
  {
   "cell_type": "code",
   "execution_count": 301,
   "metadata": {},
   "outputs": [
    {
     "name": "stdout",
     "output_type": "stream",
     "text": [
      "Range interquartile: 2.5\n"
     ]
    }
   ],
   "source": [
    "iqr = q3 - q1\n",
    "print(\"Range interquartile:\", iqr)"
   ]
  },
  {
   "cell_type": "markdown",
   "metadata": {},
   "source": [
    "### Problema 1"
   ]
  },
  {
   "cell_type": "code",
   "execution_count": 302,
   "metadata": {},
   "outputs": [],
   "source": [
    "# Encuentra el rango entre cuartiles (REC) de los datos en la gráfica de puntos.\n",
    "\n",
    "data = [81,82,83,83,84,84,84,85]\n",
    "data.sort()"
   ]
  },
  {
   "cell_type": "code",
   "execution_count": 303,
   "metadata": {},
   "outputs": [
    {
     "name": "stdout",
     "output_type": "stream",
     "text": [
      "The interquartile range is: 1.25\n"
     ]
    }
   ],
   "source": [
    "q1 = np.percentile(data, 25)\n",
    "q3 = np.percentile(data, 75)\n",
    "\n",
    "print(\"The interquartile range is:\", q3 - q1)"
   ]
  },
  {
   "cell_type": "markdown",
   "metadata": {},
   "source": [
    "### Problema 2"
   ]
  },
  {
   "cell_type": "code",
   "execution_count": 304,
   "metadata": {},
   "outputs": [],
   "source": [
    "# Encuentra el rango entre cuartiles (REC) de los datos en la gráfica de puntos.\n",
    "\n",
    "data = [0,1,1,3,3,3,4,5,7]\n",
    "data.sort()"
   ]
  },
  {
   "cell_type": "code",
   "execution_count": 305,
   "metadata": {},
   "outputs": [
    {
     "name": "stdout",
     "output_type": "stream",
     "text": [
      "Range interquartile is: 3.0\n"
     ]
    }
   ],
   "source": [
    "q1 = np.percentile(data,25)\n",
    "q3 = np.percentile(data, 75)\n",
    "\n",
    "print(\"Range interquartile is:\", q3-q1)"
   ]
  },
  {
   "cell_type": "markdown",
   "metadata": {},
   "source": [
    "### Problema 3"
   ]
  },
  {
   "cell_type": "code",
   "execution_count": 306,
   "metadata": {},
   "outputs": [],
   "source": [
    "# Encuentra el rango entre cuartiles (REC) del conjunto de datos.\n",
    "data = [2.8,4,4.3,6,7.5,8.5,9,11.6,12,12.1]\n",
    "data.sort()"
   ]
  },
  {
   "cell_type": "code",
   "execution_count": 307,
   "metadata": {},
   "outputs": [],
   "source": [
    "q1 = np.percentile(data, 25)\n",
    "q3 = np.percentile(data, 75)"
   ]
  },
  {
   "cell_type": "code",
   "execution_count": 308,
   "metadata": {},
   "outputs": [
    {
     "name": "stdout",
     "output_type": "stream",
     "text": [
      "The range interquartile: 6.225\n"
     ]
    }
   ],
   "source": [
    "print(\"The range interquartile:\", q3-q1)"
   ]
  },
  {
   "cell_type": "markdown",
   "metadata": {},
   "source": [
    "## Range and range interquartile"
   ]
  },
  {
   "cell_type": "code",
   "execution_count": 309,
   "metadata": {},
   "outputs": [],
   "source": [
    "# Ron registró las temperaturas altas diarias de dos ciudades diferentes en una semana reciente en grados Celsius. Abajo se muestran las temperaturas para cada ciudad.\n",
    "\n",
    "kansas = [23,25,28,28,32,33,35]\n",
    "paradise = [16,24,26,26,26,27,28]"
   ]
  },
  {
   "cell_type": "code",
   "execution_count": 310,
   "metadata": {},
   "outputs": [
    {
     "data": {
      "text/plain": [
       "12"
      ]
     },
     "execution_count": 310,
     "metadata": {},
     "output_type": "execute_result"
    }
   ],
   "source": [
    "# Calcula el rango de temperaturas en la Ciudad de Kansas, Misouri.\n",
    "\n",
    "(max(kansas)) - (min(kansas))"
   ]
  },
  {
   "cell_type": "code",
   "execution_count": 311,
   "metadata": {},
   "outputs": [
    {
     "data": {
      "text/plain": [
       "12"
      ]
     },
     "execution_count": 311,
     "metadata": {},
     "output_type": "execute_result"
    }
   ],
   "source": [
    "# Calcula el rango de temperaturas en Paradise, Michigan.\n",
    "(max(paradise)) - (min(paradise))"
   ]
  },
  {
   "cell_type": "code",
   "execution_count": 312,
   "metadata": {},
   "outputs": [
    {
     "data": {
      "text/plain": [
       "6.0"
      ]
     },
     "execution_count": 312,
     "metadata": {},
     "output_type": "execute_result"
    }
   ],
   "source": [
    "# Calcula el RIQ de las temperaturas en la Ciudad de Kansas, Misouri.\n",
    "np.percentile(kansas, 75) - np.percentile(kansas, 25) "
   ]
  },
  {
   "cell_type": "markdown",
   "metadata": {},
   "source": [
    "# U3 L4 Medidas de dispersión: rango, varianza y desviación estándar"
   ]
  },
  {
   "cell_type": "code",
   "execution_count": 313,
   "metadata": {},
   "outputs": [],
   "source": [
    "# Case 1\n",
    "data = [4,4.2,5,4.3,5.5]"
   ]
  },
  {
   "cell_type": "code",
   "execution_count": 314,
   "metadata": {},
   "outputs": [
    {
     "name": "stdout",
     "output_type": "stream",
     "text": [
      "0.5621387729022078\n",
      "0.6284902544988267\n"
     ]
    }
   ],
   "source": [
    "print(np.std(data))\n",
    "print(np.std(data, ddof=1))"
   ]
  },
  {
   "cell_type": "code",
   "execution_count": 315,
   "metadata": {},
   "outputs": [],
   "source": [
    "# Case 2\n",
    "data = [6,2,3,1]"
   ]
  },
  {
   "cell_type": "code",
   "execution_count": 316,
   "metadata": {},
   "outputs": [
    {
     "data": {
      "text/plain": [
       "3.0"
      ]
     },
     "execution_count": 316,
     "metadata": {},
     "output_type": "execute_result"
    }
   ],
   "source": [
    "# 1) Get the mean\n",
    "np.mean(data)"
   ]
  },
  {
   "cell_type": "code",
   "execution_count": 317,
   "metadata": {},
   "outputs": [
    {
     "name": "stdout",
     "output_type": "stream",
     "text": [
      "1.8708286933869707\n",
      "2.160246899469287\n"
     ]
    }
   ],
   "source": [
    "print(np.std(data))\n",
    "print(np.std(data, ddof=1))"
   ]
  },
  {
   "cell_type": "code",
   "execution_count": 318,
   "metadata": {},
   "outputs": [],
   "source": [
    "# Case 3\n",
    "\n",
    "data = [1,4,7,2,6]"
   ]
  },
  {
   "cell_type": "code",
   "execution_count": 319,
   "metadata": {},
   "outputs": [
    {
     "data": {
      "text/plain": [
       "2.280350850198276"
      ]
     },
     "execution_count": 319,
     "metadata": {},
     "output_type": "execute_result"
    }
   ],
   "source": [
    "# Std of case 3\n",
    "\n",
    "np.std(data)"
   ]
  },
  {
   "cell_type": "markdown",
   "metadata": {},
   "source": [
    "### Problem 1"
   ]
  },
  {
   "cell_type": "code",
   "execution_count": 320,
   "metadata": {},
   "outputs": [],
   "source": [
    "# Los siguientes puntos de datos representan el número de palabras que 5 estudiantes encontraron en una sopa de letras.\n",
    "\n",
    "data = [18,16,15,15,16]\n",
    "\n",
    "# Calcula la desviación estándar del conjunto de datos."
   ]
  },
  {
   "cell_type": "code",
   "execution_count": 321,
   "metadata": {},
   "outputs": [
    {
     "name": "stdout",
     "output_type": "stream",
     "text": [
      "The standard deviation is:  1.0954451150103321\n"
     ]
    }
   ],
   "source": [
    "print(\"The standard deviation is: \", np.std(data))"
   ]
  },
  {
   "cell_type": "markdown",
   "metadata": {},
   "source": [
    "### Problem 2"
   ]
  },
  {
   "cell_type": "code",
   "execution_count": 322,
   "metadata": {},
   "outputs": [],
   "source": [
    "# Los siguientes puntos de datos representan el número de juegos que lanzaron cada uno de los abridores de los Sultanes de Monterrey en la temporada pasada.\n",
    "\n",
    "data = [3,2,4,7]\n",
    "\n",
    "# Calcula la desviación estándar del conjunto de datos. Redondea tu respuesta a la centésima más cercana."
   ]
  },
  {
   "cell_type": "code",
   "execution_count": 323,
   "metadata": {},
   "outputs": [
    {
     "name": "stdout",
     "output_type": "stream",
     "text": [
      "1.8708286933869707\n"
     ]
    }
   ],
   "source": [
    "print(np.std(data))"
   ]
  },
  {
   "cell_type": "markdown",
   "metadata": {},
   "source": [
    "### Problem 3"
   ]
  },
  {
   "cell_type": "code",
   "execution_count": 324,
   "metadata": {},
   "outputs": [],
   "source": [
    "# Agustín hizo lagartijas durante 5 días. Los siguientes puntos de datos representan el número de lagartijas que hizo cada día.\n",
    "\n",
    "data = [21,24,24,27,29]\n",
    "\n",
    "# Calcula la desviación estándar del conjunto de datos. Redondea tu respuesta a la centésima más cercana."
   ]
  },
  {
   "cell_type": "code",
   "execution_count": 325,
   "metadata": {},
   "outputs": [
    {
     "name": "stdout",
     "output_type": "stream",
     "text": [
      "2.756809750418044\n"
     ]
    }
   ],
   "source": [
    "print(np.std(data))"
   ]
  },
  {
   "cell_type": "markdown",
   "metadata": {},
   "source": [
    "### Problem 4"
   ]
  },
  {
   "cell_type": "code",
   "execution_count": 326,
   "metadata": {},
   "outputs": [],
   "source": [
    "# Los siguientes puntos de datos representan el número de puntos anotados por los 5 jugadores iniciales en el último partido de los Halcones rojos de Veracruz.\n",
    "\n",
    "data = [4,21,11,6,8]\n",
    "\n",
    "# Calcula la desviación estándar del conjunto de datos. Redondea tu respuesta a la centésima más cercana."
   ]
  },
  {
   "cell_type": "code",
   "execution_count": 327,
   "metadata": {},
   "outputs": [
    {
     "name": "stdout",
     "output_type": "stream",
     "text": [
      "5.966573556070519\n"
     ]
    }
   ],
   "source": [
    "print(np.std(data))"
   ]
  },
  {
   "cell_type": "markdown",
   "metadata": {},
   "source": [
    "### Cases"
   ]
  },
  {
   "cell_type": "code",
   "execution_count": 328,
   "metadata": {},
   "outputs": [],
   "source": [
    "# Case 1\n",
    "\n",
    "data = [1,4,7,2,6]\n",
    "\n",
    "data1 = [1,4,12,2,6]"
   ]
  },
  {
   "cell_type": "code",
   "execution_count": 329,
   "metadata": {},
   "outputs": [
    {
     "name": "stdout",
     "output_type": "stream",
     "text": [
      "4.0\n",
      "5.0\n"
     ]
    }
   ],
   "source": [
    "print(np.mean(data))\n",
    "print(np.mean(data1))"
   ]
  },
  {
   "cell_type": "code",
   "execution_count": 330,
   "metadata": {},
   "outputs": [],
   "source": [
    "# Case 2\n",
    "\n",
    "data = [0,0,0,0]"
   ]
  },
  {
   "cell_type": "code",
   "execution_count": 331,
   "metadata": {},
   "outputs": [
    {
     "name": "stdout",
     "output_type": "stream",
     "text": [
      "0.0\n"
     ]
    }
   ],
   "source": [
    "print(np.mean(data))"
   ]
  },
  {
   "cell_type": "markdown",
   "metadata": {},
   "source": [
    "## Varianza"
   ]
  },
  {
   "cell_type": "markdown",
   "metadata": {},
   "source": [
    "### Problem 1"
   ]
  },
  {
   "cell_type": "code",
   "execution_count": 332,
   "metadata": {},
   "outputs": [],
   "source": [
    "# Has hallado las siguientes edades (en años) de 4 osos. Elegiste aleatoriamente a los osos a partir de los 22 osos que hay en el zoológico de tu ciudad:\n",
    "\n",
    "data = [5,4,6,39]\n",
    "\n",
    "# Con base en la muestra, ¿cuál es la edad promedio de los osos? ¿Cuál es la varianza de las edades?"
   ]
  },
  {
   "cell_type": "code",
   "execution_count": 333,
   "metadata": {},
   "outputs": [
    {
     "name": "stdout",
     "output_type": "stream",
     "text": [
      "Mean age: 13.5\n",
      "Variance of the ages: 289.6666666666667\n"
     ]
    }
   ],
   "source": [
    "print(\"Mean age:\", np.mean(data))\n",
    "print(\"Variance of the ages:\", np.var(data, ddof=1)) # ddof= 1 es para la varianza de la muestra"
   ]
  },
  {
   "cell_type": "markdown",
   "metadata": {},
   "source": [
    "### Problem 2"
   ]
  },
  {
   "cell_type": "code",
   "execution_count": 334,
   "metadata": {},
   "outputs": [],
   "source": [
    "# Has hallado las siguientes edades (en años) de los 4 osos que hay en el zoológico de tu ciudad:\n",
    "\n",
    "data = [5,4,6,39]\n",
    "\n",
    "# ¿Cuál es la edad promedio de los osos del zoológico? ¿Cuál es la varianza?"
   ]
  },
  {
   "cell_type": "code",
   "execution_count": 335,
   "metadata": {},
   "outputs": [
    {
     "name": "stdout",
     "output_type": "stream",
     "text": [
      "The average age is: 13.5\n",
      "The variance is: 217.25\n"
     ]
    }
   ],
   "source": [
    "print(\"The average age is:\", np.mean(data))\n",
    "print(\"The variance is:\", np.var(data))"
   ]
  },
  {
   "cell_type": "markdown",
   "metadata": {},
   "source": [
    "### Problem 3"
   ]
  },
  {
   "cell_type": "code",
   "execution_count": 336,
   "metadata": {},
   "outputs": [],
   "source": [
    "# Has averiguado las siguientes edades (en años) de 4 gorilas. Elegiste los gorilas aleatoriamente de entre los 20 gorilas que hay en el zoológico de tu ciudad:\n",
    "\n",
    "data = [7,10,15,21]\n",
    "\n",
    "# Con base en la muestra, ¿cuál es la edad promedio de los gorilas? ¿Cuál es la varianza de sus edades?"
   ]
  },
  {
   "cell_type": "code",
   "execution_count": 337,
   "metadata": {},
   "outputs": [
    {
     "name": "stdout",
     "output_type": "stream",
     "text": [
      "Average age of gorillas: 13.25\n",
      "Variance of ages: 37.583333333333336\n"
     ]
    }
   ],
   "source": [
    "print(\"Average age of gorillas:\", np.mean(data))\n",
    "print(\"Variance of ages:\", np.var(data, ddof=1))"
   ]
  },
  {
   "cell_type": "markdown",
   "metadata": {},
   "source": [
    "### Problem 4"
   ]
  },
  {
   "cell_type": "code",
   "execution_count": 338,
   "metadata": {},
   "outputs": [],
   "source": [
    "# Has hallado las siguientes edades (en años) de los 6 leones que hay en el zoológico de tu ciudad:\n",
    "\n",
    "data =  [13,2,1,5,2,7]\n",
    "\n",
    "# ¿Cuál es la edad promedio de los leones que hay en el zoológico? ¿Cuál es la varianza?"
   ]
  },
  {
   "cell_type": "code",
   "execution_count": 339,
   "metadata": {},
   "outputs": [
    {
     "name": "stdout",
     "output_type": "stream",
     "text": [
      "Average age of gorillas: 5.0\n",
      "Variance of ages: 17.0\n"
     ]
    }
   ],
   "source": [
    "print(\"Average age of gorillas:\", np.mean(data))\n",
    "print(\"Variance of ages:\", np.var(data))"
   ]
  },
  {
   "cell_type": "markdown",
   "metadata": {},
   "source": [
    "### Problem 5"
   ]
  },
  {
   "cell_type": "code",
   "execution_count": 340,
   "metadata": {},
   "outputs": [],
   "source": [
    "# Has averiguado las siguientes edades (en años) de 5 cebras, las cuales fueron seleccionadas al azar de entre las 42 cebras del zoológico de tu ciudad:\n",
    "\n",
    "data = [8,11,17,7,19]\n",
    "\n",
    "# Con base en tu muestra, ¿cuál es la edad promedio de las cebras del zoológico? ¿Cuál es la desviación estándar? Redondea tus respuestas a la décima más cercana."
   ]
  },
  {
   "cell_type": "code",
   "execution_count": 341,
   "metadata": {},
   "outputs": [
    {
     "name": "stdout",
     "output_type": "stream",
     "text": [
      "The mean is: 12.4\n",
      "The standard deviation is: 5.366563145999495\n"
     ]
    }
   ],
   "source": [
    "print(\"The mean is:\", np.mean(data))\n",
    "print(\"The standard deviation is:\", np.std(data, ddof=1))"
   ]
  },
  {
   "cell_type": "markdown",
   "metadata": {},
   "source": [
    "### Problem 6"
   ]
  },
  {
   "cell_type": "code",
   "execution_count": 342,
   "metadata": {},
   "outputs": [],
   "source": [
    "# Has averiguado las siguientes edades (en años) de los 4 osos que viven en el zoológico de tu ciudad:\n",
    "\n",
    "data = [5,4,6,39]\n",
    "\n",
    "# ¿Cuál es la edad promedio de los osos del zoológico? ¿Cuál es la desviación estándar? Redondea tu respuesta a la décima más cercana."
   ]
  },
  {
   "cell_type": "code",
   "execution_count": 343,
   "metadata": {},
   "outputs": [
    {
     "name": "stdout",
     "output_type": "stream",
     "text": [
      "Average age: 13.5\n",
      "Standard deviation: 14.739402972983676\n"
     ]
    }
   ],
   "source": [
    "print(\"Average age:\", np.mean(data))\n",
    "print(\"Standard deviation:\", np.std(data))"
   ]
  },
  {
   "cell_type": "markdown",
   "metadata": {},
   "source": [
    "### Problem 7"
   ]
  },
  {
   "cell_type": "code",
   "execution_count": 344,
   "metadata": {},
   "outputs": [],
   "source": [
    "# Has averiguado las siguientes edades (en años) de 6 lagartos, las cuales fueron seleccionados al azar entre los 36 lagartos del zoológico de tu ciudad:\n",
    "\n",
    "data = [1,2,2,1,3,3]\n",
    "\n",
    "# Con base en tu muestra, ¿cuál es la edad promedio de los lagartos? ¿Cuál es la desviación estándar? Redondea tus respuesta a la décima más cercana."
   ]
  },
  {
   "cell_type": "code",
   "execution_count": 345,
   "metadata": {},
   "outputs": [
    {
     "name": "stdout",
     "output_type": "stream",
     "text": [
      "Average age: 2.0\n",
      "Standard deviation: 0.8944271909999159\n"
     ]
    }
   ],
   "source": [
    "print(\"Average age:\", np.mean(data))\n",
    "print(\"Standard deviation:\", np.std(data, ddof=1))"
   ]
  },
  {
   "cell_type": "markdown",
   "metadata": {},
   "source": [
    "### Problem 8"
   ]
  },
  {
   "cell_type": "code",
   "execution_count": 346,
   "metadata": {},
   "outputs": [],
   "source": [
    "# Has averiguado las siguientes edades (en años) de los 5 gorilas que viven en el zoológico de tu ciudad:\n",
    "\n",
    "data = [8,4,14,16,8]\n",
    "\n",
    "# ¿Cuál es la edad promedio de los gorilas del zoológico? ¿Cuál es la desviación estándar? Redondea tus respuestas a la décima más cercana."
   ]
  },
  {
   "cell_type": "code",
   "execution_count": 347,
   "metadata": {},
   "outputs": [
    {
     "name": "stdout",
     "output_type": "stream",
     "text": [
      "Average age: 10.0\n",
      "Standard deviation: 4.381780460041329\n"
     ]
    }
   ],
   "source": [
    "print(\"Average age:\", np.mean(data))\n",
    "print(\"Standard deviation:\", np.std(data))"
   ]
  },
  {
   "cell_type": "markdown",
   "metadata": {},
   "source": [
    "## Prueba de dominio"
   ]
  },
  {
   "cell_type": "markdown",
   "metadata": {},
   "source": [
    "### Problem 1"
   ]
  },
  {
   "cell_type": "code",
   "execution_count": 348,
   "metadata": {},
   "outputs": [],
   "source": [
    "# Los siguientes datos representan la cantidad de galletas de animalitos en la lonchera de cada niño. Responde 2 preguntas sobre el conjunto de datos. Ordena los datos de menor a mayor.\n",
    "\n",
    "data = [4,4,6,7,10,11,12,14,15]\n",
    "data.sort()\n",
    "# Encuentra el rango entre cuartiles (REC) del conjunto de datos."
   ]
  },
  {
   "cell_type": "code",
   "execution_count": 349,
   "metadata": {},
   "outputs": [],
   "source": [
    "q1 = np.percentile(data,25)\n",
    "q3 = np.percentile(data,75)\n",
    "mediana = np.percentile(data, 50)\n"
   ]
  },
  {
   "cell_type": "code",
   "execution_count": 350,
   "metadata": {},
   "outputs": [
    {
     "data": {
      "text/plain": [
       "10.0"
      ]
     },
     "execution_count": 350,
     "metadata": {},
     "output_type": "execute_result"
    }
   ],
   "source": [
    "mediana"
   ]
  },
  {
   "cell_type": "code",
   "execution_count": 351,
   "metadata": {},
   "outputs": [],
   "source": [
    "q1 = (4 + 6)/2\n",
    "q3 = (12 + 14)/2"
   ]
  },
  {
   "cell_type": "code",
   "execution_count": 352,
   "metadata": {},
   "outputs": [
    {
     "name": "stdout",
     "output_type": "stream",
     "text": [
      "The interquartile range is: 8.0\n"
     ]
    }
   ],
   "source": [
    "print(\"The interquartile range is:\", q3-q1)"
   ]
  },
  {
   "cell_type": "markdown",
   "metadata": {},
   "source": [
    "### Problem 2"
   ]
  },
  {
   "cell_type": "code",
   "execution_count": 353,
   "metadata": {},
   "outputs": [],
   "source": [
    "# Has averiguado las siguientes edades (en años) de 5 puercoespines, los cuales fueron seleccionados al azar de entre 26 puercoespines del zoológico de tu ciudad:\n",
    "\n",
    "data = [16,10,5,7,13]\n",
    "\n",
    "# Con base en tu muestra, ¿cuál es la edad promedio de los puercoespines? ¿Cuál es la desviación estándar? Redondea tu respuesta a la décima más cercana."
   ]
  },
  {
   "cell_type": "code",
   "execution_count": 354,
   "metadata": {},
   "outputs": [
    {
     "name": "stdout",
     "output_type": "stream",
     "text": [
      "Mean: 10.2\n",
      "Standard deviation: 4.43846820423443\n"
     ]
    }
   ],
   "source": [
    "print(\"Mean:\", np.mean(data) )\n",
    "print(\"Standard deviation:\", np.std(data, ddof=1))"
   ]
  },
  {
   "cell_type": "markdown",
   "metadata": {},
   "source": [
    "### Problem 3"
   ]
  },
  {
   "cell_type": "code",
   "execution_count": 355,
   "metadata": {},
   "outputs": [],
   "source": [
    "# Cada punto en la siguiente gráfica de puntos representa la cantidad de caries de un paciente que visitó al Dr. Blanco la semana pasada.\n",
    "\n",
    "data = [0,0,0,1,1,3,3,4,7,7]\n",
    "labels_of_data = [1, 2, 3, 4, 5, 6, 7, 8, 9, 10]\n",
    "\n",
    "# Encuentra el rango entre cuartiles (REC) de los datos en la gráfica de puntos."
   ]
  },
  {
   "cell_type": "code",
   "execution_count": 356,
   "metadata": {},
   "outputs": [
    {
     "data": {
      "text/html": [
       "<div>\n",
       "<style scoped>\n",
       "    .dataframe tbody tr th:only-of-type {\n",
       "        vertical-align: middle;\n",
       "    }\n",
       "\n",
       "    .dataframe tbody tr th {\n",
       "        vertical-align: top;\n",
       "    }\n",
       "\n",
       "    .dataframe thead th {\n",
       "        text-align: right;\n",
       "    }\n",
       "</style>\n",
       "<table border=\"1\" class=\"dataframe\">\n",
       "  <thead>\n",
       "    <tr style=\"text-align: right;\">\n",
       "      <th></th>\n",
       "      <th>labels of data</th>\n",
       "      <th>caries quantity</th>\n",
       "    </tr>\n",
       "  </thead>\n",
       "  <tbody>\n",
       "    <tr>\n",
       "      <th>0</th>\n",
       "      <td>1</td>\n",
       "      <td>0</td>\n",
       "    </tr>\n",
       "    <tr>\n",
       "      <th>1</th>\n",
       "      <td>2</td>\n",
       "      <td>0</td>\n",
       "    </tr>\n",
       "    <tr>\n",
       "      <th>2</th>\n",
       "      <td>3</td>\n",
       "      <td>0</td>\n",
       "    </tr>\n",
       "  </tbody>\n",
       "</table>\n",
       "</div>"
      ],
      "text/plain": [
       "   labels of data  caries quantity\n",
       "0               1                0\n",
       "1               2                0\n",
       "2               3                0"
      ]
     },
     "execution_count": 356,
     "metadata": {},
     "output_type": "execute_result"
    }
   ],
   "source": [
    "df = pd.DataFrame({\"labels of data\": labels_of_data, \"caries quantity\": data})\n",
    "df.head(3)"
   ]
  },
  {
   "cell_type": "code",
   "execution_count": 357,
   "metadata": {},
   "outputs": [
    {
     "data": {
      "text/plain": [
       "10"
      ]
     },
     "execution_count": 357,
     "metadata": {},
     "output_type": "execute_result"
    }
   ],
   "source": [
    "len(data)"
   ]
  },
  {
   "cell_type": "code",
   "execution_count": 358,
   "metadata": {},
   "outputs": [
    {
     "data": {
      "text/plain": [
       "[1, 2, 3, 4, 5, 6, 7, 8, 9, 10]"
      ]
     },
     "execution_count": 358,
     "metadata": {},
     "output_type": "execute_result"
    }
   ],
   "source": [
    "list(range(1,11))"
   ]
  },
  {
   "cell_type": "code",
   "execution_count": 359,
   "metadata": {},
   "outputs": [
    {
     "data": {
      "image/png": "[encoded data removed]",
      "text/plain": [
       "<Figure size 432x288 with 1 Axes>"
      ]
     },
     "metadata": {
      "needs_background": "light"
     },
     "output_type": "display_data"
    }
   ],
   "source": [
    "sns.barplot(x = \"labels of data\", y = \"caries quantity\", data = df)\n",
    "plt.show();"
   ]
  },
  {
   "cell_type": "code",
   "execution_count": 360,
   "metadata": {},
   "outputs": [],
   "source": [
    "q1 = np.percentile(data,25)\n",
    "median_of_data = np.median(data)\n",
    "q3 = np.percentile(data,75)"
   ]
  },
  {
   "cell_type": "code",
   "execution_count": 361,
   "metadata": {},
   "outputs": [
    {
     "name": "stdout",
     "output_type": "stream",
     "text": [
      "Median of the data: 2.0\n",
      "Interquartile range: 3.5\n"
     ]
    }
   ],
   "source": [
    "print(\"Median of the data:\", median_of_data)\n",
    "print(\"Interquartile range:\", q3-q1)"
   ]
  },
  {
   "cell_type": "code",
   "execution_count": 362,
   "metadata": {},
   "outputs": [
    {
     "name": "stdout",
     "output_type": "stream",
     "text": [
      "interquartile range: 4\n"
     ]
    }
   ],
   "source": [
    "# data = [0,0,0,1,1,3,3,4,7,7]\n",
    "\n",
    "q1 = 0\n",
    "q3 = 4\n",
    "\n",
    "print(\"interquartile range:\", q3 - q1)"
   ]
  },
  {
   "cell_type": "markdown",
   "metadata": {},
   "source": [
    "### Problem 4"
   ]
  },
  {
   "cell_type": "code",
   "execution_count": 363,
   "metadata": {},
   "outputs": [],
   "source": [
    "# Has averiguado las siguientes edades (en años) de los 6 leones que viven en el zoológico de tu ciudad:\n",
    "\n",
    "data = [13,2,1,5,2,7]\n",
    "\n",
    "# ¿Cuál es la edad promedio de los leones del zoológico? ¿Cuál es la desviación estándar? Redondea tu respuesta a la décima más cercana."
   ]
  },
  {
   "cell_type": "code",
   "execution_count": 364,
   "metadata": {},
   "outputs": [
    {
     "name": "stdout",
     "output_type": "stream",
     "text": [
      "Average age: 5.0\n",
      "Standard deviation: 4.123105625617661\n"
     ]
    }
   ],
   "source": [
    "print(\"Average age:\", np.mean(data))\n",
    "print(\"Standard deviation:\", np.std(data))"
   ]
  },
  {
   "cell_type": "markdown",
   "metadata": {},
   "source": [
    "### Problem 5"
   ]
  },
  {
   "cell_type": "code",
   "execution_count": 365,
   "metadata": {},
   "outputs": [],
   "source": [
    "# Cada punto en la siguiente gráfica de puntos representa la cantidad de goles que Luis anotó en una temporada de lacrosse.\n",
    "\n",
    "data = [43, 44,44,44,45,45,47,48,48]\n",
    "data.sort()\n",
    "\n",
    "# Encuentra el rango entre cuartiles (REC) de los datos en la gráfica de puntos."
   ]
  },
  {
   "cell_type": "code",
   "execution_count": 366,
   "metadata": {},
   "outputs": [
    {
     "name": "stdout",
     "output_type": "stream",
     "text": [
      "Median 45.0\n",
      "44.0\n",
      "47.0\n"
     ]
    }
   ],
   "source": [
    "# Median\n",
    "median_of_data = np.median(data)\n",
    "print(\"Median\", median_of_data)\n",
    "\n",
    "# Quartile 1\n",
    "q1 = np.percentile(data,25)\n",
    "print(q1)\n",
    "\n",
    "# Quartile 3\n",
    "q3 = np.percentile(data,75)\n",
    "print(q3)\n"
   ]
  },
  {
   "cell_type": "code",
   "execution_count": 367,
   "metadata": {},
   "outputs": [
    {
     "name": "stdout",
     "output_type": "stream",
     "text": [
      "Interquartile range: 3.0\n"
     ]
    }
   ],
   "source": [
    "print(\"Interquartile range:\", q3 - q1)"
   ]
  },
  {
   "cell_type": "code",
   "execution_count": 368,
   "metadata": {},
   "outputs": [
    {
     "name": "stdout",
     "output_type": "stream",
     "text": [
      "44.0\n",
      "47.5\n",
      "Interquartile range 3.5\n"
     ]
    }
   ],
   "source": [
    "# data = [43,44,44,44,45,45,47,48,48]\n",
    "q1 = (44 + 44)/2\n",
    "print(q1)\n",
    "\n",
    "q3 = (47 + 48) / 2\n",
    "print(q3)\n",
    "\n",
    "print(\"Interquartile range\", q3-q1)"
   ]
  },
  {
   "cell_type": "markdown",
   "metadata": {},
   "source": [
    "# U3 L4 Diagramas de caja y brazos"
   ]
  },
  {
   "cell_type": "markdown",
   "metadata": {},
   "source": [
    "### Problem 1"
   ]
  },
  {
   "cell_type": "code",
   "execution_count": 369,
   "metadata": {},
   "outputs": [],
   "source": [
    "# Los datos siguientes representan la cantidad de entrenamientos a los que fue cada miembro del equipo de esquí de Nidhi.\n",
    "\n",
    "data = [25,28,29,29,30,34,35,35,37,38]\n",
    "\n",
    "# ¿Cuál diagrama de caja resume correctamente los datos?"
   ]
  },
  {
   "cell_type": "code",
   "execution_count": 370,
   "metadata": {},
   "outputs": [
    {
     "name": "stderr",
     "output_type": "stream",
     "text": [
      "c:\\Users\\aleg0\\anaconda3\\lib\\site-packages\\seaborn\\_decorators.py:36: FutureWarning: Pass the following variable as a keyword arg: x. From version 0.12, the only valid positional argument will be `data`, and passing other arguments without an explicit keyword will result in an error or misinterpretation.\n",
      "  warnings.warn(\n"
     ]
    },
    {
     "data": {
      "image/png": "[encoded data removed]",
      "text/plain": [
       "<Figure size 720x432 with 1 Axes>"
      ]
     },
     "metadata": {
      "needs_background": "light"
     },
     "output_type": "display_data"
    }
   ],
   "source": [
    "plt.figure(figsize=(10,6))\n",
    "sns.boxplot(data)\n",
    "plt.show();"
   ]
  },
  {
   "cell_type": "code",
   "execution_count": 371,
   "metadata": {},
   "outputs": [
    {
     "name": "stdout",
     "output_type": "stream",
     "text": [
      "count    10.00\n",
      "mean     32.00\n",
      "std       4.35\n",
      "min      25.00\n",
      "25%      29.00\n",
      "50%      32.00\n",
      "75%      35.00\n",
      "max      38.00\n",
      "dtype: float64\n"
     ]
    }
   ],
   "source": [
    "serie = pd.Series(data)\n",
    "resumen = serie.describe()\n",
    "print(round(resumen, 2))"
   ]
  },
  {
   "cell_type": "code",
   "execution_count": 372,
   "metadata": {},
   "outputs": [
    {
     "data": {
      "text/plain": [
       "44.0"
      ]
     },
     "execution_count": 372,
     "metadata": {},
     "output_type": "execute_result"
    }
   ],
   "source": [
    "(43 + 45)/2"
   ]
  },
  {
   "cell_type": "markdown",
   "metadata": {},
   "source": [
    "### Problem 2"
   ]
  },
  {
   "cell_type": "code",
   "execution_count": 373,
   "metadata": {},
   "outputs": [
    {
     "name": "stdout",
     "output_type": "stream",
     "text": [
      "count     9.00\n",
      "mean     18.11\n",
      "std       3.76\n",
      "min      12.00\n",
      "25%      15.00\n",
      "50%      19.00\n",
      "75%      20.00\n",
      "max      24.00\n",
      "dtype: float64\n"
     ]
    }
   ],
   "source": [
    "# Los datos siguientes representan la cantidad de corredores en cada equipo de campo traviesa de la Conferencia del Norte.\n",
    "\n",
    "data = [12,15,15,17,19,19,20,22,24]\n",
    "serie = pd.Series(data)\n",
    "resumen = serie.describe()\n",
    "print(round(resumen,2))"
   ]
  },
  {
   "cell_type": "code",
   "execution_count": 374,
   "metadata": {},
   "outputs": [
    {
     "name": "stdout",
     "output_type": "stream",
     "text": [
      "15\n",
      "21.0\n",
      "Interquartile range: 6.0\n"
     ]
    }
   ],
   "source": [
    "q1 = 15\n",
    "q3 = (20+22)/2\n",
    "print(q1)\n",
    "print(q3)\n",
    "\n",
    "print(\"Interquartile range:\", q3-q1)"
   ]
  },
  {
   "cell_type": "markdown",
   "metadata": {},
   "source": [
    "### Problem 3"
   ]
  },
  {
   "cell_type": "code",
   "execution_count": 375,
   "metadata": {},
   "outputs": [
    {
     "name": "stdout",
     "output_type": "stream",
     "text": [
      "The range is: 12\n"
     ]
    }
   ],
   "source": [
    "# Este es un diagrama de caja que resume la cantidad de preguntas de matemáticas en las tareas de la Sra. O'Brien.\n",
    "\n",
    "maximum = 18\n",
    "minimum = 6\n",
    "\n",
    "print(\"The range is:\", maximum - minimum)"
   ]
  },
  {
   "cell_type": "markdown",
   "metadata": {},
   "source": [
    "### Problem 4"
   ]
  },
  {
   "cell_type": "code",
   "execution_count": 376,
   "metadata": {},
   "outputs": [
    {
     "name": "stdout",
     "output_type": "stream",
     "text": [
      "Interquartile range:  5\n"
     ]
    }
   ],
   "source": [
    "# Este es un diagrama de caja que resume la cantidad de preguntas de gramática en las tareas del Sr. Quintero. Encuentra el rango intercuartil (RIC) de los datos.\n",
    "\n",
    "q3 = 14\n",
    "q1 = 9\n",
    "\n",
    "print(\"Interquartile range: \", q3 - q1)"
   ]
  },
  {
   "cell_type": "code",
   "execution_count": 377,
   "metadata": {},
   "outputs": [
    {
     "name": "stdout",
     "output_type": "stream",
     "text": [
      "The range is: 6.0\n"
     ]
    }
   ],
   "source": [
    "# Este es un diagrama de caja que resume la magnitud de los terremotos.\n",
    "\n",
    "maximum = 8.5\n",
    "minimum = 2.5\n",
    "\n",
    "print(\"The range is:\", maximum - minimum)"
   ]
  },
  {
   "cell_type": "markdown",
   "metadata": {},
   "source": [
    "## Outliers rule definition and function"
   ]
  },
  {
   "cell_type": "code",
   "execution_count": 379,
   "metadata": {},
   "outputs": [],
   "source": [
    "# Example of use\n",
    "q1 = 13\n",
    "q3 = 18"
   ]
  },
  {
   "cell_type": "code",
   "execution_count": 380,
   "metadata": {},
   "outputs": [
    {
     "name": "stdout",
     "output_type": "stream",
     "text": [
      "The level of the outliers in the limit above should be: 25.5\n",
      "It is an outlier\n"
     ]
    }
   ],
   "source": [
    "outliers_rule(50,13,18)"
   ]
  },
  {
   "cell_type": "markdown",
   "metadata": {},
   "source": [
    "### Problema 1"
   ]
  },
  {
   "cell_type": "code",
   "execution_count": 381,
   "metadata": {},
   "outputs": [],
   "source": [
    "# El diagrama de tallos y hojas muestra el número de objetos en cada una de las 12 colecciones en un museo.\n",
    "# Aquí está el resumen de cinco números para estos datos:\n",
    "\n",
    "data = {\"Mínimo\": 3, \"Q1\": 6, \"Mediana\": 12, \"Q3\": 13, \"Máximo\": 39}\n",
    "index = [0]"
   ]
  },
  {
   "cell_type": "code",
   "execution_count": 382,
   "metadata": {},
   "outputs": [
    {
     "data": {
      "text/plain": [
       "{'Mínimo': 3, 'Q1': 6, 'Mediana': 12, 'Q3': 13, 'Máximo': 39}"
      ]
     },
     "execution_count": 382,
     "metadata": {},
     "output_type": "execute_result"
    }
   ],
   "source": [
    "data"
   ]
  },
  {
   "cell_type": "code",
   "execution_count": 383,
   "metadata": {},
   "outputs": [
    {
     "data": {
      "text/html": [
       "<div>\n",
       "<style scoped>\n",
       "    .dataframe tbody tr th:only-of-type {\n",
       "        vertical-align: middle;\n",
       "    }\n",
       "\n",
       "    .dataframe tbody tr th {\n",
       "        vertical-align: top;\n",
       "    }\n",
       "\n",
       "    .dataframe thead th {\n",
       "        text-align: right;\n",
       "    }\n",
       "</style>\n",
       "<table border=\"1\" class=\"dataframe\">\n",
       "  <thead>\n",
       "    <tr style=\"text-align: right;\">\n",
       "      <th></th>\n",
       "      <th>Mínimo</th>\n",
       "      <th>Q1</th>\n",
       "      <th>Mediana</th>\n",
       "      <th>Q3</th>\n",
       "      <th>Máximo</th>\n",
       "    </tr>\n",
       "  </thead>\n",
       "  <tbody>\n",
       "    <tr>\n",
       "      <th>0</th>\n",
       "      <td>3</td>\n",
       "      <td>6</td>\n",
       "      <td>12</td>\n",
       "      <td>13</td>\n",
       "      <td>39</td>\n",
       "    </tr>\n",
       "  </tbody>\n",
       "</table>\n",
       "</div>"
      ],
      "text/plain": [
       "   Mínimo  Q1  Mediana  Q3  Máximo\n",
       "0       3   6       12  13      39"
      ]
     },
     "execution_count": 383,
     "metadata": {},
     "output_type": "execute_result"
    }
   ],
   "source": [
    "df = pd.DataFrame(data, index= index)\n",
    "df"
   ]
  },
  {
   "cell_type": "code",
   "execution_count": 384,
   "metadata": {},
   "outputs": [
    {
     "data": {
      "text/plain": [
       "count    12.00\n",
       "mean     12.92\n",
       "std      10.28\n",
       "min       3.00\n",
       "25%       6.50\n",
       "50%      12.00\n",
       "75%      13.00\n",
       "max      39.00\n",
       "dtype: float64"
      ]
     },
     "execution_count": 384,
     "metadata": {},
     "output_type": "execute_result"
    }
   ],
   "source": [
    "data = [3,3,5,7,9,12,12,13,13,13,26,39]\n",
    "serie = pd.Series(data)\n",
    "round(serie.describe(),2)"
   ]
  },
  {
   "cell_type": "code",
   "execution_count": 385,
   "metadata": {},
   "outputs": [
    {
     "name": "stdout",
     "output_type": "stream",
     "text": [
      "The limit below is: -4.5 AND The limit above is: 23.5\n",
      "It is NOT an outlier\n"
     ]
    }
   ],
   "source": [
    "# De acuerdo con la regla del 1.5 RIQ para valores atípicos, ¿cuántos valores atípicos bajos hay en el conjunto de datos?\n",
    "\n",
    "outliers_rule(3, 6, 13)\n",
    "\n",
    "# Hay cero valor atípicos"
   ]
  },
  {
   "cell_type": "markdown",
   "metadata": {},
   "source": [
    "### Problema 2"
   ]
  },
  {
   "cell_type": "code",
   "execution_count": 386,
   "metadata": {},
   "outputs": [
    {
     "data": {
      "text/html": [
       "<div>\n",
       "<style scoped>\n",
       "    .dataframe tbody tr th:only-of-type {\n",
       "        vertical-align: middle;\n",
       "    }\n",
       "\n",
       "    .dataframe tbody tr th {\n",
       "        vertical-align: top;\n",
       "    }\n",
       "\n",
       "    .dataframe thead th {\n",
       "        text-align: right;\n",
       "    }\n",
       "</style>\n",
       "<table border=\"1\" class=\"dataframe\">\n",
       "  <thead>\n",
       "    <tr style=\"text-align: right;\">\n",
       "      <th></th>\n",
       "      <th>Mínimo</th>\n",
       "      <th>Q1</th>\n",
       "      <th>Mediana</th>\n",
       "      <th>Q3</th>\n",
       "      <th>Máximo</th>\n",
       "    </tr>\n",
       "  </thead>\n",
       "  <tbody>\n",
       "    <tr>\n",
       "      <th>Información</th>\n",
       "      <td>13</td>\n",
       "      <td>24</td>\n",
       "      <td>30</td>\n",
       "      <td>40</td>\n",
       "      <td>138</td>\n",
       "    </tr>\n",
       "  </tbody>\n",
       "</table>\n",
       "</div>"
      ],
      "text/plain": [
       "             Mínimo  Q1  Mediana  Q3  Máximo\n",
       "Información      13  24       30  40     138"
      ]
     },
     "execution_count": 386,
     "metadata": {},
     "output_type": "execute_result"
    }
   ],
   "source": [
    "# La esperanza de vida promedio de 18 especies comunes de tortugas se muestra a continuación junto con el resumen de cinco números.\n",
    "\n",
    "data = {\"Mínimo\": [13], \"Q1\": [24], \"Mediana\": 30, \"Q3\": 40, \"Máximo\": 138}\n",
    "index = [\"Información\"]\n",
    "df = pd.DataFrame(data, index=index)\n",
    "df"
   ]
  },
  {
   "cell_type": "code",
   "execution_count": 387,
   "metadata": {},
   "outputs": [
    {
     "name": "stdout",
     "output_type": "stream",
     "text": [
      "The level of the outliers in the limit above should be: 64.0\n",
      "It is an outlier\n"
     ]
    }
   ],
   "source": [
    "outliers_rule(138,24,40)"
   ]
  },
  {
   "cell_type": "markdown",
   "metadata": {},
   "source": [
    "### Problema 3"
   ]
  },
  {
   "cell_type": "code",
   "execution_count": 388,
   "metadata": {},
   "outputs": [
    {
     "data": {
      "text/html": [
       "<div>\n",
       "<style scoped>\n",
       "    .dataframe tbody tr th:only-of-type {\n",
       "        vertical-align: middle;\n",
       "    }\n",
       "\n",
       "    .dataframe tbody tr th {\n",
       "        vertical-align: top;\n",
       "    }\n",
       "\n",
       "    .dataframe thead th {\n",
       "        text-align: right;\n",
       "    }\n",
       "</style>\n",
       "<table border=\"1\" class=\"dataframe\">\n",
       "  <thead>\n",
       "    <tr style=\"text-align: right;\">\n",
       "      <th></th>\n",
       "      <th>Mínimo</th>\n",
       "      <th>Q1</th>\n",
       "      <th>Mediana</th>\n",
       "      <th>Q3</th>\n",
       "      <th>Máximo</th>\n",
       "    </tr>\n",
       "  </thead>\n",
       "  <tbody>\n",
       "    <tr>\n",
       "      <th>Information</th>\n",
       "      <td>4</td>\n",
       "      <td>9</td>\n",
       "      <td>10</td>\n",
       "      <td>13</td>\n",
       "      <td>20</td>\n",
       "    </tr>\n",
       "  </tbody>\n",
       "</table>\n",
       "</div>"
      ],
      "text/plain": [
       "             Mínimo  Q1  Mediana  Q3  Máximo\n",
       "Information       4   9       10  13      20"
      ]
     },
     "execution_count": 388,
     "metadata": {},
     "output_type": "execute_result"
    }
   ],
   "source": [
    "# La siguiente gráfica de puntos representa el número de canciones en cada álbum de la colección de Sal. Cada punto representa un álbum distinto.\n",
    "# Aquí está el resumen de cinco números para estos datos:\n",
    "\n",
    "data = {\"Mínimo\": [4],\"Q1\": [9], \"Mediana\": [10], \"Q3\": [13], \"Máximo\": [20]}\n",
    "index = [\"Information\"]\n",
    "df = pd.DataFrame(data, index=index)\n",
    "df"
   ]
  },
  {
   "cell_type": "code",
   "execution_count": 389,
   "metadata": {},
   "outputs": [
    {
     "name": "stdout",
     "output_type": "stream",
     "text": [
      "The level of the outliers in the limit above should be: 19.0\n",
      "It is an outlier\n"
     ]
    }
   ],
   "source": [
    "# De acuerdo con la regla del 1.5 RIQ para valores atípicos, ¿cuántos valores atípicos altos hay en el conjunto de datos?\n",
    "\n",
    "outliers_rule(20,9,13)"
   ]
  },
  {
   "cell_type": "markdown",
   "metadata": {},
   "source": [
    "### Problema 4"
   ]
  },
  {
   "cell_type": "code",
   "execution_count": 390,
   "metadata": {},
   "outputs": [
    {
     "data": {
      "text/html": [
       "<div>\n",
       "<style scoped>\n",
       "    .dataframe tbody tr th:only-of-type {\n",
       "        vertical-align: middle;\n",
       "    }\n",
       "\n",
       "    .dataframe tbody tr th {\n",
       "        vertical-align: top;\n",
       "    }\n",
       "\n",
       "    .dataframe thead th {\n",
       "        text-align: right;\n",
       "    }\n",
       "</style>\n",
       "<table border=\"1\" class=\"dataframe\">\n",
       "  <thead>\n",
       "    <tr style=\"text-align: right;\">\n",
       "      <th></th>\n",
       "      <th>Mínimo</th>\n",
       "      <th>Q1</th>\n",
       "      <th>Mediana</th>\n",
       "      <th>Q3</th>\n",
       "      <th>Máximo</th>\n",
       "    </tr>\n",
       "  </thead>\n",
       "  <tbody>\n",
       "    <tr>\n",
       "      <th>Information</th>\n",
       "      <td>50</td>\n",
       "      <td>64.5</td>\n",
       "      <td>70</td>\n",
       "      <td>73.5</td>\n",
       "      <td>79</td>\n",
       "    </tr>\n",
       "  </tbody>\n",
       "</table>\n",
       "</div>"
      ],
      "text/plain": [
       "             Mínimo    Q1  Mediana    Q3  Máximo\n",
       "Information      50  64.5       70  73.5      79"
      ]
     },
     "execution_count": 390,
     "metadata": {},
     "output_type": "execute_result"
    }
   ],
   "source": [
    "# El diagrama de tallos y hojas muestra el número de días de nevadas en un centro de deportes de invierno durante cada uno de los últimos 17 años.\n",
    "# Aquí está el resumen de cinco números para estos datos:\n",
    "\n",
    "data = {\"Mínimo\":[50], \"Q1\":[64.5],\"Mediana\":[70], \"Q3\":[73.5], \"Máximo\":[79]}\n",
    "index = [\"Information\"]\n",
    "\n",
    "df = pd.DataFrame(data, index=index)\n",
    "df\n"
   ]
  },
  {
   "cell_type": "code",
   "execution_count": 391,
   "metadata": {},
   "outputs": [
    {
     "name": "stdout",
     "output_type": "stream",
     "text": [
      "The limit below is: 51.0 AND The limit above is: 87.0\n",
      "It is NOT an outlier\n"
     ]
    }
   ],
   "source": [
    "# De acuerdo con la regla del 1.5 RIQ para valores atípicos, ¿cuántos valores atípicos altos hay en el conjunto de datos?\n",
    "\n",
    "outliers_rule(79,64.5,73.5)"
   ]
  },
  {
   "cell_type": "markdown",
   "metadata": {},
   "source": [
    "## Median Absolute Deviation or MAD (DMA in Spanish)"
   ]
  },
  {
   "cell_type": "code",
   "execution_count": 392,
   "metadata": {},
   "outputs": [],
   "source": [
    "# La DMA se calcula como la distancia promedio entre cada valor y el promedio del conjunto"
   ]
  },
  {
   "cell_type": "markdown",
   "metadata": {},
   "source": [
    "### Example 1"
   ]
  },
  {
   "cell_type": "code",
   "execution_count": 394,
   "metadata": {},
   "outputs": [
    {
     "data": {
      "text/plain": [
       "[1, 3, 5, 7, 9, 11, 13, 15, 17, 19, 21, 23, 25, 27, 29, 31, 33, 35]"
      ]
     },
     "execution_count": 394,
     "metadata": {},
     "output_type": "execute_result"
    }
   ],
   "source": [
    "list(range(1,37,2))"
   ]
  },
  {
   "cell_type": "code",
   "execution_count": 395,
   "metadata": {},
   "outputs": [],
   "source": [
    "data = [1, 3, 5, 7, 9, 11, 13, 15, 17, 19, 21, 23, 25, 27, 29, 31, 33, 35]"
   ]
  },
  {
   "cell_type": "code",
   "execution_count": 396,
   "metadata": {},
   "outputs": [
    {
     "name": "stdout",
     "output_type": "stream",
     "text": [
      "9.0\n"
     ]
    }
   ],
   "source": [
    "dma = dma_mean(data)\n",
    "print(round(dma,2))"
   ]
  },
  {
   "cell_type": "markdown",
   "metadata": {},
   "source": [
    "### Example 2"
   ]
  },
  {
   "cell_type": "code",
   "execution_count": 397,
   "metadata": {},
   "outputs": [
    {
     "name": "stdout",
     "output_type": "stream",
     "text": [
      "2.0\n"
     ]
    }
   ],
   "source": [
    "data = [2, 4, 6, 8]\n",
    "dma = dma_mean(data)\n",
    "print(round(dma,2))"
   ]
  },
  {
   "cell_type": "markdown",
   "metadata": {},
   "source": [
    "### Example 3"
   ]
  },
  {
   "cell_type": "code",
   "execution_count": 398,
   "metadata": {},
   "outputs": [
    {
     "name": "stdout",
     "output_type": "stream",
     "text": [
      "1.5\n"
     ]
    }
   ],
   "source": [
    "data = [4,5,6,1]\n",
    "dma = dma_mean(data)\n",
    "print(round(dma,1))"
   ]
  },
  {
   "cell_type": "markdown",
   "metadata": {},
   "source": [
    "### Problem 1"
   ]
  },
  {
   "cell_type": "code",
   "execution_count": 399,
   "metadata": {},
   "outputs": [
    {
     "name": "stdout",
     "output_type": "stream",
     "text": [
      "1\n"
     ]
    }
   ],
   "source": [
    "# Encuentra la desviación media absoluta (DMA) de los datos que se muestran en el pictograma que está abajo.\n",
    "\n",
    "data = [5,3,3,5]\n",
    "dma = dma_mean(data)\n",
    "print(round(dma))"
   ]
  },
  {
   "cell_type": "markdown",
   "metadata": {},
   "source": [
    "### Problem 2"
   ]
  },
  {
   "cell_type": "code",
   "execution_count": 400,
   "metadata": {},
   "outputs": [
    {
     "data": {
      "text/html": [
       "<div>\n",
       "<style scoped>\n",
       "    .dataframe tbody tr th:only-of-type {\n",
       "        vertical-align: middle;\n",
       "    }\n",
       "\n",
       "    .dataframe tbody tr th {\n",
       "        vertical-align: top;\n",
       "    }\n",
       "\n",
       "    .dataframe thead th {\n",
       "        text-align: right;\n",
       "    }\n",
       "</style>\n",
       "<table border=\"1\" class=\"dataframe\">\n",
       "  <thead>\n",
       "    <tr style=\"text-align: right;\">\n",
       "      <th></th>\n",
       "      <th>Season</th>\n",
       "      <th>Cantidad de limones</th>\n",
       "    </tr>\n",
       "  </thead>\n",
       "  <tbody>\n",
       "    <tr>\n",
       "      <th>0</th>\n",
       "      <td>Winter</td>\n",
       "      <td>3</td>\n",
       "    </tr>\n",
       "    <tr>\n",
       "      <th>1</th>\n",
       "      <td>Spring</td>\n",
       "      <td>15</td>\n",
       "    </tr>\n",
       "    <tr>\n",
       "      <th>2</th>\n",
       "      <td>Summer</td>\n",
       "      <td>21</td>\n",
       "    </tr>\n",
       "    <tr>\n",
       "      <th>3</th>\n",
       "      <td>Autumn</td>\n",
       "      <td>13</td>\n",
       "    </tr>\n",
       "  </tbody>\n",
       "</table>\n",
       "</div>"
      ],
      "text/plain": [
       "   Season  Cantidad de limones\n",
       "0  Winter                    3\n",
       "1  Spring                   15\n",
       "2  Summer                   21\n",
       "3  Autumn                   13"
      ]
     },
     "execution_count": 400,
     "metadata": {},
     "output_type": "execute_result"
    }
   ],
   "source": [
    "# La siguiente tabla muestra la cantidad de limones que crecieron en el limonero de Mary en cada estación.\n",
    "\n",
    "data = {\"Season\":[\"Winter\", \"Spring\", \"Summer\", \"Autumn\"],\"Cantidad de limones\":[3,15,21,13]}\n",
    "df = pd.DataFrame(data)\n",
    "df\n"
   ]
  },
  {
   "cell_type": "code",
   "execution_count": 401,
   "metadata": {},
   "outputs": [],
   "source": [
    "lemons = df[\"Cantidad de limones\"]"
   ]
  },
  {
   "cell_type": "code",
   "execution_count": 402,
   "metadata": {},
   "outputs": [
    {
     "data": {
      "text/plain": [
       "[3, 15, 21, 13]"
      ]
     },
     "execution_count": 402,
     "metadata": {},
     "output_type": "execute_result"
    }
   ],
   "source": [
    "lemons.to_list()"
   ]
  },
  {
   "cell_type": "code",
   "execution_count": 403,
   "metadata": {},
   "outputs": [
    {
     "data": {
      "text/plain": [
       "13.0"
      ]
     },
     "execution_count": 403,
     "metadata": {},
     "output_type": "execute_result"
    }
   ],
   "source": [
    "np.mean(lemons)"
   ]
  },
  {
   "cell_type": "code",
   "execution_count": 404,
   "metadata": {},
   "outputs": [
    {
     "name": "stdout",
     "output_type": "stream",
     "text": [
      "5.0\n"
     ]
    }
   ],
   "source": [
    "dma = dma_mean(lemons)\n",
    "print(dma)"
   ]
  },
  {
   "cell_type": "markdown",
   "metadata": {},
   "source": [
    "### Problem 3"
   ]
  },
  {
   "cell_type": "code",
   "execution_count": 405,
   "metadata": {},
   "outputs": [
    {
     "data": {
      "text/html": [
       "<div>\n",
       "<style scoped>\n",
       "    .dataframe tbody tr th:only-of-type {\n",
       "        vertical-align: middle;\n",
       "    }\n",
       "\n",
       "    .dataframe tbody tr th {\n",
       "        vertical-align: top;\n",
       "    }\n",
       "\n",
       "    .dataframe thead th {\n",
       "        text-align: right;\n",
       "    }\n",
       "</style>\n",
       "<table border=\"1\" class=\"dataframe\">\n",
       "  <thead>\n",
       "    <tr style=\"text-align: right;\">\n",
       "      <th></th>\n",
       "      <th>Brand</th>\n",
       "      <th>Cantidad de pasas</th>\n",
       "    </tr>\n",
       "  </thead>\n",
       "  <tbody>\n",
       "    <tr>\n",
       "      <th>0</th>\n",
       "      <td>Generic</td>\n",
       "      <td>5</td>\n",
       "    </tr>\n",
       "    <tr>\n",
       "      <th>1</th>\n",
       "      <td>Clayton</td>\n",
       "      <td>9</td>\n",
       "    </tr>\n",
       "    <tr>\n",
       "      <th>2</th>\n",
       "      <td>Ready to take away</td>\n",
       "      <td>5</td>\n",
       "    </tr>\n",
       "    <tr>\n",
       "      <th>3</th>\n",
       "      <td>Only Natural</td>\n",
       "      <td>5</td>\n",
       "    </tr>\n",
       "    <tr>\n",
       "      <th>4</th>\n",
       "      <td>Good Breakfast</td>\n",
       "      <td>7</td>\n",
       "    </tr>\n",
       "    <tr>\n",
       "      <th>5</th>\n",
       "      <td>Mmmm</td>\n",
       "      <td>11</td>\n",
       "    </tr>\n",
       "  </tbody>\n",
       "</table>\n",
       "</div>"
      ],
      "text/plain": [
       "                Brand  Cantidad de pasas\n",
       "0             Generic                  5\n",
       "1             Clayton                  9\n",
       "2  Ready to take away                  5\n",
       "3        Only Natural                  5\n",
       "4      Good Breakfast                  7\n",
       "5                Mmmm                 11"
      ]
     },
     "execution_count": 405,
     "metadata": {},
     "output_type": "execute_result"
    }
   ],
   "source": [
    "# La siguiente tabla muestra la cantidad de pasas en una cucharada de cereal de una variedad de marcas.\n",
    "\n",
    "data = {\"Brand\": [\"Generic\", \"Clayton\", \"Ready to take away\", \"Only Natural\", \"Good Breakfast\", \"Mmmm\"], \"Cantidad de pasas\": [5,9,5,5,7,11]}\n",
    "\n",
    "df = pd.DataFrame(data)\n",
    "df"
   ]
  },
  {
   "cell_type": "code",
   "execution_count": 406,
   "metadata": {},
   "outputs": [
    {
     "data": {
      "text/plain": [
       "[5, 9, 5, 5, 7, 11]"
      ]
     },
     "execution_count": 406,
     "metadata": {},
     "output_type": "execute_result"
    }
   ],
   "source": [
    "pasas = df[\"Cantidad de pasas\"]\n",
    "pasas.to_list()"
   ]
  },
  {
   "cell_type": "code",
   "execution_count": 407,
   "metadata": {},
   "outputs": [
    {
     "name": "stdout",
     "output_type": "stream",
     "text": [
      "2.0\n"
     ]
    }
   ],
   "source": [
    "dma = dma_mean(pasas)\n",
    "print(dma)"
   ]
  },
  {
   "cell_type": "markdown",
   "metadata": {},
   "source": [
    "### Problem 4"
   ]
  },
  {
   "cell_type": "code",
   "execution_count": 408,
   "metadata": {},
   "outputs": [
    {
     "name": "stdout",
     "output_type": "stream",
     "text": [
      "3.5\n"
     ]
    }
   ],
   "source": [
    "# Un grupo de amigos fue a jugar minigolf a Mundo Aventura. La puntuación de Anna fue 26 putts (golpes), la puntuación de Daniela fue 31 putts, la puntuación de Luiza fue 39 putts y la puntuación de Vera fue 32 putts. Encuentra la desviación media absoluta (DMA) del conjunto de datos.\n",
    "\n",
    "data = [26,31,39,32]\n",
    "dma = dma_mean(data)\n",
    "print(round(dma,1))"
   ]
  },
  {
   "cell_type": "markdown",
   "metadata": {},
   "source": [
    "## Prueba de unidad"
   ]
  },
  {
   "cell_type": "markdown",
   "metadata": {},
   "source": [
    "### Problem 1"
   ]
  },
  {
   "cell_type": "code",
   "execution_count": 409,
   "metadata": {},
   "outputs": [
    {
     "data": {
      "text/html": [
       "<div>\n",
       "<style scoped>\n",
       "    .dataframe tbody tr th:only-of-type {\n",
       "        vertical-align: middle;\n",
       "    }\n",
       "\n",
       "    .dataframe tbody tr th {\n",
       "        vertical-align: top;\n",
       "    }\n",
       "\n",
       "    .dataframe thead th {\n",
       "        text-align: right;\n",
       "    }\n",
       "</style>\n",
       "<table border=\"1\" class=\"dataframe\">\n",
       "  <thead>\n",
       "    <tr style=\"text-align: right;\">\n",
       "      <th></th>\n",
       "      <th>Min</th>\n",
       "      <th>Q1</th>\n",
       "      <th>Mediana</th>\n",
       "      <th>Q3</th>\n",
       "      <th>Q4</th>\n",
       "    </tr>\n",
       "  </thead>\n",
       "  <tbody>\n",
       "    <tr>\n",
       "      <th>Information</th>\n",
       "      <td>2</td>\n",
       "      <td>8</td>\n",
       "      <td>13</td>\n",
       "      <td>15</td>\n",
       "      <td>19</td>\n",
       "    </tr>\n",
       "  </tbody>\n",
       "</table>\n",
       "</div>"
      ],
      "text/plain": [
       "             Min  Q1  Mediana  Q3  Q4\n",
       "Information    2   8       13  15  19"
      ]
     },
     "execution_count": 409,
     "metadata": {},
     "output_type": "execute_result"
    }
   ],
   "source": [
    "# La siguiente tabla muestra un resumen de cinco números de la cantidad de surfistas en cada playa de Miami.\n",
    "\n",
    "data = {\"Min\":[2], \"Q1\": [8], \"Mediana\": [13], \"Q3\": [15], \"Q4\": [19]}\n",
    "index = [\"Information\"]\n",
    "df = pd.DataFrame(data, index=index)\n",
    "df"
   ]
  },
  {
   "cell_type": "code",
   "execution_count": 410,
   "metadata": {},
   "outputs": [
    {
     "name": "stdout",
     "output_type": "stream",
     "text": [
      "The limit below is: -2.5 AND The limit above is: 25.5\n",
      "It is NOT an outlier\n"
     ]
    }
   ],
   "source": [
    "outliers_rule(2,8,15)"
   ]
  },
  {
   "cell_type": "markdown",
   "metadata": {},
   "source": [
    "### Problem 2"
   ]
  },
  {
   "cell_type": "code",
   "execution_count": 411,
   "metadata": {},
   "outputs": [
    {
     "name": "stdout",
     "output_type": "stream",
     "text": [
      "8.0\n"
     ]
    }
   ],
   "source": [
    "# Sebastian observó la cantidad de minutos que estuvieron en redes sociales sus compañeros de dormitorio mientras estaban en la biblioteca. Recopiló la información en la siguiente lista.\n",
    "\n",
    "data = [13,0,14,36,18,9]\n",
    "dma = dma_mean(data)\n",
    "print(round(dma, 2))"
   ]
  },
  {
   "cell_type": "markdown",
   "metadata": {},
   "source": [
    "### Problem 3"
   ]
  },
  {
   "cell_type": "code",
   "execution_count": 412,
   "metadata": {},
   "outputs": [
    {
     "data": {
      "text/html": [
       "<div>\n",
       "<style scoped>\n",
       "    .dataframe tbody tr th:only-of-type {\n",
       "        vertical-align: middle;\n",
       "    }\n",
       "\n",
       "    .dataframe tbody tr th {\n",
       "        vertical-align: top;\n",
       "    }\n",
       "\n",
       "    .dataframe thead th {\n",
       "        text-align: right;\n",
       "    }\n",
       "</style>\n",
       "<table border=\"1\" class=\"dataframe\">\n",
       "  <thead>\n",
       "    <tr style=\"text-align: right;\">\n",
       "      <th></th>\n",
       "      <th>Min</th>\n",
       "      <th>Q1</th>\n",
       "      <th>Mediana</th>\n",
       "      <th>Q3</th>\n",
       "      <th>Q4</th>\n",
       "    </tr>\n",
       "  </thead>\n",
       "  <tbody>\n",
       "    <tr>\n",
       "      <th>information</th>\n",
       "      <td>4</td>\n",
       "      <td>7</td>\n",
       "      <td>10</td>\n",
       "      <td>14</td>\n",
       "      <td>18</td>\n",
       "    </tr>\n",
       "  </tbody>\n",
       "</table>\n",
       "</div>"
      ],
      "text/plain": [
       "             Min  Q1  Mediana  Q3  Q4\n",
       "information    4   7       10  14  18"
      ]
     },
     "execution_count": 412,
     "metadata": {},
     "output_type": "execute_result"
    }
   ],
   "source": [
    "# La siguiente tabla muestra un resumen de cinco números de la cantidad de equipos en cada una de las ligas de futbol de fantasía de Brad.\n",
    "\n",
    "data = {\"Min\":[4], \"Q1\": [7], \"Mediana\": [10], \"Q3\": [14], \"Q4\": [18]}\n",
    "index = [\"information\"]\n",
    "df = pd.DataFrame(data, index=index)\n",
    "df"
   ]
  },
  {
   "cell_type": "code",
   "execution_count": 413,
   "metadata": {},
   "outputs": [
    {
     "name": "stdout",
     "output_type": "stream",
     "text": [
      "The limit below is: -3.5 AND The limit above is: 24.5\n",
      "It is NOT an outlier\n"
     ]
    }
   ],
   "source": [
    "outliers_rule(10,7,14)"
   ]
  },
  {
   "cell_type": "markdown",
   "metadata": {},
   "source": [
    "### Problem 4"
   ]
  },
  {
   "cell_type": "code",
   "execution_count": 414,
   "metadata": {},
   "outputs": [],
   "source": [
    "# Los datos siguientes representan la cantidad de conos vendidos en cada heladería de Koh Lanta.\n",
    "\n",
    "data = [41,42,43,43,43,45,47,48,50,50]"
   ]
  },
  {
   "cell_type": "code",
   "execution_count": 415,
   "metadata": {},
   "outputs": [
    {
     "name": "stderr",
     "output_type": "stream",
     "text": [
      "c:\\Users\\aleg0\\anaconda3\\lib\\site-packages\\seaborn\\_decorators.py:36: FutureWarning: Pass the following variable as a keyword arg: x. From version 0.12, the only valid positional argument will be `data`, and passing other arguments without an explicit keyword will result in an error or misinterpretation.\n",
      "  warnings.warn(\n"
     ]
    },
    {
     "data": {
      "image/png": "[encoded data removed]",
      "text/plain": [
       "<Figure size 720x360 with 1 Axes>"
      ]
     },
     "metadata": {
      "needs_background": "light"
     },
     "output_type": "display_data"
    }
   ],
   "source": [
    "plt.figure(figsize=(10,5))\n",
    "sns.boxplot(data)\n",
    "plt.show()"
   ]
  },
  {
   "cell_type": "markdown",
   "metadata": {},
   "source": [
    "### Problem 5"
   ]
  },
  {
   "cell_type": "code",
   "execution_count": 416,
   "metadata": {},
   "outputs": [
    {
     "data": {
      "text/html": [
       "<div>\n",
       "<style scoped>\n",
       "    .dataframe tbody tr th:only-of-type {\n",
       "        vertical-align: middle;\n",
       "    }\n",
       "\n",
       "    .dataframe tbody tr th {\n",
       "        vertical-align: top;\n",
       "    }\n",
       "\n",
       "    .dataframe thead th {\n",
       "        text-align: right;\n",
       "    }\n",
       "</style>\n",
       "<table border=\"1\" class=\"dataframe\">\n",
       "  <thead>\n",
       "    <tr style=\"text-align: right;\">\n",
       "      <th></th>\n",
       "      <th>Min</th>\n",
       "      <th>Q1</th>\n",
       "      <th>Mediana</th>\n",
       "      <th>Q3</th>\n",
       "      <th>Q4</th>\n",
       "    </tr>\n",
       "  </thead>\n",
       "  <tbody>\n",
       "    <tr>\n",
       "      <th>Information</th>\n",
       "      <td>12</td>\n",
       "      <td>13</td>\n",
       "      <td>14</td>\n",
       "      <td>17</td>\n",
       "      <td>19</td>\n",
       "    </tr>\n",
       "  </tbody>\n",
       "</table>\n",
       "</div>"
      ],
      "text/plain": [
       "             Min  Q1  Mediana  Q3  Q4\n",
       "Information   12  13       14  17  19"
      ]
     },
     "execution_count": 416,
     "metadata": {},
     "output_type": "execute_result"
    }
   ],
   "source": [
    "# La siguiente gráfica de puntos muestra los siglos en los que se construyeron los 11 castillos cuyas ruinas permanecen en Somerset, Inglaterra. Cada punto representa un castillo diferente.\n",
    "\n",
    "# Aquí está el resumen de cinco números para estos datos:\n",
    "\n",
    "data = {\"Min\":[12], \"Q1\": [13], \"Mediana\": [14], \"Q3\": [17], \"Q4\": [19]}\n",
    "index = [\"Information\"]\n",
    "\n",
    "df = pd.DataFrame(data, index=index)\n",
    "df"
   ]
  },
  {
   "cell_type": "code",
   "execution_count": 417,
   "metadata": {},
   "outputs": [
    {
     "name": "stdout",
     "output_type": "stream",
     "text": [
      "The limit below is: 7.0 AND The limit above is: 23.0\n",
      "It is NOT an outlier\n"
     ]
    }
   ],
   "source": [
    "# De acuerdo con la regla del 1.5 RIQ para valores atípicos, ¿cuántos valores atípicos bajos hay en el conjunto de datos?\n",
    "\n",
    "outliers_rule(12,13,17)"
   ]
  },
  {
   "cell_type": "markdown",
   "metadata": {},
   "source": [
    "### Problem 6"
   ]
  },
  {
   "cell_type": "code",
   "execution_count": 418,
   "metadata": {},
   "outputs": [
    {
     "name": "stdout",
     "output_type": "stream",
     "text": [
      "0.3\n"
     ]
    }
   ],
   "source": [
    "# A continuación se muestran las distancias a las que cada uno de los cuatro dragones del custodio Davi puede lanzar fuego (en metros).\n",
    "\n",
    "data = [0.9,0.5,0.3,1.1]\n",
    "dma = dma_mean(data)\n",
    "print(round(dma,2))"
   ]
  },
  {
   "cell_type": "markdown",
   "metadata": {},
   "source": [
    "### Problem 7"
   ]
  },
  {
   "cell_type": "code",
   "execution_count": 419,
   "metadata": {},
   "outputs": [
    {
     "data": {
      "text/html": [
       "<div>\n",
       "<style scoped>\n",
       "    .dataframe tbody tr th:only-of-type {\n",
       "        vertical-align: middle;\n",
       "    }\n",
       "\n",
       "    .dataframe tbody tr th {\n",
       "        vertical-align: top;\n",
       "    }\n",
       "\n",
       "    .dataframe thead th {\n",
       "        text-align: right;\n",
       "    }\n",
       "</style>\n",
       "<table border=\"1\" class=\"dataframe\">\n",
       "  <thead>\n",
       "    <tr style=\"text-align: right;\">\n",
       "      <th></th>\n",
       "      <th>Min</th>\n",
       "      <th>Q1</th>\n",
       "      <th>Mediana</th>\n",
       "      <th>Q3</th>\n",
       "      <th>Q4</th>\n",
       "    </tr>\n",
       "  </thead>\n",
       "  <tbody>\n",
       "    <tr>\n",
       "      <th>Information</th>\n",
       "      <td>12</td>\n",
       "      <td>18</td>\n",
       "      <td>23</td>\n",
       "      <td>26</td>\n",
       "      <td>29</td>\n",
       "    </tr>\n",
       "  </tbody>\n",
       "</table>\n",
       "</div>"
      ],
      "text/plain": [
       "             Min  Q1  Mediana  Q3  Q4\n",
       "Information   12  18       23  26  29"
      ]
     },
     "execution_count": 419,
     "metadata": {},
     "output_type": "execute_result"
    }
   ],
   "source": [
    "# La siguiente tabla muestra un resumen de cinco números de la cantidad de casas flotantes en cada lago de Minnesota.\n",
    "\n",
    "data = {\"Min\":[12], \"Q1\": [18], \"Mediana\": [23], \"Q3\": [26], \"Q4\": [29]}\n",
    "index = [\"Information\"]\n",
    "df = pd.DataFrame(data, index = index)\n",
    "df"
   ]
  },
  {
   "cell_type": "code",
   "execution_count": 420,
   "metadata": {},
   "outputs": [
    {
     "name": "stdout",
     "output_type": "stream",
     "text": [
      "The limit below is: 6.0 AND The limit above is: 38.0\n",
      "It is NOT an outlier\n"
     ]
    }
   ],
   "source": [
    "outliers_rule(29,18,26)"
   ]
  },
  {
   "cell_type": "markdown",
   "metadata": {},
   "source": [
    "### Problem 8"
   ]
  },
  {
   "cell_type": "code",
   "execution_count": 421,
   "metadata": {},
   "outputs": [
    {
     "name": "stdout",
     "output_type": "stream",
     "text": [
      "2.5\n"
     ]
    }
   ],
   "source": [
    "# Thelma conto la cantidad de manzanas en cada uno de los manzanos de su patio trasero. Encontró 34 manzanas en su manzano Cortland, 29 manzanas en su manzano Red Delicious, 39 manzanas en su manzano Empire y 34 manzanas en su manzano Fuji. Encuentra la desviación media absoluta (DMA) del conjunto de datos.\n",
    "\n",
    "data = [34,29,39,34]\n",
    "dma = dma_mean(data)\n",
    "print(dma)"
   ]
  },
  {
   "cell_type": "markdown",
   "metadata": {},
   "source": [
    "### Problem 9"
   ]
  },
  {
   "cell_type": "code",
   "execution_count": 422,
   "metadata": {},
   "outputs": [
    {
     "data": {
      "text/plain": [
       "7.2"
      ]
     },
     "execution_count": 422,
     "metadata": {},
     "output_type": "execute_result"
    }
   ],
   "source": [
    "# ¿Cuál es la media aritmética de los siguientes números?\n",
    "\n",
    "data = [9,10,6,5,6]\n",
    "\n",
    "np.mean(data)"
   ]
  },
  {
   "cell_type": "markdown",
   "metadata": {},
   "source": [
    "### Problem 10"
   ]
  },
  {
   "cell_type": "code",
   "execution_count": 423,
   "metadata": {},
   "outputs": [
    {
     "name": "stdout",
     "output_type": "stream",
     "text": [
      "9\n"
     ]
    }
   ],
   "source": [
    "# Los siguientes datos representan la cantidad de puntos anotados por cada jugador de un equipo de basquetbol en su juego pasado.\n",
    "\n",
    "data = [5,8,11,7]\n",
    "actual_mean = 8\n",
    "number_of_elements = 5\n",
    "sum_of_elements = sum(data)\n",
    "\n",
    "print((actual_mean * number_of_elements) - sum_of_elements)"
   ]
  },
  {
   "cell_type": "code",
   "execution_count": 424,
   "metadata": {},
   "outputs": [
    {
     "data": {
      "text/plain": [
       "8.0"
      ]
     },
     "execution_count": 424,
     "metadata": {},
     "output_type": "execute_result"
    }
   ],
   "source": [
    "np.mean([5,8,11,7,9])"
   ]
  },
  {
   "cell_type": "markdown",
   "metadata": {},
   "source": [
    "### Problem 11"
   ]
  },
  {
   "cell_type": "code",
   "execution_count": 425,
   "metadata": {},
   "outputs": [
    {
     "data": {
      "text/plain": [
       "6.2"
      ]
     },
     "execution_count": 425,
     "metadata": {},
     "output_type": "execute_result"
    }
   ],
   "source": [
    "# Encuentra la media de los datos en la siguiente gráfica de barras.\n",
    "\n",
    "data = [5,6,5,6,9]\n",
    "np.mean(data)"
   ]
  },
  {
   "cell_type": "markdown",
   "metadata": {},
   "source": [
    "### Problem 12"
   ]
  },
  {
   "cell_type": "code",
   "execution_count": 426,
   "metadata": {},
   "outputs": [
    {
     "name": "stdout",
     "output_type": "stream",
     "text": [
      "The average of the gorillas is: 10.0\n",
      "The standard deviation is: 4.9\n"
     ]
    }
   ],
   "source": [
    "# Has averiguado las siguientes edades (en años) de 5 gorilas, los cuales fueron seleccionados al azar de entre los 29 gorilas del zoológico de tu ciudad:\n",
    "\n",
    "data = [8,4,14,16,8]\n",
    "\n",
    "print(\"The average of the gorillas is:\", np.mean(data))\n",
    "print(\"The standard deviation is:\", round(np.std(data, ddof=1),2))"
   ]
  },
  {
   "cell_type": "markdown",
   "metadata": {},
   "source": [
    "### Problem 13"
   ]
  },
  {
   "cell_type": "code",
   "execution_count": 427,
   "metadata": {},
   "outputs": [
    {
     "data": {
      "text/html": [
       "<div>\n",
       "<style scoped>\n",
       "    .dataframe tbody tr th:only-of-type {\n",
       "        vertical-align: middle;\n",
       "    }\n",
       "\n",
       "    .dataframe tbody tr th {\n",
       "        vertical-align: top;\n",
       "    }\n",
       "\n",
       "    .dataframe thead th {\n",
       "        text-align: right;\n",
       "    }\n",
       "</style>\n",
       "<table border=\"1\" class=\"dataframe\">\n",
       "  <thead>\n",
       "    <tr style=\"text-align: right;\">\n",
       "      <th></th>\n",
       "      <th>Min</th>\n",
       "      <th>Q1</th>\n",
       "      <th>Mediana</th>\n",
       "      <th>Q3</th>\n",
       "      <th>Q4</th>\n",
       "    </tr>\n",
       "  </thead>\n",
       "  <tbody>\n",
       "    <tr>\n",
       "      <th>Information</th>\n",
       "      <td>1</td>\n",
       "      <td>2</td>\n",
       "      <td>3</td>\n",
       "      <td>5</td>\n",
       "      <td>9</td>\n",
       "    </tr>\n",
       "  </tbody>\n",
       "</table>\n",
       "</div>"
      ],
      "text/plain": [
       "             Min  Q1  Mediana  Q3  Q4\n",
       "Information    1   2        3   5   9"
      ]
     },
     "execution_count": 427,
     "metadata": {},
     "output_type": "execute_result"
    }
   ],
   "source": [
    "# La siguiente gráfica de puntos muestra el número de correos electrónicos que Alejandro elimina diariamente. Cada punto representa un día distinto.\n",
    "# Aquí se muestra el resumen de cinco números para estos datos:\n",
    "# De acuerdo con la regla del 1.5 RIQ para valores atípicos, ¿cuántos valores atípicos bajos hay en el conjunto de datos?\n",
    "\n",
    "data = {\"Min\":[1], \"Q1\": [2], \"Mediana\": [3], \"Q3\": [5], \"Q4\": [9]}\n",
    "index = [\"Information\"]\n",
    "df = pd.DataFrame(data, index = index)\n",
    "df"
   ]
  },
  {
   "cell_type": "code",
   "execution_count": 428,
   "metadata": {},
   "outputs": [
    {
     "name": "stdout",
     "output_type": "stream",
     "text": [
      "The limit below is: -2.5 AND The limit above is: 9.5\n",
      "It is NOT an outlier\n"
     ]
    }
   ],
   "source": [
    "outliers_rule(1,2,5)"
   ]
  },
  {
   "cell_type": "markdown",
   "metadata": {},
   "source": [
    "### Problem 14"
   ]
  },
  {
   "cell_type": "code",
   "execution_count": 429,
   "metadata": {},
   "outputs": [],
   "source": [
    "# Los siguientes datos representan la cantidad de horas que durmieron los miembros del personal de la Tienda Departamental Danielis en la noche de Día de Gracias.\n",
    "\n",
    "data = [2.6,3,4.9,5,5,6,6,7.9,8,8.2]"
   ]
  },
  {
   "cell_type": "code",
   "execution_count": 430,
   "metadata": {},
   "outputs": [
    {
     "name": "stdout",
     "output_type": "stream",
     "text": [
      "quantiles: [4.425000000000001, 5.5, 7.925000000000001]\n",
      "iqr 3.5\n",
      "Median 5.5\n",
      "Lenght 10\n"
     ]
    }
   ],
   "source": [
    "# Encuentra el rango entre cuartiles (REC) del conjunto de datos.\n",
    "\n",
    "# Get the quantiles\n",
    "print(\"quantiles:\", statistics.quantiles(data))\n",
    "\n",
    "# Rango intercuartil\n",
    "q1 = 4.425\n",
    "q3 = 7.925\n",
    "print(\"iqr\",q3 - q1)\n",
    "\n",
    "# Mediana\n",
    "print(\"Median\",np.median(data))\n",
    "\n",
    "# Longitud de la lista\n",
    "print(\"Lenght\",len(data))"
   ]
  },
  {
   "cell_type": "markdown",
   "metadata": {},
   "source": [
    "## Calcular percentiles"
   ]
  },
  {
   "cell_type": "markdown",
   "metadata": {},
   "source": [
    "### Problema 1"
   ]
  },
  {
   "cell_type": "code",
   "execution_count": 432,
   "metadata": {},
   "outputs": [],
   "source": [
    "# El histograma resume el número de acres de soya plantados en los 30 condados de Alabama registrados con plantíos de soya en 2009.\n",
    "\n",
    "data = {\"0 to 10,0000\":[20], \n",
    "        \"10,000 to 20,000\": [2],\n",
    "        \"20,000 to 30,000\":[5], \n",
    "        \"30,000 to 40,000\":[1],\n",
    "        \"40,000 to 50,000\":[1],\n",
    "        \"60,000 to 70,000\":[1]}"
   ]
  },
  {
   "cell_type": "code",
   "execution_count": 433,
   "metadata": {},
   "outputs": [
    {
     "name": "stdout",
     "output_type": "stream",
     "text": [
      "1.5\n"
     ]
    }
   ],
   "source": [
    "valores = np.array(list(data.values()))\n",
    "percentile_50 = np.percentile(valores, 50)\n",
    "print(percentile_50)"
   ]
  },
  {
   "cell_type": "code",
   "execution_count": 434,
   "metadata": {},
   "outputs": [
    {
     "data": {
      "text/plain": [
       "array([30])"
      ]
     },
     "execution_count": 434,
     "metadata": {},
     "output_type": "execute_result"
    }
   ],
   "source": [
    "sum(valores)"
   ]
  },
  {
   "cell_type": "markdown",
   "metadata": {},
   "source": [
    "### Problema 2"
   ]
  },
  {
   "cell_type": "code",
   "execution_count": 435,
   "metadata": {},
   "outputs": [],
   "source": [
    "# La siguiente gráfica de puntos muestra el número de canciones en cada uno de los 19 álbumes de la colección de Sal. Cada punto representa un álbum distinto.\n",
    "\n",
    "data = [4,7,8,8,9,9,10,10,10,10,11,12,12,13,13,14,16,18,20]"
   ]
  },
  {
   "cell_type": "code",
   "execution_count": 436,
   "metadata": {},
   "outputs": [
    {
     "name": "stdout",
     "output_type": "stream",
     "text": [
      "19\n",
      "11.263157894736842\n",
      "10.0\n"
     ]
    }
   ],
   "source": [
    "print(len(data))\n",
    "print(np.mean(data))\n",
    "print(np.percentile(data,50))\n"
   ]
  },
  {
   "cell_type": "code",
   "execution_count": 437,
   "metadata": {},
   "outputs": [
    {
     "name": "stdout",
     "output_type": "stream",
     "text": [
      "The percentile of 14 in the list is 80.00%\n"
     ]
    }
   ],
   "source": [
    "number_belongs_to_percentile(14,data)"
   ]
  },
  {
   "cell_type": "markdown",
   "metadata": {},
   "source": [
    "### Problema 3"
   ]
  },
  {
   "cell_type": "code",
   "execution_count": 438,
   "metadata": {},
   "outputs": [
    {
     "name": "stdout",
     "output_type": "stream",
     "text": [
      "23\n"
     ]
    }
   ],
   "source": [
    "# Un taller de reparación de automóviles registra cuántos kilómetros ha recorrido cada automóvil que recibe. Los datos para sus 23 vehículos más recientes se muestran en el histograma a continuación.\n",
    "\n",
    "values = [3,4,5,6,3,2]\n",
    "print(sum(values))"
   ]
  },
  {
   "cell_type": "code",
   "execution_count": 439,
   "metadata": {},
   "outputs": [],
   "source": [
    "def table_cumulative_sum(values):  \n",
    "  # calculate the cumulative sum\n",
    "  cum_freq = np.cumsum(values)\n",
    "  # create a table with two columns\n",
    "  table = pd.DataFrame({\"Value\": values, \"Cumulative Frequency\": cum_freq})\n",
    "  print(table)"
   ]
  },
  {
   "cell_type": "code",
   "execution_count": 440,
   "metadata": {},
   "outputs": [
    {
     "name": "stdout",
     "output_type": "stream",
     "text": [
      "   Value  Cumulative Frequency\n",
      "0      3                     3\n",
      "1      4                     7\n",
      "2      5                    12\n",
      "3      6                    18\n",
      "4      3                    21\n",
      "5      2                    23\n"
     ]
    }
   ],
   "source": [
    "table_cumulative_sum(values)"
   ]
  },
  {
   "cell_type": "code",
   "execution_count": 441,
   "metadata": {},
   "outputs": [
    {
     "data": {
      "text/plain": [
       "19.09"
      ]
     },
     "execution_count": 441,
     "metadata": {},
     "output_type": "execute_result"
    }
   ],
   "source": [
    "23 * .83"
   ]
  },
  {
   "cell_type": "markdown",
   "metadata": {},
   "source": [
    "### Problema 4"
   ]
  },
  {
   "cell_type": "code",
   "execution_count": 442,
   "metadata": {},
   "outputs": [
    {
     "data": {
      "text/plain": [
       "96.0"
      ]
     },
     "execution_count": 442,
     "metadata": {},
     "output_type": "execute_result"
    }
   ],
   "source": [
    "# La gráfica de puntos muestra el peso, en libras, de las mochilas llenas de 25 estudiantes. Cada punto representa una mochila.\n",
    "# ¿Cuál de las siguientes opciones es la estimación más cercana del percentil para la mochila que pesa 31 libras?\n",
    "\n",
    "(24 * 100)/25"
   ]
  },
  {
   "cell_type": "markdown",
   "metadata": {},
   "source": [
    "## U2 L2 puntajes Z"
   ]
  },
  {
   "cell_type": "code",
   "execution_count": 443,
   "metadata": {},
   "outputs": [],
   "source": [
    "def z_values(x, Mean, stdev):\n",
    "  z = (x - Mean) / stdev\n",
    "  probability_of_z = scipy.stats.norm.cdf(z)\n",
    "  print(\"The z value is:\", round(z, 2))\n",
    "  print(\"The normal probability for the z value given is:\", round(probability_of_z, 4))\n",
    "  "
   ]
  },
  {
   "cell_type": "markdown",
   "metadata": {},
   "source": [
    "### Problem 1"
   ]
  },
  {
   "cell_type": "code",
   "execution_count": 444,
   "metadata": {},
   "outputs": [
    {
     "name": "stdout",
     "output_type": "stream",
     "text": [
      "0.67\n"
     ]
    }
   ],
   "source": [
    "# Las calificaciones de un examen parcial de matemáticas en el colegio Primavera son aproximadamente simétricas con μ=68 y σ=4.5 Brandon obtuvo 71 en el examen. Encuentra el puntaje z para la calificación del examen de Brandon. Redondea a dos decimales.\n",
    "\n",
    "x = 71\n",
    "Mean = 68\n",
    "stdev = 4.5\n",
    "\n",
    "z = (x - Mean) / stdev\n",
    "print(round(z,2))"
   ]
  },
  {
   "cell_type": "code",
   "execution_count": 445,
   "metadata": {},
   "outputs": [
    {
     "name": "stdout",
     "output_type": "stream",
     "text": [
      "The z value is: 0.67\n",
      "The normal probability for the z value given is: 0.7475\n"
     ]
    }
   ],
   "source": [
    "z_values(71,68,4.5)"
   ]
  },
  {
   "cell_type": "markdown",
   "metadata": {},
   "source": [
    "### Problem 2"
   ]
  },
  {
   "cell_type": "code",
   "execution_count": 446,
   "metadata": {},
   "outputs": [
    {
     "name": "stdout",
     "output_type": "stream",
     "text": [
      "The z value is: -0.5\n",
      "The normal probability for the z value given is: 0.3085\n"
     ]
    }
   ],
   "source": [
    "# Las calificaciones de un examen parcial de química en el colegio Primavera son aproximadamente simétricas con  μ=67 y σ=2.0. William obtuvo 66 en el examen. Encuentra el puntaje z para la calificación del examen de William. Redondea a dos decimales.\n",
    "\n",
    "x = 66\n",
    "Mean = 67\n",
    "stdev = 2\n",
    "\n",
    "z_values(66,67,2)"
   ]
  },
  {
   "cell_type": "markdown",
   "metadata": {},
   "source": [
    "### Problem 3"
   ]
  },
  {
   "cell_type": "code",
   "execution_count": 447,
   "metadata": {},
   "outputs": [
    {
     "name": "stdout",
     "output_type": "stream",
     "text": [
      "The z value is: 0.36\n",
      "The normal probability for the z value given is: 0.6419\n"
     ]
    }
   ],
   "source": [
    "# Las calificaciones de un examen parcial de inglés en el colegio Santa Rita son aproximadamente simétricas con μ=70 y σ=5.5. Ishaan obtuvo 72 en el examen. Encuentra el puntaje z para la calificación del examen de Ishaan. Redondea a dos decimales.\n",
    "\n",
    "\n",
    "z_values(72,70,5.5)"
   ]
  },
  {
   "cell_type": "markdown",
   "metadata": {},
   "source": [
    "### Problem 4"
   ]
  },
  {
   "cell_type": "code",
   "execution_count": 448,
   "metadata": {},
   "outputs": [
    {
     "name": "stdout",
     "output_type": "stream",
     "text": [
      "The z value is: -0.36\n",
      "The normal probability for the z value given is: 0.3581\n"
     ]
    }
   ],
   "source": [
    "# Las calificaciones de un examen parcial en el colegio Loyola son aproximadamente simétricas con μ=68 y σ=5.5. Jessica obtuvo 66 en el examen. Encuentra el puntaje z para la calificación del examen de Jessica. Redondea a dos decimales.\n",
    "\n",
    "z_values(66,68,5.5)"
   ]
  },
  {
   "cell_type": "markdown",
   "metadata": {},
   "source": [
    "## U4 L3 Los efectos de las transformaciones lineales"
   ]
  },
  {
   "cell_type": "markdown",
   "metadata": {},
   "source": [
    "### Example 1"
   ]
  },
  {
   "cell_type": "code",
   "execution_count": 449,
   "metadata": {},
   "outputs": [],
   "source": [
    "data = [7,7,5,8,10,13,5,3,2,3,5,6]"
   ]
  },
  {
   "cell_type": "code",
   "execution_count": 450,
   "metadata": {},
   "outputs": [],
   "source": [
    "def transforming_data(data):\n",
    "  print(\"mean:\",np.mean(data))\n",
    "  print(\"median:\",np.median(data))\n",
    "  print(\"Std:\", np.std(data))\n",
    "  print(\"IQR:\", (np.percentile(data,75) - np.percentile(data,25)))"
   ]
  },
  {
   "cell_type": "code",
   "execution_count": 451,
   "metadata": {},
   "outputs": [
    {
     "name": "stdout",
     "output_type": "stream",
     "text": [
      "mean: 6.166666666666667\n",
      "median: 5.5\n",
      "Std: 2.9953667926019047\n",
      "IQR: 2.75\n"
     ]
    }
   ],
   "source": [
    "transforming_data(data)"
   ]
  },
  {
   "cell_type": "code",
   "execution_count": 452,
   "metadata": {},
   "outputs": [
    {
     "name": "stdout",
     "output_type": "stream",
     "text": [
      "[12, 12, 10, 13, 15, 18, 10, 8, 7, 8, 10, 11]\n"
     ]
    }
   ],
   "source": [
    "# Sum 5 to each element\n",
    "result = []\n",
    "for n in data:\n",
    "  y = n + 5\n",
    "  result.append(y)\n",
    "print(result)"
   ]
  },
  {
   "cell_type": "code",
   "execution_count": 453,
   "metadata": {},
   "outputs": [],
   "source": [
    "data = [12, 12, 10, 13, 15, 18, 10, 8, 7, 8, 10, 11]"
   ]
  },
  {
   "cell_type": "code",
   "execution_count": 454,
   "metadata": {},
   "outputs": [
    {
     "name": "stdout",
     "output_type": "stream",
     "text": [
      "mean: 11.166666666666666\n",
      "median: 10.5\n",
      "Std: 2.9953667926019047\n",
      "IQR: 2.75\n"
     ]
    }
   ],
   "source": [
    "transforming_data(data)"
   ]
  },
  {
   "cell_type": "code",
   "execution_count": 455,
   "metadata": {},
   "outputs": [
    {
     "name": "stdout",
     "output_type": "stream",
     "text": [
      "[60, 60, 50, 65, 75, 90, 50, 40, 35, 40, 50, 55]\n"
     ]
    }
   ],
   "source": [
    "# Multiply by 5 each element\n",
    "\n",
    "result = []\n",
    "for n in data:\n",
    "  y = n * 5\n",
    "  result.append(y)\n",
    "print(result)"
   ]
  },
  {
   "cell_type": "code",
   "execution_count": 456,
   "metadata": {},
   "outputs": [
    {
     "name": "stdout",
     "output_type": "stream",
     "text": [
      "mean: 30.833333333333332\n",
      "median: 27.5\n",
      "Std: 14.976833963009524\n",
      "IQR: 13.75\n"
     ]
    }
   ],
   "source": [
    "data = [35, 35, 25, 40, 50, 65, 25, 15, 10, 15, 25, 30]\n",
    "\n",
    "transforming_data(data)"
   ]
  },
  {
   "cell_type": "code",
   "execution_count": 457,
   "metadata": {},
   "outputs": [
    {
     "data": {
      "text/plain": [
       "13.75"
      ]
     },
     "execution_count": 457,
     "metadata": {},
     "output_type": "execute_result"
    }
   ],
   "source": [
    "2.75 * 5"
   ]
  },
  {
   "cell_type": "markdown",
   "metadata": {},
   "source": [
    "### Problem 1"
   ]
  },
  {
   "cell_type": "code",
   "execution_count": 458,
   "metadata": {},
   "outputs": [
    {
     "name": "stdout",
     "output_type": "stream",
     "text": [
      "Mean 40.0\n",
      "Std 1.1111111111111112\n"
     ]
    }
   ],
   "source": [
    "# Un grupo de mexicanos participó en un estudio que implicó tomar su temperatura mientras realizaban ejercicio bajo un calor extremo. Los participantes tuvieron una temperatura corporal media de 104 F y una desviación estándar de 2 F.\n",
    "\n",
    "# Los doctores que analizan los resultados prefieren trabajar en grados celsius, por lo que convierten los datos usando la siguiente fórmula en cada punto de datos:\n",
    "\n",
    "F_mean = 104\n",
    "F_std = 2\n",
    "\n",
    "celsius_mean = 5/9 * (F_mean - 32)\n",
    "celsius_std = 5/9 * (F_std)\n",
    "\n",
    "# Si cada temperatura se convierte a grados celsius, ¿cuáles serán la media y la desviación estándar de la nueva distribución de temperaturas?\n",
    "\n",
    "print(\"Mean\", celsius_mean)\n",
    "print(\"Std\", celsius_std)\n"
   ]
  },
  {
   "cell_type": "markdown",
   "metadata": {},
   "source": [
    "### Problem 2"
   ]
  },
  {
   "cell_type": "code",
   "execution_count": 459,
   "metadata": {},
   "outputs": [
    {
     "name": "stdout",
     "output_type": "stream",
     "text": [
      "Mean: 240\n",
      "Standard deviation: 50\n"
     ]
    }
   ],
   "source": [
    "# En una escuela se venden rebanadas de pizza en la cafetería durante cada evento deportivo. Venden una media de 200 rebanadas por evento con una desviación estándar de 25 rebanadas. La escuela invierte $160 en gastos fijos para comprar la pizza antes del evento y tiene unos ingresos de $2. Calculan sus beneficios por evento de acuerdo con esta fórmula:\n",
    "\n",
    "# Information\n",
    "average = 200\n",
    "standar_deviation = 25\n",
    "fix_outcomes = 160\n",
    "incomes = 2\n",
    "\n",
    "# ganancia = ingreso_totales - costos_totales\n",
    "\n",
    "# Mean\n",
    "\n",
    "mean_profit = (incomes*average) - fix_outcomes\n",
    "\n",
    "# Standard deviation\n",
    "\n",
    "std_profit = incomes * standar_deviation\n",
    "\n",
    "# Results\n",
    "print(\"Mean:\", mean_profit)\n",
    "print(\"Standard deviation:\", std_profit)\n",
    "\n",
    "\n",
    "# ¿Cuáles serán la media y la desviación estándar de la distribución de la ganancia para cada evento?"
   ]
  },
  {
   "cell_type": "markdown",
   "metadata": {},
   "source": [
    "### Problem 3"
   ]
  },
  {
   "cell_type": "code",
   "execution_count": 460,
   "metadata": {},
   "outputs": [
    {
     "name": "stdout",
     "output_type": "stream",
     "text": [
      "Media: 525\n",
      "Desviación estándar: 80\n"
     ]
    }
   ],
   "source": [
    "# La distribución de calificaciones en un examen particular tiene una media de 500 y una desviación estándar de 80.Si cada calificación se incrementa en 25, ¿cuáles serían la media y la desviación estándar de la distribución de las nuevas calificaciones?\n",
    "\n",
    "average = 500\n",
    "standar_deviation = 80\n",
    "\n",
    "# Results\n",
    "\n",
    "print(\"Media:\", 525)\n",
    "print(\"Desviación estándar:\", 80)"
   ]
  },
  {
   "cell_type": "markdown",
   "metadata": {},
   "source": [
    "### Problem 4"
   ]
  },
  {
   "cell_type": "code",
   "execution_count": 461,
   "metadata": {},
   "outputs": [
    {
     "name": "stdout",
     "output_type": "stream",
     "text": [
      "Average: 195\n",
      "Standard deviation: 60\n"
     ]
    }
   ],
   "source": [
    "# Yuki pesó varias muestras de tierra. Cada una llenaba una taza de medición de un cuarto de litro. La distribución de masas tiene una media de 215g y una desviación estándar de 60g. Después de registrar sus medidas, Yuki se dio cuenta que había olvidado restar la masa de la taza de medición, que es de 20g. ¿Cuál será la media y desviación estándar de la distribución de las mediciones corregidas?\n",
    "\n",
    "average = 215\n",
    "standar_deviation = 60\n",
    "\n",
    "# Results\n",
    "print(\"Average:\", 215 - 20)\n",
    "print(\"Standard deviation:\", standar_deviation)"
   ]
  },
  {
   "cell_type": "markdown",
   "metadata": {},
   "source": [
    "### Problem 5"
   ]
  },
  {
   "cell_type": "code",
   "execution_count": 462,
   "metadata": {},
   "outputs": [
    {
     "name": "stdout",
     "output_type": "stream",
     "text": [
      "Average: 275\n",
      "Standard deviation: 125\n"
     ]
    }
   ],
   "source": [
    "# La señora Fitzgerald alquila un puesto en un centro comercial donde vende antigüedades. Gana unos ingresos promedio de $500 por mes con una desviación estándar de $125. Su puesto y su inventario nuevo le cuestan $225 por mes y son sus únicos costos. Ella calcula sus ganancias usando esta fórmula:\n",
    "# ganancia = ingresos - costos\n",
    "\n",
    "average = 500\n",
    "standar_deviation = 125\n",
    "\n",
    "print(\"Average:\", 500 - 225)\n",
    "print(\"Standard deviation:\", standar_deviation)"
   ]
  },
  {
   "cell_type": "markdown",
   "metadata": {},
   "source": [
    "### Problem 6"
   ]
  },
  {
   "cell_type": "code",
   "execution_count": 463,
   "metadata": {},
   "outputs": [
    {
     "name": "stdout",
     "output_type": "stream",
     "text": [
      "Average: 119\n",
      "Standard deviation 3.6\n"
     ]
    }
   ],
   "source": [
    "# En la clase del Sr. Britt la distribución de las edades de sus estudiantes tiene una media de 115 meses y una desviación estándar de 3.6 Si ningún estudiante deja la clase o se une a esta, ¿cuáles serán la media y desviación estándar de la distribución de las edades de los estudiantes 4 meses después?\n",
    "\n",
    "average = 115\n",
    "standar_deviation = 3.6\n",
    "\n",
    "print(\"Average:\", average + 4)\n",
    "print(\"Standard deviation\", standar_deviation)"
   ]
  },
  {
   "cell_type": "markdown",
   "metadata": {},
   "source": [
    "### Problem 7"
   ]
  },
  {
   "cell_type": "code",
   "execution_count": 464,
   "metadata": {},
   "outputs": [
    {
     "name": "stdout",
     "output_type": "stream",
     "text": [
      "Average: 0.412\n",
      "Standard deviation: 0.036\n"
     ]
    }
   ],
   "source": [
    "# En un condado, las granjas tenían una superficie media cosechada de 103 acres con una desviación estándar de  9 acres. ¿Cuáles serán la media y la desviación estándar de la distribución del área en kilómetros cuadrados? 1 acre es aproximadamente igual a 0.004 kilómetros cuadrados.\n",
    "\n",
    "average = 103\n",
    "standar_deviation = 9\n",
    "\n",
    "print(\"Average:\", round(103 * 0.004,3))\n",
    "print(\"Standard deviation:\", round(9 * 0.004,3))"
   ]
  },
  {
   "cell_type": "markdown",
   "metadata": {},
   "source": [
    "## Problema de transformar datos"
   ]
  },
  {
   "cell_type": "code",
   "execution_count": 465,
   "metadata": {},
   "outputs": [
    {
     "data": {
      "text/html": [
       "<div>\n",
       "<style scoped>\n",
       "    .dataframe tbody tr th:only-of-type {\n",
       "        vertical-align: middle;\n",
       "    }\n",
       "\n",
       "    .dataframe tbody tr th {\n",
       "        vertical-align: top;\n",
       "    }\n",
       "\n",
       "    .dataframe thead th {\n",
       "        text-align: right;\n",
       "    }\n",
       "</style>\n",
       "<table border=\"1\" class=\"dataframe\">\n",
       "  <thead>\n",
       "    <tr style=\"text-align: right;\">\n",
       "      <th></th>\n",
       "      <th>x barra</th>\n",
       "      <th>Sx</th>\n",
       "      <th>M</th>\n",
       "      <th>RIQ</th>\n",
       "      <th>Rango</th>\n",
       "    </tr>\n",
       "  </thead>\n",
       "  <tbody>\n",
       "    <tr>\n",
       "      <th>Puntos</th>\n",
       "      <td>8</td>\n",
       "      <td>1.41</td>\n",
       "      <td>8</td>\n",
       "      <td>3</td>\n",
       "      <td>4</td>\n",
       "    </tr>\n",
       "  </tbody>\n",
       "</table>\n",
       "</div>"
      ],
      "text/plain": [
       "        x barra    Sx  M  RIQ  Rango\n",
       "Puntos        8  1.41  8    3      4"
      ]
     },
     "execution_count": 465,
     "metadata": {},
     "output_type": "execute_result"
    }
   ],
   "source": [
    "# Es muy común tomar datos y aplicarle la misma transformación a cada uno de los datos en el conjunto. Por ejemplo, podemos tomar una serie de temperaturas en grados Fahrenheit y convertirla a grados Celsius. ¿Cómo afectaría esta conversión a las medidas de dispersión y de tendencia central del conjunto de datos? Veamos un ejemplo sencillo para reflexionar sobre esta situación.\n",
    "\n",
    "# Parte 1: sumar una constante\n",
    "# Cinco amigos contestaron un cuestionario de 10 preguntas de opción múltiple en clase. Sus resultados se muestran en el diagrama de puntos a continuación junto con el resumen estadístico.\n",
    "\n",
    "data = {\"x barra\":8, \"Sx\":1.41,\"M\":8, \"RIQ\":3, \"Rango\": 4}\n",
    "index = [\"Puntos\"]\n",
    "df = pd.DataFrame(data, index = index)\n",
    "df\n"
   ]
  },
  {
   "cell_type": "code",
   "execution_count": 466,
   "metadata": {},
   "outputs": [
    {
     "name": "stdout",
     "output_type": "stream",
     "text": [
      "Average: 9.0 \n",
      "Standard deviation: 1.4142135623730951 \n",
      "Median: 9.0 \n",
      "IQR 2.0 \n",
      "Range: 4\n"
     ]
    }
   ],
   "source": [
    "# La maestra dijo que a todos los estudiantes les daría 1 punto extra. Las nuevas puntuaciones se muestran a continuación.\n",
    "\n",
    "new_data = [7,8,9,10,11]\n",
    "average= np.mean(new_data)\n",
    "standar_deviation = np.std(new_data)\n",
    "Median = np.median(new_data)\n",
    "q1 = np.percentile(new_data,25)\n",
    "q3 = np.percentile(new_data, 75)\n",
    "iqr = q3 - q1\n",
    "range_ = np.max(new_data) - np.min(new_data)\n",
    "\n",
    "print(\"Average:\", average, \"\\nStandard deviation:\", standar_deviation, \"\\nMedian:\", Median, \"\\nIQR\", iqr, \"\\nRange:\",range_)\n"
   ]
  },
  {
   "cell_type": "code",
   "execution_count": 467,
   "metadata": {},
   "outputs": [
    {
     "data": {
      "text/plain": [
       "10.0"
      ]
     },
     "execution_count": 467,
     "metadata": {},
     "output_type": "execute_result"
    }
   ],
   "source": [
    "q3"
   ]
  },
  {
   "cell_type": "markdown",
   "metadata": {},
   "source": [
    "# U4 L4 Curvas de densidad"
   ]
  },
  {
   "cell_type": "markdown",
   "metadata": {},
   "source": [
    "### Examples"
   ]
  },
  {
   "cell_type": "code",
   "execution_count": 468,
   "metadata": {},
   "outputs": [
    {
     "name": "stdout",
     "output_type": "stream",
     "text": [
      "count    6.000000\n",
      "mean     4.500000\n",
      "std      1.870829\n",
      "min      2.000000\n",
      "25%      3.250000\n",
      "50%      4.500000\n",
      "75%      5.750000\n",
      "max      7.000000\n",
      "dtype: float64\n"
     ]
    }
   ],
   "source": [
    "# Considera la curva de densidad a continuación.\n",
    "\n",
    "data = [2,3,4,5,6,7]\n",
    "serie = pd.Series(data)\n",
    "resumen = serie.describe()\n",
    "print(round(resumen,6))\n"
   ]
  },
  {
   "cell_type": "code",
   "execution_count": 469,
   "metadata": {},
   "outputs": [
    {
     "data": {
      "text/plain": [
       "[1, 2, 3, 4, 5, 6]"
      ]
     },
     "execution_count": 469,
     "metadata": {},
     "output_type": "execute_result"
    }
   ],
   "source": [
    "# La curva de densidad a continuación representa el número de horas que los estudiantes del Sr. Schultz pasaron estudiando para su examen más reciente.\n",
    "\n",
    "data = list(range(1,7))\n",
    "data\n"
   ]
  },
  {
   "cell_type": "code",
   "execution_count": 470,
   "metadata": {},
   "outputs": [
    {
     "name": "stdout",
     "output_type": "stream",
     "text": [
      "count    6.000\n",
      "mean     3.500\n",
      "std      1.871\n",
      "min      1.000\n",
      "25%      2.250\n",
      "50%      3.500\n",
      "75%      4.750\n",
      "max      6.000\n",
      "dtype: float64\n"
     ]
    }
   ],
   "source": [
    "serie = pd.Series(data)\n",
    "resumen = serie.describe()\n",
    "print(round(resumen, 3))"
   ]
  },
  {
   "cell_type": "code",
   "execution_count": 471,
   "metadata": {},
   "outputs": [
    {
     "name": "stdout",
     "output_type": "stream",
     "text": [
      "count    5.000\n",
      "mean     5.000\n",
      "std      1.581\n",
      "min      3.000\n",
      "25%      4.000\n",
      "50%      5.000\n",
      "75%      6.000\n",
      "max      7.000\n",
      "dtype: float64\n"
     ]
    }
   ],
   "source": [
    "# Considera la curva de densidad a continuación.\n",
    "\n",
    "data = list(range(3,8,1))\n",
    "serie = pd.Series(data)\n",
    "resumen = serie.describe()\n",
    "print(round(resumen,3))"
   ]
  },
  {
   "cell_type": "code",
   "execution_count": 472,
   "metadata": {},
   "outputs": [
    {
     "name": "stdout",
     "output_type": "stream",
     "text": [
      "count    6.000\n",
      "mean     2.500\n",
      "std      1.871\n",
      "min      0.000\n",
      "25%      1.250\n",
      "50%      2.500\n",
      "75%      3.750\n",
      "max      5.000\n",
      "dtype: float64\n"
     ]
    }
   ],
   "source": [
    "# La curva de densidad a continuación representa el número de minutos que transcurren entre que suena la alarma del despertador de Naledi y que ella se levanta de la cama.\n",
    "\n",
    "data = list(range(0,6,1))\n",
    "serie = pd.Series(data)\n",
    "resumen = serie.describe()\n",
    "print(round(resumen,3))"
   ]
  },
  {
   "cell_type": "markdown",
   "metadata": {},
   "source": [
    "### Problem 1"
   ]
  },
  {
   "cell_type": "code",
   "execution_count": 473,
   "metadata": {},
   "outputs": [
    {
     "name": "stdout",
     "output_type": "stream",
     "text": [
      "0.8\n"
     ]
    }
   ],
   "source": [
    "# Encuentra el porcentaje del área bajo la curva de densidad donde 2.\n",
    "\n",
    "base = 4\n",
    "altura = 0.2\n",
    "\n",
    "area_bajo_curva = (base * altura)\n",
    "print(area_bajo_curva)"
   ]
  },
  {
   "cell_type": "markdown",
   "metadata": {},
   "source": [
    "### Problem 2"
   ]
  },
  {
   "cell_type": "code",
   "execution_count": 474,
   "metadata": {},
   "outputs": [
    {
     "name": "stdout",
     "output_type": "stream",
     "text": [
      "0.25\n"
     ]
    }
   ],
   "source": [
    "# Encuentra el porcentaje del área bajo la curva de densidad donde 2\n",
    "\n",
    "base = 1\n",
    "altura = 0.5\n",
    "\n",
    "area_bajo_curva = 0.5 * (base*altura)\n",
    "print(area_bajo_curva)"
   ]
  },
  {
   "cell_type": "markdown",
   "metadata": {},
   "source": [
    "### Problem 3"
   ]
  },
  {
   "cell_type": "code",
   "execution_count": 475,
   "metadata": {},
   "outputs": [
    {
     "name": "stdout",
     "output_type": "stream",
     "text": [
      "0.75\n"
     ]
    }
   ],
   "source": [
    "# Encuentra el porcentaje del área bajo la curva de densidad donde x es menor que 4\n",
    "\n",
    "base = 3\n",
    "altura = 0.25\n",
    "\n",
    "area_bajo_curva = base * altura\n",
    "print(area_bajo_curva)"
   ]
  },
  {
   "cell_type": "markdown",
   "metadata": {},
   "source": [
    "### Problem 4"
   ]
  },
  {
   "cell_type": "code",
   "execution_count": 476,
   "metadata": {},
   "outputs": [
    {
     "name": "stdout",
     "output_type": "stream",
     "text": [
      "0.4\n"
     ]
    }
   ],
   "source": [
    "# Encuentra el porcentaje del área bajo la curva de densidad donde x es menor que 3.\n",
    "# Triángulo\n",
    "\n",
    "base = 2\n",
    "altura = 0.4 \n",
    "\n",
    "area_bajo_curva = (base * altura)/2\n",
    "print(area_bajo_curva)"
   ]
  },
  {
   "cell_type": "markdown",
   "metadata": {},
   "source": [
    "# U4 Cuestionario 1. Modelar distribuciones de datos"
   ]
  },
  {
   "cell_type": "markdown",
   "metadata": {},
   "source": [
    "### Problem 1"
   ]
  },
  {
   "cell_type": "code",
   "execution_count": 477,
   "metadata": {},
   "outputs": [
    {
     "name": "stdout",
     "output_type": "stream",
     "text": [
      "0.412\n",
      "0.036\n"
     ]
    }
   ],
   "source": [
    "# En un condado, las granjas tenían una superficie media cosechada de 103 acres con una desviación estándar de 9 acres.¿Cuáles serán la media y la desviación estándar de la distribución del área en kilómetros cuadrados? 1 acre es aproximadamente igual a 0.004 kilómetros cuadrados.\n",
    "\n",
    "average = 103\n",
    "standard_deviation = 9\n",
    "acre_to_km2 = 0.004\n",
    "\n",
    "print(round(average * acre_to_km2, 3))\n",
    "print(round(standard_deviation * acre_to_km2, 3))"
   ]
  },
  {
   "cell_type": "markdown",
   "metadata": {},
   "source": [
    "### Problem 2"
   ]
  },
  {
   "cell_type": "code",
   "execution_count": 478,
   "metadata": {},
   "outputs": [
    {
     "name": "stdout",
     "output_type": "stream",
     "text": [
      "0.625\n"
     ]
    }
   ],
   "source": [
    "# Considera la curva de densidad a continuación. Encuentra el porcentaje del área bajo la curva de densidad donde x es mayor que 2.\n",
    "\n",
    "base_mayor = 0.5\n",
    "base_menor = 0.75\n",
    "altura = 1\n",
    "\n",
    "print((1/2) *(base_mayor + base_menor) * altura)\n"
   ]
  },
  {
   "cell_type": "markdown",
   "metadata": {},
   "source": [
    "### Problem 3"
   ]
  },
  {
   "cell_type": "code",
   "execution_count": 479,
   "metadata": {},
   "outputs": [
    {
     "name": "stdout",
     "output_type": "stream",
     "text": [
      "[0, 0, 1, 2, 3, 8]\n"
     ]
    }
   ],
   "source": [
    "data = [8, 2, 3, 0, 0, 1]\n",
    "data.sort()\n",
    "print(data)\n"
   ]
  },
  {
   "cell_type": "markdown",
   "metadata": {},
   "source": [
    "### Problem 4"
   ]
  },
  {
   "cell_type": "code",
   "execution_count": 480,
   "metadata": {},
   "outputs": [
    {
     "name": "stdout",
     "output_type": "stream",
     "text": [
      "0.25\n"
     ]
    }
   ],
   "source": [
    "# Considera la curva de densidad a continuación. ¿Cuál es la altura de la curva de densidad?\n",
    "\n",
    "base = 4\n",
    "area = 1\n",
    "\n",
    "print(area / base)"
   ]
  },
  {
   "cell_type": "markdown",
   "metadata": {},
   "source": [
    "### Problem 5"
   ]
  },
  {
   "cell_type": "code",
   "execution_count": 481,
   "metadata": {},
   "outputs": [
    {
     "name": "stdout",
     "output_type": "stream",
     "text": [
      "The z value is: -1.67\n",
      "The normal probability for the z value given is: 0.0478\n"
     ]
    }
   ],
   "source": [
    "# Las calificaciones de un examen parcial de historia en el colegio Santa Rita son aproximadamente simétricas con μ=76mu y σ=3.0. Ben obtuvo 71 en el examen. Encuentra el puntaje z para la calificación del examen de Ben. Redondea a dos decimales.\n",
    "\n",
    "miu = 76\n",
    "standard_deviation = 3\n",
    "ben = 71\n",
    "\n",
    "z_values(ben, miu, standard_deviation)\n"
   ]
  },
  {
   "cell_type": "markdown",
   "metadata": {},
   "source": [
    "# U4 L6 Cálculos de la distribución normal"
   ]
  },
  {
   "cell_type": "markdown",
   "metadata": {},
   "source": [
    "##### Regla empírica: 68, 95, 99.7"
   ]
  },
  {
   "cell_type": "markdown",
   "metadata": {},
   "source": [
    "### Example 1"
   ]
  },
  {
   "cell_type": "code",
   "execution_count": 482,
   "metadata": {},
   "outputs": [
    {
     "name": "stdout",
     "output_type": "stream",
     "text": [
      "The z value is: 0.57\n",
      "The normal probability for the z value given is: 0.7157\n",
      "None\n"
     ]
    }
   ],
   "source": [
    "average = 150\n",
    "standard_deviation = 20\n",
    "x = 161.4\n",
    "\n",
    "print(z_values(x, 150, 20))"
   ]
  },
  {
   "cell_type": "markdown",
   "metadata": {},
   "source": [
    "### Example 2"
   ]
  },
  {
   "cell_type": "code",
   "execution_count": 483,
   "metadata": {},
   "outputs": [
    {
     "name": "stdout",
     "output_type": "stream",
     "text": [
      "The z value is: 2.5\n",
      "The normal probability for the z value given is: 0.9938\n"
     ]
    }
   ],
   "source": [
    "# Las calificaciones del examen de Filosofía tiene una distribución normal con una media de 40 puntos y una desviación estándar de 3 puntos. Luis obtuvo una calificación de 47.5 en el examen. ¿Cuál es la proporción de las calificaciones del examen que son más altas que la calificación de Luis.\n",
    "\n",
    "average = 40\n",
    "standard_deviation = 3\n",
    "x = 47.5\n",
    "\n",
    "z_values(x,average, standard_deviation)"
   ]
  },
  {
   "cell_type": "code",
   "execution_count": 484,
   "metadata": {},
   "outputs": [
    {
     "data": {
      "text/plain": [
       "0.0062"
      ]
     },
     "execution_count": 484,
     "metadata": {},
     "output_type": "execute_result"
    }
   ],
   "source": [
    "round(1 - 0.9938, 4)"
   ]
  },
  {
   "cell_type": "markdown",
   "metadata": {},
   "source": [
    "### Example 3"
   ]
  },
  {
   "cell_type": "code",
   "execution_count": 485,
   "metadata": {},
   "outputs": [
    {
     "name": "stdout",
     "output_type": "stream",
     "text": [
      "The z value is: -2.1\n",
      "The normal probability for the z value given is: 0.0179\n",
      "None\n",
      "The z value is: 0.3\n",
      "The normal probability for the z value given is: 0.6179\n",
      "None\n"
     ]
    }
   ],
   "source": [
    "# El conjunto de precios de computadoras portátiles tiene una distribución normal con una media de 750 pesos y una desviación estándar de 60 pesos.\n",
    "# ¿Cuál es la proporción de los precios que se encuentran entre los 624 y 768 pesos?\n",
    "\n",
    "average = 750\n",
    "standard_deviation = 60\n",
    "x1 = 624 # Límite inferior\n",
    "x2 = 768 # Límite superior\n",
    "\n",
    "print(z_values(x1, average, standard_deviation))\n",
    "print(z_values(x2, average, standard_deviation))"
   ]
  },
  {
   "cell_type": "code",
   "execution_count": 486,
   "metadata": {},
   "outputs": [
    {
     "data": {
      "text/plain": [
       "0.6"
      ]
     },
     "execution_count": 486,
     "metadata": {},
     "output_type": "execute_result"
    }
   ],
   "source": [
    "0.6179 - 0.0179"
   ]
  },
  {
   "cell_type": "markdown",
   "metadata": {},
   "source": [
    "### Problem 1"
   ]
  },
  {
   "cell_type": "code",
   "execution_count": 487,
   "metadata": {},
   "outputs": [
    {
     "name": "stdout",
     "output_type": "stream",
     "text": [
      "The z value is: 0.57\n",
      "The normal probability for the z value given is: 0.7157\n"
     ]
    }
   ],
   "source": [
    "# Un conjunto de datos de las estaturas de unos estudiantes de secundaria está distribuido de manera normal con una media de 150 centímetros y una desviación estándar de 20 centímetros. Darnell es un estudiante de secundaria con una estatura de 161.4 centímetros. ¿Qué proporción de las estaturas de los estudiantes es menor que la estatura de Darnell? Puedes redondear tu respuesta a cuatro cifras decimales.\n",
    "\n",
    "average = 150\n",
    "standard_deviation = 20\n",
    "x = 161.4\n",
    "\n",
    "z_values(x, average, standard_deviation)"
   ]
  },
  {
   "cell_type": "markdown",
   "metadata": {},
   "source": [
    "### Problem 2"
   ]
  },
  {
   "cell_type": "code",
   "execution_count": 488,
   "metadata": {},
   "outputs": [
    {
     "name": "stdout",
     "output_type": "stream",
     "text": [
      "The z value is: -1.5\n",
      "The normal probability for the z value given is: 0.0668\n"
     ]
    }
   ],
   "source": [
    "# Un conjunto de calificaciones de un examen de biología está distribuido de manera normal con una media de 60 puntos y una desviación estándar de 6 puntos. Antoaneta obtuvo una calificación de 51 puntos en el examen. ¿Qué proporción de las calificaciones del examen es mayor que la calificación de Antoaneta? Puedes redondear tu respuesta a cuatro cifras decimales.\n",
    "\n",
    "average = 60\n",
    "standard_deviation = 6\n",
    "x = 51\n",
    "\n",
    "z_values(x, average, standard_deviation)"
   ]
  },
  {
   "cell_type": "code",
   "execution_count": 489,
   "metadata": {},
   "outputs": [
    {
     "data": {
      "text/plain": [
       "0.9332"
      ]
     },
     "execution_count": 489,
     "metadata": {},
     "output_type": "execute_result"
    }
   ],
   "source": [
    "1 - 0.0668"
   ]
  },
  {
   "cell_type": "markdown",
   "metadata": {},
   "source": [
    "### Problem 3 "
   ]
  },
  {
   "cell_type": "code",
   "execution_count": 490,
   "metadata": {},
   "outputs": [
    {
     "name": "stdout",
     "output_type": "stream",
     "text": [
      "The z value is: -1.25\n",
      "The normal probability for the z value given is: 0.1056\n"
     ]
    }
   ],
   "source": [
    "# Un conjunto de calificaciones de un examen de química está distribuido de manera normal con una media de 70 puntos y una desviación estándar de 4 puntos. Cam obtuvo 65 puntos en el examen. ¿Qué proporción de las calificaciones del examen es mayor que la calificación de Cam? Puedes redondear tu respuesta a cuatro cifras decimales.\n",
    "\n",
    "average = 70\n",
    "standard_deviation = 4\n",
    "x = 65\n",
    "\n",
    "z_values(65, 70, standard_deviation)\n"
   ]
  },
  {
   "cell_type": "code",
   "execution_count": 491,
   "metadata": {},
   "outputs": [
    {
     "data": {
      "text/plain": [
       "0.8944"
      ]
     },
     "execution_count": 491,
     "metadata": {},
     "output_type": "execute_result"
    }
   ],
   "source": [
    "1 - 0.1056"
   ]
  },
  {
   "cell_type": "markdown",
   "metadata": {},
   "source": [
    "### Problem 4"
   ]
  },
  {
   "cell_type": "code",
   "execution_count": 492,
   "metadata": {},
   "outputs": [
    {
     "name": "stdout",
     "output_type": "stream",
     "text": [
      "The z value is: 0.75\n",
      "The normal probability for the z value given is: 0.7734\n"
     ]
    }
   ],
   "source": [
    "# Un conjunto de datos de las estaturas de los estudiantes de secundaria está distribuido de manera normal con una media de 150 centímetros y una desviación estándar de 20 centímetros. Uma es una estudiante de secundaria con una estatura de 165 centímetros. ¿Qué proporción de las estaturas de los estudiantes es mayor que la estatura de Uma? Puedes redondear tu respuesta a cuatro cifras decimales.\n",
    "\n",
    "average = 150\n",
    "standard_deviation = 20\n",
    "x = 165\n",
    "\n",
    "z_values(x, average, standard_deviation)"
   ]
  },
  {
   "cell_type": "code",
   "execution_count": 493,
   "metadata": {},
   "outputs": [
    {
     "data": {
      "text/plain": [
       "0.2266"
      ]
     },
     "execution_count": 493,
     "metadata": {},
     "output_type": "execute_result"
    }
   ],
   "source": [
    "round(1 - 0.7734, 4)"
   ]
  },
  {
   "cell_type": "markdown",
   "metadata": {},
   "source": [
    "### Problem 5"
   ]
  },
  {
   "cell_type": "code",
   "execution_count": 494,
   "metadata": {},
   "outputs": [
    {
     "name": "stdout",
     "output_type": "stream",
     "text": [
      "The z value is: -2.0\n",
      "The normal probability for the z value given is: 0.0228\n",
      "The z value is: 1.99\n",
      "The normal probability for the z value given is: 0.9767\n"
     ]
    }
   ],
   "source": [
    "# Un conjunto de datos de las temperaturas promedio de algunas ciudades en el mes de septiembre está distribuido de manera normal con una media de 21.02 grados centígrados y una desviación estándar de 2 grados centígrados.\n",
    "\n",
    "# Qué proporción de las temperatura está entre 17.02 y 25 grados centígrados? Puedes redondear tu respuesta a cuatro cifras decimales.\n",
    "\n",
    "average = 21.02\n",
    "standard_deviation = 2\n",
    "x1 = 17.02\n",
    "x2 = 25\n",
    "\n",
    "z_values(x1, average, standard_deviation)\n",
    "z_values(x2, average, standard_deviation)"
   ]
  },
  {
   "cell_type": "code",
   "execution_count": 495,
   "metadata": {},
   "outputs": [
    {
     "data": {
      "text/plain": [
       "0.9539"
      ]
     },
     "execution_count": 495,
     "metadata": {},
     "output_type": "execute_result"
    }
   ],
   "source": [
    "0.9767 - 0.0228"
   ]
  },
  {
   "cell_type": "markdown",
   "metadata": {},
   "source": [
    "### Problem 6"
   ]
  },
  {
   "cell_type": "code",
   "execution_count": 496,
   "metadata": {},
   "outputs": [
    {
     "name": "stdout",
     "output_type": "stream",
     "text": [
      "The z value is: 0.45\n",
      "The normal probability for the z value given is: 0.6736\n",
      "The z value is: 1.35\n",
      "The normal probability for the z value given is: 0.9115\n"
     ]
    }
   ],
   "source": [
    "# Un conjunto de calificaciones de un examen de matemáticas está distribuido de manera normal con una media de 80.2 puntos y una desviación estándar de 4 puntos. ¿Qué proporción de las calificaciones del examen está entre 82 y 85.6 puntos? Puedes redondear tu respuesta a cuatro cifras decimales.\n",
    "\n",
    "average = 80.2\n",
    "standard_deviation = 4\n",
    "x1 = 82\n",
    "x2 = 85.6\n",
    "\n",
    "\n",
    "z_values(x1, average, standard_deviation)\n",
    "z_values(x2, average, standard_deviation)"
   ]
  },
  {
   "cell_type": "code",
   "execution_count": 497,
   "metadata": {},
   "outputs": [
    {
     "data": {
      "text/plain": [
       "0.2379"
      ]
     },
     "execution_count": 497,
     "metadata": {},
     "output_type": "execute_result"
    }
   ],
   "source": [
    "0.9115 - 0.6736"
   ]
  },
  {
   "cell_type": "markdown",
   "metadata": {},
   "source": [
    "### Problem 7"
   ]
  },
  {
   "cell_type": "code",
   "execution_count": 498,
   "metadata": {},
   "outputs": [
    {
     "name": "stdout",
     "output_type": "stream",
     "text": [
      "The z value is: -0.4\n",
      "The normal probability for the z value given is: 0.3446\n",
      "The z value is: 0.6\n",
      "The normal probability for the z value given is: 0.7257\n"
     ]
    }
   ],
   "source": [
    "# Un conjunto de calificaciones de un examen de química está distribuido de manera normal con una media de 70 puntos y una desviación estándar de 5 puntos. ¿Qué proporción de las calificaciones del examen está entre 68 y 73 puntos? Puedes redondear tu respuesta a cuatro cifras decimales.\n",
    "\n",
    "average = 70\n",
    "standard_deviation = 5\n",
    "x1 = 68\n",
    "x2 = 73\n",
    "\n",
    "z_values(x1, average, standard_deviation)\n",
    "z_values(x2, average, standard_deviation)\n"
   ]
  },
  {
   "cell_type": "code",
   "execution_count": 499,
   "metadata": {},
   "outputs": [
    {
     "data": {
      "text/plain": [
       "0.3811"
      ]
     },
     "execution_count": 499,
     "metadata": {},
     "output_type": "execute_result"
    }
   ],
   "source": [
    "0.7257 - 0.3446"
   ]
  },
  {
   "cell_type": "markdown",
   "metadata": {},
   "source": [
    "### Problem 8"
   ]
  },
  {
   "cell_type": "code",
   "execution_count": 500,
   "metadata": {},
   "outputs": [
    {
     "name": "stdout",
     "output_type": "stream",
     "text": [
      "The z value is: -1.5\n",
      "The normal probability for the z value given is: 0.0668\n",
      "The z value is: 1.5\n",
      "The normal probability for the z value given is: 0.9332\n"
     ]
    }
   ],
   "source": [
    "# Un conjunto de datos de las estaturas de estudiantes de primaria está distribuido de manera normal con una media de 105 centímetros y una desviación estándar de 7 centímetros. ¿Qué proporción de las estaturas de los estudiantes está entre 94.5 centímetros y 115.5 centímetros? Puedes redondear tu respuesta a cuatro cifras decimales.\n",
    "\n",
    "average = 105\n",
    "standard_deviation = 7\n",
    "x1 = 94.5\n",
    "x2 = 115.5\n",
    "\n",
    "z_values(x1, average, standard_deviation)\n",
    "z_values(x2, average, standard_deviation)"
   ]
  },
  {
   "cell_type": "code",
   "execution_count": 501,
   "metadata": {},
   "outputs": [
    {
     "data": {
      "text/plain": [
       "0.8664"
      ]
     },
     "execution_count": 501,
     "metadata": {},
     "output_type": "execute_result"
    }
   ],
   "source": [
    "round(0.9332 - 0.0668, 4)"
   ]
  },
  {
   "cell_type": "markdown",
   "metadata": {},
   "source": [
    "## Encontrar el puntaje z para un percentil"
   ]
  },
  {
   "cell_type": "code",
   "execution_count": 502,
   "metadata": {},
   "outputs": [
    {
     "data": {
      "text/plain": [
       "0.52"
      ]
     },
     "execution_count": 502,
     "metadata": {},
     "output_type": "execute_result"
    }
   ],
   "source": [
    "average = 80\n",
    "standard_deviation = 9\n",
    "x1 = .30\n",
    "x2 = .70\n",
    "\n",
    "scipy.stats.norm.ppf(.3)\n",
    "round(scipy.stats.norm.ppf(.7), 2)\n",
    "\n",
    "#z_values(x1, average, standard_deviation)\n",
    "#z_values(x2, average, standard_deviation)"
   ]
  },
  {
   "cell_type": "markdown",
   "metadata": {},
   "source": [
    "## Cálculos normales en reversa"
   ]
  },
  {
   "cell_type": "markdown",
   "metadata": {},
   "source": [
    "### Problem 1"
   ]
  },
  {
   "cell_type": "code",
   "execution_count": 505,
   "metadata": {},
   "outputs": [],
   "source": [
    "# La distribución de los tiempos de espera promedio para obtener un pedido desde el automóvil en el restaurante de una ciudad es aproximadamente normal con una media de μ=185mu, equals, 185 segundos y una desviación estándar de σ=11 segundos. Un periodista escribió un artículo sobre los restaurantes cuyos tiempos promedio de espera en los pedidos desde el automóvil estaban entre el 25% más alto de toda la ciudad. ¿Cuál es el tiempo de espera promedio mínimo de los restaurantes que el periodista incluyó en el artículo? Redondea tu respuesta al segundo más cercano.\n",
    "\n",
    "average = 185\n",
    "standard_deviation = 11\n",
    "probability = .25"
   ]
  },
  {
   "cell_type": "code",
   "execution_count": 511,
   "metadata": {},
   "outputs": [
    {
     "name": "stdout",
     "output_type": "stream",
     "text": [
      "The value of Z is: -0.6745\n"
     ]
    }
   ],
   "source": [
    "inverse_normal_calculation(probability)"
   ]
  },
  {
   "cell_type": "code",
   "execution_count": 517,
   "metadata": {},
   "outputs": [
    {
     "name": "stdout",
     "output_type": "stream",
     "text": [
      "192.4195\n"
     ]
    }
   ],
   "source": [
    "## -0.6745 = (x - 185)/11\n",
    "## x = (standard deviation * z value) + average\n",
    "x = (11 * 0.6745) + 185\n",
    "print(x)"
   ]
  },
  {
   "cell_type": "markdown",
   "metadata": {},
   "source": [
    "### Problem 2"
   ]
  },
  {
   "cell_type": "code",
   "execution_count": 518,
   "metadata": {},
   "outputs": [],
   "source": [
    "# La distribución de puntuaciones en el examen de admisión a la universidad de todos los aspirantes en el 2014 fue aproximadamente normal con media μ=1497 y desviación estándar σ=322. Cierto curso de preparación para la segunda vuelta está diseñado para estudiantes cuyas puntuaciones en el examen de admisión están dentro del 25%, percent más bajo de todos los que hicieron el examen en un año determinado.¿Cuál es la puntuación mínima en el examen de admisión del 2014 que cumple con los requisitos del curso?\n",
    "\n",
    "average = 1497\n",
    "standard_deviation = 322\n",
    "probability = .25"
   ]
  },
  {
   "cell_type": "code",
   "execution_count": 519,
   "metadata": {},
   "outputs": [
    {
     "name": "stdout",
     "output_type": "stream",
     "text": [
      "The value of Z is: -0.6745\n"
     ]
    }
   ],
   "source": [
    "inverse_normal_calculation(probability)"
   ]
  },
  {
   "cell_type": "code",
   "execution_count": 521,
   "metadata": {},
   "outputs": [
    {
     "name": "stdout",
     "output_type": "stream",
     "text": [
      "1279.811\n"
     ]
    }
   ],
   "source": [
    "## x = (standard deviation * z value) + average\n",
    "x = standard_deviation * -0.6745 + average\n",
    "print(x)"
   ]
  },
  {
   "cell_type": "markdown",
   "metadata": {},
   "source": [
    "### Problem 3"
   ]
  },
  {
   "cell_type": "code",
   "execution_count": 527,
   "metadata": {},
   "outputs": [],
   "source": [
    "# La distribución de la escala de las puntuaciones de lectura en 4 grado en la escuela primaria Emiliano Zapata fue aproximadamente normal con media  μ=221mu, equals, 221 y desviación estándar σ=36. Los estudiantes deben clasificar entre el 20%, percent más alto para ser elegibles en la participación de un programa para alumnos dotados. ¿Cuál es la escala de puntuación mínima en lectura para que los estudiantes sean elegibles para el programa?\n",
    "\n",
    "average = 221\n",
    "standard_deviation = 36\n",
    "probability = .20"
   ]
  },
  {
   "cell_type": "code",
   "execution_count": 528,
   "metadata": {},
   "outputs": [
    {
     "name": "stdout",
     "output_type": "stream",
     "text": [
      "The value of Z is: -0.8416\n"
     ]
    }
   ],
   "source": [
    "inverse_normal_calculation(probability)"
   ]
  },
  {
   "cell_type": "code",
   "execution_count": 531,
   "metadata": {},
   "outputs": [
    {
     "data": {
      "text/plain": [
       "0.15839999999999999"
      ]
     },
     "execution_count": 531,
     "metadata": {},
     "output_type": "execute_result"
    }
   ],
   "source": [
    "1 - 0.8416"
   ]
  },
  {
   "cell_type": "code",
   "execution_count": 535,
   "metadata": {},
   "outputs": [
    {
     "name": "stdout",
     "output_type": "stream",
     "text": [
      "251.2976\n"
     ]
    }
   ],
   "source": [
    "## x = (standard deviation * z value) + average\n",
    "\n",
    "x = standard_deviation * 0.8416 + average\n",
    "print(x)"
   ]
  },
  {
   "cell_type": "markdown",
   "metadata": {},
   "source": [
    "### Problem 4"
   ]
  },
  {
   "cell_type": "code",
   "execution_count": 537,
   "metadata": {},
   "outputs": [],
   "source": [
    "# La distribución que hizo una empresa de bienes raíces de los tiempos que duran vacíos los departamentos después de que el residente se muda, durante los últimos 10 años, fue aproximadamente normal con una media de μ=85 u 85 días y una desviación estándar de σ=29 (29 días). La empresa de bienes raíces marca los archivos de los departamentos que permanecieron vacíos por duraciones dentro del 5% má bajo ¿Cuál es la duración máxima en la que un departamento permaneció vacío para que la empresa marcara su archivo? Redondea al número entero más cercano.\n",
    "\n",
    "average = 85\n",
    "standard_deviation = 29\n",
    "probability = .05"
   ]
  },
  {
   "cell_type": "code",
   "execution_count": 538,
   "metadata": {},
   "outputs": [
    {
     "name": "stdout",
     "output_type": "stream",
     "text": [
      "The value of Z is: -1.6449\n"
     ]
    }
   ],
   "source": [
    "inverse_normal_calculation(probability)"
   ]
  },
  {
   "cell_type": "code",
   "execution_count": 539,
   "metadata": {},
   "outputs": [
    {
     "name": "stdout",
     "output_type": "stream",
     "text": [
      "37.2979\n"
     ]
    }
   ],
   "source": [
    "## x = (standard deviation * z value) + average\n",
    "\n",
    "x = standard_deviation * -1.6449 + average\n",
    "print(x)"
   ]
  },
  {
   "cell_type": "markdown",
   "metadata": {},
   "source": [
    "### Example 1"
   ]
  },
  {
   "cell_type": "code",
   "execution_count": 543,
   "metadata": {},
   "outputs": [],
   "source": [
    "# Se midió la presión arterial sistólica a una muestra grande de mujeres. La presión arterial media fue de 125 milímetros de mercurio y la desviación estándar fue de 10 milímetros de mercurio.\n",
    "\n",
    "average = 125\n",
    "standard_deviation = 10\n",
    "x1 = 105\n",
    "x2 = 135"
   ]
  },
  {
   "cell_type": "code",
   "execution_count": 545,
   "metadata": {},
   "outputs": [
    {
     "name": "stdout",
     "output_type": "stream",
     "text": [
      "The z value is: -2.0\n",
      "The normal probability for the z value given is: 0.0228\n",
      "None\n",
      "The z value is: 1.0\n",
      "The normal probability for the z value given is: 0.8413\n",
      "None\n"
     ]
    }
   ],
   "source": [
    "print(z_values(x1, average, standard_deviation))\n",
    "print(z_values(x2, average, standard_deviation))"
   ]
  },
  {
   "cell_type": "code",
   "execution_count": 546,
   "metadata": {},
   "outputs": [
    {
     "name": "stdout",
     "output_type": "stream",
     "text": [
      "0.8185\n"
     ]
    }
   ],
   "source": [
    "print(round(0.8413 - 0.0228,4))"
   ]
  },
  {
   "cell_type": "code",
   "execution_count": 548,
   "metadata": {},
   "outputs": [
    {
     "name": "stdout",
     "output_type": "stream",
     "text": [
      "The z value is: 2.0\n",
      "The normal probability for the z value given is: 0.9772\n",
      "None\n"
     ]
    }
   ],
   "source": [
    "# En la muestra estaba formada por un total de 400 mujeres participantes. ¿Aproximadamente cuántas mujeres en la muestra tuvieron presiones arteriales superiores a 145 milímetros de mercurio?\n",
    "\n",
    "x = 145\n",
    "\n",
    "print(z_values(145, average, standard_deviation))\n"
   ]
  },
  {
   "cell_type": "code",
   "execution_count": 550,
   "metadata": {},
   "outputs": [
    {
     "data": {
      "text/plain": [
       "0.0228"
      ]
     },
     "execution_count": 550,
     "metadata": {},
     "output_type": "execute_result"
    }
   ],
   "source": [
    "round(1 - 0.9772,4)"
   ]
  },
  {
   "cell_type": "code",
   "execution_count": 552,
   "metadata": {},
   "outputs": [
    {
     "name": "stdout",
     "output_type": "stream",
     "text": [
      "Aproximadamente 9.0 mujeres\n"
     ]
    }
   ],
   "source": [
    "print(\"Aproximadamente\", round(400 * 0.0228,0), \"mujeres\")"
   ]
  },
  {
   "cell_type": "markdown",
   "metadata": {},
   "source": [
    "# U4 Cuestionario"
   ]
  },
  {
   "cell_type": "markdown",
   "metadata": {},
   "source": [
    "### Problem 1"
   ]
  },
  {
   "cell_type": "code",
   "execution_count": 553,
   "metadata": {},
   "outputs": [],
   "source": [
    "# Un conjunto de datos de las temperaturas promedio de algunas ciudades en el mes de diciembre está distribuido de manera normal con una media de 16.3 ∘ C y una desviación estándar de 2∘C¿Qué proporción de las temperaturas está entre 12.9∘ y 14.9 ∘? Puedes redondear tu respuesta a cuatro cifras decimales.\n",
    "\n",
    "average = 16.3\n",
    "standard_deviation = 2\n",
    "x1 = 12.9\n",
    "x2 = 14.9\n"
   ]
  },
  {
   "cell_type": "code",
   "execution_count": 554,
   "metadata": {},
   "outputs": [
    {
     "name": "stdout",
     "output_type": "stream",
     "text": [
      "The z value is: -1.7\n",
      "The normal probability for the z value given is: 0.0446\n",
      "None\n",
      "The z value is: -0.7\n",
      "The normal probability for the z value given is: 0.242\n",
      "None\n"
     ]
    }
   ],
   "source": [
    "print(z_values(x1, average, standard_deviation))\n",
    "print(z_values(x2, average, standard_deviation))"
   ]
  },
  {
   "cell_type": "code",
   "execution_count": 555,
   "metadata": {},
   "outputs": [
    {
     "data": {
      "text/plain": [
       "0.1974"
      ]
     },
     "execution_count": 555,
     "metadata": {},
     "output_type": "execute_result"
    }
   ],
   "source": [
    "0.242 - 0.0446"
   ]
  },
  {
   "cell_type": "markdown",
   "metadata": {},
   "source": [
    "### Problem 2"
   ]
  },
  {
   "cell_type": "code",
   "execution_count": 557,
   "metadata": {},
   "outputs": [],
   "source": [
    "# La distribución del pulso en reposo de todos los estudiantes en el Colegio Santa María es aproximadamente normal con una media de μ=80 latidos por minuto y una desviación estándar de σ=9 por minuto. La enfermera de la escuela quiere hacer una revisión adicional a los estudiantes cuyo pulso en reposo esté dentro del 30%,  más alto de todos los estudiantes a los que se les tomó el pulso. En esa escuela, ¿cuál es el pulso en reposo mínimo para los estudiantes que tendrán una revisión adicional?\n",
    "\n",
    "average = 80\n",
    "standard_deviation = 9\n",
    "probability = .30"
   ]
  },
  {
   "cell_type": "code",
   "execution_count": 558,
   "metadata": {},
   "outputs": [
    {
     "name": "stdout",
     "output_type": "stream",
     "text": [
      "The value of Z is: -0.5244\n"
     ]
    }
   ],
   "source": [
    "inverse_normal_calculation(probability)"
   ]
  },
  {
   "cell_type": "code",
   "execution_count": 562,
   "metadata": {},
   "outputs": [
    {
     "name": "stdout",
     "output_type": "stream",
     "text": [
      "84.7196\n"
     ]
    }
   ],
   "source": [
    "# x = (standard deviation * z value) + average\n",
    "\n",
    "x = (standard_deviation * 0.5244) + average # Más alto\n",
    "print(x)\n"
   ]
  },
  {
   "cell_type": "markdown",
   "metadata": {},
   "source": [
    "### Problem 3"
   ]
  },
  {
   "cell_type": "code",
   "execution_count": 564,
   "metadata": {},
   "outputs": [
    {
     "name": "stdout",
     "output_type": "stream",
     "text": [
      "The z value is: -2.0\n",
      "The normal probability for the z value given is: 0.0228\n",
      "None\n"
     ]
    }
   ],
   "source": [
    "# Las esperanzas de vida de los leones de un zoológico específico están normalmente distribuidas. El león promedio vive 10 años. La desviación estándar es de 1.4 años. Usa la regla empírica (68−95−99.7%)para estimar la probabilidad de que un león viva más de 7.2 años.\n",
    "\n",
    "average = 10\n",
    "standard_deviation = 1.4\n",
    "x = 7.2\n",
    "\n",
    "print(z_values(x, average, standard_deviation))"
   ]
  },
  {
   "cell_type": "code",
   "execution_count": 565,
   "metadata": {},
   "outputs": [
    {
     "data": {
      "text/plain": [
       "0.9772"
      ]
     },
     "execution_count": 565,
     "metadata": {},
     "output_type": "execute_result"
    }
   ],
   "source": [
    "1 - 0.0228"
   ]
  },
  {
   "cell_type": "markdown",
   "metadata": {},
   "source": [
    "### Problem 4"
   ]
  },
  {
   "cell_type": "code",
   "execution_count": 573,
   "metadata": {},
   "outputs": [],
   "source": [
    "# La distribución de las puntuaciones de lectura en 4 grado en la escuela primaria Miguel Hidalgo fue aproximadamente normal con media μ=221, equals, 221 y desviación estándar σ=36. Investigadores educativos están llevando a cabo un experimento de intervención. Para participar en él, un estudiante debe tener una puntuación de lectura dentro del 50% más bajo de todas las puntuaciones en su grado escolar. ¿Cuál es la puntuación máxima en lectura para que los estudiantes participen en el experimento?\n",
    "\n",
    "average = 221\n",
    "standard_deviation = 36\n",
    "probability = .5"
   ]
  },
  {
   "cell_type": "code",
   "execution_count": 574,
   "metadata": {},
   "outputs": [
    {
     "name": "stdout",
     "output_type": "stream",
     "text": [
      "The value of Z is: 0.0\n"
     ]
    }
   ],
   "source": [
    "inverse_normal_calculation(probability)"
   ]
  },
  {
   "cell_type": "code",
   "execution_count": 576,
   "metadata": {},
   "outputs": [
    {
     "name": "stdout",
     "output_type": "stream",
     "text": [
      "The value of x is: 221\n"
     ]
    }
   ],
   "source": [
    "inverse_normal_calculation_of_x(0)"
   ]
  },
  {
   "cell_type": "markdown",
   "metadata": {},
   "source": [
    "### Problem 5"
   ]
  },
  {
   "cell_type": "code",
   "execution_count": 577,
   "metadata": {},
   "outputs": [],
   "source": [
    "# Las esperanzas de vida de las cebras de un zoológico específico están normalmente distribuidas. La cebra promedio vive 20.5. La desviación estándar es de 3.9 años. Usa la regla empírica (68−95−99.7%) para estimar la probabilidad de que una cebra viva entre 16.6 y 24.4 años.\n",
    "\n",
    "average = 20.5\n",
    "standard_deviation = 3.9\n",
    "x1 = 16.6\n",
    "x2 = 24.4"
   ]
  },
  {
   "cell_type": "code",
   "execution_count": 578,
   "metadata": {},
   "outputs": [
    {
     "name": "stdout",
     "output_type": "stream",
     "text": [
      "The z value is: -1.0\n",
      "The normal probability for the z value given is: 0.1587\n",
      "None\n",
      "The z value is: 1.0\n",
      "The normal probability for the z value given is: 0.8413\n",
      "None\n"
     ]
    }
   ],
   "source": [
    "print(z_values(x1, average, standard_deviation))\n",
    "print(z_values(x2, average, standard_deviation))"
   ]
  },
  {
   "cell_type": "code",
   "execution_count": 581,
   "metadata": {},
   "outputs": [
    {
     "data": {
      "text/plain": [
       "0.6826000000000001"
      ]
     },
     "execution_count": 581,
     "metadata": {},
     "output_type": "execute_result"
    }
   ],
   "source": [
    "0.8413 - 0.1587"
   ]
  },
  {
   "cell_type": "markdown",
   "metadata": {},
   "source": [
    "# U5 L1 Introducción a las gráficas de dispersión"
   ]
  },
  {
   "cell_type": "markdown",
   "metadata": {},
   "source": [
    "### Problem 1"
   ]
  },
  {
   "cell_type": "code",
   "execution_count": 584,
   "metadata": {},
   "outputs": [
    {
     "data": {
      "text/html": [
       "<div>\n",
       "<style scoped>\n",
       "    .dataframe tbody tr th:only-of-type {\n",
       "        vertical-align: middle;\n",
       "    }\n",
       "\n",
       "    .dataframe tbody tr th {\n",
       "        vertical-align: top;\n",
       "    }\n",
       "\n",
       "    .dataframe thead th {\n",
       "        text-align: right;\n",
       "    }\n",
       "</style>\n",
       "<table border=\"1\" class=\"dataframe\">\n",
       "  <thead>\n",
       "    <tr style=\"text-align: right;\">\n",
       "      <th></th>\n",
       "      <th>Age (Years)</th>\n",
       "      <th>Height (Meters)</th>\n",
       "    </tr>\n",
       "  </thead>\n",
       "  <tbody>\n",
       "    <tr>\n",
       "      <th>0</th>\n",
       "      <td>5</td>\n",
       "      <td>1.1</td>\n",
       "    </tr>\n",
       "    <tr>\n",
       "      <th>1</th>\n",
       "      <td>6</td>\n",
       "      <td>1.2</td>\n",
       "    </tr>\n",
       "    <tr>\n",
       "      <th>2</th>\n",
       "      <td>8</td>\n",
       "      <td>1.3</td>\n",
       "    </tr>\n",
       "    <tr>\n",
       "      <th>3</th>\n",
       "      <td>10</td>\n",
       "      <td>1.4</td>\n",
       "    </tr>\n",
       "    <tr>\n",
       "      <th>4</th>\n",
       "      <td>12</td>\n",
       "      <td>1.5</td>\n",
       "    </tr>\n",
       "  </tbody>\n",
       "</table>\n",
       "</div>"
      ],
      "text/plain": [
       "   Age (Years)  Height (Meters)\n",
       "0            5              1.1\n",
       "1            6              1.2\n",
       "2            8              1.3\n",
       "3           10              1.4\n",
       "4           12              1.5"
      ]
     },
     "execution_count": 584,
     "metadata": {},
     "output_type": "execute_result"
    }
   ],
   "source": [
    "# Un doctor que estudia nutrición recopiló datos sobre las estaturas (en metros) de los niños estadounidenses. La siguiente tabla muestra las estaturas medias de niños de diferentes edades. Grafica los datos en una gráfica de dispersión.\n",
    "\n",
    "data = {\"Age (Years)\":[5,6,8,10,12], \"Height (Meters)\": [1.1, 1.2, 1.3,1.4,1.5]}\n",
    "df = pd.DataFrame(data)\n",
    "df"
   ]
  },
  {
   "cell_type": "code",
   "execution_count": 592,
   "metadata": {},
   "outputs": [
    {
     "data": {
      "text/plain": [
       "<Axes: xlabel='Age (Years)', ylabel='Height (Meters)'>"
      ]
     },
     "execution_count": 592,
     "metadata": {},
     "output_type": "execute_result"
    },
    {
     "data": {
      "image/png": "[encoded data removed]",
      "text/plain": [
       "<Figure size 432x288 with 1 Axes>"
      ]
     },
     "metadata": {
      "needs_background": "light"
     },
     "output_type": "display_data"
    }
   ],
   "source": [
    "sns.scatterplot(data = df, x = \"Age (Years)\", y = \"Height (Meters)\")"
   ]
  },
  {
   "cell_type": "markdown",
   "metadata": {},
   "source": [
    "### Problem 2"
   ]
  },
  {
   "cell_type": "code",
   "execution_count": 603,
   "metadata": {},
   "outputs": [],
   "source": [
    "# José registró el número de días en los se ausentó por enfermedad y el número de playeras que tuvo durante varios años. \n",
    "# Grafica los datos en una gráfica de dispersión.\n",
    "\n",
    "data = {\"Días enfermo\": [6, 7.5,0.5,3,4,9.5], \"Playeras\":[6,7,7,7,5,6]}\n",
    "df = pd.DataFrame(data)\n",
    "df = df.sort_values(by= \"Días enfermo\", ascending=True)\n",
    "y_axis = [1, 2, 3, 4, 5, 6, 7, 8, 9, 10]"
   ]
  },
  {
   "cell_type": "code",
   "execution_count": 611,
   "metadata": {},
   "outputs": [
    {
     "data": {
      "image/png": "[encoded data removed]",
      "text/plain": [
       "<Figure size 432x288 with 1 Axes>"
      ]
     },
     "metadata": {},
     "output_type": "display_data"
    }
   ],
   "source": [
    "sns.scatterplot(data=df, x = \"Días enfermo\", y = \"Playeras\")\n",
    "plt.xticks(df[\"Días enfermo\"])\n",
    "plt.yticks(y_axis)\n",
    "plt.show();"
   ]
  },
  {
   "cell_type": "markdown",
   "metadata": {},
   "source": [
    "### Problem 3"
   ]
  },
  {
   "cell_type": "code",
   "execution_count": 2,
   "metadata": {},
   "outputs": [
    {
     "data": {
      "text/html": [
       "<div>\n",
       "<style scoped>\n",
       "    .dataframe tbody tr th:only-of-type {\n",
       "        vertical-align: middle;\n",
       "    }\n",
       "\n",
       "    .dataframe tbody tr th {\n",
       "        vertical-align: top;\n",
       "    }\n",
       "\n",
       "    .dataframe thead th {\n",
       "        text-align: right;\n",
       "    }\n",
       "</style>\n",
       "<table border=\"1\" class=\"dataframe\">\n",
       "  <thead>\n",
       "    <tr style=\"text-align: right;\">\n",
       "      <th></th>\n",
       "      <th>Año</th>\n",
       "      <th>Predichos</th>\n",
       "      <th>Reales</th>\n",
       "    </tr>\n",
       "  </thead>\n",
       "  <tbody>\n",
       "    <tr>\n",
       "      <th>0</th>\n",
       "      <td>2000</td>\n",
       "      <td>11</td>\n",
       "      <td>14</td>\n",
       "    </tr>\n",
       "    <tr>\n",
       "      <th>1</th>\n",
       "      <td>2001</td>\n",
       "      <td>13</td>\n",
       "      <td>15</td>\n",
       "    </tr>\n",
       "    <tr>\n",
       "      <th>2</th>\n",
       "      <td>2002</td>\n",
       "      <td>12</td>\n",
       "      <td>12</td>\n",
       "    </tr>\n",
       "    <tr>\n",
       "      <th>3</th>\n",
       "      <td>2003</td>\n",
       "      <td>17</td>\n",
       "      <td>16</td>\n",
       "    </tr>\n",
       "    <tr>\n",
       "      <th>4</th>\n",
       "      <td>2004</td>\n",
       "      <td>15</td>\n",
       "      <td>14</td>\n",
       "    </tr>\n",
       "    <tr>\n",
       "      <th>5</th>\n",
       "      <td>2005</td>\n",
       "      <td>17</td>\n",
       "      <td>27</td>\n",
       "    </tr>\n",
       "  </tbody>\n",
       "</table>\n",
       "</div>"
      ],
      "text/plain": [
       "    Año  Predichos  Reales\n",
       "0  2000         11      14\n",
       "1  2001         13      15\n",
       "2  2002         12      12\n",
       "3  2003         17      16\n",
       "4  2004         15      14\n",
       "5  2005         17      27"
      ]
     },
     "execution_count": 2,
     "metadata": {},
     "output_type": "execute_result"
    }
   ],
   "source": [
    "# Cada año, un meteorólogo que estudia tormentas tropicales predice cuántos huracanes habrá. La siguiente tabla muestra el número de huracanes predichos y el número de huracanes que ocurrieron realmente entre los años 2000 y 2005.\n",
    "\n",
    "data = {\"Año\": [2000,2001,2002,2003,2004,2005], \"Predichos\": [11,13,12,17,15,17], \"Reales\":[14,15,12,16,14,27]}\n",
    "df = pd.DataFrame(data)\n",
    "df"
   ]
  },
  {
   "cell_type": "code",
   "execution_count": 7,
   "metadata": {},
   "outputs": [
    {
     "data": {
      "text/html": [
       "<div>\n",
       "<style scoped>\n",
       "    .dataframe tbody tr th:only-of-type {\n",
       "        vertical-align: middle;\n",
       "    }\n",
       "\n",
       "    .dataframe tbody tr th {\n",
       "        vertical-align: top;\n",
       "    }\n",
       "\n",
       "    .dataframe thead th {\n",
       "        text-align: right;\n",
       "    }\n",
       "</style>\n",
       "<table border=\"1\" class=\"dataframe\">\n",
       "  <thead>\n",
       "    <tr style=\"text-align: right;\">\n",
       "      <th></th>\n",
       "      <th>Año</th>\n",
       "      <th>Predichos</th>\n",
       "      <th>Reales</th>\n",
       "    </tr>\n",
       "  </thead>\n",
       "  <tbody>\n",
       "    <tr>\n",
       "      <th>0</th>\n",
       "      <td>2000</td>\n",
       "      <td>11</td>\n",
       "      <td>14</td>\n",
       "    </tr>\n",
       "    <tr>\n",
       "      <th>2</th>\n",
       "      <td>2002</td>\n",
       "      <td>12</td>\n",
       "      <td>12</td>\n",
       "    </tr>\n",
       "    <tr>\n",
       "      <th>1</th>\n",
       "      <td>2001</td>\n",
       "      <td>13</td>\n",
       "      <td>15</td>\n",
       "    </tr>\n",
       "    <tr>\n",
       "      <th>4</th>\n",
       "      <td>2004</td>\n",
       "      <td>15</td>\n",
       "      <td>14</td>\n",
       "    </tr>\n",
       "    <tr>\n",
       "      <th>3</th>\n",
       "      <td>2003</td>\n",
       "      <td>17</td>\n",
       "      <td>16</td>\n",
       "    </tr>\n",
       "    <tr>\n",
       "      <th>5</th>\n",
       "      <td>2005</td>\n",
       "      <td>17</td>\n",
       "      <td>27</td>\n",
       "    </tr>\n",
       "  </tbody>\n",
       "</table>\n",
       "</div>"
      ],
      "text/plain": [
       "    Año  Predichos  Reales\n",
       "0  2000         11      14\n",
       "2  2002         12      12\n",
       "1  2001         13      15\n",
       "4  2004         15      14\n",
       "3  2003         17      16\n",
       "5  2005         17      27"
      ]
     },
     "execution_count": 7,
     "metadata": {},
     "output_type": "execute_result"
    }
   ],
   "source": [
    "df.sort_values(by = \"Predichos\", ascending=True)"
   ]
  },
  {
   "cell_type": "code",
   "execution_count": 4,
   "metadata": {},
   "outputs": [
    {
     "data": {
      "text/plain": [
       "[2, 4, 6, 8, 10, 12, 14, 16, 18, 20, 22, 24, 26, 28]"
      ]
     },
     "execution_count": 4,
     "metadata": {},
     "output_type": "execute_result"
    }
   ],
   "source": [
    "list(range(2,30,2))"
   ]
  },
  {
   "cell_type": "code",
   "execution_count": 5,
   "metadata": {},
   "outputs": [],
   "source": [
    "ejes = [2, 4, 6, 8, 10, 12, 14, 16, 18, 20, 22, 24, 26, 28]"
   ]
  },
  {
   "cell_type": "code",
   "execution_count": 6,
   "metadata": {},
   "outputs": [
    {
     "data": {
      "image/png": "[encoded data removed]",
      "text/plain": [
       "<Figure size 432x288 with 1 Axes>"
      ]
     },
     "metadata": {
      "needs_background": "light"
     },
     "output_type": "display_data"
    }
   ],
   "source": [
    "sns.scatterplot(data = df, x = \"Predichos\", y = \"Reales\")\n",
    "plt.xticks(ejes)\n",
    "plt.yticks(ejes)\n",
    "plt.show();"
   ]
  },
  {
   "cell_type": "markdown",
   "metadata": {},
   "source": [
    "### Problem 4"
   ]
  },
  {
   "cell_type": "code",
   "execution_count": 9,
   "metadata": {},
   "outputs": [
    {
     "data": {
      "text/html": [
       "<div>\n",
       "<style scoped>\n",
       "    .dataframe tbody tr th:only-of-type {\n",
       "        vertical-align: middle;\n",
       "    }\n",
       "\n",
       "    .dataframe tbody tr th {\n",
       "        vertical-align: top;\n",
       "    }\n",
       "\n",
       "    .dataframe thead th {\n",
       "        text-align: right;\n",
       "    }\n",
       "</style>\n",
       "<table border=\"1\" class=\"dataframe\">\n",
       "  <thead>\n",
       "    <tr style=\"text-align: right;\">\n",
       "      <th></th>\n",
       "      <th>Tiempo de estudio (horas)</th>\n",
       "      <th>Calificación</th>\n",
       "    </tr>\n",
       "  </thead>\n",
       "  <tbody>\n",
       "    <tr>\n",
       "      <th>0</th>\n",
       "      <td>1.75</td>\n",
       "      <td>17</td>\n",
       "    </tr>\n",
       "    <tr>\n",
       "      <th>1</th>\n",
       "      <td>1.50</td>\n",
       "      <td>15</td>\n",
       "    </tr>\n",
       "    <tr>\n",
       "      <th>2</th>\n",
       "      <td>0.50</td>\n",
       "      <td>7</td>\n",
       "    </tr>\n",
       "    <tr>\n",
       "      <th>3</th>\n",
       "      <td>3.00</td>\n",
       "      <td>19</td>\n",
       "    </tr>\n",
       "    <tr>\n",
       "      <th>4</th>\n",
       "      <td>3.25</td>\n",
       "      <td>20</td>\n",
       "    </tr>\n",
       "    <tr>\n",
       "      <th>5</th>\n",
       "      <td>2.00</td>\n",
       "      <td>16</td>\n",
       "    </tr>\n",
       "  </tbody>\n",
       "</table>\n",
       "</div>"
      ],
      "text/plain": [
       "   Tiempo de estudio (horas)  Calificación\n",
       "0                       1.75            17\n",
       "1                       1.50            15\n",
       "2                       0.50             7\n",
       "3                       3.00            19\n",
       "4                       3.25            20\n",
       "5                       2.00            16"
      ]
     },
     "execution_count": 9,
     "metadata": {},
     "output_type": "execute_result"
    }
   ],
   "source": [
    "# La siguiente tabla muestra la relación entre los resultados de exámenes y el tiempo de estudio (en horas) de cada estudiante de la clase de Lucas.\n",
    "# Grafica los datos en una gráfica de dispersión.\n",
    "\n",
    "data = {\"Tiempo de estudio (horas)\": [1.75,1.5,0.5,3,3.25,2], \"Calificación\": [17,15,7,19,20,16]}\n",
    "df = pd.DataFrame(data)\n",
    "df"
   ]
  },
  {
   "cell_type": "code",
   "execution_count": 10,
   "metadata": {},
   "outputs": [
    {
     "data": {
      "text/html": [
       "<div>\n",
       "<style scoped>\n",
       "    .dataframe tbody tr th:only-of-type {\n",
       "        vertical-align: middle;\n",
       "    }\n",
       "\n",
       "    .dataframe tbody tr th {\n",
       "        vertical-align: top;\n",
       "    }\n",
       "\n",
       "    .dataframe thead th {\n",
       "        text-align: right;\n",
       "    }\n",
       "</style>\n",
       "<table border=\"1\" class=\"dataframe\">\n",
       "  <thead>\n",
       "    <tr style=\"text-align: right;\">\n",
       "      <th></th>\n",
       "      <th>Tiempo de estudio (horas)</th>\n",
       "      <th>Calificación</th>\n",
       "    </tr>\n",
       "  </thead>\n",
       "  <tbody>\n",
       "    <tr>\n",
       "      <th>2</th>\n",
       "      <td>0.50</td>\n",
       "      <td>7</td>\n",
       "    </tr>\n",
       "    <tr>\n",
       "      <th>1</th>\n",
       "      <td>1.50</td>\n",
       "      <td>15</td>\n",
       "    </tr>\n",
       "    <tr>\n",
       "      <th>0</th>\n",
       "      <td>1.75</td>\n",
       "      <td>17</td>\n",
       "    </tr>\n",
       "    <tr>\n",
       "      <th>5</th>\n",
       "      <td>2.00</td>\n",
       "      <td>16</td>\n",
       "    </tr>\n",
       "    <tr>\n",
       "      <th>3</th>\n",
       "      <td>3.00</td>\n",
       "      <td>19</td>\n",
       "    </tr>\n",
       "    <tr>\n",
       "      <th>4</th>\n",
       "      <td>3.25</td>\n",
       "      <td>20</td>\n",
       "    </tr>\n",
       "  </tbody>\n",
       "</table>\n",
       "</div>"
      ],
      "text/plain": [
       "   Tiempo de estudio (horas)  Calificación\n",
       "2                       0.50             7\n",
       "1                       1.50            15\n",
       "0                       1.75            17\n",
       "5                       2.00            16\n",
       "3                       3.00            19\n",
       "4                       3.25            20"
      ]
     },
     "execution_count": 10,
     "metadata": {},
     "output_type": "execute_result"
    }
   ],
   "source": [
    "df.sort_values(by = \"Tiempo de estudio (horas)\", ascending=True)"
   ]
  },
  {
   "cell_type": "code",
   "execution_count": 12,
   "metadata": {},
   "outputs": [
    {
     "data": {
      "text/plain": [
       "[2, 4, 6, 8, 10, 12, 14, 16, 18, 20]"
      ]
     },
     "execution_count": 12,
     "metadata": {},
     "output_type": "execute_result"
    }
   ],
   "source": [
    "list(range(2, 22, 2))"
   ]
  },
  {
   "cell_type": "code",
   "execution_count": 14,
   "metadata": {},
   "outputs": [
    {
     "data": {
      "text/plain": [
       "array([0.5, 1. , 1.5, 2. , 2.5, 3. , 3.5])"
      ]
     },
     "execution_count": 14,
     "metadata": {},
     "output_type": "execute_result"
    }
   ],
   "source": [
    "np.arange(0.5, 4, 0.5)"
   ]
  },
  {
   "cell_type": "code",
   "execution_count": 15,
   "metadata": {},
   "outputs": [],
   "source": [
    "eje_y = [2, 4, 6, 8, 10, 12, 14, 16, 18, 20]\n",
    "eje_x = [0.5, 1. , 1.5, 2. , 2.5, 3. , 3.5]"
   ]
  },
  {
   "cell_type": "code",
   "execution_count": 16,
   "metadata": {},
   "outputs": [
    {
     "data": {
      "image/png": "[encoded data removed]",
      "text/plain": [
       "<Figure size 432x288 with 1 Axes>"
      ]
     },
     "metadata": {
      "needs_background": "light"
     },
     "output_type": "display_data"
    }
   ],
   "source": [
    "sns.scatterplot(data=df, x = \"Tiempo de estudio (horas)\", y = \"Calificación\")\n",
    "plt.xticks(eje_x)\n",
    "plt.yticks(eje_y)\n",
    "plt.show();"
   ]
  },
  {
   "cell_type": "markdown",
   "metadata": {},
   "source": [
    "### Problem 5"
   ]
  },
  {
   "cell_type": "code",
   "execution_count": 18,
   "metadata": {},
   "outputs": [
    {
     "data": {
      "text/html": [
       "<div>\n",
       "<style scoped>\n",
       "    .dataframe tbody tr th:only-of-type {\n",
       "        vertical-align: middle;\n",
       "    }\n",
       "\n",
       "    .dataframe tbody tr th {\n",
       "        vertical-align: top;\n",
       "    }\n",
       "\n",
       "    .dataframe thead th {\n",
       "        text-align: right;\n",
       "    }\n",
       "</style>\n",
       "<table border=\"1\" class=\"dataframe\">\n",
       "  <thead>\n",
       "    <tr style=\"text-align: right;\">\n",
       "      <th></th>\n",
       "      <th>Luz solar (horas por día)</th>\n",
       "      <th>Cambio en la circunferencia (cm)</th>\n",
       "    </tr>\n",
       "  </thead>\n",
       "  <tbody>\n",
       "    <tr>\n",
       "      <th>0</th>\n",
       "      <td>0</td>\n",
       "      <td>1.00</td>\n",
       "    </tr>\n",
       "    <tr>\n",
       "      <th>1</th>\n",
       "      <td>2</td>\n",
       "      <td>2.50</td>\n",
       "    </tr>\n",
       "    <tr>\n",
       "      <th>2</th>\n",
       "      <td>4</td>\n",
       "      <td>5.25</td>\n",
       "    </tr>\n",
       "    <tr>\n",
       "      <th>3</th>\n",
       "      <td>6</td>\n",
       "      <td>10.75</td>\n",
       "    </tr>\n",
       "    <tr>\n",
       "      <th>4</th>\n",
       "      <td>8</td>\n",
       "      <td>11.25</td>\n",
       "    </tr>\n",
       "  </tbody>\n",
       "</table>\n",
       "</div>"
      ],
      "text/plain": [
       "   Luz solar (horas por día)  Cambio en la circunferencia (cm)\n",
       "0                          0                              1.00\n",
       "1                          2                              2.50\n",
       "2                          4                              5.25\n",
       "3                          6                             10.75\n",
       "4                          8                             11.25"
      ]
     },
     "execution_count": 18,
     "metadata": {},
     "output_type": "execute_result"
    }
   ],
   "source": [
    "# Cheryl tiene curiosidad de saber cómo diferentes cantidades de luz solar impactarán el crecimiento de sus tomates. Ella expuso algunos de sus tomates a diferentes cantidades de luz solar (en horas por día) y registró el cambio en sus circunferencias (en centímetros) después de una semana. Sus datos están resumidos en siguiente tabla.\n",
    "\n",
    "data = {\"Luz solar (horas por día)\":[0,2,4,6,8], \"Cambio en la circunferencia (cm)\":[1.00, 2.50,5.25,10.75,11.25]}\n",
    "df = pd.DataFrame(data)\n",
    "df"
   ]
  },
  {
   "cell_type": "code",
   "execution_count": 20,
   "metadata": {},
   "outputs": [
    {
     "data": {
      "image/png": "[encoded data removed]",
      "text/plain": [
       "<Figure size 432x288 with 1 Axes>"
      ]
     },
     "metadata": {
      "needs_background": "light"
     },
     "output_type": "display_data"
    }
   ],
   "source": [
    "sns.scatterplot(data = df, x = \t\"Luz solar (horas por día)\", y = \"Cambio en la circunferencia (cm)\")\n",
    "plt.show();"
   ]
  },
  {
   "cell_type": "code",
   "execution_count": 21,
   "metadata": {},
   "outputs": [
    {
     "data": {
      "text/plain": [
       "[5, 10, 15, 20, 25]"
      ]
     },
     "execution_count": 21,
     "metadata": {},
     "output_type": "execute_result"
    }
   ],
   "source": [
    "list(range(5,30,5))"
   ]
  },
  {
   "cell_type": "code",
   "execution_count": 22,
   "metadata": {},
   "outputs": [
    {
     "data": {
      "text/plain": [
       "[5, 10, 15, 20, 25, 30, 35]"
      ]
     },
     "execution_count": 22,
     "metadata": {},
     "output_type": "execute_result"
    }
   ],
   "source": [
    "list(range(5,40,5))"
   ]
  },
  {
   "cell_type": "code",
   "execution_count": 23,
   "metadata": {},
   "outputs": [],
   "source": [
    "eje_x = [5, 10, 15, 20, 25]\n",
    "eje_y = [5, 10, 15, 20, 25, 30, 35]"
   ]
  },
  {
   "cell_type": "code",
   "execution_count": 24,
   "metadata": {},
   "outputs": [
    {
     "data": {
      "image/png": "[encoded data removed]",
      "text/plain": [
       "<Figure size 432x288 with 1 Axes>"
      ]
     },
     "metadata": {
      "needs_background": "light"
     },
     "output_type": "display_data"
    }
   ],
   "source": [
    "sns.scatterplot(data = df, x = \t\"Luz solar (horas por día)\", y = \"Cambio en la circunferencia (cm)\")\n",
    "plt.xticks(eje_x)\n",
    "plt.yticks(eje_y)\n",
    "plt.show();"
   ]
  },
  {
   "cell_type": "markdown",
   "metadata": {},
   "source": [
    "### Problem 6"
   ]
  },
  {
   "cell_type": "code",
   "execution_count": 27,
   "metadata": {},
   "outputs": [
    {
     "data": {
      "text/html": [
       "<div>\n",
       "<style scoped>\n",
       "    .dataframe tbody tr th:only-of-type {\n",
       "        vertical-align: middle;\n",
       "    }\n",
       "\n",
       "    .dataframe tbody tr th {\n",
       "        vertical-align: top;\n",
       "    }\n",
       "\n",
       "    .dataframe thead th {\n",
       "        text-align: right;\n",
       "    }\n",
       "</style>\n",
       "<table border=\"1\" class=\"dataframe\">\n",
       "  <thead>\n",
       "    <tr style=\"text-align: right;\">\n",
       "      <th></th>\n",
       "      <th>Distancia (km)</th>\n",
       "      <th>Gasolina restante (l)</th>\n",
       "    </tr>\n",
       "  </thead>\n",
       "  <tbody>\n",
       "    <tr>\n",
       "      <th>0</th>\n",
       "      <td>0</td>\n",
       "      <td>50.0</td>\n",
       "    </tr>\n",
       "    <tr>\n",
       "      <th>1</th>\n",
       "      <td>100</td>\n",
       "      <td>42.2</td>\n",
       "    </tr>\n",
       "    <tr>\n",
       "      <th>2</th>\n",
       "      <td>200</td>\n",
       "      <td>34.2</td>\n",
       "    </tr>\n",
       "    <tr>\n",
       "      <th>3</th>\n",
       "      <td>300</td>\n",
       "      <td>26.0</td>\n",
       "    </tr>\n",
       "    <tr>\n",
       "      <th>4</th>\n",
       "      <td>400</td>\n",
       "      <td>17.6</td>\n",
       "    </tr>\n",
       "    <tr>\n",
       "      <th>5</th>\n",
       "      <td>500</td>\n",
       "      <td>9.1</td>\n",
       "    </tr>\n",
       "  </tbody>\n",
       "</table>\n",
       "</div>"
      ],
      "text/plain": [
       "   Distancia (km)  Gasolina restante (l)\n",
       "0               0                   50.0\n",
       "1             100                   42.2\n",
       "2             200                   34.2\n",
       "3             300                   26.0\n",
       "4             400                   17.6\n",
       "5             500                    9.1"
      ]
     },
     "execution_count": 27,
     "metadata": {},
     "output_type": "execute_result"
    }
   ],
   "source": [
    "# Megan quiere predecir cuánta gasolina queda en el tanque de su automóvil con base en la distancia que ha conducido. Llenó el tanque y midió la cantidad de gasolina (en litros) después de conducir ciertas distancias (en kilómetros). Sus datos están resumidos en la siguiente tabla.\n",
    "\n",
    "data = {\"Distancia (km)\": [0, 100, 200, 300, 400, 500], \"Gasolina restante (l)\": [50.0, 42.2, 34.2, 26.0, 17.6, 9.1]}\n",
    "df = pd.DataFrame(data)\n",
    "df"
   ]
  },
  {
   "cell_type": "code",
   "execution_count": 25,
   "metadata": {},
   "outputs": [
    {
     "data": {
      "text/plain": [
       "[0, 100, 200, 300, 400, 500]"
      ]
     },
     "execution_count": 25,
     "metadata": {},
     "output_type": "execute_result"
    }
   ],
   "source": [
    "list(range(0,600,100))"
   ]
  },
  {
   "cell_type": "code",
   "execution_count": 28,
   "metadata": {},
   "outputs": [
    {
     "data": {
      "image/png": "[encoded data removed]",
      "text/plain": [
       "<Figure size 432x288 with 1 Axes>"
      ]
     },
     "metadata": {
      "needs_background": "light"
     },
     "output_type": "display_data"
    }
   ],
   "source": [
    "sns.scatterplot(data= df, x = \"Distancia (km)\", y = \"Gasolina restante (l)\")\n",
    "plt.show();"
   ]
  },
  {
   "cell_type": "markdown",
   "metadata": {},
   "source": [
    "### Problem 7"
   ]
  },
  {
   "cell_type": "code",
   "execution_count": 31,
   "metadata": {},
   "outputs": [
    {
     "data": {
      "text/html": [
       "<div>\n",
       "<style scoped>\n",
       "    .dataframe tbody tr th:only-of-type {\n",
       "        vertical-align: middle;\n",
       "    }\n",
       "\n",
       "    .dataframe tbody tr th {\n",
       "        vertical-align: top;\n",
       "    }\n",
       "\n",
       "    .dataframe thead th {\n",
       "        text-align: right;\n",
       "    }\n",
       "</style>\n",
       "<table border=\"1\" class=\"dataframe\">\n",
       "  <thead>\n",
       "    <tr style=\"text-align: right;\">\n",
       "      <th></th>\n",
       "      <th>Velocidad (km/hora)</th>\n",
       "      <th>Combustible usado (litros)</th>\n",
       "    </tr>\n",
       "  </thead>\n",
       "  <tbody>\n",
       "    <tr>\n",
       "      <th>0</th>\n",
       "      <td>20</td>\n",
       "      <td>13.0</td>\n",
       "    </tr>\n",
       "    <tr>\n",
       "      <th>1</th>\n",
       "      <td>40</td>\n",
       "      <td>8.0</td>\n",
       "    </tr>\n",
       "    <tr>\n",
       "      <th>2</th>\n",
       "      <td>60</td>\n",
       "      <td>5.9</td>\n",
       "    </tr>\n",
       "    <tr>\n",
       "      <th>3</th>\n",
       "      <td>80</td>\n",
       "      <td>7.0</td>\n",
       "    </tr>\n",
       "    <tr>\n",
       "      <th>4</th>\n",
       "      <td>100</td>\n",
       "      <td>8.3</td>\n",
       "    </tr>\n",
       "    <tr>\n",
       "      <th>5</th>\n",
       "      <td>120</td>\n",
       "      <td>9.9</td>\n",
       "    </tr>\n",
       "  </tbody>\n",
       "</table>\n",
       "</div>"
      ],
      "text/plain": [
       "   Velocidad (km/hora)  Combustible usado (litros)\n",
       "0                   20                        13.0\n",
       "1                   40                         8.0\n",
       "2                   60                         5.9\n",
       "3                   80                         7.0\n",
       "4                  100                         8.3\n",
       "5                  120                         9.9"
      ]
     },
     "execution_count": 31,
     "metadata": {},
     "output_type": "execute_result"
    }
   ],
   "source": [
    "# Lynn quiere predecir cuánto combustible usará su automóvil con base en su velocidad. Ella condujo su automóvil por 100km a cada una de las velocidades que se muestran a continuación y registró cuánto combustible se usó a cada velocidad. Sus datos están resumidos en la siguiente tabla.\n",
    "\n",
    "data = {\"Velocidad (km/hora)\": [20, 40, 60, 80, 100, 120], \"Combustible usado (litros)\": [13.0, 8.0, 5.9, 7.0, 8.3, 9.9]}\n",
    "df = pd.DataFrame(data)\n",
    "df"
   ]
  },
  {
   "cell_type": "code",
   "execution_count": 29,
   "metadata": {},
   "outputs": [
    {
     "data": {
      "text/plain": [
       "[20, 40, 60, 80, 100, 120]"
      ]
     },
     "execution_count": 29,
     "metadata": {},
     "output_type": "execute_result"
    }
   ],
   "source": [
    "list(range(20, 140, 20))"
   ]
  },
  {
   "cell_type": "code",
   "execution_count": 32,
   "metadata": {},
   "outputs": [
    {
     "data": {
      "image/png": "[encoded data removed]",
      "text/plain": [
       "<Figure size 432x288 with 1 Axes>"
      ]
     },
     "metadata": {
      "needs_background": "light"
     },
     "output_type": "display_data"
    }
   ],
   "source": [
    "sns.scatterplot(data = df, x = \"Velocidad (km/hora)\", y = \"Combustible usado (litros)\")\n",
    "plt.show();"
   ]
  },
  {
   "cell_type": "markdown",
   "metadata": {},
   "source": [
    "### Problem 8"
   ]
  },
  {
   "cell_type": "code",
   "execution_count": 35,
   "metadata": {},
   "outputs": [
    {
     "data": {
      "text/html": [
       "<div>\n",
       "<style scoped>\n",
       "    .dataframe tbody tr th:only-of-type {\n",
       "        vertical-align: middle;\n",
       "    }\n",
       "\n",
       "    .dataframe tbody tr th {\n",
       "        vertical-align: top;\n",
       "    }\n",
       "\n",
       "    .dataframe thead th {\n",
       "        text-align: right;\n",
       "    }\n",
       "</style>\n",
       "<table border=\"1\" class=\"dataframe\">\n",
       "  <thead>\n",
       "    <tr style=\"text-align: right;\">\n",
       "      <th></th>\n",
       "      <th>Months</th>\n",
       "      <th>Temp. máxima promedio (grados Celsius)</th>\n",
       "      <th>Conos vendidos</th>\n",
       "    </tr>\n",
       "  </thead>\n",
       "  <tbody>\n",
       "    <tr>\n",
       "      <th>0</th>\n",
       "      <td>Ene</td>\n",
       "      <td>1.0</td>\n",
       "      <td>0</td>\n",
       "    </tr>\n",
       "    <tr>\n",
       "      <th>1</th>\n",
       "      <td>Feb</td>\n",
       "      <td>3.0</td>\n",
       "      <td>0</td>\n",
       "    </tr>\n",
       "    <tr>\n",
       "      <th>2</th>\n",
       "      <td>Mar</td>\n",
       "      <td>7.3</td>\n",
       "      <td>30</td>\n",
       "    </tr>\n",
       "    <tr>\n",
       "      <th>3</th>\n",
       "      <td>Apr</td>\n",
       "      <td>14.3</td>\n",
       "      <td>61</td>\n",
       "    </tr>\n",
       "    <tr>\n",
       "      <th>4</th>\n",
       "      <td>May</td>\n",
       "      <td>21.2</td>\n",
       "      <td>118</td>\n",
       "    </tr>\n",
       "    <tr>\n",
       "      <th>5</th>\n",
       "      <td>Jun</td>\n",
       "      <td>26.1</td>\n",
       "      <td>426</td>\n",
       "    </tr>\n",
       "    <tr>\n",
       "      <th>6</th>\n",
       "      <td>Jul</td>\n",
       "      <td>28.6</td>\n",
       "      <td>485</td>\n",
       "    </tr>\n",
       "  </tbody>\n",
       "</table>\n",
       "</div>"
      ],
      "text/plain": [
       "  Months  Temp. máxima promedio (grados Celsius)  Conos vendidos\n",
       "0    Ene                                     1.0               0\n",
       "1    Feb                                     3.0               0\n",
       "2    Mar                                     7.3              30\n",
       "3    Apr                                    14.3              61\n",
       "4    May                                    21.2             118\n",
       "5    Jun                                    26.1             426\n",
       "6    Jul                                    28.6             485"
      ]
     },
     "execution_count": 35,
     "metadata": {},
     "output_type": "execute_result"
    }
   ],
   "source": [
    "# Carley es dueña de un puesto de helados. Ella quiere predecir cuántos conos de helado va a vender como función de la temperatura máxima promedio de cada mes. Los datos de los últimos 7 meses se muestran en la siguiente tabla.\n",
    "\n",
    "data = {\"Months\": [\"Ene\", \"Feb\", \"Mar\", \"Apr\", \"May\", \"Jun\", \"Jul\"], \"Temp. máxima promedio (grados Celsius)\": [1, 3, 7.3, 14.3, 21.2, 26.1, 28.6], \"Conos vendidos\": [0, 0, 30, 61, 118, 426, 485]}\n",
    "df = pd.DataFrame(data)\n",
    "df"
   ]
  },
  {
   "cell_type": "code",
   "execution_count": 36,
   "metadata": {},
   "outputs": [
    {
     "data": {
      "image/png": "[encoded data removed]",
      "text/plain": [
       "<Figure size 432x288 with 1 Axes>"
      ]
     },
     "metadata": {
      "needs_background": "light"
     },
     "output_type": "display_data"
    }
   ],
   "source": [
    "sns.scatterplot(data = df, x = \"Temp. máxima promedio (grados Celsius)\", y = \"Conos vendidos\")\n",
    "plt.show();"
   ]
  },
  {
   "cell_type": "markdown",
   "metadata": {},
   "source": [
    "# U5 L2 Coeficientes de correlación"
   ]
  },
  {
   "cell_type": "markdown",
   "metadata": {},
   "source": [
    "## Calcular el coeficiente de correlación r"
   ]
  },
  {
   "cell_type": "markdown",
   "metadata": {},
   "source": [
    "### Example 1"
   ]
  },
  {
   "cell_type": "code",
   "execution_count": 10,
   "metadata": {},
   "outputs": [
    {
     "name": "stdout",
     "output_type": "stream",
     "text": [
      "4.75\n"
     ]
    }
   ],
   "source": [
    "print((-.5 * 5.5) + 7.5)\n"
   ]
  },
  {
   "cell_type": "code",
   "execution_count": 42,
   "metadata": {},
   "outputs": [
    {
     "name": "stdout",
     "output_type": "stream",
     "text": [
      "0.5\n"
     ]
    }
   ],
   "source": [
    "estimar_recta(5,37.5,0,40)"
   ]
  },
  {
   "cell_type": "code",
   "execution_count": 46,
   "metadata": {},
   "outputs": [
    {
     "data": {
      "text/plain": [
       "25.0"
      ]
     },
     "execution_count": 46,
     "metadata": {},
     "output_type": "execute_result"
    }
   ],
   "source": [
    "(-0.5 * 30) + 40"
   ]
  },
  {
   "cell_type": "code",
   "execution_count": 40,
   "metadata": {},
   "outputs": [
    {
     "name": "stdout",
     "output_type": "stream",
     "text": [
      "2.5\n",
      "5\n"
     ]
    },
    {
     "data": {
      "text/plain": [
       "0.5"
      ]
     },
     "execution_count": 40,
     "metadata": {},
     "output_type": "execute_result"
    }
   ],
   "source": [
    "#5/37.75 , 0/40\n",
    "\n",
    "print(40 - 37.5)\n",
    "print(5-0)\n",
    "\n",
    "2.5/5"
   ]
  },
  {
   "cell_type": "markdown",
   "metadata": {},
   "source": [
    "### Example 2"
   ]
  },
  {
   "cell_type": "code",
   "execution_count": null,
   "metadata": {},
   "outputs": [],
   "source": [
    "estimar_recta(.2,2,-.5)"
   ]
  },
  {
   "cell_type": "markdown",
   "metadata": {},
   "source": [
    "### Problems"
   ]
  },
  {
   "cell_type": "code",
   "execution_count": 24,
   "metadata": {},
   "outputs": [
    {
     "name": "stdout",
     "output_type": "stream",
     "text": [
      "-0.75\n",
      "6.3\n",
      "-6.0\n",
      "8.8125\n",
      "22.5\n",
      "33.333333333333336\n",
      "-0.5\n"
     ]
    }
   ],
   "source": [
    "estimar_recta(4,6,0,9)\n",
    "prediction_mco(3.6, 9, -.75)\n",
    "prediction_mco(20, 9, -.75)\n",
    "prediction_mco(.25, 9, -.75)\n",
    "estimar_recta(2,65,0,20)\n",
    "estimar_recta(0,800, 3,900)\n",
    "estimar_recta(20, 30, 0, 40)"
   ]
  },
  {
   "cell_type": "markdown",
   "metadata": {},
   "source": [
    "### Problems"
   ]
  },
  {
   "cell_type": "code",
   "execution_count": 44,
   "metadata": {},
   "outputs": [
    {
     "name": "stdout",
     "output_type": "stream",
     "text": [
      "-1.5\n",
      "11.666666666666666\n",
      "1.4\n",
      "-1.5\n"
     ]
    }
   ],
   "source": [
    "# La siguiente gráfica de dispersión muestra la relación entre las horas destinadas a los videojuegos y las destinadas a la tarea que los compañeros de Ginny dedicaron la semana pasada. ¿Cuál de las siguientes opciones es la mejor estimación del cambio promedio en el tiempo destinado a la tarea asociado con un incremento de 1 hora en el tiempo destinado a los videojuegos?\n",
    "estimar_recta(0, 24, 14, 3)\n",
    "Fraction(-1.5)\n",
    "\n",
    "# El examen de matemáticas de Shira incluyó una pregunta de valoración sobre cuántas horas pasan los estudiantes estudiando para el examen. La siguiente gráfica de dispersión muestra la relación entre las horas que estudian y su puntuación en el examen. ¿Cuál de las siguientes opciones es la mejor estimación del cambio promedio en la puntuación asociado a un incremento de 1 hora de tiempo de estudio?\n",
    "estimar_recta(3, 75, 0, 40)\n",
    "\n",
    "# Jacob repartió una encuesta a sus compañeros en donde les preguntaba cuántas horas pasaron practicando deportes el día anterior. También les pidió que valoraran su estado de ánimo en una escala del 0 al 10 en donde 10 era lo más feliz. ¿Cuál de las siguientes opciones es la mejor estimación del cambio promedio en la valoración del estado de ánimo que se asocia con un incremento de 1 hora en las horas que practicaron deportes?\n",
    "estimar_recta(2.5, 8.5, 0, 5)\n",
    "\n",
    "# La gráfica a continuación describe la relación entre la edad de los conductores y el número de accidentes por cada 100 habitantes en el año 2009. ¿Cuál es el mejor estimado del cambio promedio en el número de accidentes asociado con un incremento de 1 año en la edad de los conductores?\n",
    "estimar_recta(16, 23, 24, 11)"
   ]
  },
  {
   "cell_type": "markdown",
   "metadata": {},
   "source": [
    "## U5 Cuestionario"
   ]
  },
  {
   "cell_type": "markdown",
   "metadata": {},
   "source": [
    "### Problem 1"
   ]
  },
  {
   "cell_type": "code",
   "execution_count": 46,
   "metadata": {},
   "outputs": [],
   "source": [
    "# Se le pidió a un panel de jueces que calificara la calidad de distintos tipos de papas fritas. A continuación se muestra una gráfica de dispersión que exhibe la relación entre las calificaciones y el precio de las papas fritas. Se ajustó una recta a los datos para modelar esta relación. ¿Cuál de estas ecuaciones lineales describe mejor el modelo?"
   ]
  },
  {
   "cell_type": "code",
   "execution_count": 47,
   "metadata": {},
   "outputs": [
    {
     "name": "stdout",
     "output_type": "stream",
     "text": [
      "2.5\n"
     ]
    }
   ],
   "source": [
    "estimar_recta(2, 4.5, 0.2, 0)"
   ]
  },
  {
   "cell_type": "code",
   "execution_count": 49,
   "metadata": {},
   "outputs": [
    {
     "name": "stdout",
     "output_type": "stream",
     "text": [
      "2.25\n"
     ]
    }
   ],
   "source": [
    "prediction_mco(1.1, -0.5, 2.5)"
   ]
  },
  {
   "cell_type": "markdown",
   "metadata": {},
   "source": [
    "### Problem 2"
   ]
  },
  {
   "cell_type": "code",
   "execution_count": 50,
   "metadata": {},
   "outputs": [
    {
     "name": "stdout",
     "output_type": "stream",
     "text": [
      "6.0\n"
     ]
    }
   ],
   "source": [
    "# Baruti, una guardabosques del parque nacional Kruger, en Sudáfrica, recolectó información sobre la población de elefantes del parque. Comparó el tamaño de las patas de los elefantes con la altura a sus hombros (en centímetros) y generó la siguiente gráfica de dispersión. Se ajustó una recta a los datos para modelar la relación.\n",
    "\n",
    "estimar_recta(20,100, 0, -20)"
   ]
  },
  {
   "cell_type": "code",
   "execution_count": 52,
   "metadata": {},
   "outputs": [
    {
     "name": "stdout",
     "output_type": "stream",
     "text": [
      "250\n"
     ]
    }
   ],
   "source": [
    "prediction_mco(45, -20, 6)"
   ]
  },
  {
   "cell_type": "markdown",
   "metadata": {},
   "source": [
    "### Problem 3"
   ]
  },
  {
   "cell_type": "code",
   "execution_count": 54,
   "metadata": {},
   "outputs": [
    {
     "name": "stdout",
     "output_type": "stream",
     "text": [
      "0.49999999999999994\n"
     ]
    }
   ],
   "source": [
    "# Arthur quería investigar cómo la cantidad de ejercicio que hace afecta en su pérdida de peso. Cada semana registró las horas que se ejercitó y la cantidad de peso que perdió (en kilogramos). Se ajustó una recta a los datos para modelar la relación. ¿Cuál de estas ecuaciones lineales describe mejor el modelo?\n",
    "\n",
    "estimar_recta(4, 2.3, 0,0.3)"
   ]
  },
  {
   "cell_type": "code",
   "execution_count": 59,
   "metadata": {},
   "outputs": [
    {
     "name": "stdout",
     "output_type": "stream",
     "text": [
      "3.25\n"
     ]
    }
   ],
   "source": [
    "prediction_mco(6, .25, 0.5)"
   ]
  },
  {
   "cell_type": "code",
   "execution_count": 64,
   "metadata": {},
   "outputs": [
    {
     "name": "stdout",
     "output_type": "stream",
     "text": [
      "Ordenada al origen: 0.255\n"
     ]
    }
   ],
   "source": [
    "ordenada_al_origen(.5, .5, .49)"
   ]
  },
  {
   "cell_type": "markdown",
   "metadata": {},
   "source": [
    "# U5 L4 Ecuaciones de regresión por mínimos cuadrados"
   ]
  },
  {
   "cell_type": "code",
   "execution_count": 66,
   "metadata": {},
   "outputs": [
    {
     "name": "stdout",
     "output_type": "stream",
     "text": [
      "Tamaño del cuadro predicho: 52.0\n",
      "Residuo: -1.0\n"
     ]
    }
   ],
   "source": [
    "# Vera alquila bicicletas a turistas. Registró la altura (en cm) de cada cliente y el tamaño del cuadro de la bicicleta (en cm) que el cliente alquiló. Después de graficar sus resultados, Vera notó que la relación entre ambas variables era bastante lineal, así que usó los datos para calcular la siguiente ecuación de la recta de la regresión por mínimos cuadrados para predecir el tamaño del cuadro de la bicicleta a partir de la altura del cliente: y = 1/3 + 1/3x; ¿Cuál es el residuo de un cliente con una altura de 155 cm que renta una bicicleta con un cuadro de 51 cm? usando Python\n",
    "\n",
    "# Coeficientes de la ecuación de regresión\n",
    "interseccion = 1/3\n",
    "pendiente = 1/3\n",
    "\n",
    "# Datos del cliente\n",
    "altura_cliente = 155  # Altura en cm\n",
    "tamanio_cuadro_real = 51  # Tamaño del cuadro real en cm\n",
    "\n",
    "# Predicción del tamaño del cuadro según la ecuación de regresión\n",
    "tamanio_cuadro_predicho = interseccion + pendiente * altura_cliente\n",
    "\n",
    "# Calcular el residuo\n",
    "residuo = tamanio_cuadro_real - tamanio_cuadro_predicho\n",
    "\n",
    "print(\"Tamaño del cuadro predicho:\", tamanio_cuadro_predicho)\n",
    "print(\"Residuo:\", residuo)"
   ]
  },
  {
   "cell_type": "code",
   "execution_count": null,
   "metadata": {},
   "outputs": [],
   "source": [
    "# Danila cría halcones peregrinos. Registró el ancho (en mm) de cada huevo y la masa (en g) del polluelo de halcón que eclosionó de él. Después de graficar sus resultados, Danila observó que la relación entre las dos variables era bastante lineal, así que usó los datos para calcular la siguiente ecuación de la recta de la regresión por mínimos cuadrados para predecir la masa del polluelo a partir del ancho de los huevos:\n",
    "\n",
    "# y_estimada = −47 + 2x\n",
    "\n",
    "# ¿Cuál es el residuo de un polluelo de halcón de 29 g que eclosionó de un huevo con un ancho de  40 mm?"
   ]
  },
  {
   "cell_type": "code",
   "execution_count": 67,
   "metadata": {},
   "outputs": [
    {
     "name": "stdout",
     "output_type": "stream",
     "text": [
      "Masa del polluelo predicha: 33\n",
      "Residuo: -4\n"
     ]
    }
   ],
   "source": [
    "interseccion = -47\n",
    "pendiente = 2\n",
    "\n",
    "# Datos del polluelo y el huevo\n",
    "ancho_huevo = 40  # Ancho del huevo en mm\n",
    "masa_polluelo_real = 29  # Masa del polluelo real en g\n",
    "\n",
    "# Predicción de la masa del polluelo según la ecuación de regresión\n",
    "masa_polluelo_predicha = interseccion + pendiente * ancho_huevo\n",
    "\n",
    "# Calcular el residuo\n",
    "residuo = masa_polluelo_real - masa_polluelo_predicha\n",
    "\n",
    "print(\"Masa del polluelo predicha:\", masa_polluelo_predicha)\n",
    "print(\"Residuo:\", residuo)"
   ]
  },
  {
   "cell_type": "markdown",
   "metadata": {},
   "source": [
    "### Problem 1"
   ]
  },
  {
   "cell_type": "code",
   "execution_count": 93,
   "metadata": {},
   "outputs": [
    {
     "name": "stdout",
     "output_type": "stream",
     "text": [
      "25.185714285714283\n"
     ]
    }
   ],
   "source": [
    "# Calcular la ecuación de la recta de mínimos cuadrados\n",
    "x_barra = 20.9\n",
    "y_barra = 6.6 \n",
    "desv_est_x = 3\n",
    "desv_est_y = 0.7\n",
    "r = 0.99\n",
    "\n",
    "print(x_barra + desv_est_x / desv_est_y)"
   ]
  },
  {
   "cell_type": "code",
   "execution_count": 96,
   "metadata": {},
   "outputs": [
    {
     "data": {
      "text/plain": [
       "0.23"
      ]
     },
     "execution_count": 96,
     "metadata": {},
     "output_type": "execute_result"
    }
   ],
   "source": [
    "formula_pendiente(r, desv_est_y, desv_est_x)"
   ]
  },
  {
   "cell_type": "code",
   "execution_count": 99,
   "metadata": {},
   "outputs": [
    {
     "data": {
      "text/plain": [
       "1.77"
      ]
     },
     "execution_count": 99,
     "metadata": {},
     "output_type": "execute_result"
    }
   ],
   "source": [
    "formula_ordenada_al_origen(y_barra, -.231, x_barra)"
   ]
  },
  {
   "cell_type": "markdown",
   "metadata": {},
   "source": [
    "### Problem 2"
   ]
  },
  {
   "cell_type": "code",
   "execution_count": 100,
   "metadata": {},
   "outputs": [],
   "source": [
    "# Un presidente del consorcio de combustible en un aeropuerto quiere ver la relación entre el costo del petróleo crudo y el costo de la turbosina. Los datos muestran un patrón lineal con el resumen estadístico que se muestra abajo:\n",
    "\n",
    "x_barra = 57.4\n",
    "y_barra = 69.9\n",
    "desv_est_x = 30.8\n",
    "desv_est_y = 35\n",
    "r = 0.99"
   ]
  },
  {
   "cell_type": "code",
   "execution_count": 106,
   "metadata": {},
   "outputs": [
    {
     "data": {
      "text/plain": [
       "1.125"
      ]
     },
     "execution_count": 106,
     "metadata": {},
     "output_type": "execute_result"
    }
   ],
   "source": [
    "formula_pendiente(r, desv_est_y, desv_est_x)"
   ]
  },
  {
   "cell_type": "code",
   "execution_count": 110,
   "metadata": {},
   "outputs": [
    {
     "data": {
      "text/plain": [
       "5.325"
      ]
     },
     "execution_count": 110,
     "metadata": {},
     "output_type": "execute_result"
    }
   ],
   "source": [
    "formula_ordenada_al_origen(y_barra, -1.125, x_barra)"
   ]
  },
  {
   "cell_type": "code",
   "execution_count": 117,
   "metadata": {},
   "outputs": [],
   "source": [
    "# y = 5.325 + 1.125 * x"
   ]
  },
  {
   "cell_type": "markdown",
   "metadata": {},
   "source": [
    "### Problem 3"
   ]
  },
  {
   "cell_type": "code",
   "execution_count": 111,
   "metadata": {},
   "outputs": [],
   "source": [
    "# Un ornitólogo quiere ver la relación entre la amplitud de los huevos de halcón peregrino y la masa de los polluelos. Los datos muestran un patrón lineal con el resumen estadístico que se muestra abajo:\n",
    "\n",
    "x_barra = 41\n",
    "y_barra = 33.6\n",
    "desv_est_x = 2.3\n",
    "desv_est_y = 4.6\n",
    "r = 0.95\n",
    "\n",
    "# Encuentra la ecuación de la recta de regresión por mínimos cuadrados para predecir la masa del polluelo a partir de la amplitud del huevo. Redondea tus respuestas a la centésima más cercana."
   ]
  },
  {
   "cell_type": "code",
   "execution_count": 112,
   "metadata": {},
   "outputs": [
    {
     "data": {
      "text/plain": [
       "1.9"
      ]
     },
     "execution_count": 112,
     "metadata": {},
     "output_type": "execute_result"
    }
   ],
   "source": [
    "formula_pendiente(r, desv_est_y, desv_est_x)"
   ]
  },
  {
   "cell_type": "code",
   "execution_count": 115,
   "metadata": {},
   "outputs": [
    {
     "data": {
      "text/plain": [
       "-44.3"
      ]
     },
     "execution_count": 115,
     "metadata": {},
     "output_type": "execute_result"
    }
   ],
   "source": [
    "formula_ordenada_al_origen(y_barra, -1.9, x_barra)"
   ]
  },
  {
   "cell_type": "code",
   "execution_count": 116,
   "metadata": {},
   "outputs": [],
   "source": [
    "# y = -44.3 + 1.9 * x"
   ]
  },
  {
   "cell_type": "markdown",
   "metadata": {},
   "source": [
    "### Problem 4"
   ]
  },
  {
   "cell_type": "code",
   "execution_count": 120,
   "metadata": {},
   "outputs": [],
   "source": [
    "# Un entrenador personal quiere ver la relación entre el número de horas de ejercicio a la semana y la frecuencia cardiaca en reposo de sus clientes. Los datos muestran un patrón lineal con el resumen estadístico que se muestra a continuación:\n",
    "\n",
    "x_barra = 8.9\n",
    "y_barra = 74.3\n",
    "desv_est_x = 4.8\n",
    "desv_est_y = 7.2\n",
    "r = -0.88\n",
    "\n",
    "# Encuentra la recta de regresión por mínimos cuadrados para predecir la frecuencia cardiaca en reposo a partir de las horas de ejercicio por semana. Redondea tu respuesta a la centésima más cercana."
   ]
  },
  {
   "cell_type": "code",
   "execution_count": 121,
   "metadata": {},
   "outputs": [
    {
     "data": {
      "text/plain": [
       "-1.32"
      ]
     },
     "execution_count": 121,
     "metadata": {},
     "output_type": "execute_result"
    }
   ],
   "source": [
    "formula_pendiente(r, desv_est_y, desv_est_x)"
   ]
  },
  {
   "cell_type": "code",
   "execution_count": 124,
   "metadata": {},
   "outputs": [
    {
     "data": {
      "text/plain": [
       "86.048"
      ]
     },
     "execution_count": 124,
     "metadata": {},
     "output_type": "execute_result"
    }
   ],
   "source": [
    "formula_ordenada_al_origen(y_barra, 1.32, x_barra)"
   ]
  },
  {
   "cell_type": "code",
   "execution_count": 123,
   "metadata": {},
   "outputs": [],
   "source": [
    "# y = 62.552 - 1.32 x"
   ]
  },
  {
   "cell_type": "markdown",
   "metadata": {},
   "source": [
    "## U5 Cuestionario 3"
   ]
  },
  {
   "cell_type": "markdown",
   "metadata": {},
   "source": [
    "### Problem 1"
   ]
  },
  {
   "cell_type": "code",
   "execution_count": 21,
   "metadata": {},
   "outputs": [],
   "source": [
    "# Un cantero quiere ver la relación entre la densidad de las piedras que corta y la profundidad a la que su chorro de agua abrasivo las corta. Los datos muestran un patrón lineal con el resumen estadístico que se muestra abajo:\n",
    "\n",
    "x_barra = 2.5\n",
    "y_barra = 41.7\n",
    "desv_est_x = 0.3\n",
    "desv_est_y = 42\n",
    "r = -0.95\n",
    "\n",
    "# Encuentra la ecuación de la recta de regresión por mínimos cuadrados para predecir la profundidad de corte a partir de la densidad de la piedra. Redondea tus respuestas a la centésima más cercana."
   ]
  },
  {
   "cell_type": "code",
   "execution_count": 22,
   "metadata": {},
   "outputs": [
    {
     "data": {
      "text/plain": [
       "-133.0"
      ]
     },
     "execution_count": 22,
     "metadata": {},
     "output_type": "execute_result"
    }
   ],
   "source": [
    "formula_pendiente(r, desv_est_y, desv_est_x)"
   ]
  },
  {
   "cell_type": "code",
   "execution_count": 23,
   "metadata": {},
   "outputs": [
    {
     "data": {
      "text/plain": [
       "374.2"
      ]
     },
     "execution_count": 23,
     "metadata": {},
     "output_type": "execute_result"
    }
   ],
   "source": [
    "formula_ordenada_al_origen(y_barra, -133, x_barra)"
   ]
  },
  {
   "cell_type": "code",
   "execution_count": 24,
   "metadata": {},
   "outputs": [],
   "source": [
    "# y = 374.2 - 133 x"
   ]
  },
  {
   "cell_type": "markdown",
   "metadata": {},
   "source": [
    "### Problem 2"
   ]
  }
 ],
 "metadata": {
  "kernelspec": {
   "display_name": "Python 3",
   "language": "python",
   "name": "python3"
  },
  "language_info": {
   "codemirror_mode": {
    "name": "ipython",
    "version": 3
   },
   "file_extension": ".py",
   "mimetype": "text/x-python",
   "name": "python",
   "nbconvert_exporter": "python",
   "pygments_lexer": "ipython3",
   "version": "3.9.7"
  },
  "orig_nbformat": 4
 },
 "nbformat": 4,
 "nbformat_minor": 2
}
